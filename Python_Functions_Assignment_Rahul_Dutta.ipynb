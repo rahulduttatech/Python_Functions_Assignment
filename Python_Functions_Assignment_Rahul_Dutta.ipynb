{
  "nbformat": 4,
  "nbformat_minor": 0,
  "metadata": {
    "colab": {
      "provenance": [],
      "authorship_tag": "ABX9TyORPsal98nH9BKBDNXzyRHK"
    },
    "kernelspec": {
      "name": "python3",
      "display_name": "Python 3"
    },
    "language_info": {
      "name": "python"
    }
  },
  "cells": [
    {
      "cell_type": "markdown",
      "source": [
        "**Theory Questions:**\n"
      ],
      "metadata": {
        "id": "iNCknV3TfCMR"
      }
    },
    {
      "cell_type": "markdown",
      "source": [
        "**Q1. 1. What is the difference between a function and a method in Python?**"
      ],
      "metadata": {
        "id": "N9fnDrnTfIKh"
      }
    },
    {
      "cell_type": "markdown",
      "source": [
        "**Ans1.** In Python, functions and methods are both blocks of code that perform specific tasks, but they have a few key differences in how they are used and where they belong.\n",
        "\n",
        "**1. Function:**\n",
        "\n",
        "A function is a block of reusable code that is defined using the def keyword.\n",
        "Functions can be called independently, and they don’t necessarily have to be associated with any object.\n",
        "Functions take input in the form of parameters, perform some operation, and can return output using the return statement.\n",
        "\n",
        "**Example:**"
      ],
      "metadata": {
        "id": "b8jtRB0CfSix"
      }
    },
    {
      "cell_type": "code",
      "source": [
        "# A simple function that adds two numbers\n",
        "def add_numbers(a, b):\n",
        "    return a + b\n",
        "\n",
        "# Calling the function\n",
        "result = add_numbers(5, 3)\n",
        "print(result)  # Output: 8\n"
      ],
      "metadata": {
        "id": "Q17wSF8xfZ2X"
      },
      "execution_count": null,
      "outputs": []
    },
    {
      "cell_type": "markdown",
      "source": [
        "**2. Method:**\n",
        "\n",
        "A method is similar to a function but is associated with an object and is called using dot notation.\n",
        "Methods are defined inside a class and are meant to operate on the data contained within the object of that class.\n",
        "\n",
        "There are two main types of methods: instance methods (operate on instance data) and class methods (operate on class data).\n",
        "\n",
        "**Example:**"
      ],
      "metadata": {
        "id": "-ZJnbrdhfvFN"
      }
    },
    {
      "cell_type": "code",
      "execution_count": null,
      "metadata": {
        "id": "uRu0a0a3XclY"
      },
      "outputs": [],
      "source": [
        "# A simple class with a method\n",
        "class Calculator:\n",
        "    def multiply(self, a, b):\n",
        "        return a * b\n",
        "\n",
        "# Creating an object of the class\n",
        "calc = Calculator()\n",
        "\n",
        "# Calling the method using the object\n",
        "result = calc.multiply(5, 3)\n",
        "print(result)  # Output: 15\n"
      ]
    },
    {
      "cell_type": "markdown",
      "source": [
        "**Key Difference:**\n",
        "\n",
        "**Function:** Can be called directly using its name.\n",
        "\n",
        "**Method:** Needs an object to be called because it is defined inside a class.\n",
        "\n",
        "So, think of a method as a function that lives inside a class!"
      ],
      "metadata": {
        "id": "lLlv7ojagS2A"
      }
    },
    {
      "cell_type": "markdown",
      "source": [
        "**Q2. Explain the concept of function arguments and parameters in Python.**"
      ],
      "metadata": {
        "id": "EQqm9jUFgeG1"
      }
    },
    {
      "cell_type": "markdown",
      "source": [
        "**Ans2.** In Python, **function arguments** and **parameters** are related concepts that are used when defining and calling functions. Here’s a breakdown:\n",
        "\n",
        "### **1. Parameters**:\n",
        "- **Parameters** are the variables listed inside the parentheses when a function is defined.\n",
        "- They act as placeholders that represent the values the function needs to operate on.\n",
        "- Parameters are defined in the function’s signature.\n",
        "\n",
        "**Example**:"
      ],
      "metadata": {
        "id": "DbBzb0zMhpfw"
      }
    },
    {
      "cell_type": "code",
      "source": [
        "def greet(name):  # Here, 'name' is a parameter.\n",
        "    print(f\"Hello, {name}!\")"
      ],
      "metadata": {
        "id": "Ilgf8h0Ohqvs"
      },
      "execution_count": null,
      "outputs": []
    },
    {
      "cell_type": "markdown",
      "source": [
        "In this example, `name` is a parameter because it's defined in the function header.\n",
        "\n",
        "### **2. Arguments**:\n",
        "- **Arguments** are the actual values that are passed into a function when it is called.\n",
        "- They correspond to the function’s parameters and are used to provide the function with the data it needs to execute.\n",
        "  \n",
        "**Example**:"
      ],
      "metadata": {
        "id": "pEwDUlaQhvvL"
      }
    },
    {
      "cell_type": "code",
      "source": [
        "greet(\"Alice\")  # Here, \"Alice\" is an argument."
      ],
      "metadata": {
        "id": "36X_r_idh0hR"
      },
      "execution_count": null,
      "outputs": []
    },
    {
      "cell_type": "markdown",
      "source": [
        "In this example, `\"Alice\"` is an argument because it's the actual value given to the function `greet()`.\n",
        "\n",
        "### **Types of Arguments**:\n",
        "Python allows different ways to pass arguments:\n",
        "\n",
        "1. **Positional Arguments**: Values passed based on their position."
      ],
      "metadata": {
        "id": "n6ua3-7eiGT-"
      }
    },
    {
      "cell_type": "code",
      "source": [
        "def add(a, b):\n",
        "    return a + b\n",
        "\n",
        "result = add(5, 3)  # 5 is assigned to 'a', 3 is assigned to 'b'\n"
      ],
      "metadata": {
        "id": "AezBOd3WiIk4"
      },
      "execution_count": null,
      "outputs": []
    },
    {
      "cell_type": "markdown",
      "source": [
        "2. **Keyword Arguments**: Values passed using the parameter names."
      ],
      "metadata": {
        "id": "yz6SCQZGiYGL"
      }
    },
    {
      "cell_type": "code",
      "source": [
        "result = add(a=5, b=3)  # Here, 'a' is assigned 5 and 'b' is assigned 3."
      ],
      "metadata": {
        "id": "mBy1XCsFiZ6n"
      },
      "execution_count": null,
      "outputs": []
    },
    {
      "cell_type": "markdown",
      "source": [
        "3. **Default Arguments**: Parameters can have default values if not provided during the function call."
      ],
      "metadata": {
        "id": "BX8LVVIHigOt"
      }
    },
    {
      "cell_type": "code",
      "source": [
        "   def greet(name=\"Guest\"):\n",
        "       print(f\"Hello, {name}!\")\n",
        "\n",
        "   greet()  # Output: Hello, Guest!\n",
        "   greet(\"Alice\")  # Output: Hello, Alice!"
      ],
      "metadata": {
        "id": "dFrdVzpgihwI"
      },
      "execution_count": null,
      "outputs": []
    },
    {
      "cell_type": "markdown",
      "source": [
        "4. **Variable-Length Arguments**: Functions can take a variable number of arguments using `*args` (for non-keyword arguments) and `**kwargs` (for keyword arguments)."
      ],
      "metadata": {
        "id": "cdqTlRIPiraA"
      }
    },
    {
      "cell_type": "code",
      "source": [
        "   def sum_all(*numbers):\n",
        "       return sum(numbers)\n",
        "\n",
        "   print(sum_all(1, 2, 3, 4))  # Output: 10\n",
        "\n",
        "   def print_info(**details):\n",
        "       for key, value in details.items():\n",
        "           print(f\"{key}: {value}\")\n",
        "\n",
        "   print_info(name=\"Alice\", age=25)\n",
        "   # Output:\n",
        "   # name: Alice\n",
        "   # age: 25"
      ],
      "metadata": {
        "id": "o2Do8EjLiw0X"
      },
      "execution_count": null,
      "outputs": []
    },
    {
      "cell_type": "markdown",
      "source": [
        "### **Summary**:\n",
        "- **Parameters**: Variables defined in the function header.\n",
        "- **Arguments**: Actual values passed to the function when called.\n",
        "- Different types of arguments allow flexibility in how data is passed to functions."
      ],
      "metadata": {
        "id": "IKeaigwygl0j"
      }
    },
    {
      "cell_type": "markdown",
      "source": [
        "**Q3. 3. What are the different ways to define and call a function in Python?**"
      ],
      "metadata": {
        "id": "D36RmdiYi1im"
      }
    },
    {
      "cell_type": "markdown",
      "source": [
        "**Ans3.** In Python, there are several ways to define and call functions, allowing for flexibility based on the type of task you want to perform. Here are the different ways:\n",
        "\n",
        "### **1. Regular Function Definition and Call**\n",
        "- This is the most common way to define a function using the `def` keyword.\n",
        "- Call the function by using its name followed by parentheses `()`.\n",
        "\n",
        "**Example**:"
      ],
      "metadata": {
        "id": "M3klx5pVjjmY"
      }
    },
    {
      "cell_type": "code",
      "source": [
        "# Define a function\n",
        "def greet():\n",
        "    print(\"Hello, world!\")\n",
        "\n",
        "# Call the function\n",
        "greet()  # Output: Hello, world!"
      ],
      "metadata": {
        "id": "GRnDyZpcjggk"
      },
      "execution_count": null,
      "outputs": []
    },
    {
      "cell_type": "markdown",
      "source": [
        "### **2. Function with Parameters**\n",
        "- Functions can accept parameters to work with dynamic data.\n",
        "- Call these functions by passing the required arguments inside the parentheses.\n",
        "\n",
        "**Example**:"
      ],
      "metadata": {
        "id": "1aIEji5xjsyB"
      }
    },
    {
      "cell_type": "code",
      "source": [
        "# Define a function with parameters\n",
        "def greet_person(name):\n",
        "    print(f\"Hello, {name}!\")\n",
        "\n",
        "# Call the function with an argument\n",
        "greet_person(\"Alice\")  # Output: Hello, Alice!"
      ],
      "metadata": {
        "id": "WJoBSLuzjxY5"
      },
      "execution_count": null,
      "outputs": []
    },
    {
      "cell_type": "markdown",
      "source": [
        "### **3. Function with Default Parameters**\n",
        "- You can provide default values for parameters, making them optional during function calls.\n",
        "- If no argument is provided, the default value is used.\n",
        "\n",
        "**Example**:"
      ],
      "metadata": {
        "id": "jSg4DIQFj5Ey"
      }
    },
    {
      "cell_type": "code",
      "source": [
        "# Define a function with a default parameter\n",
        "def greet(name=\"Guest\"):\n",
        "    print(f\"Hello, {name}!\")\n",
        "\n",
        "# Call the function without an argument\n",
        "greet()  # Output: Hello, Guest!\n",
        "# Call the function with an argument\n",
        "greet(\"Bob\")  # Output: Hello, Bob!"
      ],
      "metadata": {
        "id": "cGnIx0qsj62_"
      },
      "execution_count": null,
      "outputs": []
    },
    {
      "cell_type": "markdown",
      "source": [
        "### **4. Lambda Functions (Anonymous Functions)**\n",
        "- Lambda functions are one-liner anonymous functions defined using the `lambda` keyword.\n",
        "- Useful for simple operations and are often used as arguments in functions like `map()`, `filter()`, etc.\n",
        "\n",
        "**Example**:"
      ],
      "metadata": {
        "id": "cd_vBk2_kEHJ"
      }
    },
    {
      "cell_type": "code",
      "source": [
        "# Define a lambda function\n",
        "multiply = lambda x, y: x * y\n",
        "\n",
        "# Call the lambda function\n",
        "result = multiply(5, 3)\n",
        "print(result)  # Output: 15"
      ],
      "metadata": {
        "id": "9X9FaHgLkB5F"
      },
      "execution_count": null,
      "outputs": []
    },
    {
      "cell_type": "markdown",
      "source": [
        "### **5. Recursive Functions**\n",
        "- A function that calls itself is called a recursive function.\n",
        "- Useful for problems like calculating factorials, Fibonacci sequences, etc.\n",
        "\n",
        "**Example**:"
      ],
      "metadata": {
        "id": "s5QdoenQkJnM"
      }
    },
    {
      "cell_type": "code",
      "source": [
        "# Define a recursive function\n",
        "def factorial(n):\n",
        "    if n == 1:\n",
        "        return 1\n",
        "    return n * factorial(n - 1)\n",
        "\n",
        "# Call the recursive function\n",
        "print(factorial(5))  # Output: 120"
      ],
      "metadata": {
        "id": "YDML9cm5kVRt"
      },
      "execution_count": null,
      "outputs": []
    },
    {
      "cell_type": "markdown",
      "source": [
        "### **6. Higher-Order Functions**\n",
        "- Functions that take other functions as arguments or return functions as results.\n",
        "- For example, functions like `map()`, `filter()`, and custom functions that work with other functions.\n",
        "\n",
        "**Example**:"
      ],
      "metadata": {
        "id": "h2n828WrkXXX"
      }
    },
    {
      "cell_type": "code",
      "source": [
        "# Define a function that takes another function as an argument\n",
        "def apply_twice(func, value):\n",
        "    return func(func(value))\n",
        "\n",
        "# Define a simple function\n",
        "def add_five(x):\n",
        "    return x + 5\n",
        "\n",
        "# Call the higher-order function\n",
        "print(apply_twice(add_five, 10))  # Output: 20"
      ],
      "metadata": {
        "id": "T6xj84yGkdad"
      },
      "execution_count": null,
      "outputs": []
    },
    {
      "cell_type": "markdown",
      "source": [
        "### **7. Variable-Length Arguments**\n",
        "- Using `*args` allows you to pass a variable number of non-keyword arguments.\n",
        "- Using `**kwargs` allows you to pass a variable number of keyword arguments.\n",
        "\n",
        "**Example**:"
      ],
      "metadata": {
        "id": "bphQTXNTkrcn"
      }
    },
    {
      "cell_type": "code",
      "source": [
        "# Define a function with *args\n",
        "def sum_all(*args):\n",
        "    return sum(args)\n",
        "\n",
        "# Call the function with multiple arguments\n",
        "print(sum_all(1, 2, 3, 4))  # Output: 10\n",
        "\n",
        "# Define a function with **kwargs\n",
        "def print_details(**kwargs):\n",
        "    for key, value in kwargs.items():\n",
        "        print(f\"{key}: {value}\")\n",
        "\n",
        "# Call the function with keyword arguments\n",
        "print_details(name=\"Alice\", age=25)\n",
        "# Output:\n",
        "# name: Alice\n",
        "# age: 25"
      ],
      "metadata": {
        "id": "U0wOg3YYkmWp"
      },
      "execution_count": null,
      "outputs": []
    },
    {
      "cell_type": "markdown",
      "source": [
        "### **Summary**\n",
        "- **Basic functions** use `def` and are called by name.\n",
        "- **With parameters**, functions can accept inputs and provide dynamic outputs.\n",
        "- **Default parameters** make some arguments optional.\n",
        "- **Lambda functions** are for short, simple operations.\n",
        "- **Recursive functions** call themselves for repeated tasks.\n",
        "- **Higher-order functions** can take other functions as arguments.\n",
        "- **Variable-length arguments** allow for flexible inputs with `*args` and `**kwargs`.\n",
        "\n",
        "These different methods give you a lot of flexibility when working with functions in Python!"
      ],
      "metadata": {
        "id": "LQ8ftDqpjcQ1"
      }
    },
    {
      "cell_type": "markdown",
      "source": [
        "**Q4. What is the purpose of the `return` statement in a Python function?**"
      ],
      "metadata": {
        "id": "Zl0ErOgelWPo"
      }
    },
    {
      "cell_type": "markdown",
      "source": [
        "**Ans4.** The `return` statement in a Python function is used to **exit the function** and send back a value (or values) to the point where the function was called. It allows the function to pass data back to the caller, making the function's result available for further use.\n",
        "\n",
        "### **Key Purposes of the `return` Statement:**\n",
        "\n",
        "1. **Return a Value**:\n",
        "   - The primary purpose is to return a value from a function. It can be a number, string, list, dictionary, or any other Python object.\n",
        "   - The returned value can be stored in a variable or used directly.\n",
        "\n",
        "   **Example**:"
      ],
      "metadata": {
        "id": "XqfWjQF2lhIK"
      }
    },
    {
      "cell_type": "code",
      "source": [
        "   def add(a, b):\n",
        "       return a + b\n",
        "\n",
        "   result = add(5, 3)\n",
        "   print(result)  # Output: 8"
      ],
      "metadata": {
        "id": "Mjs9FHcyl5gB"
      },
      "execution_count": null,
      "outputs": []
    },
    {
      "cell_type": "markdown",
      "source": [
        "   Here, `return a + b` sends the sum of `a` and `b` back to where the function `add()` was called, so `result` gets the value `8`.\n",
        "\n",
        "2. **Exit the Function**:\n",
        "   - When the `return` statement is executed, the function stops executing further code, even if there are more lines after `return`.\n",
        "   - This means `return` not only provides a value but also ends the function’s execution at that point.\n",
        "\n",
        "   **Example**:"
      ],
      "metadata": {
        "id": "SOmj1-vPl6pa"
      }
    },
    {
      "cell_type": "code",
      "source": [
        "def check_positive(n):\n",
        "    if n > 0:\n",
        "        return \"Positive\"\n",
        "    return \"Not positive\"\n",
        "\n",
        "print(check_positive(5))   # Output: Positive\n",
        "print(check_positive(-3))  # Output: Not positive\n"
      ],
      "metadata": {
        "id": "sfKdi9G6mDG1"
      },
      "execution_count": null,
      "outputs": []
    },
    {
      "cell_type": "markdown",
      "source": [
        "In this example, the function returns `\"Positive\"` if the condition is met and exits immediately. If not, it returns `\"Not positive\"`.\n",
        "\n",
        "3. **Returning Multiple Values**:\n",
        "   - You can return multiple values separated by commas, which Python packs into a tuple.\n",
        "\n",
        "   **Example**:"
      ],
      "metadata": {
        "id": "m4_wYgM1mHQU"
      }
    },
    {
      "cell_type": "code",
      "source": [
        "def get_name_and_age():\n",
        "    return \"Alice\", 25\n",
        "\n",
        "name, age = get_name_and_age()\n",
        "print(name)  # Output: Alice\n",
        "print(age)   # Output: 25\n"
      ],
      "metadata": {
        "id": "iHMJmZZwmIbp"
      },
      "execution_count": null,
      "outputs": []
    },
    {
      "cell_type": "markdown",
      "source": [
        "  Here, the `return` statement returns both `\"Alice\"` and `25`, which are unpacked into `name` and `age`.\n",
        "\n",
        "4. **Return Without a Value**:\n",
        "   - If `return` is used without any value or is omitted in a function, it implicitly returns `None`.\n",
        "   - This is often used if you want to exit a function early without providing a specific return value.\n",
        "\n",
        "   **Example**:"
      ],
      "metadata": {
        "id": "hEa5P9bNmRVY"
      }
    },
    {
      "cell_type": "code",
      "source": [
        "def do_nothing():\n",
        "    return\n",
        "\n",
        "print(do_nothing())  # Output: None\n"
      ],
      "metadata": {
        "id": "cqlA4YzOmSmo"
      },
      "execution_count": null,
      "outputs": []
    },
    {
      "cell_type": "markdown",
      "source": [
        "### **Summary**:\n",
        "- The `return` statement allows a function to **send a result back** to the caller.\n",
        "- It **exits** the function once executed, stopping any further code in that function.\n",
        "- It can **return multiple values** as a tuple.\n",
        "- If no value is provided, it returns `None` by default.\n",
        "\n",
        "Using `return` is essential when you want to make the results of a function available for further use, like storing them in variables or passing them to other functions!"
      ],
      "metadata": {
        "id": "ODQ7osmylVUs"
      }
    },
    {
      "cell_type": "markdown",
      "source": [
        "**Q5. What are iterators in Python and how do they differ from iterables?**"
      ],
      "metadata": {
        "id": "mKD6rCttmg4t"
      }
    },
    {
      "cell_type": "markdown",
      "source": [
        "**Ans5.** In Python, **iterators** and **iterables** are closely related concepts that deal with looping over a sequence of elements. However, they have distinct roles and characteristics. Let’s break down the differences between them:\n",
        "\n",
        "### **1. What is an Iterable?**\n",
        "- An **iterable** is any object in Python that can be iterated (looped) over.\n",
        "- Examples of iterables include lists, tuples, strings, dictionaries, sets, and more.\n",
        "- An object is considered iterable if it has an `__iter__()` method, which returns an iterator.\n",
        "- You can use `for` loops to iterate over iterables directly.\n",
        "\n",
        "**Example of an Iterable**:"
      ],
      "metadata": {
        "id": "6LeHMBKFmy8u"
      }
    },
    {
      "cell_type": "code",
      "source": [
        "# A list is an iterable\n",
        "my_list = [1, 2, 3, 4]\n",
        "\n",
        "# Iterating over an iterable using a for loop\n",
        "for item in my_list:\n",
        "    print(item)\n",
        "\n",
        "# Output:\n",
        "# 1\n",
        "# 2\n",
        "# 3\n",
        "# 4\n"
      ],
      "metadata": {
        "id": "pcB2G9rem70c"
      },
      "execution_count": null,
      "outputs": []
    },
    {
      "cell_type": "markdown",
      "source": [
        "In this example, `my_list` is an iterable, and we can loop over it using a `for` loop.\n",
        "\n",
        "### **2. What is an Iterator?**\n",
        "- An **iterator** is an object that represents a stream of data, which is produced one element at a time.\n",
        "- An iterator in Python must implement two methods:\n",
        "  - `__iter__()`: Returns the iterator object itself.\n",
        "  - `__next__()`: Returns the next element from the sequence. When there are no more elements, it raises a `StopIteration` exception.\n",
        "- You can manually retrieve elements from an iterator using the `next()` function.\n",
        "\n",
        "**Example of an Iterator**:"
      ],
      "metadata": {
        "id": "fxXcxBj7m_CJ"
      }
    },
    {
      "cell_type": "code",
      "source": [
        "# Creating an iterator from an iterable\n",
        "my_list = [1, 2, 3, 4]\n",
        "iterator = iter(my_list)  # Using iter() to get an iterator\n",
        "\n",
        "# Using next() to get elements one by one\n",
        "print(next(iterator))  # Output: 1\n",
        "print(next(iterator))  # Output: 2\n",
        "print(next(iterator))  # Output: 3\n",
        "print(next(iterator))  # Output: 4\n",
        "# If you call next() again here, it will raise a StopIteration exception.\n"
      ],
      "metadata": {
        "id": "RojocbIEnEve"
      },
      "execution_count": null,
      "outputs": []
    },
    {
      "cell_type": "markdown",
      "source": [
        "Here, `iter(my_list)` converts the iterable `my_list` into an iterator, and then `next()` is used to retrieve each element.\n",
        "\n",
        "\n",
        "### **3. Creating Custom Iterators**:\n",
        "- You can create custom iterators by defining a class with `__iter__()` and `__next__()` methods.\n",
        "  \n",
        "**Example**:"
      ],
      "metadata": {
        "id": "F94oICNYnD0B"
      }
    },
    {
      "cell_type": "code",
      "source": [
        "# Custom iterator that generates numbers from 1 to 3\n",
        "class MyIterator:\n",
        "    def __init__(self):\n",
        "        self.num = 1\n",
        "\n",
        "    def __iter__(self):\n",
        "        return self\n",
        "\n",
        "    def __next__(self):\n",
        "        if self.num <= 3:\n",
        "            result = self.num\n",
        "            self.num += 1\n",
        "            return result\n",
        "        else:\n",
        "            raise StopIteration\n",
        "\n",
        "# Create an instance of the custom iterator\n",
        "iterator = MyIterator()\n",
        "\n",
        "# Iterate using a for loop\n",
        "for num in iterator:\n",
        "    print(num)\n",
        "\n",
        "# Output:\n",
        "# 1\n",
        "# 2\n",
        "# 3\n"
      ],
      "metadata": {
        "id": "sPYgD8uDnc4V"
      },
      "execution_count": null,
      "outputs": []
    },
    {
      "cell_type": "markdown",
      "source": [
        "In this example, `MyIterator` is a custom iterator class that generates numbers from 1 to 3. When it reaches the end, it raises a `StopIteration` exception.\n",
        "\n",
        "### **Summary**:\n",
        "- **Iterables** are collections or sequences that can be looped over (like lists or strings).\n",
        "- **Iterators** are objects that produce values from iterables one at a time, using `__next__()`.\n",
        "- To get an iterator from an iterable, you use the `iter()` function.\n",
        "- Iterators provide more control over iteration but can only be exhausted once, whereas iterables can be re-used in multiple loops.\n",
        "\n",
        "Iterators are great when you want to work with large data sets or streams of data, as they produce elements on demand rather than storing everything in memory."
      ],
      "metadata": {
        "id": "VEd7Mhxtmv3W"
      }
    },
    {
      "cell_type": "markdown",
      "source": [
        "**Q6. Explain the concept of generators in Python and how they are defined.**"
      ],
      "metadata": {
        "id": "1jRDP0bFnpKj"
      }
    },
    {
      "cell_type": "markdown",
      "source": [
        "**Ans6.** In Python, **generators** are a special type of iterator that allow you to create iterators in a simpler way using the `yield` keyword instead of defining the `__iter__()` and `__next__()` methods. Generators are used to **generate a sequence of values** lazily, meaning they produce items one at a time only when requested, which makes them very memory efficient, especially for large datasets.\n",
        "\n",
        "### **1. What is a Generator?**\n",
        "- A **generator** is a function that behaves like an iterator.\n",
        "- Instead of using `return` to send back a single value and exit, generators use the `yield` keyword to **return a value and pause** the function, keeping its state intact.\n",
        "- When the generator is called again, it resumes execution from where it left off, making it efficient for tasks that require producing data on the fly.\n",
        "\n",
        "### **2. How to Define a Generator?**\n",
        "- Generators are defined like regular functions but use the `yield` keyword instead of `return`.\n",
        "- Each time the `yield` keyword is encountered, the function **saves its state** and **yields** a value to the caller.\n",
        "\n",
        "**Example**:"
      ],
      "metadata": {
        "id": "oyksM91FoE6D"
      }
    },
    {
      "cell_type": "code",
      "source": [
        "# A simple generator function\n",
        "def count_up_to(n):\n",
        "    count = 1\n",
        "    while count <= n:\n",
        "        yield count\n",
        "        count += 1\n",
        "\n",
        "# Using the generator\n",
        "counter = count_up_to(3)\n",
        "\n",
        "# Iterating through the generator using a for loop\n",
        "for number in counter:\n",
        "    print(number)\n",
        "\n",
        "# Output:\n",
        "# 1\n",
        "# 2\n",
        "# 3\n"
      ],
      "metadata": {
        "id": "L9zniCUToGe7"
      },
      "execution_count": null,
      "outputs": []
    },
    {
      "cell_type": "markdown",
      "source": [
        "In this example:\n",
        "- `count_up_to` is a generator function that yields numbers from 1 up to `n`.\n",
        "- Each time `yield` is called, the function pauses and returns a value.\n",
        "- When iterated, the generator continues from the paused state until the loop ends.\n",
        "\n",
        "### **3. Using Generators with `next()`**\n",
        "- You can also use the `next()` function to manually iterate through generator values one by one.\n",
        "- When the generator is exhausted (no more values to yield), it raises a `StopIteration` exception.\n",
        "\n",
        "**Example**:"
      ],
      "metadata": {
        "id": "cApDwRPUoNeZ"
      }
    },
    {
      "cell_type": "code",
      "source": [
        "# Creating the generator\n",
        "counter = count_up_to(2)\n",
        "\n",
        "# Using next() to get values\n",
        "print(next(counter))  # Output: 1\n",
        "print(next(counter))  # Output: 2\n",
        "# The next call will raise StopIteration since there are no more values.\n"
      ],
      "metadata": {
        "id": "BU_UVL1ioQw7"
      },
      "execution_count": null,
      "outputs": []
    },
    {
      "cell_type": "markdown",
      "source": [
        "### **4. Generator Expressions**\n",
        "- Generators can also be created using a **generator expression**, which is similar to a list comprehension but with parentheses instead of square brackets.\n",
        "- They are useful for simple generators that can be written in a single line.\n",
        "\n",
        "**Example**:"
      ],
      "metadata": {
        "id": "04lWOBL0oZk1"
      }
    },
    {
      "cell_type": "code",
      "source": [
        "# A generator expression to generate squares of numbers from 1 to 5\n",
        "squares = (x * x for x in range(1, 6))\n",
        "\n",
        "# Iterating through the generator expression\n",
        "for square in squares:\n",
        "    print(square)\n",
        "\n",
        "# Output:\n",
        "# 1\n",
        "# 4\n",
        "# 9\n",
        "# 16\n",
        "# 25\n"
      ],
      "metadata": {
        "id": "TKvSwGzOoeCC"
      },
      "execution_count": null,
      "outputs": []
    },
    {
      "cell_type": "markdown",
      "source": [
        "\n",
        "In this example:\n",
        "- The expression `(x * x for x in range(1, 6))` creates a generator that yields the squares of numbers from 1 to 5.\n",
        "- It is more memory-efficient than using a list comprehension `[...]` because it doesn’t store all values in memory at once.\n",
        "\n",
        "### **5. Key Benefits of Generators**:\n",
        "- **Memory Efficiency**: They generate values on the fly without storing them all in memory. This is especially useful for working with large data sets.\n",
        "- **Lazy Evaluation**: Values are produced only when needed, making generators suitable for scenarios where you only need a portion of data at a time.\n",
        "- **Simpler Code**: Generators allow writing compact code for iterators without the need for classes and managing `__iter__()` and `__next__()` manually.\n",
        "\n",
        "### **6. Summary**:\n",
        "- **Generators** are functions that use `yield` to return values one at a time, preserving the function's state between each yield.\n",
        "- They are **memory-efficient** and useful for large datasets where you don’t want to hold all data in memory.\n",
        "- You can create generators using a **generator function** (with `yield`) or a **generator expression** (with parentheses).\n",
        "- Generators can be iterated over using `for` loops or the `next()` function.\n",
        "\n",
        "Generators are great for handling streaming data, large files, or any situation where you want to compute values as you iterate through them!"
      ],
      "metadata": {
        "id": "xWRlmR3qn8mN"
      }
    },
    {
      "cell_type": "markdown",
      "source": [
        "**Q7. What are the advantages of using generators over regular functions?**"
      ],
      "metadata": {
        "id": "DhJDOPAzonwq"
      }
    },
    {
      "cell_type": "markdown",
      "source": [
        "**Ans7.** Generators offer several advantages over regular functions, especially when dealing with large datasets or computations where you don’t need all results at once. Here’s a rundown of the key benefits:\n",
        "\n",
        "### **1. Memory Efficiency**:\n",
        "- **Generators** produce values **one at a time** using the `yield` keyword rather than creating and storing the entire sequence in memory like regular functions with lists or other data structures.\n",
        "- This makes generators especially useful for working with **large data sets** or **infinite sequences** because they **don’t store all elements** in memory at once.\n",
        "\n",
        "**Example**:"
      ],
      "metadata": {
        "id": "Tw3SWVTRpMBX"
      }
    },
    {
      "cell_type": "code",
      "source": [
        "# Generator that generates numbers up to a large limit\n",
        "def count_up_to(n):\n",
        "    count = 1\n",
        "    while count <= n:\n",
        "        yield count\n",
        "        count += 1\n",
        "\n",
        "# This generator will not use a lot of memory, even if n is very large.\n"
      ],
      "metadata": {
        "id": "2P7VbsSHpOUo"
      },
      "execution_count": null,
      "outputs": []
    },
    {
      "cell_type": "markdown",
      "source": [
        "- If you used a regular function that returned a list of numbers from `1` to `n`, it would consume a lot of memory since it would store all numbers in memory at the same time. A generator solves this by producing one number at a time.\n",
        "\n",
        "### **2. Lazy Evaluation**:\n",
        "- Generators follow **lazy evaluation**, meaning they generate values **only when needed**.\n",
        "- This is ideal when you are working with **streams of data** or situations where you might not need all the results immediately or at all.\n",
        "\n",
        "**Example**:"
      ],
      "metadata": {
        "id": "Io8gJctQpUXy"
      }
    },
    {
      "cell_type": "code",
      "source": [
        "# Generator to yield numbers one by one\n",
        "def infinite_numbers():\n",
        "    count = 1\n",
        "    while True:\n",
        "        yield count\n",
        "        count += 1\n",
        "\n",
        "# Even though the generator is theoretically infinite,\n",
        "# it will only produce numbers as you iterate through them.\n"
      ],
      "metadata": {
        "id": "BrjPuP0FpV9d"
      },
      "execution_count": null,
      "outputs": []
    },
    {
      "cell_type": "markdown",
      "source": [
        "In this example, `infinite_numbers()` doesn’t produce all numbers at once; it only gives you the next number when you request it. This would be impossible with a regular function that tries to return an infinite list.\n",
        "\n",
        "### **3. Improved Performance**:\n",
        "- Since generators do not build up large data structures in memory, **performance can be better** when iterating over sequences or processing large files line by line.\n",
        "- **Startup time** is also faster since a generator doesn’t need to build the entire sequence before it can be used.\n",
        "\n",
        "**Example**:\n",
        "```python"
      ],
      "metadata": {
        "id": "wNgQ6LvHpbGe"
      }
    },
    {
      "cell_type": "code",
      "source": [
        "# Reading a large file line by line using a generator\n",
        "def read_large_file(file_path):\n",
        "    with open(file_path, 'r') as file:\n",
        "        for line in file:\n",
        "            yield line\n",
        "\n",
        "# This generator allows you to read a file line by line without loading the entire file into memory.\n"
      ],
      "metadata": {
        "id": "0rbbM-QNpaWt"
      },
      "execution_count": null,
      "outputs": []
    },
    {
      "cell_type": "markdown",
      "source": [
        "In this example, using a generator for reading a file is more efficient than reading all lines at once, especially if the file is huge.\n",
        "\n",
        "### **4. Cleaner and More Readable Code**:\n",
        "- Generators allow you to **write concise, readable code** for complex iteration patterns without needing to create and manage an entire class with `__iter__()` and `__next__()` methods.\n",
        "- They make functions that need to maintain state between iterations simpler and easier to understand.\n",
        "\n",
        "**Example**:"
      ],
      "metadata": {
        "id": "ELeKy-wVplE8"
      }
    },
    {
      "cell_type": "code",
      "source": [
        "# A generator that produces squares of numbers up to a limit\n",
        "def generate_squares(n):\n",
        "    for i in range(1, n + 1):\n",
        "        yield i * i\n",
        "\n",
        "# Instead of creating a list of squares, the generator provides a more readable and memory-efficient approach.\n"
      ],
      "metadata": {
        "id": "UO8aQNvTpqC6"
      },
      "execution_count": null,
      "outputs": []
    },
    {
      "cell_type": "markdown",
      "source": [
        "### **5. Simplified State Management**:\n",
        "- Generators **automatically maintain their state** between `yield` calls, which means you don’t need to keep track of iteration state variables manually like in traditional iterator classes.\n",
        "- This makes them great for **pausing** and **resuming** the computation without extra overhead.\n",
        "\n",
        "**Example**:"
      ],
      "metadata": {
        "id": "GrVp100cpxhJ"
      }
    },
    {
      "cell_type": "code",
      "source": [
        "# Generator that tracks its own state between calls\n",
        "def simple_counter():\n",
        "    count = 1\n",
        "    while count <= 3:\n",
        "        yield count\n",
        "        count += 1\n",
        "\n",
        "counter = simple_counter()\n",
        "print(next(counter))  # Output: 1\n",
        "print(next(counter))  # Output: 2\n",
        "# The generator keeps its state between calls.\n"
      ],
      "metadata": {
        "id": "4sMOYR6kpzly"
      },
      "execution_count": null,
      "outputs": []
    },
    {
      "cell_type": "markdown",
      "source": [
        "In this example, the generator automatically keeps track of `count` without needing additional variables or state management code.\n",
        "\n",
        "### **6. Infinite Sequences**:\n",
        "- With regular functions, creating an **infinite sequence** would cause memory issues because they attempt to store all results.\n",
        "- Generators, with their lazy evaluation, make it possible to create and work with **infinite sequences** without running out of memory.\n",
        "\n",
        "**Example**:"
      ],
      "metadata": {
        "id": "RpQ9shzTp38d"
      }
    },
    {
      "cell_type": "code",
      "source": [
        "def infinite_even_numbers():\n",
        "    num = 0\n",
        "    while True:\n",
        "        yield num\n",
        "        num += 2\n"
      ],
      "metadata": {
        "id": "fK75fnY1p40u"
      },
      "execution_count": null,
      "outputs": []
    },
    {
      "cell_type": "markdown",
      "source": [
        "\n",
        "In this example, `infinite_even_numbers()` can keep generating even numbers indefinitely without consuming extra memory, making it suitable for use cases where the sequence size is unknown or potentially infinite.\n",
        "\n",
        "\n",
        "\n",
        "\n",
        "Generators are particularly useful when you’re dealing with large data sets, data streams, or when you want to maintain a simple, memory-efficient approach to iteration in Python."
      ],
      "metadata": {
        "id": "iHB7EljzpAUy"
      }
    },
    {
      "cell_type": "markdown",
      "source": [
        "**Q8. What is a lambda function in Python and when is it typically used?**"
      ],
      "metadata": {
        "id": "wLVy8LzzqJ93"
      }
    },
    {
      "cell_type": "markdown",
      "source": [
        "**Ans8.** A **lambda function** in Python is a small, anonymous function that is defined using the `lambda` keyword instead of the `def` keyword. It is often referred to as an **inline function** because it is typically used where a small function is needed temporarily. Unlike regular functions, a lambda function can only have **a single expression**, but that expression can return a value.\n",
        "\n",
        "### **1. Syntax of a Lambda Function**:\n",
        "The basic syntax of a lambda function is:"
      ],
      "metadata": {
        "id": "sL16S-b3qo3Z"
      }
    },
    {
      "cell_type": "code",
      "source": [
        "lambda arguments: expression\n"
      ],
      "metadata": {
        "id": "3Q3hZeYUq2PY"
      },
      "execution_count": null,
      "outputs": []
    },
    {
      "cell_type": "markdown",
      "source": [
        "- **`lambda`**: The keyword used to define the function.\n",
        "- **`arguments`**: A comma-separated list of parameters (similar to a regular function).\n",
        "- **`expression`**: An expression that is evaluated and returned. The result of this expression becomes the return value of the lambda function.\n",
        "\n",
        "**Example**:"
      ],
      "metadata": {
        "id": "_8DdDLz3q89Y"
      }
    },
    {
      "cell_type": "code",
      "source": [
        "# A simple lambda function that adds 10 to a number\n",
        "add_10 = lambda x: x + 10\n",
        "\n",
        "# Using the lambda function\n",
        "print(add_10(5))  # Output: 15\n"
      ],
      "metadata": {
        "id": "29nlmvAJq_MA"
      },
      "execution_count": null,
      "outputs": []
    },
    {
      "cell_type": "markdown",
      "source": [
        "In this example, `lambda x: x + 10` creates a function that takes one argument `x` and returns `x + 10`.\n",
        "\n",
        "### **2. How Does a Lambda Function Differ from a Regular Function?**\n",
        "- **Anonymous**: Lambda functions **don’t have a name** like regular functions defined with `def`.\n",
        "- **Single Expression**: They can only contain **one expression** (no statements or multiple lines of code).\n",
        "- **Return Value**: The result of the expression is **implicitly returned** without needing the `return` keyword.\n",
        "\n",
        "### **3. When to Use a Lambda Function**:\n",
        "Lambda functions are typically used in situations where a simple function is required for a **short period of time**. They are often passed as **arguments to higher-order functions** (functions that take other functions as input).\n",
        "\n",
        "Here are some common use cases for lambda functions:\n",
        "\n",
        "#### **a. Sorting or Filtering Data**:\n",
        "- Lambda functions are commonly used with functions like `sorted()`, `filter()`, and `map()` for **short transformations** or **criteria**.\n",
        "  \n",
        "**Example with `sorted()`**:"
      ],
      "metadata": {
        "id": "JisctQpMrHfQ"
      }
    },
    {
      "cell_type": "code",
      "source": [
        "# Sorting a list of tuples based on the second element\n",
        "pairs = [(1, 2), (3, 1), (5, 4), (2, 3)]\n",
        "sorted_pairs = sorted(pairs, key=lambda x: x[1])\n",
        "print(sorted_pairs)  # Output: [(3, 1), (1, 2), (2, 3), (5, 4)]\n"
      ],
      "metadata": {
        "id": "3pmKEW6UrP-P"
      },
      "execution_count": null,
      "outputs": []
    },
    {
      "cell_type": "markdown",
      "source": [
        "In this example, `lambda x: x[1]` is used as the key function to sort the list `pairs` by the second element of each tuple.\n",
        "\n",
        "**Example with `filter()`**:"
      ],
      "metadata": {
        "id": "y_r45IKIrTqz"
      }
    },
    {
      "cell_type": "code",
      "source": [
        "# Filtering even numbers from a list\n",
        "numbers = [1, 2, 3, 4, 5, 6]\n",
        "even_numbers = list(filter(lambda x: x % 2 == 0, numbers))\n",
        "print(even_numbers)  # Output: [2, 4, 6]\n"
      ],
      "metadata": {
        "id": "8fmQMErorWq-"
      },
      "execution_count": null,
      "outputs": []
    },
    {
      "cell_type": "markdown",
      "source": [
        "Here, `lambda x: x % 2 == 0` is used to filter out even numbers from the list.\n",
        "\n",
        "#### **b. Using with `map()`**:\n",
        "- The `map()` function is often used with a lambda to apply a function to each element in an iterable.\n",
        "\n",
        "**Example with `map()`**:"
      ],
      "metadata": {
        "id": "dNG41WfZrg7n"
      }
    },
    {
      "cell_type": "code",
      "source": [
        "# Doubling each number in a list using map\n",
        "numbers = [1, 2, 3, 4]\n",
        "doubled = list(map(lambda x: x * 2, numbers))\n",
        "print(doubled)  # Output: [2, 4, 6, 8]\n"
      ],
      "metadata": {
        "id": "swiF2INLrmYC"
      },
      "execution_count": null,
      "outputs": []
    },
    {
      "cell_type": "markdown",
      "source": [
        "Here, `lambda x: x * 2` is used to double each element in the list `numbers`.\n",
        "\n",
        "#### **c. Inline Small Functions**:\n",
        "- Lambda functions are suitable for **quick, simple operations** when you don’t want to define a separate function with `def`.\n",
        "\n",
        "**Example**:"
      ],
      "metadata": {
        "id": "Lwxki46urtRh"
      }
    },
    {
      "cell_type": "code",
      "source": [
        "# A lambda function to square a number\n",
        "square = lambda x: x ** 2\n",
        "print(square(5))  # Output: 25\n"
      ],
      "metadata": {
        "id": "bCiiKRISr2fA"
      },
      "execution_count": null,
      "outputs": []
    },
    {
      "cell_type": "markdown",
      "source": [
        "#### **d. Using with `reduce()`**:\n",
        "- The `reduce()` function from the `functools` module is another example where lambda functions are used to perform **cumulative operations** on a list.\n",
        "\n",
        "**Example with `reduce()`**:"
      ],
      "metadata": {
        "id": "6vIPqqxvrwU5"
      }
    },
    {
      "cell_type": "code",
      "source": [
        "from functools import reduce\n",
        "\n",
        "# Finding the product of all elements in a list\n",
        "numbers = [1, 2, 3, 4]\n",
        "product = reduce(lambda x, y: x * y, numbers)\n",
        "print(product)  # Output: 24\n"
      ],
      "metadata": {
        "id": "lbRuWC1ur5YL"
      },
      "execution_count": null,
      "outputs": []
    },
    {
      "cell_type": "markdown",
      "source": [
        "\n",
        "\n",
        "Here, `lambda x, y: x * y` is used to multiply all elements in the list.\n",
        "\n",
        "### **4. Benefits of Using Lambda Functions**:\n",
        "- **Conciseness**: They allow you to write short functions in a single line, making the code more compact.\n",
        "- **No Need for Separate Function Definitions**: They’re ideal for cases where a small function is needed temporarily, avoiding the need for defining a named function with `def`.\n",
        "- **Improved Readability**: In simple scenarios, lambda functions can make the code more readable by placing the logic directly where it’s used.\n",
        "\n",
        "### **5. Limitations of Lambda Functions**:\n",
        "- **Limited to a Single Expression**: Lambda functions can only contain a single expression, which limits their complexity compared to regular functions.\n",
        "- **Readability Issues**: While they can improve readability in simple cases, overusing lambda functions or using them for complex operations can make the code harder to understand.\n",
        "- **No Annotations**: Lambda functions lack the ability to include type annotations or docstrings, which can be useful for documentation in larger projects.\n",
        "\n",
        "### **Summary**:\n",
        "- **Lambda functions** are small, anonymous functions defined with the `lambda` keyword.\n",
        "- They are commonly used for **short, temporary functions** in contexts like `map()`, `filter()`, `sorted()`, and `reduce()`.\n",
        "- The primary advantage is **conciseness** and **inline usage**, but they are limited to **single expressions** and should be used judiciously to maintain code readability.\n",
        "\n",
        "Lambda functions are perfect when you want a quick, one-off function without the formality of defining a full function!"
      ],
      "metadata": {
        "id": "a2jx-2DKqjRc"
      }
    },
    {
      "cell_type": "markdown",
      "source": [
        "**Q9. Explain the purpose and usage of the `map()` function in Python.**"
      ],
      "metadata": {
        "id": "Gv09PfGQsKV4"
      }
    },
    {
      "cell_type": "markdown",
      "source": [
        "**Ans9.** The `map()` function in Python is a built-in function that allows you to **apply a given function to each item of an iterable** (like a list, tuple, or string) and returns a **map object** (which is an iterator) containing the results.\n",
        "\n",
        "### **1. Purpose of `map()`**:\n",
        "- The primary purpose of `map()` is to **transform** or **process** each element in a sequence (like a list) using a specified function, without needing to write a loop manually.\n",
        "- It is particularly useful for performing operations like **mathematical calculations**, **formatting strings**, or **applying transformations** on each element of a list or other iterable.\n",
        "\n",
        "### **2. Syntax of `map()`**:"
      ],
      "metadata": {
        "id": "FIHkGqBVsbCl"
      }
    },
    {
      "cell_type": "code",
      "source": [
        "map(function, iterable, ...)\n"
      ],
      "metadata": {
        "id": "UwmkO1gPtC7l"
      },
      "execution_count": null,
      "outputs": []
    },
    {
      "cell_type": "markdown",
      "source": [
        "- **`function`**: The function to apply to each element of the iterable. It can be a regular function, lambda function, or a built-in function.\n",
        "- **`iterable`**: One or more iterables (e.g., list, tuple) whose elements will be passed to the function. If multiple iterables are provided, the function must take as many arguments as there are iterables.\n",
        "\n",
        "### **3. How `map()` Works**:\n",
        "- `map()` applies the given `function` to each item of the `iterable` and returns a **map object**, which is an iterator.\n",
        "- The map object can be converted to a list, tuple, or any other data structure if needed.\n",
        "\n",
        "### **4. Examples of Using `map()`**:\n",
        "\n",
        "#### **a. Applying a Function to a List**:\n",
        "**Example**:"
      ],
      "metadata": {
        "id": "yWHIbmijtG4q"
      }
    },
    {
      "cell_type": "code",
      "source": [
        "# A function that doubles a number\n",
        "def double(x):\n",
        "    return x * 2\n",
        "\n",
        "# Using map() to double each number in a list\n",
        "numbers = [1, 2, 3, 4]\n",
        "doubled = map(double, numbers)\n",
        "\n",
        "# Converting the map object to a list\n",
        "print(list(doubled))  # Output: [2, 4, 6, 8]\n"
      ],
      "metadata": {
        "id": "Q6L_L-JFtKhn"
      },
      "execution_count": null,
      "outputs": []
    },
    {
      "cell_type": "markdown",
      "source": [
        "In this example:\n",
        "- `map(double, numbers)` applies the `double` function to each element of `numbers`, resulting in a map object that contains `[2, 4, 6, 8]`.\n",
        "\n",
        "#### **b. Using `map()` with a Lambda Function**:\n",
        "**Example**:"
      ],
      "metadata": {
        "id": "KLE5wRpBtJoE"
      }
    },
    {
      "cell_type": "code",
      "source": [
        "# Using map() with a lambda function to square each number in a list\n",
        "numbers = [1, 2, 3, 4]\n",
        "squared = map(lambda x: x ** 2, numbers)\n",
        "print(list(squared))  # Output: [1, 4, 9, 16]\n"
      ],
      "metadata": {
        "id": "xFG86AHQtTEi"
      },
      "execution_count": null,
      "outputs": []
    },
    {
      "cell_type": "markdown",
      "source": [
        "In this example:\n",
        "- A **lambda function** is used to square each number in the list `numbers`.\n",
        "\n",
        "#### **c. Using `map()` with Multiple Iterables**:\n",
        "- `map()` can take multiple iterables as arguments, and the function should accept as many arguments as there are iterables.\n",
        "\n",
        "**Example**:"
      ],
      "metadata": {
        "id": "BOZJKMbOtXlK"
      }
    },
    {
      "cell_type": "code",
      "source": [
        "# Adding corresponding elements from two lists\n",
        "numbers1 = [1, 2, 3]\n",
        "numbers2 = [4, 5, 6]\n",
        "sum_numbers = map(lambda x, y: x + y, numbers1, numbers2)\n",
        "print(list(sum_numbers))  # Output: [5, 7, 9]\n"
      ],
      "metadata": {
        "id": "EpaHKsEZtmIb"
      },
      "execution_count": null,
      "outputs": []
    },
    {
      "cell_type": "markdown",
      "source": [
        "In this example:\n",
        "- `map()` applies the lambda function `lambda x, y: x + y` to corresponding elements of `numbers1` and `numbers2`, resulting in `[5, 7, 9]`.\n",
        "\n",
        "### **5. Converting the Map Object**:\n",
        "- Since `map()` returns a **map object**, you often need to convert it to a list, tuple, or other collection to see the results or use them further.\n",
        "\n",
        "**Example**:"
      ],
      "metadata": {
        "id": "NSnpif3Jt7fU"
      }
    },
    {
      "cell_type": "code",
      "source": [
        "# Map object returned by map()\n",
        "doubled = map(lambda x: x * 2, [1, 2, 3])\n",
        "\n",
        "# Converting the map object to a list\n",
        "doubled_list = list(doubled)\n",
        "print(doubled_list)  # Output: [2, 4, 6]\n",
        "\n",
        "# Converting the map object to a tuple\n",
        "doubled_tuple = tuple(map(lambda x: x * 2, [1, 2, 3]))\n",
        "print(doubled_tuple)  # Output: (2, 4, 6)\n"
      ],
      "metadata": {
        "id": "okBxX5lltavt"
      },
      "execution_count": null,
      "outputs": []
    },
    {
      "cell_type": "markdown",
      "source": [
        "\n",
        "\n",
        "\n",
        "\n",
        "### **6. When to Use `map()`**:\n",
        "- Use `map()` when you want to **apply a transformation** to each element of an iterable without explicitly writing a loop.\n",
        "- It’s ideal for situations where you need to **apply a function uniformly** to all elements of a sequence.\n",
        "- It can improve the **readability** of your code, making it clear that a transformation is being applied to a collection of elements.\n",
        "\n",
        "### **7. Summary**:\n",
        "- The `map()` function in Python **applies a function to each element** of one or more iterables.\n",
        "- It returns a **map object** (which is an iterator), allowing you to work with data lazily.\n",
        "- Common use cases include transforming lists or other iterables using regular or lambda functions.\n",
        "- To see the results of `map()`, you typically **convert** the map object to a list, tuple, or set using functions like `list()`, `tuple()`, or `set()`.\n",
        "\n",
        "Using `map()` is a great way to simplify code that needs to transform or process collections in a uniform way!"
      ],
      "metadata": {
        "id": "KOLvrMwvsYUh"
      }
    },
    {
      "cell_type": "markdown",
      "source": [
        "**Q10. What is the difference between `map()`, `reduce()`, and `filter()` functions in Python?**"
      ],
      "metadata": {
        "id": "raEa7rVluIFQ"
      }
    },
    {
      "cell_type": "markdown",
      "source": [
        "**Ans10.** The `map()`, `reduce()`, and `filter()` functions in Python are built-in functions that are commonly used for **functional programming**. They are often used for processing collections of data, but they each serve a **different purpose**. Here's a breakdown of how they differ:\n",
        "\n",
        "### **1. `map()` Function**:\n",
        "- **Purpose**: `map()` is used to **apply a given function** to **each item** in an iterable (such as a list, tuple, etc.) and **return an iterator** containing the results.\n",
        "- **Use Case**: It’s useful when you need to **transform** or **modify** each element in an iterable.\n",
        "- **Result**: Returns a **map object** (which is an iterator) that can be converted to a list, tuple, or other iterable.\n",
        "\n",
        "**Syntax**:"
      ],
      "metadata": {
        "id": "gDNkoCNnuMKZ"
      }
    },
    {
      "cell_type": "code",
      "source": [
        "map(function, iterable)\n"
      ],
      "metadata": {
        "id": "zZNeye__uku8"
      },
      "execution_count": null,
      "outputs": []
    },
    {
      "cell_type": "markdown",
      "source": [
        "**Example**:"
      ],
      "metadata": {
        "id": "qu3b4jiBunQW"
      }
    },
    {
      "cell_type": "code",
      "source": [
        "# Using map() to square each number in a list\n",
        "numbers = [1, 2, 3, 4]\n",
        "squared = map(lambda x: x ** 2, numbers)\n",
        "print(list(squared))  # Output: [1, 4, 9, 16]\n"
      ],
      "metadata": {
        "id": "Bdrk-jAlupcM"
      },
      "execution_count": null,
      "outputs": []
    },
    {
      "cell_type": "markdown",
      "source": [
        "In this example:\n",
        "- `map()` applies the `lambda x: x ** 2` to each number in `numbers`, returning the squares of those numbers.\n",
        "\n",
        "### **2. `filter()` Function**:\n",
        "- **Purpose**: `filter()` is used to **filter out elements** from an iterable based on whether they satisfy a **condition** defined by a function.\n",
        "- **Use Case**: It’s useful when you want to **extract** or **retain** only those elements that meet a certain condition (e.g., all even numbers from a list).\n",
        "- **Result**: Returns a **filter object** (which is an iterator) containing the elements that return `True` for the condition.\n",
        "\n",
        "**Syntax**:"
      ],
      "metadata": {
        "id": "A0NDzV_iutra"
      }
    },
    {
      "cell_type": "code",
      "source": [
        "filter(function, iterable)\n"
      ],
      "metadata": {
        "id": "SX-vef7Suvpc"
      },
      "execution_count": null,
      "outputs": []
    },
    {
      "cell_type": "markdown",
      "source": [
        "**Example**:"
      ],
      "metadata": {
        "id": "BneMO8Q3uwHN"
      }
    },
    {
      "cell_type": "code",
      "source": [
        "# Using filter() to retain only even numbers\n",
        "numbers = [1, 2, 3, 4, 5, 6]\n",
        "even_numbers = filter(lambda x: x % 2 == 0, numbers)\n",
        "print(list(even_numbers))  # Output: [2, 4, 6]\n"
      ],
      "metadata": {
        "id": "l8jVtJC2uzDy"
      },
      "execution_count": null,
      "outputs": []
    },
    {
      "cell_type": "markdown",
      "source": [
        "In this example:\n",
        "- `filter()` uses the `lambda x: x % 2 == 0` function to keep only even numbers from `numbers`.\n",
        "\n",
        "### **3. `reduce()` Function**:\n",
        "- **Purpose**: `reduce()` is used to **apply a function cumulatively** to the items in an iterable, **reducing** them to a **single value**.\n",
        "- **Use Case**: It’s useful for **aggregation** or **summarization** operations (e.g., calculating the sum, product, or other cumulative results).\n",
        "- **Result**: Returns a **single value** that is the result of applying the function cumulatively.\n",
        "\n",
        "- **Note**: `reduce()` is not a built-in function anymore in Python 3. It has been moved to the **`functools` module**, so it must be imported before use.\n",
        "\n",
        "**Syntax**:"
      ],
      "metadata": {
        "id": "9M11cBR6u7Uf"
      }
    },
    {
      "cell_type": "code",
      "source": [
        "from functools import reduce\n",
        "reduce(function, iterable)\n"
      ],
      "metadata": {
        "id": "o-N7fxxOvAKi"
      },
      "execution_count": null,
      "outputs": []
    },
    {
      "cell_type": "markdown",
      "source": [
        "**Example**:"
      ],
      "metadata": {
        "id": "S1llt36IvFfs"
      }
    },
    {
      "cell_type": "code",
      "source": [
        "from functools import reduce\n",
        "\n",
        "# Using reduce() to find the product of all numbers in a list\n",
        "numbers = [1, 2, 3, 4]\n",
        "product = reduce(lambda x, y: x * y, numbers)\n",
        "print(product)  # Output: 24\n"
      ],
      "metadata": {
        "id": "D9IKnZJUvHfh"
      },
      "execution_count": null,
      "outputs": []
    },
    {
      "cell_type": "markdown",
      "source": [
        "In this example:\n",
        "- `reduce()` applies the `lambda x, y: x * y` function cumulatively to the `numbers`, resulting in the product `1 * 2 * 3 * 4 = 24`.\n",
        "\n",
        "\n",
        "### **Key Differences**:\n",
        "1. **Nature of Output**:\n",
        "   - `map()` and `filter()` return **iterators** that contain transformed or filtered values, respectively.\n",
        "   - `reduce()` returns a **single value** as the final result of the cumulative operation.\n",
        "\n",
        "2. **Type of Function**:\n",
        "   - `map()` and `filter()` functions generally take a **function that works on single elements** of the iterable.\n",
        "   - `reduce()` takes a **function that operates on pairs** of elements, reducing the iterable step by step.\n",
        "\n",
        "3. **Use Cases**:\n",
        "   - Use `map()` when you need to **transform** data.\n",
        "   - Use `filter()` when you need to **extract specific items**.\n",
        "   - Use `reduce()` when you need to **accumulate** results or **reduce** a list into a single summary value.\n",
        "\n",
        "### **Examples Comparing `map()`, `filter()`, and `reduce()`**:\n",
        "\n",
        "**Example**:\n"
      ],
      "metadata": {
        "id": "CNoVcl1pvQCM"
      }
    },
    {
      "cell_type": "code",
      "source": [
        "numbers = [1, 2, 3, 4, 5]\n",
        "\n",
        "# Using map() to get the squares of each number\n",
        "squares = list(map(lambda x: x ** 2, numbers))\n",
        "print(squares)  # Output: [1, 4, 9, 16, 25]\n",
        "\n",
        "# Using filter() to get only even numbers\n",
        "evens = list(filter(lambda x: x % 2 == 0, numbers))\n",
        "print(evens)  # Output: [2, 4]\n",
        "\n",
        "# Using reduce() to get the sum of all numbers\n",
        "from functools import reduce\n",
        "total_sum = reduce(lambda x, y: x + y, numbers)\n",
        "print(total_sum)  # Output: 15\n"
      ],
      "metadata": {
        "id": "NtUelqNfvRB6"
      },
      "execution_count": null,
      "outputs": []
    },
    {
      "cell_type": "markdown",
      "source": [
        "In this example:\n",
        "- `map()` squares each number.\n",
        "- `filter()` keeps only even numbers.\n",
        "- `reduce()` sums up all numbers into a single total.\n",
        "\n",
        "These functions help make code more concise and expressive when dealing with operations on collections."
      ],
      "metadata": {
        "id": "Mtu2gqHauMxs"
      }
    },
    {
      "cell_type": "markdown",
      "source": [
        "**Q11. Using pen & Paper write the internal mechanism for sum operation using  reduce function on this given**\n",
        "list:[47,11,42,13];"
      ],
      "metadata": {
        "id": "An5yeR1avmsh"
      }
    },
    {
      "cell_type": "markdown",
      "source": [
        "**Ans11.**"
      ],
      "metadata": {
        "id": "cMkbYbaSvxiL"
      }
    },
    {
      "cell_type": "markdown",
      "source": [
        "![ans11.jpeg](data:image/jpeg;base64,/9j/4AAQSkZJRgABAQAAAQABAAD/2wBDAAgGBgcGBQgHBwcJCQgKDBQNDAsLDBkSEw8UHRofHh0aHBwgJC4nICIsIxwcKDcpLDAxNDQ0Hyc5PTgyPC4zNDL/2wBDAQkJCQwLDBgNDRgyIRwhMjIyMjIyMjIyMjIyMjIyMjIyMjIyMjIyMjIyMjIyMjIyMjIyMjIyMjIyMjIyMjIyMjL/wgARCAUAA4QDASIAAhEBAxEB/8QAGgABAQEBAQEBAAAAAAAAAAAAAAEDAgQFBv/EABgBAQEBAQEAAAAAAAAAAAAAAAABAgME/9oADAMBAAIQAxAAAAL4/wBv4n3p0ovIUAAFAFgvPQy8vvsfFx/QxPzb7nnX53Hs8tu1y5zjbnLZiLZJzpwXnqr598dbe/d833x1z1m6eTn08MzybLMXo4u+fRh6ZnjndOec64S2dmM66us9MbeuvXGuefp056dOPF9L57HGHp8tnRzek747t528/rScTrPNx1madc8m/WW8u/z/AF+O9e8fpfNrLTHZe06z2ko5UIDLXO4aZ7HPXNm4sLz3wV1ydxF7565ICff/AD/6HXHmy3nKAApLzkbrBQAAWC3mlvI58/qp8zj6yT4PX3c2fi8/Wxk8XPq8y5dOybZeiZ0uHqbeP2+RMLc7nvLTBvXWVnf1eX0Rz5/fGvDfVwz4eNuGc7pzd57Zayer0Z10483eLnMtuK5x9XlvS9596cacdxnrEnefaY1x2869+jEunfl9rrr8rTJee1WxZ0ihKOegTqJxpxbF5srqFqVU65Ooo56hFD7/AMb7OuPIvMAUAY9ZHt8m2B6WXR2oiiTnk2ASgAFAsFQXLQeaepHztfaTw5/Si/Gx+7mx8rD7HB4Hr4k59uG811y7u+OpI8nn9nkcZ2zTv0Ze1vrMb83Hs8rnxxck5z9HN3z133Xn147mZeNETrgvPcl7w0892756dUGnXPc1LDXPUqULzUQ5J3wtyvMTuSrXMLL1LzUNGXTXTgv1vZnpvzc1EWUAWUZajrLQeP1dZro56QQ45lOtPP2s28+hq8uprPPsneVi6XjtBSMPQsZ6IAcdgA5Xtx0lQAvM7GXn9qTxc+8nk12Ljl66fOy+tU+Dz9+J8Pn7w+F19wfA1+0Ph9faHyL9Yvxp9uL8DD9MX8y/Sxr85f0PK/n+/uJfhz7kX4j7Y+HPvLn4T71Pzz9H0z+d1+9LPh9fah8vT3l8nHuzPh3PvHYlWOoR0Pta+P2b88CACgACyg5OnPQBQXjocuhOexi2i+br0ck7sRZTz3rVfO7hxrxoZ6efYmvg9JtPJ6C9+bs2efs1cdoMi6Z9L0kOgiwZbYdnbng0cjqygyNZlsRRFi1nR3jqUIAAl86+ic9kWAAEUQCWn5ypNLx3N2dSa5dj6fs83p3wixBQBZTDp0cd88GmGuK+rrPk2Z8m7PRAGWvnPQoiiLCsKuqkgKlBwdzzeoHJ1x2M3dOc9RnpQ8Xt863L1DObEAZajHrQZcegefvUShlNi+LeaGbTsx8/tp59JoeXXQYd6DoJnLmt7QXoTz68m1AACAdc9H5uaYRer03zb1npwpfq+zz+nfn5CSgAsoABndBjz6C587Ql57QU483t8y9OoY7UcOuSenzek8nq+fsep5vUkA83p8ptp5sj2+bUt0lTDfjsY7Yk168y+ny6ZHrl86bmZqYG7z+ghydMxo8/pIADLXLUAAAAAAAAGYmuK6gWABLyXrjo+DhvhL11xWuuubntFH1vX5fVvzSCACgAFAIUoSgCUPP6fAvuCAAAASgBx2AHPQAcdgy1xNsbocXvk5y27OcPTFvmu6Y6dlmU3TjjumeuWxCkAKRRAAAAAAAM9POd64anUsKRVgc98Drno+H5fX5JeuuNJtebOtB9X2eP1780CALKADGt3n1NPL3odoipQCUGWvJ047AAAHOfFelZBnoCkY9GgAAAAAEoAAOeTRz0M9Bn3QlCURQAMzsBzSpQU478+9F5i3kccNK7eSnpvHULKOeoc2Vfj+P3eKad1nrzaaA+p6/N6d+YEAoFlGO1rDL2ec051h5e/Rgc+rDcCEuYy61rLfCGmvj9glRFh598Oa9eUxHoz3FkjPqK7vl9JO/PvDi51tyzNhGHWW9XrDYrHeOGfVXvLQy2z0BnDjm16OM8z1iHOPddc8w2yBeqcOw7z6izoeTu715+fSMudxhp2OL0jPQAAOKL8vx/Q8GeyVNjpYD63o83q35ZRJQAoFDjqg47M+8t6w2x2AhYBRzRnoBYXPuklpM9AKTLbM0Zamekpnxoq8aI451V5/Rx2SglRhvLXPOg4lyN7ZDHYc9AlAABKJYACkKShl1z1XQgAAAAACSl+f8AP+h4M9p3ym5KAPq+zzenfmgSgAUIuZoQ46kri59m1sgQrLQ6lEXE2BFEy2hOpSKJQAMZWyoSwsUjz+ii4xq821dpQU8+85O3PBq47gYGznKtXn8x9TnIda56QAABLKAAYbykUIpCkAAABKHh+b9T5WervlOxCFH2N/P6N+ZRBSWUAZ6cmV7tZ3qmek7LCGWwwjWsr3oY8ceo8+jYx42pk75Le+Did8G9iLlr565767MLvwaSdRJ1lXHN2MppoefL2wwekYd95k49MM+e+jHfHYmHoHHVQ8vo4rWVGfdAAAAAAAAAAxNU4rRxY6cdgAHl+R9n4k6dTmzfUWbgPq+zz+jfmoRZSUABQQAWCyiVDLbjsllPJ6/J66CAAEuJ1z11VVACUAJQ564Mt/J66CFgAALnXNuZtZmas9IAlAUjHQ6IVzDtB15+8a9HUsMN/JXp55pNsdSiM/N6ZWXPs85W0PL6LSiAOXXK44+0fLw+3Zr86/RF83p8vquBUAAAAw9GKtVQZDVnxW7MaPPoaJ5o49fVrm+b0gQBMpxWmuVNXPUAHm9FUQ4mdbsxq46FljnLrOtNfL2bPHqd68dmU2hzxBq8uhpxRqI8+vPVZc+mnkesZY+sYNxlpUAAAAAAMtRKgAsAHF65FAADzevy+pQQAAUlDz7XKpukUgw1lMtuRph6Dzbc047kG3HZ5u9uDnz+7k8/HrhhPTwaTPQqWGO3Fdgnn9OY83tHj9GgA82kE07Hm10HPSQ57EqCoAAAAAAAAAAAAAAAJQlCUQo47wNQAAYeryetYEAAUAM+89acdoxuqs2gzaIya2sbpDnqQ7uUNmI1ZU0uI1ZDaZcHocdhLABn0dM7XcuRpeOzFrydvP2aXDcCAAACUlQsUhSFEoAlBLACywLAAAAAAADr5/0PIbgAA8/r8nrWBCwAWUAWABZyef1ebqt2PlPoXxj1sdhZ5o9TDCvTfPD13zw9LjuBgOuJW182pl6vP6Rz1wef1+X0mWuWw83p856GGp0cRn1eqw36GehAAAACUSgigAAAACUSoWWBRAAAAAAXPTMoAAPP6/N6VhUSwAqUAAAS08Ht83qrPnYSdIlBz0JQcaSsroM9AcdjProTPUBAAADnoc9AAAAAAAAAAAAAAAAAAAlhZRFgAAAABcteAAADH0+X1LAigSkoEoAAB4fdLQQAAsBRFgAKRz0AAAAAAAAAAAAAAAAAAAAAAAAAAJQSkAAAAABeO/Kb0AIow9Pm9KwIsCyhKAXjz61qw9EQyOa7ru+b0QWBjuSszSXynpBZeDvnvyVz7MsT1XLA9bPSAAFgWUhSALAAsCwAsoSwALAAAAAAAAAABFEsCwAAAAvl9XBQCAHm9ni9qwIAsoAB59+sKutkXHXKs/Uhlz2M7NTz+nnQvj9dPn7tDnjemXPop5W/Rnn6YcTSmOpCwKEoIolhYBYFCUAJQAlEspCiAAAAAAAAAAAAlgWBYAAXnrM6AlAHk9vi9qwIAoAAXDakBcNxnl6RjdVYdajJqjK6K8m3HoMmqM2gzaKzmozaDJqJSAABSSQ6UAAAAAAAAJYKAgWAAAAAAAhQARQlEAABcduQAADye3yepQQoAAAsAoJRx35zdzS1ydHJbnDWcaEoHi9lV59jqcYnpvGMel5/QDI0zuNeplrHna51z31ieoQAAAAAAAAABKhQJRFgAAAAAAAABCkAqF56xNFgAB5/T5/QoJZQAABYACg83p4Mt+NK4x9HJx5fWOcfZydWWHPQ8vodVhvx3DHaVcdkZ90AJQz0GXXY4mg47AAAAAAAAAAAAlAIAAAAAAAACUEoSwWC89QgAAPP6fL6VpUAllAAALLAoZ90AJSWUJSUAAAAABwdgAAAAAAAAAAAAAAAASgQUIsCwAAAAAAAASiKEtMNMdyKIo8vp8/oWpUqUAAAKI57JZQcnTHivRZYllAC+c3AZQ2IVBbj2ZM9K3ebI9zjuPN6uOgAAAAAAUgAAAAABBQSiLCywAAAAAAAASglABThxoJRAeb0+T2LLKihLKAFg8nq4rN0NOyGekOe+PLWm3PJpnr5j0cTsnHXRpx2jxvbhXPPp5MHpGN2pjdEcXoY7Bh6AgAAABSAAAWAogAAAEoEKCUEAAAAAAAAAAADxezLUlCKPH7PJ61BKAAAC8dUx1z1AGegz0CdQAAAAXz+jzm4ABCuOwsDnk0vPRHnp6Ocs69HWWsACkKSoKgAWAFgAAAAAJRFEAAAAAAAAAABJQAB5fV5/QssqUAAACwUAAyJtjzXocyO+Hkr3Y88nqLGFndJl0b2ZxevNvXPOmZz6vNqXPZGefpyrrvPOOuoO5KSaUx1oiiVCgiggssLAAAAAAAAlCWAogAAAAAAAAOaAAGG2fa2zpAAABSWCgAEMts9DjL0DDrVWTVAGfXQ4mgA56AAAUIKlJUBSKEoASgACWCoKCAFIAAAAABKEoiiAAAAAAJQCMtQQqDi56S3vjuwAAACwKABKOegAAAAAAFIollEBZQCVibAAAAAAAJQCVCgAAiiAAAAAAAAAgAAAAAAOOrAADHqdS3vnqwAAAsLLBQSiWClIoiiAMdgAoTjQEDnk0jyGnpyyr1PJyeznPqNUoAAAAASgEoAAAJRLBZYAAAACFBKCKSoAAAAAARODQAGfXPcs756sAAAoIB49uK17nBsIwbjJt560ccmvMzNp1kehjtGePpV5dedTnz+4ebvZHn00HE0HNo46oAASgAAACUAAEoAlBAKEAsAAAEoAAlgAAAAAASwAAz757WdSoAAAAA56phvloKAFz7Gd7Gd7HPGo56UAw38/oAABCuIaALkaPH6jopi5tTScG4gAAAAAAABAqUAgAAAAAAIsBSAKIABZSSwAA4740JZQAAAUgFgsoAJma1BWZ2YGjGV6lkXjvzm1w5rTbz2NvL6cTbH0cEz05NpRj32MtQXjI0k0MO9oSgAAAAAAABCkoEpAAAAAAAEolCWApAALKSdQgAONMtQAAAAUlCUAAPLptkd9Bn5vcryX1DHj0WIsLlqEoAc9AAAAAAAAAAAAAAAAAAAACLAsAAAAAAJYLFEUiwAWUSwgAM9ctQlAAFgqUAAAAx35oBUpFEoAAAAAAAAACFAAAAAAAAAAAAABFEAAAAAAABAUhTg6AZ9lsFlhAAZ65aksoAAAsFSgAAAhUpSFShKCFSg4O3NKxpqBefOel5vSYp2Xz+nGvQsgAAAAAAAAAAACLCxRFEUgAABwdmJs47DnI2ZcG+eHoqdc6Hk115NHPUWdckABxplqSygAAFgAWXzHpSgGcz9NZOkaMYbvnek9AHm3p5+8/RWfk92Yaoy3lHPQz7o4nY4awzukM72AAAAAAFgAAAAAlAzpevPuVmO8+uSdZ81p3nweny+rmOcfXDxevuDLXk6mGhpMqanlPSACywgAONOOyWUAAALBQ5z2zMfSoB5t+NTDvumfOwzz9FMtZRjsItGfYAAAsACwBSAAFIsALALAAAAeY9LzbHZkK4J6cNjDfDcyw9g451E47yO87oXPTyG+nm6rbjyeoud2OPL7OjNoggAFEo5WAHPfHQsoAAAsoSjjsAMdsDcAAACygAAAAAAAAABn2UApF85ovJozyPTQnE5NM+sT1OfOejz+qHDQPPvwaAz43EUJQQTH0cmO4PL6sTfnPUAAAlACLAsOoHKwA5747JZQAxpqypoyppcxo4p0lHPQAALABZQAAAAAAAAAU81mtd8Z5x7Jjod4b+Q9fn71PN1p0cToctKSwc86AAAAAAQoAEsAGOw56AAAABFIAoWCSwA5747AFlPP6MN6JnGrDqtGXZZ2jNoM2gzdw5vYzy9WFbCFZmjzekAnPn9RU4NGGp0YmmKV6ccqem56ReOuDjP1jw+jYSwWKEAAABj0aOOwZmgCUAAAlCKIAAAAAAAACVACgksAJ1z0ALKYbY7Ux38x6WeB63k1NnmHpeemvGOh31xyc+nLuOsPR5zcCsTY8p6pRxhtoYc+kefrYJRlrYLBYCwWAsAAAABeS8zs5418h6M+sa9Gc7jPbjsyvdJpn0WgAlgAWAAAAAAEWCykKQFspOeuQDnvjsAWDHbzdV6PLpQDjXihRx1Rx6PHuaTgTTiGuDaKBZQAAAAAAAAUjLUA4ndM2vmrS3xHrjyHql6OM/TYnQTnqkoAAAAAJYCkBYAAAAAAAEWBYAUDnrkA40z0AAAKlBCpQADnoAAAAFgWUAA54w9R0z7K8+x28npPPrnjXu8/UJ3Oia8o6uA7gdzno5x9VMmgzvYz7oAAAAAEKQoCUiwsAAAAAAABKIsAKUnPXIBOuaLKAALAsCygAABx2CmUx9lY65yNb5+K9bxanoELMjD2Snm01GPfYy0onUCwAAALAAAAAAAAAAAAAlEsFgVAAAAAAAAAikAso56hEFAsoAAAKSoUAAHk715rvsjy+jLYnl9dPNppTLruCgx2xNgAAAAACmffn9AAsAAAAAAAAAAAACUSyiWAAAAAAAABBYACglhAWWCwUAAAAFgUAGW3HQ56zGgAACgAByOpl2d+f04HPeuRz3j6S5ceg8vpx3MN8dgAcHYAAAAAAAAAACCoKgAAAAAAAAlgWAAlFlECAssFlAJQAAWCwLKJZTmzg1Sgh1nznXqz89PU56i56YG3GPVOnR5ffx1Fw2xNpz2c9wZauTrjrk7Y6lY018s1NgAAAAAASygAAhYFgCkAAAAAAAQAAAAKCWEBZYLBYoAAAAsFASnk205qaEMteTh30Y4e7x16xF47ACZ00Z8G7Po6ecehx2Y6Z7GGPuyrXK9x5vTKebqbHRCgAELKDnI28/pyO+uaUhSFQVAAsAAAAAAACWFgAAALBQcgssCUWCpQAAABYLFM9JQAAC+H25HXYVBfL6cDXH0w8z0dV5u9kY60Z6BldYAAACFSgEYw168/Zrc9Dz9aZlmuJr1KIAAAAAAAAAABKAIAApAALKCEAILKLABQAAAALBSFSgAAAACwVBQAAMN8S6sDdiNmOxPP6cTvPXI70x2Dy+oyy9Q5nYz0QvHQzugELlr5zcpE4NHm6L35u69GcRx6fNtTsgAAgoAIAAAAACywiiEFlAAKlCUAAAsAUTHYpCgAALBLgbmRsx6NHn9BJz2XDSGnm9Iw7vZPJ7MzTLSkoAcdoVKJRKhWMN8LlXry4xPZkpt4vajzz0jG6CdQAAAAAEFABAAWAAAKJYASAsoAAAsFSgAADz+kefPbapYi83k83e+dcNIYvXDLj08mWXs6PNPTTHZIqDNqMtULEK47HPfkPWyppJ5q9flz2PQx7jvw+3Inn9vVebvZHOW4gOee6WAAAAMzRl2dTDY6QVKAQCwAAAACFBZYAcgWUAAAAApCgAWDLWUAFAAAAAALAsCpmdXyb1zJoZ+rz+gmWmcaeP2ys8/R0eP1dSHHYWAAAADi8w1OTrnrE2cYHqAw3zOPRzTC87VOrxHQFgAAAAAAAAsogOQAVBQAAACgAAAAAFSHTPI9LnA9LD0GPHOVerRYA8+9CUcugsFgXHUc9AAAAYbiwHl0Njk6YaHbxanXPXZ3jsMmo5tGM3GbQZtBn11AACwAABCgAJQCkAOQAAVKAAAAVKAIoAAsHkvo6PPd1eXr0jC7I46oAAAAAXng0cZHoeTY1Y6lMzSeDuvb4t+jz93U82/fZn2QlGV0HPcFgAAAAARRFgAAAAAAQCkAoAAcgllAAKAAAACoLAoAADnoAKEAoAHJ0mZqw2OPN1a770Rlh7M6x20AQ56E6gAw3lAAAAAAAAAAJQSiAAAAAEAAAALAoAOZYLKAAVBYoAAAABTg7BMJ6TjPvit+OuI1Z8lYeuliOLnydc6dV576eTDTZGG4AAAAAAAAAACFSgAEqFAAAlgAAAAAAgAAAAAUAHAFlAAAAKgoAAALjt5y9TWqWPJrzvXm766jhqOOwAsCwLAoEBUKlBCoLAoABABZQCWCoALLCwKlECwLLACAqUQAAAAAAAHXNAOALKAAAAAWUCFAAshxrx0LKY7AlhQAAAAAACkBYAAAFQAALAKRYAAAWAAAsFQAAAQAAAAAAAACykByACgJQAAAAURQAAACoAFgqUAAAAsAAAAAAAAAAAAAAAAAAAAAAACLAAAAAAAABZQg5AAAsoAAAAAAsFSgAAAApLBQAAAAAAAAAAAAAAAAAAAAAAAAAAAAQAAAAAAhYoKQHIAAAFQoAAAAAFgoAAAAALFJYFlAAAAAAAAAAAAAAAAAAAAAAAAAAIsAAAAAEolgt56Io4AAsAFQVKAAAAAAALKSgAAAAAsFgAVBQEFASgAAAAAAAAACUCFAAAAIVBUFlEAAASgAEUSykUcgAAAAAqCgEKAAAACgAAAAAAAAqUlgAWBYLLCygQoAAAAEoAEKBAAWCoLLAsCwssAAAAAAAFlIo4AAAAAAAAAsFAAAAsFgUAAAAAAAAAAAFQUAgsolEsoAShKIogWAAABUAAAFgAAAAAAAShUHKUAAAAAAAAAqCgAAAAFCUAAAAAAAAAAAAqAAAAAAABYAAAAAAAAAAAAAAAAAAOFgsoAAAAAAAABUoAAAAAAoEoAAAAAAAAAAAAWAAAAAAAAAAAAAAAAAAAAAAAAHCiWUAAAAAAAAAAWUlgoAAAFgqCpQAAAAAAAAAAAAAAAAAAAAAAAAAAAAAAAAAAADmWCygAAAAAAAAAACwVBSFAAAsCwVBQAAAEoAAAAAAAAAAAAAAAAAAAAAAAAAAAAAUZpRYKgqCoKlAAAAAAAAAAKCUCUAAAAWCpSWUlgqCoLAqUAAAAAAAAAAAAAAAAAAAAAAAAqUKPO5p1eB25HTmlQdOadIKAAAAAAAAABZSWUAAAAAAAAsACpSKAAAAAAAAAAAAAAAAAAAAAAAAFlAPK4HbkdXgaOB3eB3eKdXmnSUqUAAALAsAAAAKAQpCgJQlAAAAAAKlEsKQoAAAAAAAAAAAAAAAAAAAAACiKPA5WdOR1eB25L3eLHd4ppeKd3mnSUUAAFlAAIsAAAAFgqUSwoAAAAAAALAssKgoAAAAAAAAAAAAAAAAAAAAAAPniwAAUllW9cdR11x0d3no6vPRQAAWBUFABFgAAABZRCiWFAAAikBUFQUAACwLBUoAAAAAAAAAAAKRRFgAAAIVyK4HjFgApKKIWynXXHUddc9HVlLZQAAAUJQABKIAAACoLAqCoKgqCoKlCUAAjoczuLCFcQ0Yk2YcnpeXk9l8HNfRfNh9N8sfUnzB9Ln58PoTwLPdz4lex4+z0cY82bsaacy1zzva809lPFPoWPmfY57zaTFqDxKslCUCFqC3mnXXPUddc07vNOrBUFQVBQAAAAFEdDleDpjmep44e2/P5PpPlcn2HxuY+2+FD7vPw6v2ePkj6s+UPpceHk9vHlh6OPNW98+ZN1ZK75Hq2+bpZ9Xb4XLP358fe5+i8uyaNKmTRWbtGbRWTVGTUZNRm0Vw7HF6EtiLKAAJQBFH//2gAMAwEAAgADAAAAIfP+w3+w98eiZzA0Vg58e/Mz9yk93uTK2K184PYTZUjHaIccXPMToJdSVTEa41+4+4z/AO8v+nc3fFANQfj7QX+JqyoEjj639zEWkLdcll3H8BLY0VlX2g9fsd8PPPP8N/8A/DDTByRE95M7RmTGKhYXy6y3Q/VLNj4VF9++m62bv6MBnrLrHTSLHveyKfePT2Xv3veH9sE+f/5YMswd8kVPa1rmuFtb198sOm+ygDP7DfrHfXTDjXeK3r2uaOu6yy/rGGbLvjzrHfzyOuLDDOSyCGyKgVR/Ck37DLj7WCyH3vTz3Kz/AC13xww381nn/wD/APvLnua62KOy3iWSS++uqGH0+PYrjXr3vHOOf7yW2eua7DnnKrDDOaDzHD777f8Az3/zwwwww1zvrvhlllaAUGz+x3wy+yw08r09132+wy6wwx6870pwl98+/wDvP/8A/vvffvLXGu2SSPZNIzXv/wDTUR7w4273/wB+He/vut/+s8NMM88tPNNPMM//AP8A+6c7xeZ6w0qs4QaF/wAOs1NW12cf221PeH+Wvnm922M+Hs0nE/20dnUXUW+PeVV2sMMMKZGTxSOf9ePPsXX+/t+/cvv9uMOsk/3VFPG0UeuOcOMtf/vudH//APrPLLa4V1B0fDHD3XV7373T3DznjzjHJ7Xb9/N55R5H7pvdTDDDrDTLzb77/rDjjoFBYj7rbvlRxfz5l7JJH9LvVtpTlz1pBNVn5F/tjzDvDLDDDDDP9/jTHFx8MUfrjTbH/vD3LrxDLTbFzDTDTH9/r/8A8ZUfz6+6x7x+RzfZQ5/1WT19sTsDOx39/wAXMOEEFtG3P8lkMMkMGUmsE2EnVkF29l2H13MdvPMMNOf+99eMMOQdf/usmc90WnGtVWF0UkuUEVFlHdFkeOef/wD/AP17/wD/AP8A/wC+ssNNNPv8MMMj/f8AjHNX9pv99tlN5l9JNLHDJRhN9BLDDDLnb77TDjX/AF9/7wwwwwxxwwyP9/6ww8x/cafazd4V/wAO/l3HWmmtk2cssMNONsMMMMNOdfP/APbHDDXfPPg7XfLDHvLn9ffvPl9ttNBrfTHf7/LDPP8Azyyywwxwwwww109732w16/8A/wDI/jLjPPr35/8A3789/wDvf/8A/wD/AN//AP8A7/8A/v8A3/vrPPPDLDDDTL//APxw/wCusPOje+sssEt92/euM/8AXFtt3/8A76+/9/8Aff8ATX/3v/3fHrPHLLbX3/rL/wDwx/4P/wCsc+HcmXneU092X3Xn++ONtd/fNMNMNOvt/wD/AP8A+es+8MMNfff/APbPbDIf/jDXb/DPhRThVzHNRBhjDDLTzHDDDDHLDXjH3/8A+4245ww80/8A/wD3rPDs/wAwz/38y2/4y924yTUbww/R5Zyww+wx9ywxw5w09/7wwwwwww+/5w/7/wAA9MMdd/8AjXpJ9xLDR7BDTDvvnTjXzf3P7vfPDDLD/wD/AMMesMMONNe+/wD/APxEw6x1/wBfNsMusuMMMMNffPc9sNPPu+f/AP8A/wCMMNMePff9/wDrrDDDTzrzzzwfLDD33zrD5rrDDDDPPPBtfvvPzv8A/wDvv/8A/wA0x4091/7/AP8ArnDHTLDT7T/o/jr/AN4ZQw3TSdSQwdfXf31w/wD+/wD7/wD/AO/P/wDfDTHDjf8A/wD/AH/jHHbb/wC48/Fw03/y+w40w/0x3102+/8Af+Pu3/8A77nn/wB/3/6zyw08/wD/APXvDX/vj3bDDY7Df/3vDDXZDF5T5RLNlB3ln33z7znDzPXf/wD7z3w1478//wD/ALX/AI43zww8Mwx0+7ww0+zzT1z/AP8A/wD/APs8ufvNMNMMO88P/v8A7jDDHTTz/wD/APveste8c3asN9/98MMOfc9/ev8A7zrfjDrLDDDDDDLDnDDDz/vTnDDDDD//AP8AM8NPMEFqNvf/AHXjTvbTz7rf3TD/AI5TZ6wwywwyw4www071/wCu8McONuf/AP8Az33z7cao02/w/wBUkM9EHXn+GXlOMMPM8NMMNMGEEFkGF3N/f8cdMMO/+/8A/wD/AO8X3CMuv/8A/vnj/P8A35+16www5w068+bQQSQRSQQQXSQff3ywww9+/wDP/wDLv9NxrjX/AO/70+255++Vz+R922z1/wBd/cEG01mEUkHmEn331vsMMtNfv/8Arz9BdX/3/wC44y/9/wAX0vfssPNdddf/ALFpBptN5hhRBBBB119tjDLDvbb3/rL9NxfHfPLDDj/v/LzjDLj7DHDrr7bZt599NdFRRhBBx9991PDDD/HH/wD73/faaw9/7yw0369xyyw60xyz6z04Z3fTdffffaYaQdWWWffX05yy70TbX9wQSa//AP8Af/PLXRHPLDLldbvfffXnrV9d599ttBJFBhDvBz5tPHHXnfH/AP8A+X2HvP8A/wB4yy039/6y1+y/z/3/AN/u13nXlnXm0kO82+cNPN+8+Ek3HM+/vtH0Xv8A/wD6y0w33/8A/wDrD/rn/wB8/wD/AP8ARWd6z4S397yz7W0UTc/+1++w4w99z8fQe/8A9vuc8vvf/fesOuMPf/8A/wD++Zw1ywy2zT8QYUURQQVff/2yww2/87w/aR68T+ac40974f56x71y1xUd008zWzfXdRySwSQVQYcffff++www5/8A8vHFetXGW203m3Pf+M9ec+s8e1+9+/8A/wCQdZz0U7864QVfdfYcw5w96+/4wwbV71SeWcYSRed3600838z/AP8A73/7plDlbVL919RBBV59d5lpfPDD33fXDBBX3/L3LT/z/wD/AP8AvrHfjD/DtxN7vzLfLvv9dVFJFFBJ1d99B/vLDT3/AE38Tf2/776ww19+6d6SQ7133797+/fbffTeedfYSQQQUbXTfcfT+4ww2x/2/UYww/8AucMPdVdevvfM+9PPf+ustW3HVHn3GGmEEEFGlX33nlOsMM99fcM1O8Mdf/8AfDXPv/8A/wDsMe9fM9f9OsOdF2EGGGEEEEE0033nWk8vMO+/tuMv0usONfu99Ou//wDBF/XRBDL3vT3/AI+y0wwQwQaQQRXXefeXZVwwz/8Av8+d8GMdsNP/ADrDLBPf/B/T3bLP/wDxxR92xwwx0xw5xRTTfbedWU00w13/AP8AjnjBDfvLDDf/AL2ww98z3z265X39988w5yx634ww43ffffRdUYQwyw3/APv8ev8ADv8A5/www/8A+8csNf8A/wD7zww8w9zy576x+053wx0+c5+a/W4wzww//wD/APH3XzHr/wDyyww/3+3xwwz59+y0271y92/wxy05z/QQYw7z984wwzww/wD9+v8A7fPfrDX3vLDz3nhvbdddJxZHPHnT/wBw2ST3+c83/wB//u9+PM8sP+/8tOMdNfPssNMP/wDHDXv3/wC0w/8APfd98uk2E90md+//AP8A/wD9+tuv+/3/APv/AP8A+8MMM9v+vc8Mf/8A7DDzv/8Azx330W/zxz73z2//AP8Abj/73PfvPrn7zX//AG+8xwwywx/w1/yw09/yw2w95+/YU8x38w07777/AM1WUFuUe9tOscMPPf8A/wD/APsM/v8Aj/zD/wD/AMMMPf8APfDzTz3zfzDLPTZ/JtzLn37Tjzj5BBBBBhR/zT7DH/8A/wDt/cNf/wD/AD2w0+//AMcNP28828PFduMMMMMNNMNMMUkEGUEEFX3sMMMNut/MPfcO+tu9f88OPf8AXdTtvX3/AH33w35yxz3wwx/6wbTfVXSXXVa/y3+7520w87w/64819/0xw87x+w1ww8+//wD/AL/f/wD/AM//APv71999d99tN9/L/wD/AMtMMMMuv/vcMtfv/wDbbDf7/P8A7y449/2//wDf/wD/AP8A/wD/AP8A/n3333330v8AL3/jTDDDDDzPrX/rDDrX/wD7yww//wDu8MMMMMMOPPv/AP8Az/2+8/8AX3X33lucMP8A7rjDDHbTDrX/AP5www0+/wC8MMNP/wDbvrDDDDDDDjD7jjTzj3TDDJLjDjDD3zjDDDTvLzDXv/PLDDDDX/8A64w28/8A+9/88M8MsMMOPMMMMMNMcMMMMc89O88MsMPO/wDDX/3/APzwxww5/wD8MMNPf/8A/wDy7/7710xwwwww0wxw3/7z1991/wC8csMNOP8ADX//AP8A/wD/AP7ww0873ww19/79/wD+tP8APDHrTrDLLbff/wD/AM//AP8A3/3/AOsecOMMsN8P9/8A/wD/AM8MMP8A/wCy0wx/88//AP8A/wD/AM//AP8A/wD/AP8A7/8Af/8A7/8A/wD/AP8A+x//AP8AX/3rDD3r/wD/AP8A/LDDnT//AIyw84w04w51/wD/AP37/wD/AP8A7D7/AP8Ac/8A/wD8+4x3/wC9/POsMNMPvPf/AP8A67w8/wD+c8sMMOMMMMPe/wD7z33/AP7/AP8A7DH/AN//AP8AnHH/AP8A/wDzXrDDDDDHD3//AP7zx09877zwwwwywww6089x0/6487097/8A+uvNdNNv/v8A/wA5zzzy4w4w4/8Af/8A/DjLD/8A77y67zz3ywwwxy/930+6w544w/w96w99/wAsNscdvd8cMOMdsOPf/wDrrDDjT/8A/wD9/wDLzDDDfjDDzjDr/wDw5xy08988/wD8v84LMee//ssP/wD3HLjX3DHHDLrz/wD/AP8A/LXHDDDTDHD/AP6xw09+wzwwx1/883fbUMvzx341/wCsOecNf/8AvLXDDHDDDD/fXPTDHD/Dv/DDDDLrDDPDDPD3D99954q+bLDP/fPDTv8A/wD/APT7XDjDb/PPDzznvLTnP/3/AKxzzzy4xz33wyw/feYBEDu16w//APstf9v/APf/AD3zzzzzyyxy92gACRVZWcRVq2en61XMBrRTeaYTDDOpz589749897xxy99YXU4yuiAszIC42JpXtiDrDvvnDLIaQQUQcf/aAAwDAQACAAMAAAAQUuaemaSuyMDaCGFnmicAD+kJkyAgjmVH105fyPVZ2C8rqjiH/S4LezQBBJqiua+GmCGn9lb3R8OYoPtgGeJNY3a3+KwhJGH/AHoQNaUlhxif2iQLDZfasiumn0yQ55XzSVSYfWvpzMbZqBN/K4HzyvuA1cVn5gqvk3AwvO4FetjfuJ7ti75xE0xSHJFUGZRLXRXcLYxuBkII2F9h6m85/RMK+UJPslUSOGQUTND02l5796/5XTSaPFRUPFRECHNBTXFJaQSfTeceeGLBTRdHJPEOFGsVgg/Dw35570IOOTwaXcZHfWRYZw2x2wLJabX69+zASLKFBGQCIGCFOFPOYY/CB96w2z+TBPS8EPBaKSSUaZPYy2DFVQa75w51+8+831/+xyQMLLDDKgG/RB913498w2409G5/+85x359/863UUTGXo17w928/8w00541wVRLFCO4GMXD/APt+3E08N/PdOWP+mdesdeMN+O1dPdOM9tNPMMO9cNs2ctW22kVwD7H3YN9e+Fnuf1t9+MFNcvWf+lkdH19l0Nv2Xvd3OG1c2k/dEGWEe0WXzQYA0ovsuePsesUsMv8A/fr7fjHDLRnRRN/1J5znv7fDLX/7bj5TXPXx1hoLhd9qjTPnzLZ1jf3D3P8A6797yxc127S2RWee+zyb9axxz6wwy82+7wVfZW5jTXp2w597V9X919yc5yWUZ7a985cr38X5aZbc+W7/ANN+Muu+u8flte1n5wf8SOuv/Ovu/OdOvdPc8MHNPMNef3+vf9UeEfOMt/NP9Vu20U+VGu1Hnidk0xtONvuHOsV0Eefkse9EvPVdlcW8cs/mVc8Nt31mFH/nU018eOf8WEGEEGBuuP8Aj9Tjd3Jv1Bhz/wBwW+fR7/wZS1R495/bwQ6USVXRQUXR2120+UQWQSDS/wDuMHt0VekWkGnmH0EEOs9Wmm+20c88MudttlEmFX0WF1n3+eNdVknEAEXutsc+tckum8/gvNsgCHFp0G3e8FvfctfONs00kklGUXEEGVvlG0nHEDlfctfNfeHU8uffWnH3k0ee/vMc8d/PsvPeOMNXn3Glm01EVGGXkEl3UEj+MuNutd8XP+8fOfuv+88P8eMNudcfv+N2lP3FHHXX1W1kn1kHmmFmWHGQk8v/AHNj3FbTbTX7bZzrjf8A7y2z93ddcUVbUfZSYeVcbdcWdZeVZVZfRfXAQ6W80U2beSeab26z9eb744333fcUYUWUaeTfVeReVUUbQQRUdYbdWdTQeR4V7w21w9cQxV0z8XZeY3/2U8ccTRTeVUVZRdfbRXZVXYScUfXfTRUQXIcTUw18S086w4257RQa490Vx9dTVRdeSdTaTbYSYbUffdVSQRebZfZUcfNWRU/364+6cT34/wCkul9/lFGs8Gk2EnEVGHH2nkl0Un3lVG021FW1VUnGTVGlv/tNN+dvsvcvuP8AhhNJxl9lNlxZhJtBd959Fh11RhBRRJ9pxxBRxBcFZV1Lh/r9FrvP3nzD/j/7pDV5NxBhJlxdBNttlRVVpR5pVZdxZJx5VRNQZh5FVN/PNr3FbFXTxhh3jJJNRZB59lNNxBNhtZFFhNt99JB9Z5lFVFhx8BhNld9D1bvvDpxhbtlBNRrtfVR959lFd1pNJdx1t1x9xF9V9JRRZpxJBA1lhBdNxtpp3R95Nfx5pJ/t7vjvBx1BxNVFttRhBxp5t1dBJJxhdFhBB9kB9Ztxt155nHhTpDjhptF5NJt5xRBZRBtNB95BFdZd5RZxt9JFJV951t/KR9hxRdRxV5Jxh5VJ5xJdpRphpNJhpNpR1NNBxJZtZtpJRBtZRNxNNFvPellZ91RxRlhxBpVh9dB5nZvvFtFhh99R99tBRtRp1R99plZlpJF5thxTP2RtltB9PZBjJhFjBBjlPv7pBB1VhBtD/v8A8z/34XZQeYWXQbdXWVSRQe/3FcRbffeR5Qab0W8TWVUdTRRXwUcUz5+486/732w1/aVadYdefYRVZQS82fXaTUXbURW5bd7VcXT30W4acZY4b71950y19+wy6zw5RfaWUVebZVYS86QQXVUYZdcR3YQW5VVXVaaaaQRe17108x226+w558470yUdQZWWdXVdcz4SeYZSUZXUafTedZdXVfWfVVcZZ3xw384+7736w46zwy8bTZfRQbeRZYzzXfTQbTWbZeSVWWVVaecca8T7eY99z8yx61zxy9222845bWWX9y3b3Ze86fQVeUdVXaZUwx1ZwTU8dbc3Y9bx4z2768/9204wXR92bU885S05cVXWwwZRQddfVx+Y+528eaTQcURZSWU82xwx99098XR2zyZYea7/AHXUXM1lHmf8cWEEUFm2nuWFHWVUF1lEn3X209vOEXWMse133UNVts8V1/0UXnmGHV2sMe2UuPvcM1M10UnkVV23EEEG3W1MctMuUF/E/wDfvvHDjX71Jll1hZN5h9PfRJp/NtrLPvXxh1d5HhzdN3ZFbLnRDDnf5zt//wC4868+5zyRQaRSZeVcTx/QfdcXXYU9X/1YeaX+w8RXwZVbdWR/xwSzT+0/dw1/123xfWedQebSXQ19cXYZa856yVf5eZfXYTdQQafUa2RbQUxxY/w4539++35215adbdcYVff+0Sfax/7QeXfdVZfcZf8AEMVc2UWM++MWVHOOPucccMuc+sv9XHFHGEFnU+eGWW0XV2mknXkv3n2Ge+NEm20Ne/ffNccsN/escPOcOsN8PE0kUHnnnE9+3HUFGXGlnkGcNvWGPmk2EFUHGuN/v9dM99d+8+NetPuc8e1XUE132WHP02lUEFl0GmnX31FEHFn8PMdV8/Vm/N/ud8/fetN88f8AvrXxVN5tNtJZ5DlBB1pVhVR5vZRRZtDBZX35lh9lZX5ttrxDjr37nPX7rHvbp9xNt1hRRl/dlRRtBNFBZ1RtnvlRJhj9nFXl7HvldtFVJhtHnPPrHnrntlB5VZh5ZV9PBRlJ1FBFldF9Zd/tNvj1vzdDNN9VJBTfp3bJPv7bL7bvf55dx9tZV5ZF9NpJlNRVBNtFZ1hRBRtFR9BPd/l/zvZnVFdxFxvdbxbt1dBN9F1V9x5dxxl9J1JJNdhJ9VdVlxVPPntphXr5ZxxVZxlL1V5RTrJJtVxpNBRpRRVRRF9NV9rftJ1NZhJFJTVpNt5HNptdFv8ARbw14V6UbXebcZWXTSRaTXdbbVZeTZYw5909VccXTeeYUQTSWSXWXSgcyUd8YbdZReZcV3VaVVXbbaWUXXfVUcXW100w+eRRTUTdQU58/wBdGGlOUlUUHEH0FNUt8eVMGMWlXHEWU3XXUlGHGkNcOu8nUkFn0kn/ANZvJhhNxhN7zZV/1nd1L5BFtV59hx1ph5BFZN55hlNh7X7DT/J1NdhFlNFxdxBxfbnTvZNlJdlpdNdD3HbrLzTxNtB9l5xZltZxBjLbHbTtVJ5BB39Df9NvNRnDJx1xhhtZh1H73DnDDD//AIfYQQTUYTfWVfdW50+/zwXTcb3QVSy2UUXVRXdSSTXQcVfaQ7z/ANd8t99d3Ul2XFmW10232kNMetv1GXUXUsmlUFU0X33zFlnX3k3323nevv8Ab/TvD3BBZ5hxt91ZxNxl3TLDHjBxZxh11N1tNZZJ5VRBZVt5x9V95pHzDjT3Dr9Blxhdt5VBhhN9Rv8A61706UUbedfQeebQQUecfeXTVQUccYZZTYW4y0yx7WfQSVdTaZZWUfVb/wD+fP8AdFFRtBR1t5VZt5hxRBhd1V9FddtJdJt1hX1NxZxF1Nd1ttRlZBpTn3PLT955pV1pt9ltBxpd5NBNBJx59dJ9BZ9BxNBhhBFBJRRhp59l1JxjTXrzjPBFp1ZBxB19tNJ5pNBl9tt1Rl1R5FhxBFBd9t9V11dJlJ199lZxDjDPXTf99tRZhFldV1pJhRJVx1txJBFpRtBJJZddV51B951ZtxBV5Zt1BLPj/DjR999dBR1BlxJJ95BNNBhBhx9NF9991xFhZNBBlBldxRRF5FBB993fTfLXBxR19JBBRthxhNdNd1hd9ZtBBBFVxhRRF9FhBJxFBJNFdx19Rp9zr2eu+lNJF59ppxNBBoBZ959d9t99Z1hlNJdhBRBFFd5BZBJBZx5BdBNNTzSWu6848Jh99tdFgIMkspBhZBZRh5VtFJ5lVddNZtJRRBVVN5tNlJl9xSCSCOea4Y8cw4AA8Q08sQgQkootNNd59pd51BJhttV9Zdd9B9ZV9JpBJxqW+u4IQgwU4kwcYQ0k4IUcsA0Uwc8JxBNdBd95Fd9VBB9Z51pNBNNBBpBfTuwEcgQIYAEkkcUoYAEUQ4YMAUAEVJV1p5Rt959BBV59tJF1x995JNxxhNt0DAU48wwIoEYM0ooEsIUAQ48009V5hNlt5dp9ZBd51d1V51xl915ZxBRNZsCp09RwAYEQswAEc8Q4UAUAY8MdxBtphdpZ1N5NVp9x95V1ppB159BR5gEgr0xp9QYwIIMcMc48MUQ88MUYdpFlcWaLHDJmqOTRWGNHj9BFAHPFtpMMMDUdxd5cUIc4UYAdVDtJDbEYuMpUBkc482cj1KgOe+Ecc1PHPfDD/8QAKREAAgEDAgcBAQEAAwEAAAAAAAERAhAhEiADEzAxQEFQUQRhUnBxkP/aAAgBAgEBPwDhdBpMfCpOWJNWqTbGo2MZImUsTK2TelwVdipWRSJCRUsDWyj9E5Kuw9lBWPdJwurCHQmPh/g6KjS/Yx2VqWVOT2QQI1DshMpYhwVX7jwoRSVVD2JwPJA93C7eFCHRSzlI5Ry2aGh0shkECexCE4NY6mybMpHZ7IIYkQQabYHSQyhQvKhGlGik5dJy6R8JM5SOWcs5ZyzlnLOWKiB0HLZymcpnKYuEzlmk0mk0oawPZT9RjUjpgi1P1qmNklPQj51Y7U/Wrd6dsYIZ26SWNkePF8xBpe1uCpzenamJjYnJVf0QNXjsaSp+rexoagRFmkNEEHZj72gi0GDEDjY3gkkkb28R52U9B4Q9s3kmyHZEkjv/AJaP3qvo8VZ2U7oENex2ajpJbGos1diTY1AhIVEmnweLsp2olGBu7ZKH2JUEowYMNXklWSJSeRtGoklEicFXckkTaVpfTgjZWpKqUr09N2q7LYj1uXcq77vZD6KWLIhDtKSNU5NQ3K2NJj4aZyinoQQQQJDc4HdLA1+XiyRF0nA0aRks9EEKLyOoVRqG/Ap6KgxZwYaH3smakSO2LJwJk2nBI6vMp3f5aSSSTBgwYtgwRsiy7jJIhjUeZT0ENZFS2aRqBISk0mm/oj2VdxFQ3gp7jESh+ZT0ankkl3klksm0sn4tPRefoU7oGoEex2i0XSO5pGvi07pkbkXcbzZxA3gTglQSkSahMljfxaejJJJNpwSSjBglE7Y+BT0UiLJEO8ECQkRZJDssofn09FMbE4FUkKq7ckicC2Ikknz6fsrpRujZGDT8SncrMREjgSRgbxbVLJJNRqZLH8OndJ6st62RZJuyRA/Pp6KIIEpNNoUEYtCPR6OwmRJ2tjz6eihkmom0k/Jp+zT1o2wJZIbcGgiHHwqd6gxE21MnBkQ0NCZKgVUGo1Esl/Dp6D2SySRuz2RdqLQRjzqelFoEpNNkRgaQogQrSxuTBgnzqekhicCqg1P5dPSnHz6fDiyUjUWXkJGkaSHHolRtp7b4v2RghjpasjAnBJNsn/pgknrtQyBL2QvY0oE4ZqG5ER+EMS3U9t6G5sySWamT4qRGCBD7lXcTgk/0nBSpY0QjCQqoJ3rorwIvBBFoxZITJE7TsTGylwPGOmrwQyGQQyLx1m8QaRqBCcDeZPRPkrtd2hmSSSTJLE9sYIZFkhUqbI1GrG+PIXa7EQNQaTSRg7of+CvFpJG7T1FkSHA4JyPw12vAlFnJkyNEdaLYEkJGlGCRi8hdvChIggaIRCMHsgklCcEkk+Sup2GpFT+mmyGySSfiLpSrNicEk2XQff4C7dNdCMCJHZ9sD+AulF4wabJEGBuRXyZIIYlD+RIxEicrZBDIIdpwKqCRuWPvugQ/iJ3TJNXokbtO/TiSMWk9j+YjuRZdxdx97TiCbzZWgVI0QhrymtyRDIY1b0JwN5F0IYkJEZESS/MRNkSiUahNSajUxubSNkWSIFTJphSyIESjUTad0DXkvqaTHYqa9HoTNQ6mz/N2IslIqc2RJKjzYZpZBA42S+hFotBBKJgbdsWlkvy5NTNTNTJe6BJmlkCUsdIsDaSJQ7T8SHugggWGSKrA6rt2fx+yMkEDStAnBqQ6iX81DizY2SP6jdm5/wDolBH/AEnJJNlT/poX6aV+mmn9FTR+i4fC91C4XB/5C4PB/RcL+f2zR/P+iX86OZ/Ijn/yr0P+n+ddkf08fh8RLSojyZNSNaNaNaNZrNbNZqHWx1Mlks11C4hrRqVptOybT0P/xAArEQACAgECBQUAAgIDAAAAAAAAAQIRAwRQEBIhMVETFCAwQSJAMlJhcKD/2gAIAQMBAT8A1y6L6ZRjLuLHXYS4ZsTk7RPE4DF2Mbp2Zao07qZLM+xmz/x5TDNRXUUk10NVOlQmxsbMGRxdEv5IydHRjjUUaqNdTTpN9RcJK0Sg13Ek0LEmem76GNdCSMH+aI9h8GjUroaZdCJQ4iRRX4cprvz7pY1LuS0l9mPSzRjxNdzIjGv59CLvIaiP6WzDJ8pnnzM0kVLuS0kH1Mulp9CuV0QzuqJyt2iHSCszZJSbX4YO5F9OFomk0JpMiyHVmONksXgwYqlzMXYooSZOKZD+Jz0RlYvjrXc6+K+2k+56cF1oWKMXaJwUkS0z/GQxZIE8U7ujTR5e4iSMqfMyjBi5nzMl2M2OnzIx9COVJHrolkbfQeRncjdGmhfVmNUK2zHE/BHSiUqXUeWJPMj1U0LI66EdRLscrl3Yoyi7TI5mukz1Y+TJJylb+uuFFfCvostkscZdWj0MfgjFRVIfVUSwJqj2q8ntUv09qvJ7WPk9rHyLBBEVFKqIyUVSRHPX4R1cV+EddHwe+h4PfQ8EtXb6D1dqmPNbPUPUZ6siE3zKyEk+3CjlQ/uv4X8K41/chlcTFmtjk+D+aKK4r4V9a+V8bHxsv5L5RZhVshjvqemh/Oy/gi/gx/Svqf8AQSNP3Irpwe6rsaWNysXB7rjg5JGHGoorg910cLxpiXF7roZXjoXF7roW6Fxe66XJyIxaiUn1LLHuqbI5JR7Mjq8kT30vA95e8veXvL3l7y95e8veXvL3l7y95e8veXvL3l7y95e8veXvL3l7y95e8veXvL3l7y95f/rnsssssv8A6Por5WWy34Lfg5peByl4Oefg58hzZC8jOXKcmUWPJ5McJR7v+zRRRRRRRRRFJshijfUWOH4hY4r8Hji+6JaTHL/gnov9WPS5F2JYpx7or519X//EAEYQAAIBAgQCBgYHBwMEAgIDAAECAwARBBIhMRNBECAiMlFhFDBCUnGRBSMzQFBTgSQ0Q2BicqEVY5JUc4KxRKIloDVFgP/aAAgBAQABPwIisJpgovh6/fejGh5U2GB2apsDM7XuGpsLInejNWymjvQ+FbUTrUd+GRlNid6PevXOib1bTWhtTCwUU29KafUVmsKU3UUH7VqTIeQp0Ftt6GlYhO3pUI112p2pt6ykWuN6Iym1ItKNdqfXlXMU29AigxFOx5V3t6ZOHqKNjeooxk1psg0tVsotaoh3cp23FHv1IuZDUugtzqxteuJc0KtZbH9KtdqVvqstXtWHi04gatlN6es2uu1L2TQfWi2l6icrtVy61e4F+VOeLMTypmCjLTdhNDrSnelNeR6AK+NA61zq9Zeg0u9EaUda5149B7tXrlW9c63NCjVuiHTCxf2/c70yRv3kBpvo/DtsCvwpvok7pL86l+j8SPZB+FNDKnejb5Us7KuWs5oOdaJutCwOtW1p7kirkcqvSpxDWXtWrYCvavWH21qWowSanj7V62SmYkUY1dRyNSKcieQpwGIPlUW5oHlW9cK+vOgDreibVbNasmp8BVt6K3j3rVRpTFrrSC7a0AXkI8KjGUDxpgTVzap0+sttQBC1ltJ5URYXo3tSmha1Gk+rwgZbanWnlDW5V2X1q10vWtMDkvzoCszMulhUY1y1IciEmsNYvrTQKVF6l1bboSjv0XqwNAUB1DQrWwo0KtpQ36CNa5dAq9cui1+hPsY/7R93vV700EL96Naf6Mwz7XWm+hz7EvzqTBYhR3L/AAoxuveRhUZr2r1mN60tRazaUXN6OtIfGoWYvlU6VOwHxrDam9Taxk86XuWpgbaVtTmjpWWyV4VGOdIganhOWuBa2anis/Z2pr2y03Z7NJf9KkXtUO98KQ/WGtSSy6edYZmKdo1epJiDUs3FO1qvYUT2q3WjppQ2rlXtVK+awA0HRG2hBFEgLYUbgi1NetjUVsxJqLVyL/Csa1kVPGoYhHbzp21p2zN0LoOi/QKNA1fXotpVqGlX6eVCr0ejnQrlQ26B0ewvw9SXVTYm1YiZeDZGuxIGlWoEG9jt9wvV770YIW3jFN9HQHa6030X7snzpvo/ELsAabDzrvG1Bcq3a9713tKMeUb1ho9mvrWIf60jwrC6RU+vZqQ5eytNoKvrUm1Z2zVe4save1JSAhbiku9EANTKM1ZCKm3NJoQKPfprjkKVba0t1h+JqNMsQpjpT6sKcWJprcMUV7YogU2tDu9HOh5iivZzCk2NL5iit20rajvWTJF5mlBQg35UCDMuc31rETImmhNAm2hoDerCuVKatWlqtRWvjWWtqPcq3jQXta9JNcqG1Wq2le1XOrdFrGj0RRmSRUHM0fU5Q24BrEoohFlA7YrZqwesTN4ufUBrsy+7v6y9Xq9EK3eUGjhsO38MU30fC3NhS4Ip3JPnT/R02YtdWvSRSRpbLVjm2NOnavUmxoLYVYSJauH2zQIphWHBC0Nq0rnQtfWn02rELdrV3WpdHvTNzobVGuYimvYCm2tUiEGnvlvzp91HlQAzd6mGVjl5V51soooS2YUoGatLU7DLlG1LHtWS5rQGnYldqCEMKk0tTtrQHapzmctber2GlA9HKgulHRelR2qNA1vXlXPp8qI0q+lugGiazeAq7Vmf40HHMWq+mh6cJGxlEg2U0fUyQ8S3aII8KxETLEv1hPbFGLRrux0qCS8KRQjW2ppJf2ZpH9k2+NRSF7hkysOrxMxKxakaE+FQrlknW99R90vV605gUYYm3jFHBYdvYt+tf6dF7DMK/wBMsbiS/wAaP0bLfRltTYGcDug0sciAXjIq5t3TSm9bVfWj2tqkGXemGl+dZvq61tUKg7nWltTXBuD2abVdK7EgAIqcAMF5U5Oa/hTasDRGZb/pRWy0o2pQtiBQ0Y1yo1ELyAigbFjV+1TEcLwqN8zDyqQ9ryotelNGiat4Ua5VsKO1DoBt0Cr1m1q9Lq1Ppp0E1fSjp0b0Dat6NxQ13opbag+XcUWF6wkWSIA/Gj6rEgsiAe+KbUHzrCxCCILz50zZIxG1/tb/AKUobM7tu23w6vATzHwNRIIpp7bAA0J48isWtm6MWL4b/wAhVwWKjdd+tiHMcDMve5UhzRq3iPuN6v0aeFWHhWRa4QB0NSQcUamj9G3/AIg+Vf6c1rCRflR+jn/MWo8E0Z3U1w3HhajH2CLb1JDIB2RQilSQNY1IjcW+VrfCnDeB+XQxOQCjtbWlBFtD8qsw9g/KuFJ+W3yoxPfuN8q4Uo2Qn9KjikDXyEfpRw0ltBXAJHdtU0DDRcxHwrCR/WMrIbW5ipYmU86Kkcq5dO3UO9Cr9F6v0aVa9ZWBFlJ/Smhlcg8JvlQweIP8Fq/03En2QP1pfoqXm6Ch9Ej2pvkKH0ZhxuXasZhIIsIWRLMDvfo59HOjoaveuz4Uvd9cQGXKRpXDcaCU2pVy8yfj0kZgR40rmCyODb3qU3GJl5EaVgoAsIZhqwqC/DeO/dYi9TrKIwDICC45VAuTETgntXvUDcGaWOQ+1eoC0nFfley1FiC0a9nM/O1LIHQvtbfypZ4zpcjnrWJ+zTzcVD+7p8Op6R+0yKe4pt8OiJi0s4Pstp1IX4sWe1tbdWRxGmao34iZrW+4Xq/Rp4Cuz7orTwq/lV6vV6zVmq9ZqzVmq/lWnhVk9wfKskf5a/KuFD+UvyrgQfkr8q9Fw/5K16JhvyhXoeF/KFehYX8uvQsL+VXoOF/Kr0LC/lCvQ8L+Stei4b8la4GHH8FPlXDiG0a/KuyPZHyq9Zqv1cUM2Dl+F+gdIFWsa7NN3Ut93ROGD5m5plDMpPsm9PGHNzcHxFIiob7k8zUIKBlI9omsLDwQ1+8TSqDLiV5GsQrvFHEV7d7A1JJ2Yg2jK+tQDLh0B6RUCqxxN/ae1B3jXh5buNFPjWHTh4iZb3JAJrES5XEefLzJFNLIY4lGjNzPhWHcyDtizKdagYJhSx2zmo5OISpUqwpMQryZbHyPjRIUXJtRIXU7U6CRbH41EqpHZTcX367HKjN4CsNJxsMknM+oM37QsSrm94+H3JZEckKwJHqSwXcgeul1w8n9p6TvQ6M1WNROTKFPjR39czBULHYUjZ41fxHrcoBJ8eiVOIvK+4r479SCIxmQn22v0WIxIfkVymmUrPxVTNcWNOsrMkuUXX2aDlu7HlPnUGHfids9hG7I8aXtYicjkuWmBliijjBvH2iayNiLmUWFuytDPiYDmFgq/M0sqjCob3JTQVA/DwUYH2h2FRoYsQqXvnS5+NDFFppI1jvkoTGRrQgHxJqN8+YEWZTr04tsuEfz0qECDCrm050kiS3yG9qVgxYe6bGlcMWA3XfqEXUi9qS+HIQ6o2x864n7QYrbLe9Bw0rx+7RxAWZo2GwrjR8LPfSkkWS9uW/SdBc7CosRHK2Vd/OpyRPhgOba0enfas65stxfwrEaYWU/000ZbDZBvlFRQ8N2kYKultKBDC6m49RL9o90zX0SoriIBtxp06HY39UdY2HlXKjtQNKa0tWgPQiZJ4773o7+pV29Okj9kLTm2KjubDKaDZsWAp0CXqaThQs9r2qGXPAXcZSveqfEJLg5cnwrSHDgnZVq4yhuR9RiJDEq5RcsaGwPj9xAA2+NX6VijQ3VdaSCNCSBUcQjfNcnSwvyqONYy5A75uaw0PAiK8ybmkB9JmbkQOnFp2lLdos1kWnDyYpFewAW9qiQ4bEyBRnRhypI5FdnBHbNyKw+nEv3i9z1JTIrxsvc9qpG41kQHe5Y091xPFC3BWxqBCodm7zteliJ+kmlPdUaedRxH0uUn7MbfGv/AJp/7fTiBeHyzC/wpxxZYeCQMt9akdpcesQfubtWsMyDPmV/GkkD4xmzdhE+dRrIsebif1WqHMmEuO8QWqVI/Rbx34o1JrFcT0fKAMrWAqXicN8zBVA5VPm9Fw8V7F9zStZnSEX108BSzOXaAayA7+AoZo8QiFywYHpgkMue4tlbLUUlxOznsq9qYycIz5rW1y+VTy8ONXA3YVLLknjjA3OpqWXhm1r+PlU/ZgY1G6QzZF7jHf1Q2NN2TV6tVq8BVqyGv/lRi99fVMGSYyoubMLEUqFu1KBc6W8KQAYx7C3YFYhyzKmTs5xqaljsFQm/El7VYoqcRlXbs3t8ax37q3xFYz7COMbswFYy+QRp3nNqRzHglLDtbAVE7l2SQAMvh1Z+1iFQb5f/AHWg06uwudqxFzkFiUO9qwsbRIyt43HqJJVhXM217UsjRcQytft2t0qwdbrt0gg3sdt+viSBPhb+/UiK/eG1ABRZRb7gNNhXDT09jl3j1rgoPE8taaJGtddqtcW5bUi5BbMTXK3KuAt17THLtTrnQqedSIJAPLao0EY0pI1RnYbsbk1l+u4h5Cw6cro7GO1m115UIGvkY/V58586mR5LqGAQ71iVLRAKPaFSJxBbY73FLGqqRvffzpo1Rct2YHZKMf18A56sfL1S1L3m6F26N62q5qHXFKaPq/OmUOmU7VwC2jysy0YE4TRqLX500DzfbOMo2AoxP6REzMXAqX95gPK5rEEZYsrCwekVEuc9yd2vQIOx6WfINiT5VA8kmIkcKC23wrDhmeZ2PazZaiv6TiNdARXFIxMyLqzEAVGzCUxuQTa4NYiZopIlUd7esXIqwyprfLTTsmHuqHsqNa3r0knElR3AbV7Vr69bGKH4aHa5NHh5os6jOw0piBqTaiVXcjWsIwTBDUXuTaopRKDoRbogw/BlkbPcP04lnWNeG1iWtQw0vt4hr+VIAEsGzW59GM76f0oWrcA+P3JdcZMfBQPukV2Yyn/x+FL2sTK/u9geqXepdJ5B/UaYWoEUDrXOuXQtvS1t9yIDCzC4oIoFggtXBi9wVYDYW6V3rCCzYj++jD2yyyFM29LG0cjZdQ296WFRO03NqsfSQ1tMlqlU8RJQM2XcVLmxMTRhCoPM1M2bAfIUDfUVExETJl7ZJrEI6IJr/XFhTRmHJJmvIW7VHp23NSssk0Ta8NSbtTyA4uKT+GoOtYp3KCTJ2ToopmXKE0aS1qhhEcKqQCRz6VlVpWjG69MwzzwR+eY1zoSCCLEXOoYkUshSNM6t3blqkR8WiuosGUqb1sAPCpsSEVsqsSPKnYILm/6VFIZJJdOyugrzqOYyYjLbsFbipMVlchYyyr3m8K3HRI4ijLnlUs6RZQblm2UVdpo1aNsnxqdZEhL8UnLrt1owfSJyRuRb7nMfq8o9s5a0QeSisMPqATu3a9Uu9YrTFy/3UdatboOh6Y0C4xLUfu4rDn67EL/XfrnUa9Gl72F+hlDWvyN+o8SSEFrnyrlbl4dBswsdRSoqd0W6nCQSmQd49I1xsn9KAdGJjzwmyXY2FYg5cLLb3bVrHCMovlXaoZOKlyuVgbEVipVaPhi+rC+lcdTmNmAHO1QyW4nYftPfatDcb1wlOMIFwFj5VOHycFEOU940rMbDhFRVxe19axOsQX3nAoqJGkyaPtmrDH9mXy0rFfuklcvvEn7xAPiaxJPByDeQ5atbTw9UtY7TGy/HovalGnRy6F/fF+NH12Zc2XMM3h6kb0x4atMD2llt8fvTRycZnjZe1verT276D9KF7do3NcqdS1rOV+FRoI1sPiT0v3Gve1uVYSFoUbN7RvVhmLcz0zRcSZOxt7XQ0Ssb3YX3saRQi5V2rEdrhxe83+PvOLzLwplF8ja/Ci4ecyfw4h/mkcSLmHqD0CvpEft8lc+hK59FqiFp1+NH1W406j4W+KEoa3M+qbDxtJmYefqkkWTMFPdNj+ANCjEnXXwNJDHGbqNfujyCPLfmbdY2kgYR+NQRMkjNsrDbz9Qegb19J/vzfAVzoLrXPpvS/vQ+PquVYUmxXktqkdhjoh7JFSyZO6LtWEEnCzSG+Y3qN+KmYeNqJCi5ItWwvyoEMLg368cglBK8jauJ+0cK3s3v6jFStFEpXctavRnScle6zZuniH0rhW0yX6izSMSFh2Nt6zTX+zX5/c2ZUF2NhXHi96kcSIGXb18b5zJ/S1ulpFVlVjq21MwRbsbClYOoYG4PUxIvwR/uVmHEK89+jMticwq4y5uW9I4ZVbkagdVicX9s6VE+eFZD4VhZXbOX9oZlqKR3jSNO/wC0TyqN+JGDz59U9Ar6V0xd/FaUa9W1R/vAJ9Wx4EhbLdWHKheedHyFVXxp8s85VCynZ/hUb3V9uxoCKw3Zwi/C9YReOLt3V0Ao64EDzsfhesKVGImRO57PVZsoua46b6/KsLn4HZXc3uajB9NkLG5yCswYkA7b1LMsJQHdutiRnmw6/wBV6kkWMZm5m3QJg6kopa1FnONuEIbh7VHxbfWW6YdTM39dSycNAbXubU7BNTt0B1MjR+0vQSBvRlUMi75j0RuJEzDx6Y8TxMSY8ult6mmMTKqpmZqRxIgYc+pI4jTMfG1NJla2Rz50jcaO5TTletlPwrC/usfw6gc+ktHbQLepGPpkCg6G9+hJFdmCnu79Pj5VG3ERW8ajcSrceNq418RwrfrTyCK1768hWEYPxmG3ErCt+zFyeZrC/uqE89ayiTFMT/DAAqa5liW19b1GnDQL0uwQXNMZvTIrr5gUGyYpnkFrppWHP105OlyLVDH+0TZh2A2lRr9tF52FRaRJG0ZLKLVhltE2nbuahFoEB8KjiWPb4VGgjvl9o3qNcof+89cV9LD9oQ/00DpV+kdCfvPrCbC52FRQrIDLINXN6yjJkGg8qWMLEI+VrUiiNQq7CiuV8iyG175BVsmLjsLXQ9WSYRkCxJPhUnEeJy/ZUDu1F2YUHlTM0eJcqhYsotUS8Gcqx+0F/wBanHGxsSg3tXPqGwFztRY+kxynud0VipFYwquoD3apH4rGNNh32rDzo0kj91co0qIl8VLIRawAHS7ZI2fwFQLkgW+51NTqWj03U5qnkExhQX1fWjCjPmtr8awqj6yT3m/x0SRrKtm8b0VX02MAAZVJoxo7ZiL1hf3dfO5rnbnRAIIOxoxEYqJc/sHWj9XHzYjaoeIkSrwv80M3tACpMSkcgQ316MQM3BXxkqQ8WORYzrfLUZIcxNbsi4tTaRv8DWH/AHWL+3pBMvaicW8xSgtjH7XsDanyRYiFuVjUUjq15QbNqvlWDAXiljYs23SDwpJ9CSx7NRRvHGqZ9B5VCjLGY1bLZzrUY4N8yMWv3qPFabOosMtrnlQwyqLKxAPeHjXBjv3aReHGE8K4al82t6dM6jWxGxq0vNl/QUB4m/TKbYyFuQBv0EDNe2vRzJ9aK+lftov7ay1ajuKO9WsvRF+8fP1kil4WUbmhooHl0yuRZF77f4qOMRCw35mj2scv9KdYi4INeXQyq4swvRhXslewRzFa216gi1u7Fz/itCLEXFZVtlyi1KAososKSCJDcJr1J+1w4vfbX4Ueh0zyRNfuG/REODEiMResmXFp2ib3NqZcy21/SvR4s17G/wAaMfYCo2SooBHbtE2FqxCASxSjvZgOgqMwbmOkkKLmsQVkUItizHoZMzRm/cN64RDlo3y33FJHlZnZszHnWIOXDSfC1KuVFHgOlcPluA5CE3sKCKLWG2laHl0EA7qPuNs+IceCWqM5o1P3H6V+0i+HRz6D3qPxrWof3r5+uklWIDNz6EGbFyufZ7I6MP2jJL7x0+7yQpKQWvceFejxjl/nqOgkWzUsYVs1yW8T1eFeQOWJtsOsqqvdUDqPKEPaBt41K4myImva1o7/AHiHvTP/AF1D9ivz+4/S/wDBPxq1AAmjeuetaXsKvUA/ah+vrpouKB4qb0me5L28gKw7Dj4heea9Yl7Jw078mgpU4aBBy9fPnBUgkClbOit4j7pcZrc+qKinZp3jZbHl6hSGXMDpSMHTMNqjljlNka5qKTiZ9O61qOgudKV1fum9Tw8ZVGYrY39d6OcxBb6vNmsOf3L6WH1cXxNXob9AvehVqh/eh6uSXhyxx5b56JFwCd6LWdV5tUkuRkW1y5rEEjDyEU0TQu0ya5ksawsQVBITdjtfqOwjQudhQklIzGLs/GlYOLr1IJDIZb+y1h1j3SKAsoHh6iZmWSEA95qnZuNCiHdta59ZXY/SEi+yq9AqBzJxc3svak//AJOYf0U00avkLjN4UzBBdjpW2/SMrdseG9RzJKbL/mlkRzZTtXEb0rJ7G1QycWIPa3S37Q7RA5UG/iaOWOEqNAFqIgYJUXVsnKsGkUKB7/WEaigxdpbkgXJsPGgboHk1VB86Vg2MuuoMetSTpEVDbmtxcff/AKW/d4/7qWtqvQ3vV+db0umK9XIP2mD9alIOLgHhvRfPjEt3RcX86kF8ZB5XrFfuzjmamkAwTG+62qPSFB/T1J4jMEX2c3aoOfT2TN2QmgpXCLiHB7HL41EGiwdz3rXou3AIMbZstRvkhhG7FawN+CzEd56neTtlGyqmnxrOxjWYeGopGaSYOp+qva1cWSSdoV0173gKEj34O8t7X8vGmmb0Vz/Evl/WpHZcKW9rLStaFC2+WnkDhe1lQ7msLKWBQ30F7+PUWTi8RV7LIbVKrGfDqz31Jp1VMVCeWtGcl1YfZXsTTsTjokB7NrnqMWFgq3JrDDtzsdy9r0Xd8zI3dNstYMscPdjzqNwk0xIORzdTUOuOeQrYMml6aFXWYnSVXvU95cGh8wTWIk4iZYtbasaxE14iItWbwouFwxfllqOP9jEexy1JATHAq6W0JHhTRkMjRAdnS3jQj+tzu/1h5LWD/dF+J6GF1IGhNMHYIOH21I7VGGM37OppQEQKOVAC97CsLEjQ8QjViT0ABdgBUkMcpBYailAVQo2H3/6UF8Iv91C1Zr/Dp5Vao3WTEhl29W6Bxry2IoQIEy2vRjUrltoPCuDHlta3nSxKpvufE00EZv2Rc86GgA8OqI1lxExbkQKaFGXKRpbShEfbkLDwrfenTJxe2cqJpUS5IUXyrgEk9vsE32oCwsNqjjEageBpEVL29o3NJHaeSU7nb4UseuvKQsK3FqjiWM31J5X5VIkQ1a9vCkvJiJLdgAAVa3SVeLEPIi5g4/zSxnMJJNX/APVMquLML1YWy208KMKaWGUjmKAPN79LlhPGL2Q/+6w0YMRYkm7GuFGDcLXATa7ZfdrbToZFbdR0bUABsBXBTw87dLMS/DQ2PM+FKqxgkD9awv7qnnr1nOWN28BWHGXCxjy+8RTZzLfTIbUro/dYH4UJPrZQxsqWqOVJQxU6LUciyXy8q40dr5x1vpH9zH91HQGl2oUDRHRhly4gfdsLqjv4v1MRczhOT2o7+oLBRc7VGMzcV/8AxHhWH1R5Pfa/rJAGia/hWCN8Io5jf1ewv4Vhx9XxDvJrWJfJhm8ToKVciKvgOsRmBB2NbCw29WN6wrFxLmOzkUjiRbrt0vilSXKVOW9s1FwJQnMi9CT9oMXgt64hON4XLLc9PKhPHa97VH2omspbNJc/Co4yMRxI4gq2taoAHxEzS2zX2qawiypYZm1NMRFFI2YFyOVQw5cG7PuR8qjN4kP9PVmXOqjwa9Mkbd5FP6U2Cwzfw7fCm+i4z3JCPjT/AEVKNVZWpsNiI+9Ea1HI0n74Puu4tUSCKMIOXUxJImDj+EL1vqNvUN9bPk9hNT8axL5MOx5nQUq5EVfAesl+xe3umsEDndrdgqOrmGXNfs+PWnv6NJl3y1AQcNGb+zX7xOrfwo/8mjIg9sUmJR0uA3yriMe7Ef19RhTfDKx86jcSpmXargC99KzDLmuLeNI6v3TejIBMIvaIvRYBgp3barjNlvrTK4zPxbAC9rVhYrwZmLdo3tQUKLAWHQKdS8DwZTnLXvXCMjh5RsLAVwsr5oiBcWN6EciTNJo+YWoX59KRXbNKcx8OQrDgrDbzNX51BlkaZ9CC+lZRa1hagirsoqRc6Fb2vQGVQPDqvovVzVp4Ck/fB6wZoZjmN0kO/h67ENY4rxYAAVGLRIP6R12YRoXOwF6wn7uHO7nNTfW4kJ7Mep+PW8Oq8mR41982okAEnYUCGUMNj1ZPsX/tNRRh8Akbc1qCEwqVzEjl0EgWuakOWJ28BWGdpMMjv3j0cCL3KTDootqfjTBUichQLLWETJhYxztehIrqWvoKZ7Rl9xa9GW2H4tuW1RzXyCRSGbTpxhJVIk7zNU78KJ28BRzQ4BQguctRm8McEPh2m8Kw6Zp5EOsUbaCsOpd5M32at2RVrYt/+3SEjEO7oTJsoHhRjkWVZSM58PChC+bi5rS0Y2kFpH08FrYWHL10MXBQqPG/qcT+6ufDXrp+9j4+slccZIGGkgoFodJO0vJqFjsb9BhN7rK4rJN+d/irT/mL/wAad5kKDsHMbV9f4R/Orz+4nzqbESQpmaIW+NQu8iZmAsdrUCCT5b1nf0y123tl5WqwzZrC/jQ3rBapI3jIenbpW8smJic9nlUTyxr6MFBdBvUQWJuFe8jDMTWIn4Cg2zE8qRs6K3iOpjI2ZUZD2lbSlBCgMbnpzSk6RgeZNOrel4fOb71ijbDSi+uWobLhoQT7IqWRYULttQNwD49OKcJhZPhRkHoWVL5slNK8eBjf2jaonz4ubXs5RasSL42LwUZj5Vi5DwHyrdSvepMwRQQBp1HviFZV7lt/GllPDVFUmS1reFLDN6KcNa193r6zg8EJY2y5uVSxEwBE9m1ZXkdC4CBTe3S8Z4iyJbMPGlj5yHM3+KWyiw2rbbShptW2g++yDNEV8eun74Pj6ybXGYcVI/DS+5OwpMMFcPmOfn03tvWdfeX50zq2MjGYWVb1LMqROwYEgaVFiXeAHJncDtVLIno3EZcy+FAqqD2RUDIJZyWGr1G4lGcf202JVZLFTlBsWqKQtheIfA1gxbCp/Vr0Y1TkjkHsNWIOciFd21PwrEfZgezm7XwrDsBipLmyAHLUMgGImZ+yH1W9YdicU7vpxB2ajcP9IOeSpYedMplxrKxsAmlAWFhtVwTbqR4lJPLW3S1wvZFzTiRsXBmNtDtTxjgOqjUrXDlkVXsRwgMo8TWKbjxAKjaNdtKEsZ7p6cRHbDysxux0HlUI+o4R5dk0sLWRZCCibAVk+v4n9NjRjzYqTNms1gLVJHngMQ000pM9u3b9Ol0z6E6c/wALO3XT98HrMoJBtr40v1sxf2V0Xo08egqGFmFcGL8taEEQYnIKeJXjK2C352opwsK6xj2fnUsbHBKijXSiqtoy3qGLIZOyNW0qBTHDlO9zTYdHJvexNyK4DZDHxPq/81ErRoEOw2PQQGUqdjUcax7fM9BRTuoNqIDbgGmRXHaW9BVFrACniDkNqrDmKEC82dviaACiwHUEaA3Ci/UKE4lJL6KpHXxf2GX3mApvq8Xf2JND8fxM9xvhWHk42HV+fPrL++L6ydisVl7z6ClXIgQcuh4o5O+t69Gj5Zl+BrgsO7O/61km5TD9Vq0/vx/KvrxyjNZ5vyfk1cVhvC9ekLzRx/416TF73+K48X5grix/mL86zL7w+dfr0W6lupb1p0FztQ1F+jEfwTyEgvWf0iQZQciNe/j05hmy313/ABDka+jP3dx/V1o/3lfWd7F/2L62w90fKsie4vyrgxflrXo8Xuf5r0eLwI/WvR195/8AlXA/3ZK4J/Okrg/7slejpzLn/wAq9Hj/AKvnXAT+r516On9Xzr0ePwPzqUtAY0hTfU0kiyglOWnQCGGnUaZVnSLW70zqneNq40Vic4qJ+JCrkWvy6MV+7nwJFRC0KjoNiLEXFNJHHYE28BUBLYjEG5y3FqkM2cCJVt4moQePOSbnQX/EcJHwsPbxN+tGbzxnz9ZYXvz6oqB2OLmvt6zEMUw7sN7Uj/UK7H2bk0SFUsdhrQN1Dcuri7lFjBsWo5Dh0aQ2sN6SJYgbc9TUUiyFrcqwkiJh9WHeNA3Fx0O4jQsayOMRDNJuxtbw6MUbYZrAXbSrWAHgOjEtxMPJl7q7muXl02XNmIF6w7Dhu5Pecmo8RG4uTl1tY1DMl5jrq/hSPnzaEfGoUMcQVjc+P4qn26fH7i8iR2zHU7CsHYmZvazbUz8PGa3tk2FYO/CLH2nJqKfh4x2a+VqlllidZSO9oEozSw2RtXkHZ8jS54pVRnzB/wD304YPFLJE51PaFIc2KkI7oGWsRn4khV+0CFUU7hvo8oT9Za1vOp2t9GIB7QArGPlwf9wsKxZPAjjj3ewqKMxQqh5dLSSenRxL3SLmsT9vCo3IIrG5fRuEDdtNKxGI0GXWLQMajIzTyHu3tWDjyRtmWxzX6ZI+KB2rWN6nRhwbyM31lKgS9r/rWI1aEcs9c+iWHLhZArm2XauAskQuW1XxpFyIEHLoaJHa7XpIYkFgg/WuGmbNkF/xLfrJ9rF9xCLxM9u1USP6XIVfLcmkQJfck7k1ADHGEI2pcMokzXvY3Ap41kKlvZNxTRhpUk5rRUFlY+z0yRLJa9wRsRSKEXKtWF72F6sL3sL0IYwT2aWBF3u3hflTQqVUA5cndNZJPzT8ul4g7BrlSNLivR48trfrSxpH3V/WmRXTIRpSYdEtubbX9Uy5kZfEWpBljUHcD8XT2/7j1hpND9xFYfWdv/L+Wban49a/1sJ+4isDmMrt7P8ALNxnZeY6y6PAPuSqqLZRYVv9x4qcTh5u1/I5NvpTL70fW/iw+stSOHv4jcdTbU1GPSRxH7nsrUi8L6yPS24rTx39SCDsb9ZHVywU902NYiB3vYG+fMpH8jyC/wBJxnwTrfxIfj6xuK80xEhUR6gVlMgWZNHI+dHE5SFKHPzHTijbCS23tWEN8JGbcql+xf4VLhuMIrsRlHToedSSsMRFGg31bpknjiNna1X7ObcWvWB/d2/vPUeWOO2dgL9GFIVsRcgfWVHLxJnUd1QNaxM7CURR7jVq4vEssO59rwqJ2xPYLHKneI51CT9Yl75Gt/IZH1mbyt1kfPJF8fWSOXOXKyx+03jRZUjzeyBWHBycRu8+vTjNMJJpesOzpAqmJrePRHIzzSgjsrtTzNEGz21HZtUn1WCZQ3bAuawyLFBdLnS5HnSvI2LciLtZdiaTie3l+AoU92DKPtGk2I5VKZMPDHBe2hN6CejQoyt4XU86xpthWHnUmuFjVGBfS1PxDNCGygZr6UyrxZeKhYN3bCoEDq4kY9ltr1hI1tI1r9vSogQ8rHm3+KMR4shMWe5uDeoU4SW8TeoYuAlr31veoO67e+1/5DPWjAWWO3j62X6yVIBt3m6mL/dT59MaFDIT7TXqeLioBzBvWJXjTxou+5PlSIVZmZrk+FNG3G4iMBcWN+pjUVocxHaGgrgKGBJZrbXrIufPufOgqg3CgUQDby6GjRjdl1rQaD+SJGyyxjk1x1k+0i+PrYAc0rnct1MXciJbaF9ameVB9XHnr0iW2uGNCSZh9h82oPMf4P8A9qHFWR34Wrf1Vml/JH/KuJJ+QfnXEf8AIPzriP8AktXFb8l6xU3YUZGHa50Zv9p64jfkvXEb8l64p/JeuL/tSVxf9qT5Vxf9qSuL/tSfKuL/ALUlcQ/lSVxT+S9cVuULUWm/KHz/AJCnF3g8n6y/bR/H75igxaAjUB9aO/3V5Ai335WFLJmbKylW3sfxhhe3l1lUrJGPBvuauGd05r9yuM2W+vh120Um16SdGG+U+BrTx6MUdES7DMdctRRQMMt3v/UaxAEMK8Ne1mFqLZpoCOYN/wAYY2tfx638SP8Au+58RZH4kJzMujDxFLIjC4b43pWDqGXY9HETNlzjN4dEjZY3N9QKgJOHQsdba1I4OGkZW2WodIIx/T1MTI7qrR3Eat3vGnzW7JsfOpmmXDuTlGm4pe4t97U88cTBGOp8qzr6bmVWP1dtqRi17oV+NYofW4Y39u1YkftGH19rpb0jidnJk86tP76D9KnR2IXiZnPICosOkVju/j0GXI5DgjwNquZZ0YIQq+0edTKzBCmrI17U8Rdw8cbxt/j8YxX2Fx7w63txf3fcuVYfC8CRmz3qRVnnyWFl1Y0FCiyiwqVskLsN7ViIlTC6aONQed6RymDDnU5b1iIigjIvnk0apltFFHyuFNYhREs4UjK4Gg5VsAPLpdeIhW9r1iVkXCMC6kfCkBCAMcxrF/YhfeYCudaeFf8Az2/7fRiQcsZAvlcGp0ZyjLujX6oUBmPM9DcfN2clvOv2nxjq053kX5Vkf875CuFfeWQ/rSxqhuL/AKn8XkXMlutzj/u+5yPw4y9RJw47HvHVuggEWOxpYkU31PxNcEZSuY5DyoQoNdSfE0QGFmFxXCTIVC2B6siCSModj0SRiQLfkb9OUZ89u1a1/wCRjt1r3Kf3fc5IxKoBJFjf+WGF0YeVYeTiQK36Hqj2Pj+EE2FzSSpISFa5H8h4NcsJH9R6vJfj+ESSB442HcL61hwXAmdfrNR+nVkxJjxQTKMg3P48BYW6p7g+Irn61pFWVYzueq7iNCxrhNIPrWP9q8qX6nGcIXyOt/UYc5jMf9zpixMUzlEOtYolRHY2u46Li9r69BIG5tXpEV9Wt8RTuqXzMBpWFlVMGosSdTa1GVjgkY999KhV4MXwmYlCOzesPLNIrBNxckmo34kYbx6GjRzdlufx5JM0skftKeqGzQ38+geq3BpoEgBeSZ38Beo8Mph1a7e8DtUk8kQyFLyHukVEzNEpcWbpnQyQ2G41pJkk52b3TVtb86bEMxHCta9vjUsgiW9rk7CoX4kQYrY+FNi4lm4evmakkEbIp9o0J7uvYORjYNUjyGQpDa6i5vWC/ds3vMT0TX4EmXe1KjPikeGwVI7G4rGXzwLJaxbW1KFTFqsXdy9qsPrjsQaw7Nea0ZYGQ2NcMzvMxNj3AKmSWeDJkAPxp2DxNZDny21FKh9ECDfJauEGgVG0sBSR5WzFmc+dQxrCoVaw3df/ALh6J5ZFlVEW/wCPDT6XfzHVHc/Wjv6tmyIW3tX1UqLJKF/U1BbiyMgtFUF3dpj7Wi/DqBgWIB1G9S8O15QP1p8/oshBcJcZb1FwEUcMrUhtiY3YHIF0+NBwdr/KhDeDhND2veqXDcXhAtoosaZbyxWFlTWikokkyZbSc/CoYuDCI73t1Hs2NiB2CE0qKosFAoxRt7NABVsosKsL3tr/ACPw/wBraXy6q939aO/rOFFe/DW9YgkqsS7vp+lAWAA2HUaFGN+0p/pNCCNWvbMfE9AVRsoH6erXtY6X+lbevuM2W/a8Oi1F1F+0OzvSOsgJU3t+Mc+qO7+tHf1pU+lBrdnJofueGiaMy5vabrK6yLdDcUZY1kEZbtHl1H4unDCn41xGGjR/I0rh1up6Cv8A+RRv9up1478EEiy5tKhjV41Odz+tYZYghLkZwTe9Qa8R+TNp+Mc+r/D/AF+6YcnKY3PbU9V5BGUB9o26OI3pnC9nJfpkxKRycPKzN5VxJfZgP61KzAoqWzN40jNm4cls1rgjn0u+SVFOzUGUmwZb/GrtPdU0TYtWEXIJUHsvWJhUJLL7WhHl0OHI7DBfiK4c1/3jT4VwfGRz+tSxxx2yreVtFuajQRxhBy6LH0xTbTJa9PDmfOGZWtbSkQRrYURHe7ZL+dGWMfxFrjxe/RxCW0DH9PxZvtB8OqR9XR3+5TtIiAxi+utMUeHjMpU/5pYZiyu02o9mpHyAaXJNgKjlWS/JhupqSTJYBSznYCnfj4iDSxB2rEYho2bhpmCavUTcXHNIO7w+nhScdnDKL+VKzcQxvYm17isRxXnRYhrH2jXEWXERZdxe48Ohoi0mbisF8BU0K8aBSWNzzNLFEhuqAGuDGTe1vgaw65ZJ9+9UueSUIIyUU6+dXmPsoP1oXtra/l0xxkNxH7//AKp2kU2SLN53q+LPsotBJj3pT+lcEc3c/rXBj8L/ABNcKP3Fqw90fL8YPVPcP3RvrZwvsx6n49EgOeNwM2XlRVjikn4ZAAsfE0pYTu/DZs2gqODLMZTueXhSpIjSWykO17moYjEZOdz08ORWfI4sxvrSRhCTcsx3Jpo8zZgxVttKWECTiFiz2tfpZAzKxGq7fyQeqe433NmyIzeAqFcsI8T2j/LGJYqisOTDq+waG33JlzKVOxpRZAL3t/LEi51t59WNyU0GnjQ2/CbgGxIv1YcQszulrFf5CX7Ol2H4QzqjKp3Y2FPhs+IBLaXzV5mt9ujfUUIlExl9oi346xst+r/DPwpdvulum3SSBuwFNioV9u/w608nBiz2v0hlYXBvTusds3M2qSdY2ykE+NuVK6vmt7JtU0okxcGW5tXEfjqmXKCL1jTcJDewbUmsMXaPg7Zd2rDFp8sZ+yQ6+dYX7E+Tm1TzCCPORegbgEc/xxxeJx5VBc4dL+HUP2RoetZlRczHSg8s+IZO5YXWlnHdk7D+dZ1zhMwudukwStviW+VejHniJa9H/wB2T50qozMomcldxeuCvi//ACrgJ4H51wI/dp1giQu6raoXilF4wPlS4mJ5GjvZgefTJcvHHe2a96ucLiglzwm3vyrHSjgAAHVqkM0UXEaQf22rEPaFgAc5XS1Qpd4+FJbKupttRH7WOM1wq3X40VYmXLlKyeNQiSGPh8O+vevSxtx+K2Xu2FuVZPr+Jf2bWqSLOysGysKRcl9bk7k0irGLKLCo41jBC7E3q1xYi/48BZQOo3c9c4k9IDZM6jbWgZP9R7Vh2KlcJEzEXtUMCxgMR9Z1oAPSMQw961TS5Jo0zWG7VLNxDEkLdot/ip2fjwIjWudax/aSOO3eeooysjO1gWtoKw0ayRvmW+aQ1Ax+sS9wjWB6GRZAM3KliUG+pPnWKUyz4dPO9GEF8zMW8AeX8nN3f19fw/rhJzy2pvrcSE9iPU/HrxR8MNrfM16EX17yaHMKMd51kvstrUUb0lJBawW1SRLKUzezSoE2LfAmuANg7hfdFKoRcqiw6m+PJ9xPuUc2eaWPL3OdZz6Xw/ZyXNTGWNWkzplHK1RC0S3a58fxo7L/AHevFQKy58w1LXv9ygucRiW87dcsoIBNidqllWFbt+g8aSTMzKVKsNbdSXIVymXJ8DUrpHEWjnckedIS0SE7kdA3rDa8V/eeotcViD4WFSxrKgDns31rD2+tC9wN2fxrMCIwDz+6EhRc7eojkEqZ12qaThQs/hQ1F+njIJxDftkXqR1iQu5sKuLXuLUcVCHy5v16Cyr3mAqGZA851N30sKR84uAR8amUPi8OPC7UYQ+JWY+yNq7cU5kkIIkNr+HQwutgxXzFejIe88jfFqWKNdkFSR8R1Btw11+J6iIsItfnfU1xYVJ7a3q+HJuELH4VxG9nDv8A+qFyouLH8Z9pP7vujoHjKnY1A5twn+0X/PUSaOUkI1yu9HQXOgo4uIxSZDqBUbej4KPTMx2FPKMRg1toXcKR1HUf6hEeeU1iwHESObIza1hVju6FQxQ6N41Hw1lnR7C7c/CsLcQWOoBIHwrhR8TOUGasH9hf3mJ6GjvKkgaxXSpA5ylPZN7eNSCSaylMi3udeu65ho7L8K9FU96WU/8AlQw8I9i/xoADYAfpV/xsd9P1+6Ygzx4hZFP1XhU68WURjQjUt4UiZFy3J+PRib8BrUVUSSNh9bx5QBTOpiiTtEAjPpUi+knsxlVta50qRXWWJ0TMEFrUuGtroDnzAdR42M8ci27OhvRAIsQCKACiygD4UQDuAelVVBZRYfyUvfT4H7ozBULHYa1hweHnPeftHq3/AJTPUT7RfgfumK+wt4kD+WT1I/tB/b90IDLZhcffPjWdAbZhc/ikbiRAw6TPGJuFft+FZlz5L9ocuodupH9r/wCH4djCVwrZTY3ArEkphWsddKeFJcvEF7VFJF6QzcPKvdVrafiO40oEHY3tRdO0AwzAbVhiFwasdgL1DNfDGV9qw5Zogz7nWoCoeed7Z77Vh4mzmdt2FX7Vuk9SP7Vv7furOqd5gKDK4upB9SzBVLHYUDmAI2PR5Vxos+TiLm8KkkWO2bmbUWAcLfU7VJiAgbKCxHhSNM+VsiKvx16cy+8vzoiISFhimF+Q1qGUviCgcugGpK26MZ9nGP6xWJjMsRVd700qqwD6XFSuJk4UWtzy2H4VLIIoy5pjlF/KsKS2GUsdTUriKMuehiwHZFzUk31TqezJtasrYfDBUXMwrDBVQtnXOw1oKXKhF7VrO1ejpbLdsnu0cNHrpp4UoyqB4UUQm5UUIVGxYDwvSoq7deP7V/h68EMMym46uIl4MDPz5VFCqKC3ac7k13cWLaBlN6inWYkAEHz9RmEoPEOnJAKw094LENdF3tWHn4oAcZH8PGoO3NNL4tlFPGHkxFoyXLdkisSO3hgffpzfHQgcgb1izbD5R7bWrbTw06GjWQWYXr0eAfwVoiynh2U8tKASBLFgPM8648P5q1x4j4t/41xSdoZD8dKvMf4S/wDka+v/ANoVlm/OH6LUcfDzdosSb6/fLgbsPnSsri6m46sykoOzmF9RWHziM5xYX7N/ChLGUDZtDtUs3DNgjOdzao5FmTMh0o7ViOKcM2fKPIU0Q4bXuxy86Ry0McUO9u03hUwkaFI3VhlPaahIh2bomh4uS2jKb3q4OxvRVT7I9dF9pJ+nr0/ZSUa+Qm6tWhFwepjFaUxxJv3qGwqTJHeZ9gtqjSNBdBa9YebjFh56eYpJNJ5S1lGi0mIlkizmXVOQG9YhuJGka7y/+ul24a5iDbypZFZM6sCtLm/00+JvWRSoVhsNKgj4cap4VhPs3bxc06LItmFxSRJH3FtRUN3hfrFVbvKD8aCqNlUfpV/v+1OkeISxNxflSwRDaMVhNIWH9Z6J5eBCZLXtTyhIlkOxtUzGOMso1qECOItn4l9b1EZXw8jNub5aXDt6M2cdvL2R4VbN20ZgxFjpWCARJF/r6HXOhU9XYXrvx9k7jSsNhzCzEtvyoTRF8mfWpcQIpMpG40pXbiBZFAvtboWZzjMvsbeqj7z+ukDGJgh7VYXjcPLOPhelhjnYvlsmwA50q5QANh08UelyGzNYZRYUrlvYYfGsZrCF95gKnuuHky72rgrlS2hUaEUIm9C4du1aliEeGMSjl869GfsMJcrBMu1CLXtSyHpOGhJvltfex3q2lhp4UPPohj4UWS99SfwnEFlw8hU2IFMEaFWl1AF6wZUwab3uR4UN6wvcf/uHoxEZlgZRvUgknyWQqiWuDzqTiXBjsfFTzqFCucsAMx7o5UFCCyiwp5LNlUXfwrJzkbN/6rC/YlveYnomvkCroXNqha8KXOv/AL6My6doa7VNNwVBy5iTa1YggYdz5VEz+jIqJrl3NKxfD5vaK12eEcp7Zy6U0QadZD7I2oqWnVuSj1kft+vmJsI17z/+qACqANh0k5VLHkL1hhaG53ftHoZQ1ri9tR+IEhQSdhWGkkfES8Ta1wPCp+NJLkjbIoXMTUTcSFGO5HQuIjeUxA9oVMpaB1G9qYyKI7x548tmXwqJSZnkKlQRaxrz8Kwn7vfxJPWJsCfCsPrFxD3n1rEtlhIG7aClXIgXwHQ8oknUC4tXdxERfsIo7NYft8c+81QQn0V3bl3PKpVZ0jYd5bGpeJPGUCZL8zS90ctKjXhxhfD18XtevynjZ+WW3UxP2QjG7m1bafgvxozRLvItJKkndv8AG3VJVe8wHxqKXil7DRTYHxrixg6uPhWGYvEXY7sbdLoJEKnnSx2xrjiv3BU/EKZIxqefhSLKiqv1dh0TIongYLZi/RsL/wDquMfyZKdppEKrFlvzJpFyIq+A6zi8bDxFYWRPRlUsAy73pTx5838NNvM9N+HjHk9nRT5V/mrC97b1y+4Hfpi2b4/cweJjG8Ihb9fv8syw2zXN/ClOZQw2PWlUS4mNG1XKTauGlrZBap5eDDmA12UUkmfDrJluSNhUssuRfq8hZgL36fRomm4hS7VhbcHzZ2tTGGG5OVSfnWHmVcOi9ot5CmHEiI1XMKhj9HxAjD5lZb9FhmzW7W1+k3t2bX86SKz52bM//r1hRG3QH9OpGgk9IB2ZrVhnLw67qcv3I9MXdPx+5hFUsR7Rufv7NmxOaNcxi7LDxvWGRo+JowT2VbollWGPM3jboBBOjA9CdvFyt7gy9BznEEtCzAaLWDLcEDL2RfW9Taz4df6r1Lxcn1Qu5NYaRpIQzd69qkh4jg8RwPAUmHjjN1XXzNZVzXyi/j0MX9hQfiajiyuZHN3P+PuxjkDvw2AD7+VRoI0yj7kemHuH49aWcxtlWF3+FcfxhlH6Vx192T/jXHTwf/jXpEXvH/jXpEPv/wCK48P5i1xovzU+dcWP8xfnWdPfX51p4j59P6iv1++jesELo7n23qKUTBio2bLTzMLuv2Smx86xpkaGRRF2V1zGuCZkUyvcEbLSRRxdxQOiCaJQ+Z7MXJpZldrLm+NuiNBGuVdt6texttThm7j5f0qNBFGEGw/Dz0w9w/HrYjNngsbdvovVz02HgPlWVfdX5VkT3F+VcKL8tflXAh/LWuBD+XXAh9yuBF+WK4EX5YrgRe5XAi9yuDF7grgRe5/msREiiPKNS/jXP1DMEUs2wqGTixZ8tvDryvwomci+UVi3YYVWQ2uwokZ8t9fCp8QISFylmOthSsHUMNj0u+Qad46Co1miThKqkD271HBMiGG4C5r5+ZrG5kWONAeFblRJnULlIj5k86AAFlFh06eA/FTt0x9z9etP9ph/7+maQxoCBdibCllm9vDG/ka4kv8A05/5VmxFtIk/5VHxLfWZb/09dmyoW8BSnMgbxHUl1xcC+F26k6s2HcJ3jWCSSOIrIOel+pPIJJxF/DTV6JUFVuBfasw4nD9q16adBt2zewC0cRdQI1vIfZPKo34kSv4joxUrQwZ0A351iuJ6NKSVyZdqkiLYTcu1gRTI68OWQ/WNIL+QqXOMVmfsoVy3XWkkSwVAxA8ujlpvUaEMXc3c/wCPuIlaU2htlG7mskv53zWkYsWVhZl6UkzyyLbROfTpe19fwQ7dMXc/U9Z9cZCvgC3TPrJAv9d/Uu6xoWbalmDNlKspO2asR+6yfCoh9Sn9telMZFCxfVk2zHp3x5/pj9QzZULeFAIImawysLmspC4aVgTlGtQ9rFyy+zYAVhIOHJK5GpbSoocuKxD5e9sawn7qnl0ModCjbGvR7gK8hZBypRlUKOVHWr/dJVLwuoNiRUUYhiWNeVce00iEaJb9ajU9qR9Gb/AqPEhy11KgC9zzpJgXClWW+1+dYXVZX96Q0s7A4kv3Y9qjfNh1kb3bmsNEc3pDbuKxOcmOJNM+9RRCJMoN/wAC5dMX2f6nrJ2sVK3JRl6ZFaTGRqj5cq3q0y57tn07NQ4QGLNITxm9rwqMNiS3EJyp2dOdXaCA5jmttUkk8WUHK2c2+FSzyDEmFdyNK45iYpJ2m9m3tVnmRl4wXK2mnKvpANw49ezm1p29IkjCXyqblqxX7rJUpIwZ4bC4XWoYAqoxJaw08qMiBrXufAdEXaxM7/Bepx29K4Rj7PJuiAy8Y5s2t735dPo8V+7+l/vrNkRmOwFQOZYVcixPTE6jESSONHbstWIZ+GVjQsWG4pipTNnUtp2fLwq74oAcMxpfvGhBkFllcLfYUcLEb76+dRqViCNbQWoQqNAz28L08YYLYkFdjX13vR/KgCLktmP4JF9kP162E+wLe8xPSJ0TGSZzyAFLPmYZY3I8abj5yFyhfE8qijkw91A4ik3vzpl4iZSCL0YcxUtITl2rhH0wy8sthTRlscj27Kpv51iFLoiga56xevBXxfoIDAgi4NKiKuUKLV6NH/VbwzUqhe6oHwq1iWrCfYZveYn7200aGzOAa9Ih/NWuPF7/APiuOh0AcnyWuKeUMlZpeWHP/KlaW/1ioi/GpcTDCBmffa1ekx8HiLrytQmkMojKBD471dppOCezk1a3OsUZz2bKIybUI8truxt0O2WNm8BUA/Zo1PhSqE7ot+Gw/Yr1TqpHjUfpEMaxiFWt/VXFxH/Tf/ahLJbtYd/0ri2N/R5L/wBtcc/ky/KuMfyJflXGb8iSuJL/ANOf+VZ5vyP/ALVmn/JX/lWaf8pP+VXxHuR/OpDKcVEuVLjXev2jwir9o8YqtP70Xyq0/vx/KuHK2hnt/atLg4h3sznzNKoRQqiyj7viZTDGCveJt1CAdwDWUe6PlQrCA3mmPtvUsmSJ2vsKQOMCZmke41Wo04tpZRqdl5Co0L4pWW3tEXFHD6aP282a5oI5kDyFbrtYUI1Epkt2jTosi2agLDcn49DKGUqdjWwt+HQ6Qp9y4a8Tie1a33J3WNczG1LOpOqst9iw67Ox+kY0B7IGtcdOPwdc3jR7IzHYUJExYZFzLbY1iV4mIw8d/auauMVLobxLv5msObwDyJHUMRZiTI9vAcqjwyRrbLf400SMpUqLGpBGyZXK5fjTSwkEGQfpSSIMTIVVrZQFsK4rcoJKzTHaEfq1fX+EYq035qfotcJj3pm/TSkQIuUX/X8Qi+wT4fgnEz/SoU7LoPjUwzQuD4VFKrZUJ+sy3IoOrSFAe0u9Lis8joEuQbL51E/ES9rcrVJH6RxJCTZbhAKW/DHvWqJXZpJOzfMayB4FFnMua50qXDgp2N77E0MODJnIyeSGnw98vD7JXnQi4cSRxPky+W9RoI4wnhzp89vqwCfOv2rwhoLiCe3IFH9NcAc5JT/5V6PH4N/yr0eL3P8ANcKMfw1+VDTYCr/inPoj+yT4feJpMllXWRtqGGW31nbbxqAmzI/eQ26bdfDiLiHEO3bYmwoa/CkyRzSFx282mnKoA3EldlsWbT4VhYODmZu+x1qFeHGAd9zSpJGWyMmUm+ooZr3LUoCjT+Q+fQn2SfD7pxPr+Fbdb9Quf9XCnbJp0IPr5jy0p5G46RxWPNzU07JfhqCF3qa+GVJbkyFtdd6kMkE8ZzZnk9mshjxEXbLM183UxLZcO1tzoKRQgAsNBb+Sz0DuL8PunF9Jl+q0ePVb86fElBbhES8hUTM0YLrlbmOj6w42VowpsAO1S5rdoD9KZQ4sdqgUpjGy6A3uKjjk7KMmgbMWvvTw8SeN27qcvOuFfFcYnZbCsv1pfysOpL28RFH4ds+vhlWeLiJt+OnoHdX4fdBHFFnkAt41Ddrytu23kOgVhu0JH95/VxgnEzOR/SOty1oEEXBuOvzrCjJxo/dk/HT0ch8Pukv1jrDy7zfDpkbhwu3gKgXJAg8vXghhcHQ9Eg9ImMRvkTvfGoIOBO4UnhkXFSTiORYwuaRuVGZ2l4AXJJufIUkbI/fZlI59E0PFClTZ0N1rEzZsMyd2RuzalXKoXwFqi/e8R+n46ejl90C/WM/j0zxmWLIPH1rNkRm8Beo7mJC3eIrFtlwsh8rVEuWCNfBejC6wl/fYnoSELinn5sLDypyE+ks+pGSxtypWDC4N640oxqxFLRtseiYB8Vh0bYXamYKMzbVh1NnkYayG/V4iGUxX7YF/xo/dHYRoXOwpGEiBhsetFKsyll2Bt0TSrAmZvG3UlmWEdq5PgKDBgCDuL08uQ5VTO29qlkE2HjC/xTapi7uIYWym1yaaR5cOiSL2hJ2vhXPown7onQRdbXI+FIgjHZ/Xz6BG7TCSS3Z7oHSYwzXbtW2B6zpk+kYpR7YIP40fujhXUxk96oTpwjo61cG4B1HSzBFLHalxH1mR0yXHZ86+j/3YnxamXiY3vHskACsd2jAni9Z8x7I08ekEXxDtbTTWoM65ZChylMtvClaUSSFYScx0J0pMOAva7176cqaNjKXR8pIsdKWNUB5k7k9PAZb8OYopN7WpYgNSzMfM9QsFUsxsBUcqTJmQ3FM6xrdjYUJYzGZA3ZG9RyyNIA0WVSLg3ornRl8RWFfNh48x7W1RyWYxymz8vOnmb/U0jB7FrGsRpwT4SD8aO/3R8O5xPEX3r5r8qmHEYRjvb5vAVHAkRJW9/Ppl1khXkTep7EofbB0FRxvHhxGGAYc6WB43Z0e5I1zCoBx8TnkOYqvyPUMaFsxQX9bN25oofZPaalRULZQBenzHHwj2ApasT2cYo9l8pNfKhCx+0mY+Q0rBIogvlGbMaKh9GAPxrCIueaSw1ewqX6yeKMeyczetOgNhc+FSSTjDvJZUsNudDVQfL8LO/wB0ZwiljUalRdu+2/UdFkHaFLGqd0a+PQKgbLPKbdh3tfrwzpPmyX7NPKEmSPm1Tvw8O7Dekm4eBWWQk6VJMI4RJbe1cRBJkvrSTt6K88g22+FRvNiAXU8NPZ86ifiRhuex6P8A+wH/AGukRDMxc5y2mtCGJTcIB0BVW5UWvv0RwyxgqHGU63pEWMWX1YdTIyX7QFzTYjayPqbajoxP7pL/AG0vcX4D8LO/3T7SX+lP/fqbj/S3J8T86hLNAjP3rdXEXjA7f2hym9BI4AxGnjQGfHZm0GXs3rGF+Ha6WzDTnUkEhgVWswU3KrU+ecKEjIRWB1rFjNh3tv5Uq8bBZG7N1tSjKoUcqiUqHvzckdEsbF0kjtnXx51eU+wq/rf1pICknYUCGUMNQaeWOM2ZgD1FUD6SkbxjFFFxaxuHYKNdKw7l0NzfK1r+NYr90l/tpfs1+H4WfuirlFvU+jRZr2O98vLrYuFpwgFq8qZVcWYXoRxjZB9xOlydhV7i42PUlzT5oY/gzVgBbD5fdcioECNJLN3y258Kwt/Rx4XNq4n7Twv6M3RkHGEvO1q9GXUB3Ce6DSoFFlFhWMP7My+02gFAWUDwH4Ud6P4a+c4tUVyo4d64Pa1mkPl1joL1iJ19Fky5r28KjBEKDnlqSNzA+eX2dgKh/d4/7R1FiaO+WXQm+1YRDwb8Q94mwp4klIzi9qEaKbqtq4f7SZP6bdLB2OkmUfCuDfvTSH9aWCJTcLr4nqCUNiHi5qL9YkDc2rMfTst+zw6EitK8Y3TegwK5uVYabjxZrWN7VPOyPlTL2d79DSZZUTLo3P8AkhdcbKfdUL0YtmGHYJ320FRyfs0T2LXGtqedRGxFzp4VhQRhY8xubX6cWf2OT4Ujq1gpvpUsyGN0W7MQdhULMUQcMhQNz0Th/SYXv2AwAHj69xlx8T++pXpjYSC6+Nqhl4vE5ZWy1xnkxIEZ7CmxpkWbEyI+wTSsEc0jsdwoWpI3XFPIikiSO2njWHX9kVNjlsagDRxhDEb+N6VTHNIzQFiTowoGRjqgUfH8fJAtc77dckKLkgDzpXR+6wPw6MLqskh9tzRNgT4VHx3kMpjA5Lc7CsH+6r5XFYm/osnwpRlVR4CjE0GMVw5IkfboeBJWvJdvKgAosBYdRo88iEnRTe3qhWGzGIkm92NuhcTEy3v7WWi4Eoj9oi9Yj7TD/wB9c6w03CWRJCS4fQVBA6R2MjC+tqjhUNLGym2bMPOkiaK4jZcvgRTRGTv5f0FIgjUKPxeG6yyRt43Hq7dE4/aMMP6qGtJPnxLxW7KjeoJ+LE8ltATaopQ+GEzdkGjJLl42ye75dEqZ1AyK/wDdQAGygfCpWyQu3gKhXJh418ulI1jvlG5v0mO84kY6L3R64WOt9KbERrw9dH50MVGRpfNe2XnTTfsryWsRcW86hWf0VTmC2W4Ft6kkeTDjhR3aRflXALrCio0eQ3JNIMuMYsbkpoal1xUC+F26Od7a/jeNL5FyEjXUilHGgSVyUcDeuFLiVzuwt7NDQDpdxHGXbYUiPiInnk0J1TypJDiQqqbDLdiKMjt9HFr9q29Yp2WKEKdWYVjGcY6Lh6tap8+GKLGSxk7OvjUacLFZF/L1+NTo+IxSLG1sg7TeFBQuJyQH2O1UBEMbghmmYm4tUOGdMOImksOdhXozvGkbkBU2tzqSKaUZXkTJ5DqYlWkwzqo1oSPbXDyVnkO0JH9x67yJHbOwF+pcXtfXogZmxs59nl03sCTsKaRoxHiib5z3fLlUJkWVo5Dfs5hSPw8G0ahjJry2oYNCsGY6RjalhC4p5vHalQKGHJjehh7Ll4r5PdoAKoUbDoaQJvvyFRocxkfvH/H49iO1li5udfhXw26ksfFhZL2vQUiHLuctqwsPAgC27XOoUy4cI4+Ir0aO6ntdnbWsq589u1a16Mas6Od12qwzFrammhRiTqCd7GkVUWyCw9YTZSTypGEiK42IriWnWK3eF+nhLiuK7earWGbPho2O9qE8Rm4Wft+FO6xi7VxBJj8OV2ymsTjJI2JiAyrvesMu7eVqmn4NhkLk+FRvxI1cc60IIOxrgLaJfYj5UV+sz87W9RYA3tr6tJQ8kiW7hqSXhywrbRzapOJYcO1786m4qwkmTXYBRSpw0VBy/EI+3M8vLur94WRHNlYG3hTuI1u1Syq+DkZdORvXEOHwsKhczW2pXEuORl24N+gnKpPgKwothY/MXruR6chUyRLhVKW4u4I3qVhHLC7aqBuPGoIv2pp7WT2b1Jg27YR1yPuG5Ui5I1TwFG9uza/nUUfCiCX9W8gjy5vaNqR1lXMhuOpI4ijZzsKBuAfHqxC2MxH6ViO9B/3KNToJZI0MmXnbmag/iLe4VrC9XfiWC9nmfw9FyIF+74j7ID3mArFoImjaMZGvY28KldRiIixGSx186y8d5Av2T2uaniLlGS3ZBGtYbCiAAliXtboYZo2HiKwpzYWPyFujKvuigqr3VA+4SoXUWtdWvrWHi4EOTzv0BwXZQdV36MWfqMp9ogUsqM2VT8POp2zylAxuuwHj1FjKzu9xZqKhtx0TYYyS5w1tLUiBFyjoRs4JHj+OQymR5gdkawrEOeJAit3m1qXEJH/UfBaGoB6WLCQ58SEHJQKXujtZvPodQ6ZTSRquveJ5tXCj9xetkeORmisVbUqaBkJ1UKPj9yNlFzsKBDAEbGsOWMuIufb0qH97xJ8wOjEwcYLscvsnnQRzJGSgRY9gDRh+uMsbZWO+lKH9p7/pTMqi7Gwr0qAfxPlXpkXIOf0rPIdofmavP7sYrLL+aB8FrhE7yua4EfgT8TQVV7ot+K5hnCe0RemlyzxxW79YqWRHhVPaNSPkOUC7nYVJM3ocjbODlrFO0WFup7WgoVhGVjP/AFPf9KCRtjEyp9SNL+JoKq91QOpp4D7nzrFzHDwZ1FzewoaqD5UCCLggimcIMxrCyk4cfVux1oRucRxW7Ondv0SNkjZvAVml9BYvpJY1EScMrc8lK5f6MOdu21wKhmAgjUKxcC1rUkMiXYSWZtW0qOMR3tudSfHrEA6EXqw90fL8bgTh46e57wuL1dpsazREZUXLmNPG6SpKv1jbVwZCVkMv1q/IU8UsTo8N3PtedLh2eJUl7KjXfc0+G4i2eUnwrhzOuV3AHPLuaMUZABQaVlWwGUWG33Xfai6hC9+yKBBAPI61C98bMyqW5VieI00CWFyb2qSV+FiFJBK9m486ZBh1igju1nztTzhkbhhmNvCoFyYeNfLpZc6Mp5iskroEcrl5251wE2BbL7t9KWONDdUA/kV0STvqDQAUWAsPuXO3OiQouTYVx4b24q/OuNF+Yvzr0tPSjFcZct81NiP26Oz/AFeTWvSIve/xXpC8ldv/ABoG4Bt0Sk2VF3c5awueCfEJlY+FRK3ofAVTmbvFuVI0yoqcHtAWuTpUMfCz3NyzXorxMce2VyJyoRII8mW6nekjSPuC1X/l6GYTqWHJrU8if6mjZtAlNI7lREml+1mGlOoA7EMbHwNfW/8ATR/Oo+IcbM4iW47O+1DjemFuGt8njpX7T4RD9auba79MicQDUgjUEUiiNbDqYfV538Xt/J/ES9s6/P1skixLdzamIVczHSo5c4k7JGXlQmPoPHtrlvURzRoTuRX0eLQyf3mkIfHlx3cllPj1IouGZDmvnN/VhQosot/JrEKpZthSIcR9ZL3fZSuFHa2RbfCl+pmEd7o3d8uhJkkdkQ3y79MsvDlhXk51pp12Ttt4LQ2136OKPSTDrcC9cT9oMdtlvU9+Jh1HN71ijd403JvU0n1dx2kitfzNGQftDg6yaKPGhFL6L6OUAFrZr0qTIoUSJYbG1DCxga5jfU671sAANP5Zzji8Pna/TjQzrHCvttrW2lCUHEPDzUXpu3i41X+Hq1Gxut/iKiWNM4jtvY0sl5XjItl1v5UrJiYzva9qmhQS4ddTduZoALoosOmT6vEiWxysuU2pEd5XmuUvounKuD21fMS45mmijfdayqEyWGXwpIo4z2EA/l1wJbPEbuhpsSqISwKsPZPOoJOLCHIselI8+MxDZiuw0osuGUBYyRzNYWzyzzA6MbCodJsR/dUkRd7h7ArlNcEo14WC6agilSzZ3bM38zRYYxSlhJ2T7NEcTE2IuIx/mthp0CsNq07eMnRHGIgwGxN6CgMzDdt/5qg+zLndzfqYVSsHaFjmJ/mxu4w8qj+yT4f/AKmd/wD9Gy/85X/nK/8AN9+m9X/my/Ter9F6vV/5qvV6v0X6b1f/AP1XarVbr6eNfrV18RWYeNZhWcVm9ePxW4q48azDxrOvjWZfGs6+NZ18a4i1nXz+VcQefyrOPBvlXEHut8q4n9LVn/oasx/Lart+Wa7f5dfWe4PnXb8Frtf0fOsx9+P51xP92OuMn5yV6RF+etelQ/8AUf4r0uD84/KvTIPzH+VemQ+Mtelx+Enzo4xfcb/lXpw/L/8AtXpx/KHzr0x/cWvS5PdT5V6ZL/T8q9Lm94fKvSpvfrjyn+Ia4snvtWZz7R+dXbxNZj40jCSNX8R9yH4barVarVlrLWTyrJ5Vk8qyjyomMbsorPD76VxIhz/xXpEXnXpMfumvSh7lelf7Yr0p/dWvSZf6flXHm98fKjNP+b/is+I/6g/Kr4j/AKg19f8AnN86yyn+IfnXDk/MNcA/mGvRx7xr0dfE16MPGvR/OvRvOvRv6q9GPvV6OfEVwG8qCGjGTXAbxFcA+NcE+NcI0uFLnvWr0A/mD5V/p/8Auf4r/T1/MNegp75r0OPxNDCxeF64EI/higABYD77cVcVer1fyq/lV/Krmrmr+utVqy1lNZat5iroPbX51xYRvKnzr0nDj+MtHHYUfxf8V/qGG94/Kv8AUsP4P8qP0pENonNf6wnKE/qa/wBXblAPnR+l5uUSCv8AVsUdsnyr/UcYT9pb9KOJxPOZq40zfxX+ddo7sfnWWrClmkXuuaGPkXvKj/pSfSEJ78FvhS4jBtzy/GgkL90qf1r0dfOvR18a4C1wUrgpXBSuClcFK4KVwFrgL41wB41wPOuB51wPOuB51wPOuAPGuAPGuAPGuAtcFa4S1wlrIo5VoPW2q3rR0/r9xtVqtWWstaDdhTTwLvKnzo4/CL/GFH6Uwg5sf/Gj9L4fkjmv9UW3ZhP6mj9KNyhHzr/U5uSpX+o4nxX5V6difzP8UcViD/GauNKd5H+dZmPtN8+i1Wq1Wq3RamQGlTLTi1Wq1XrnQ1q/Rp0IBbWvZNd3akxE6d2VqT6SxA3yt+lL9KL7cXyNLj8M3tlfiKVkfuOGrKat9z5+s//EACwQAQACAgEDAwQCAgMBAQAAAAEAESExQRBRYSAwcUCBkaFQsWDB0eHw8XD/2gAIAQEAAT8hLvBTh9wlzAoWTY0+Jw98xPVa3L+id5dG6huBVimCbFy3GJXS7R1KLWQxC1Zl6+0A9ziWsGyNkb2yzzomKMt5lqCXx3AynMdloVL8KEUNblVEJxXEp7aNRWpS7BgY4R1cubDEbI0mSDFRuYSpyJ8TYTAUku9RYNDFzmBry3HYaRHdoJnUKSWMpQgzKgAA5qYGxFuM1veKYWRpMqa+sQHFkbhnjL8SCnWb3FVXK2BmR4XUzb1xDpyIIu8Lh2/3BCrhM8bUS6sNYjICnyY0USicwspLMu00I9Pa44ohywsU3IsL3MUOJVtoMNCNsStoAhHMdGoUsFEOfEQ89DT8for6R/103aeUA03wZlQPlEcCG2NeSOZvcNRbuAeMytIresjMGxRVTIuaVeqi0feLt2Qa04wy20eMNMom5SxxxALa3GAlVqJmzbLlfFc3jvKaF1iYj8Imt5neYTAFsY3AgKaq2OJ9yUy4I3aRO7LBCO9zB5wiukTC0iY8zWTMyHluMDZMam7bmL6uWZMQZSqKjuZ0tvTQPKVkMukhU5ihWGHLCv8AInPTjcYis6ErqN5mVdKwTmUalseJgICO5xALmxZWZUKysNMSOItJNwlkHMywYeUS+hCNM2hgs4+YO6lMr6Ci7fS1y8QZHmB+Zud9paUZ7MI2SdhBAUEtv3gg6/uNLtc0FgBLpmabVVMiYhp2hh4TEissX1gQtkxM8x8IFv0RA2pmDZu9TQcRUqm4ZFZjcc+FNkvELjdbh4IhhU7mBShmJBFat9kxTJMhRK7sOYGcVZtBxZXMakuRmpQLiKlrLm0lXwTDDqcjiHOURRhAtAGulVw8zhAy5bywIuXcuYxGi7kJebWwdOzm5dYpA4jPEHW4YF7jBpioY8E4I3gpJle4hKYhVULFduhVS6itZlLmWZ2JuMXx0LEmrZatTxAoex/r0HppvXmFYRD7p2REWWp925cuD7x0ATzObvgnJ7wx+ONVJ2Y+1oFGHokuhxme0Yahh4llDOEdtzvsMK0Ax5o6CTcJdeSNxN1L14nJI4mhdTKAW4pLi+0wbLOIKL99K5l3OOC7ZkWucA6SeSyqBubaZ3ckSXT2mTSwMzVsYt+ZhDgruQcXmPeh5l/EhTusStSw6i0pNEzFRy/uRNjsZjISA/8AExytM3uZYajvO7oNsw+5MJdVMCrpKMAwIKCcwphS7td5gsuVUGqiKWsTFF7jWaWKaaIZTMjdSqoGNyCjMLCbHIcDsey/vZMnRpPMrI6J81nsAbun5ezXoWl5rk8kYtJ7kyQz5nInakaC4tzLZfnmL5l8kz4oBL5cz4RDQcEqBzA2fqWhzcOHaGdZGAzrG7i00lGccxunGJvtVGWhiMGJeYVnAZDiDtLDiuIgzV5GEEZ5Sv3CWKDJVQcp3yquKLW2IhKJa2ZlDLJMTVAXygsL83OzyT+14IPMwDifIrB4lwezAxWGsRhnioFqbkWiG5zUTJma3DqPKXiFsdiWPMQqGrQoPsIpLNygriW7k+zPhEtQUdibI/MwOe1JNTiywRa5gUYpdnolNCqYeURYANPn02O2LOo36CW8466Lcew+xctL8zPa+0xbftCq/FFf/KwDhtwIJLPlDlM8MKvsUDpR9pYusxoXU/BAyZP9ps9HMBZ3RiXR5jRdlohBaTIbuIC/hD71Ca02r5jsBhUFCV3l6LFbTMYo3ApbuATys8hPOCIu1xGY7wa1zcYr5VKoxXtAK5sYaqtQcYxC7ekFMCvnEQCLSC0mLtmVcUqAHMdr79Fq2THuC3CHJE4hoqapZuZinUbVQBuUwnYcaJeEXvO/tu9fPxMD2JO6DlCJir8btPheuw1Kz1Nwz0kt1smaWyMWUouoUgjY9o3Idn5l7rqp26VK6E7GAi3tgvv3LlpfvLvcTsRYzG7ELBCHQI94gxJTJFlfqlwZB+LdkSjmoFtb3U0zN4i7KjcUld0N9n8Sgz9Q3hH2j6HIEWLflMtmXylQFQZ6g2xLRXd1AS0viMhDIYIFvRUWpY+JzD8QxRxLb3AFhs3L5i4MxdF4hjS44TRBQu5ljdswd9AvDeIACqZzjGKPJNDI7xVzn5iKkv8A7SpSvDZ0HeXEwmhuIU+CY2Y+6iEqGqXQkyra8xXQ1WqVcFo/QzMWONc3RB+uo9oMkE3shkGTluZokLdybJ8DvDHUd4dqg9d7RwLjU56sbUa0VZDZQZrD0IMAxL90rMfOwD8OlXKiirLI+H0okXkAOWAXIRPPq563LmZfW0lpeX4PxG+/xTD/AIJfb/Ep2T49e3ReWlq6Kdn4lrZ/EW3EvuJbcV8Xd/DLJt0P/Fn/AKM8L8w/5OAQo1+OGpAaB+2HAcY8H2lpfvLiy5cMzxV9oLVw2LHe4S3cCjDvjxLGI796/TeK4l4l67EII2uz3lq2geYWYOkzFG0zkZjQUHvcd/8AxU1Lrv5SCE0nkguIAL8Rdwp/uPTaGp2qOEtUYHeWTYd3YYjxpLTtMROVLhFulBGlof2zcwFPaUGBaLpEqSF1mAKgNrOH+iceYbz8+XrsTSsRDRmPqJzqaNRW/Zr1aL4nFzf3APZKM5q33hT/APVQMFwU+I7oE0g0XcQDjLPHMoV4e/aF22EQUXHrfUC+9pWR5OZhTCieSWoYd1dSIrapOxFiel4xwxyHHuz3joS8q7GWaibZC3PHunmdyhHzUG4PC57SvWaPNW2Vt1zPGTSMnItSvt2/Lc3sxu9pTJNtvgmBZB0i4uh8eo3UEUO+ZboO18XAFSVMA+5CfWteHoYixKvtCjCK5flC3HEjFsivzE8FSJzc+R683M0t6EpOlRCtWxYvdwspVxO2n+WIKeomy+IKxV7sxd40gRs8k7Aqdk+fAOj6g3XiXaIMz3r7dbCwHj2vmThSO8xkLlkbZQANxy3ctKy09kqK4qSCXIjDuBqrV3Nkmh3Zl2qDtLit4QndlsuFcG1AvMqHqpmpM9iZdov1fibLGz13NymEtKtt5Z+HTWDXaVukMwVKzxKeq0OCZKVj3mhLqH6g0FEnnq+tQHaPO8IzbFr2Hg+YHm3niDHvvJ29DodpqaLKgUFTJSujeHExfvZ2OIGlGPJUo7nsphW5yVQ5fN9WrpbBPyhryEg0dpRtSuqu8R07Q9vmDE/spX4pFI1zAnN9+s4ReH+Y1sLry6gVgl752nt/ib0IVrBF1FRrjuQsBZvudAyE0JKPMShlD4JmBVX/AHTIghD5jXmV9qCQbOPCNG5Av5iPiR5BBXNUep65B4ZZTyzIhRusTFwy2oG08krlhDv2Cc9OiItcfAmAQEfmBpgs1PicnyZqY9WpViOBiy/cCQBp8M9do6anzG4A0h+D056Ex5eEisDgDpUYRRVoZWCmvj3exF53QvXjpXqA7x/KGkYB2ESpUv1dq6r0m1eHoprqh9z+o6Fzo3TMeDpj7+q+l9Pt6Aah8TBOT52wQrbWzRMG+BWIhWZH4SjIAouNKQWKZmGwELghMMbQJWl2ziUayuVYGMw5i8J279Bm/wCLHJLMDkO7tKIToVmWP0c+CGKa08glQe7YIaYs3DHhWgaEd+p67w34l6LaFOo5HeMdqBS3f+pt7JLlZwLqrjLa/UcVDIalGf51xavyh94e3rgNYipbQyfaJaglTjzCAGam0t6mu0rpUN1oipwCzoywFoGsSyywAfaW8pS6MZYE5EnMFon6Ljpy01iAl8hYIGHmoU7yn9RTS8JzR+PSC5F+CQsaAyOxBUY8zCGpi5lwQE+YlCFSM5ikrMp6s1G3+ZyPaTTbKU30pcy78QGc+iv4AjYPiUVw4lvWAf7PW9dcB2roJhCmq8o07ZmJgab/ANRM+3XpuV09hIkBWyoE2XQBQDx1WE+KVjPChDcRhTLLNk2O4u0u8gPvOUsPBFulEWyWNIfeGTRWI8Dlm87uAq5A9vEDREnY3BS9VBYB5moSOLJFGICU5jkW28eWNMUoN01uY99tIAaA+OljnN17CC+1L2lNgaPN6lsbAEM92gC9wPAqndRPSCRy7LgCoQs3dRotaMsHirldtcxvj4aLATTnoZ9k0oCvYm7c5pcTrUUKFXHOe+fSLDLD7R+iYGwRG291+IhvlX39b10T80i+6Bo8ysWMuE2QCZCUPPxNpXqCV7HPr3hvJwdL9IKgI8QlfkCpurqIPLE9Ak0d2JRoP0Rqqor4gSdmxhbXbddeYEJNmehiZztH3z0oJIsrNXM0OKCbJY0OcR0+APYIsoqaF5gjDPLaMshceEFLDgzG5G3diAt99I8tBV3KgiLhYaY2X5l86qxXUBEOb+SY+cD9wKB4PqPgr/VO0NHxzEVGhR7D02gA/OXmCEsi7h0q/wD0177P9ED1SUAtHYxzqVL9NdOPoAj1Sh7Rf9FFZo5EKmGiXcySR3CplVsbXpcp/uBHdZIHaVAMVLL6NVFIW/HaNLqM7DsVyvuErlZNfhmOV8+6+2LK0p3TbnBe6nATs8ext03lH2P6jiLm1Qh8QVRlu429R6BAVY89SLQy4O/ZSMVcLxcX2AzUSzH1EX7Csq7YLl7mNWt/SFdnMTNeknoH9iI4qHPoT1b9QV5mgHSKyO0ph0apK37KWjxELcIJZ9xa8yimBsO3liVbUPEOoosPtBoS0sUtNbXK6x3JxH0GWXUUquUx930HqZECwqoo2HXjrk+S9SK43LjSoOb+jVv95h5P2ZkiWn3gtCMRNp6GZRhwCNqxzOAkH0WS5DHIcTDxOYkigac8xJ2sGRC20NlyhC8cOZq0pLKKKP6mfgi+YmIasg8+nXptDSuGLlAqXueIHPQV3F+1qJb85XIyohd3zmb02uqTfUW0CVCN4spg7d5TzLb6r8POdHpByUOxcBEa+cQGVZpRDkByBASldU4hAKtFRw9Xp8i/whlMQOPtEBKpDEO442+YQrrtXQGPtCw+xBZVGp5gdtWD7s5TmCxwW9NiD5hERVY4mByk4WWPx0sBVoNyrUG4uY8m5R4IA2B6DXIPylkgHAxDow3Dl5mKAULiD979+hWud/mavRCVLdi66rNG0ZIZ+A3HJUC/CAUOgb85fLlYDMeRmn9S2wU7Guyv+0AXf3A5jA5llpagCeV+euXnYDbHU1U29YiYcxTPMTnSD2jKWWy8rMHELwWQGSYKxDvDblK6cUiNpaKXwT5eEqHdPS66bz51/vCqSkGjM4uZalT+19shrqLZc7xl8StheVFhWmSANWuWSawufuyo8AIelNayGHKeoHL8wdjDAmCdsqi5P9ZUNTbXzHKfQlLQ5ZQes7PPMRitQ4lityHbsQ+lwW8SrUF9RY1dHH/sTDabCDvUI0VtjtG6Q9pSYFyg+HQYahRMgIteZoCHfE2jl+yWUsW4mpoplkBgoZqKpoely3MqrNrH+sGB/bZNESmZjwfqLUxsX9xvlQg4jsdm/Uw+BNwziDbFSaGAbxFxvMNJoWveLOAw/BhIuUW5Y5OnZWwN4mkU1tLFjQcTEWphm4EjxP5UqB7BAdih2vEzhZpFDEt07gks2y4YaPlwp2rpviN/UFGO4u0eXSgIZd+Znv7aTaZfM/uI3MDBcK4PtFkVDwWZmVvcahiiHDVQOvP1o8O82VWzbMSci/f1BqCUzQcCXKDBuP2XiBTJb6LuzAdIlIdhmfl9lSjHsEXms3nicrWXpU/9ApEDlDtNTWKyned+IeRBDyx4FUTqFcQeVSrKorMZyA7ZmBqoXqWsX3eI7iHmNDqp0G5QEyq4O8dzVJ+6izt90WXLkBg+EvHLR954JT9dDYyy+l7IiqqU+IlFhrVy4vaHvUqjHS3rb39tD2h+9iqbqn32BmVPl/3LzU4gyi88RFGBcxYjtHsCPTnq2PaifGpxKJDWXRMt7XwPfr13MBUrKsQUN1NLb0dvTYmxjKxFeD00Sl2mj1WuQ7eih+CFw5bYuGgmSfaUNte88rVrfATYeb/b2X1hmDPwI5TYaSXalYAxFQCNeJ+IhOh7HPXcwoLl9ZuuwiLfbeIx5NRwd4GiGvb59DE5G67yodXeivR49qunJlC09IzK0xnHj0c9dC8EHWnm4Ee3zFJQ4iUtL5QyANrAHQ3KsRnHum7guVl9CBMh2hRfMG80QJzZxmW7QV8DH010rqNsyZ7QAAVR5gVeyvtA00DxGZRqrOIdldprzHOEy4HSpUW3DcIg5YyqAWsZ5GycQzWdynAECpXWoVFtKhk6FexWoKXzC0m/HsR29VnWrji+gyR4cgfEbc0iUXJN6lqigvA79WVxVj4RAiYsps7xCVdooQlMsZurgkUKnQidAiQPokBctLeteUbmoTZ4iBXSn2zJoTFbd4oUEaau43XbCCAliYfribX/AJia5l1ybiKiqBYRBpaw1nYZfWvXkE/9JY3dfCBsh8hQiWYJnI8Id4ERdIuHxQ9F66yfCauEhsAP1TmeWfmd/qtYupitxBLaZcku7cvKNvqC93vNvmHdjcvLi9IYQgZkChCtYc2lT8f3lurQfKwnURecriBinM8L6kvvyZS5et6hWiAKhBteZg7N5y95j/mRzHq7db7EdbG6+EcXLQDg2svYc8vaHQUSb7xLgYd6tx8xQr24lgjmljJYUVOCE+rYOB3h1b0+Woi20q33jZq+2EuWC+NKGI+xSmH/AMPRX1Ch7QYPmP5jLrSizGqCoHfd6hu20/MuX2c3RO2nkYINBR7fP0PHQlyODDyxcQtWIZGE1HyigZDOZfpOpAQkVewRoqltVysG48xaqmpeV0czdvdbgeICeEHP0C+ldOJcJsR8QnRCAceZjVKq0I0E0cSy6RB+eIR5VD8xBORZtAIsMBDa3Yn3lpObDvKMmEpD3cfmFxBFpwykERS4Jb1k3VwsTQs05gBR1ot9YOhLwU6rXhBAzd5lmJxhFuLboPd9nW8MqWRcyNV+YYEvYcQI5C8sQoAMdptHmJCx7vQ7ADxLGlfYlbdqHZi5vpqgL7aamBatsNJ5ft6vPiz75evH0gWyi1OdP3PpizgL+JlqVKzJt8rxGsgFo9JDfgMuCpwQpc4L6lW7jj3NS/YKvOp8qn0Cj5fvqLL2Eb0ItTXd4d5dnbfZo9F+wI6ZfDB/+kPbsRaFy5bC/wAcTxHq8s8T56iFWFJAAwAoPb0fMWrH7ZLZOVRhMCFZwuIvhpZWEBsxvX7zq4T2jw/iSMfj2DcNM8TxcqhV02ExkZwTEgIP9ZQXPS47yI9BBW0H4T9mkW+PzVPwx5TBs/E449zMbqQfif3P6nP0iCLSVFYU5PUjk6392WA2Cz2P/qr2RAv9kypeI9wKe0MswkXudamAt0QWsWzGwTT0rreJ3VDgApfiaTbYsLS7fmHnLaxDvHPh6uJrPaM4u1L94czvUyIHdc/tKg7TTcX3CRdOwnBsbqNWFKIx2LVNQrWNB02Jnnk8N7uBFGOP7l1a0Au5WViTqp2FPTNY3xFpttkAFlP+yYCtGYqzlD7RW9uyoUhL8RLjRTXaGDoB1eiBXv0JcuCIqc/in7D/AFHftazuZsWguUqnrXMz6uZz0EznveiMGoCK0jWGvXiIV2GTP/OdqOfTg2y6legkTNCI1QWscmwsmsHodLC9gOOIa624Oi4AvBcojas0cHRdWhfBLM8IsEvqQ6jaFWfeE/LRfiATg0cwu4BO5YoURDwvVMnsuxLV3SHdliOvXdiP81kW4UicscNr2FhYBhCh3uY6y4iKDiIh+yKsKb5K7R7kdhVwAgoFHov1a6nnUBlZcethL0tg/b15fM/qO/TXR68zPay3tBsw6ePmIBIOqeibkgff8zVzwvNeoqKeaHvU7PysTUdyXcQAEXCnEM92AcG4vdVxhNHUwsKtBdXzFArgNzi4U6RmRDAHa4o5bGK4gNJSYLjoDtMA1U16GvBKHNyqxmXpuWgBFgK7dBQYg0gaojplYHzEJoYgG6F9URcrAmdKMaPExNSKvmYMqZUZRaKnhcy5sMu8IAAgX11vEC1Vh5ILMZ0woTNk5MVC4Tnlod5QsqR5qNcN4bWbemEu/HK4l692wgEFDiFDAHiATQLbYAKAPE5lv1Y9uV6/3Hq1voeinIFs0ixXcZt0LpqX0oLQHdgpiRiWa98xalKXABkCMBNnkGGsBwQcVBGGgzvEclVL+EdeIkGEt60VyZt+b0Ugla/DDzJyjiDysRSGTbz2uaem3IIM1fvQYS+VftByYccjBAKBRBgN16CTCl5d+qRAACd856HFu2cvhfBuNXEL9CGBb2K64hJ4BczVzeD/AJHo7XOBWaX9TI4DuRD7FI4AIdRkR2jmYKAoO0t9nn+A2+v9l/r2r6WYEaXEzn/f8vRQgi/mB2lUCdmcH6YLbnHiHvsDSHnS2uUtiExhIAHDDuBa48Q4YBP3GJU3FWUhA3VYHaUFOHxdCBsKSDuduFM1LjYuaWahxjNXxCwVNeIKKzBRLuBUPx0GGMI66Y/KTd+isDEPL0tlvoyP/wBNLmT9AJXS/wCQKkbtUPtSvker+5/XucgiRaoa6KiCNSuZNN/AZTtQr5Iv/cElWywf3mZlH7qMuUfK6aPqAfUwjw/MqW7SntKlMtKlSugp0iax7iGShtiADY6emImGF2gDZEPl4j0teqWPHt8fTcy/Tz7PF4Zbsh16lnqrv1X6qovVoeXrfQnPpt7xzuX/APCl+4H/AKCP/SU7XwnKdHGDj80/+lL8t95Z+wj/ANHHv/nnlr85htX5cENTQ7x4LtY7SpYEJdYh1ZYisqcUu8oItFxsA99Gi6B+Lnh46BRE2MFCvomPJAvE0WFs8S2/hfUn0xCVK2i9Xm1R9O/VwelX49BNiXMtLX2lX03YOTcp6V6auI9QwYDXCkDlYLMAjYubpGx9Fl7Vs7BLPqCFyRpfcMFgnmRFWf8AfCPIPTQ2aDll6ab4FYnOvzCHgBx3Z4SBDcrBuh+/omAvZieSEPFBbKgLyT+JSWyxJcOTpWxAIOMIqVf+7/jg4gVj1Ar4tH1nSuh6Kip7AbZdhVw9hBFt4S8y6x5jgi2UiUfqIL2L+ozZJcIBUXC3joNkcGr9uXWsfhcdrHfCJOVm+dGHmTgP3CcMpfBD56srtUYa056mOlVqKVnVyjEGA3iWVchPPiDrR1/YlBG0LOHrUbOohOJAMkQsVvKDuwrHaabhVxphvWSy6YhvFDVs4laFiqvEFftE03l1LriX/D8esKhB2OnPox88fYuHo46czn/ueIxVmMXMSfJJiURbnvmCExhnMAS2Aznb97m9RWdbGtiMyjFH9z9mKn7eVFwOb26lJYAocUZ8lYcSjbQWG76GE0+BAc55yzLyi3ayxqO/AT7WxYJefQl/bPTfHnqTOmh8iAP8A/TG5xdvVCl/7XU9Zv0c9do7XFr9+nPp599/iOfpjpQo5t6i3fR9N9ePWRUy+jRL839Fx/C8fWV05h04l3aN+oUmhfY59N+g3KQN9QoWInj6AiNw8P4G/wCFIvbfuI+l/czn2a6ZVCalKnUJgOANzODl4XywCEF4+SKUwOF8xnPpubgtkLrEfTaoZCg2gtfMdysypr/AiLwq36Oej7cIQiIIwyxtavaN6ueLzGr6I6G3qa1Mgq7eIK0iGoGAvRKg5AJ4YWR5nB0qZMHxqAwJsCHJ3g0CuiWYzvXTsJRcOHiLZHJZS6/mDL7aLv8AUeQHbwloFDgLmQIUF7fzvPqG/P01S/PEO/aJvkaq0lCVnEEtnfwcHQit2sVRGWR+k5hXrQiuBsX3dpb7oszHtiizmHKFJhUTY/HHaDZkHYhi7kHfiXcU/KJUTlGDbMVQ4nmbdgviRhjIZFEItNqiFRtXZ3e0ESnH8IDBsKlY1OMCrDiGrGRwFSVaPjj+E5+v29V5Llq/b8MOoHT2NE5x0Iq8oP3NUeOjkjiV2lNVTFw3QH43lD40cCiWjSmFwui5zLzfMGZiJ8sEXdbwTNfZOyXoXgjqd5CS2U+MAFAHY9497n+E59fHrCDOVz7J0Nxget8B1IBKQRcD7syuxfvLwUgolSu8GhWn4Erhx/6MP+lT/wC2TB/xxF986biLZX8TFj9U/wDMdFs/8UtBb/qioLf9U/8AlT/4pLf7aEw6EvO856n0PH1/PvWI/wDBGcxh0xjd+yHrucy3pfoZcuHa4BFlnodLlsuLLZbLfZJU5I3TYsuKr8g+l4+t16gtdqz1I5vDHf0G+mUhXfsj6KXpz1yaKl/Dp2OXXQ6pISC6OYOuz4WCtB+8qGpBYtqIoujhBidiMe6Q3xaKfH8nx6CB5lPTcys7Zdy/oMBbqGFz4MF5CjDBI/V6mVLa/loQq0JZkPLph2kQseYFTdL68K0Bu4+Au9IKw+Hgw0GwvhQldNv2j0grAtLrx0GW4Klx1zlpUGSolojMaevBv80s/pNjLWpo/MwRRvpEJDXa4X3TY18IdewuYPhu1+6O/PsV/G66X7gT9x9Ls8IuenPt/evQ5RwlTl1wQAmPyHtC9Q4I+sMJQ60OUhG6tvLLzF6Xu4FzT+NmGUzmXmB4AHU7d3CBCNaq7lGF5qo7mxxFJFCmmpd94P8AfRzZKV2lJ7gFq+vPQMndemRXtwf+rOA/ibdo+GP/AAQj7Kd5PU/xHPsEC/3H1cvhOeh6uPZ8S2tmjuxwyZDz0dlYUk2g1RmqBeSmOCr6a0jsicMBGjpqGAOxXosX8EMAeIGNKzXX/wCYD6N6OPd4/ijicUjv6DnpWMHGPua9/j08/Q36T1c/V1RtVTuZ+w9FTV+MdsPVipx6ufoD2QZADawIewc/wHP8CQ3LO/8AT6Q/Gjt9W/dq5VfRpryHghMhZAq7YlSuuuJfejh+l59VdH64huBQ7+kVKzaHU6Hp2yntNIHZ6czYcd2ZQ18lRjXai26Tq+gMkdJXIOmMrgI4CpeTc0/E/E5ZkkIykEbpGmmAKFC89pjC21YXDghahdziCQtMEQgryxShTZ2h1inLewQzyqZOzz0OB+qN/wAEQgtY0vEfQA+CO3qqHrqhaXiziOOlp6XCn3EWn2uoXyksyBk6rMrBO9cQjHdYElUswKuNAeIO/jN6BR8sVsba4gp2brgJs5qPHmVWqwOWJAbWL+0u3GUvz0CIXbRBKEJQL2jbmUy4IgWSc7DtMNSqDcHiCBhTJGXrnMYLGI9x2h8rENOO8Ji/3qiH3gOEg08iDxmgsbb5hQ3WHoqPRWt/RHtcQ/gbUNZfxH0VGGp2Q36j0GuUN0TAlRYaonhmViheancs+ATnqGR0DiDWPfaGn2lma5+0o2nscsswIsF1GKP3UIxNyVbi+8/YHLKnQn/Qiqgg3cx3OGfnrcAUORRKId1zKizZpMQ4QNBAEQLb36Wy+nPQKMQl/wAa/Qmm4h0xXUUDj/nNkOnHsEq/UJgKX7OUAxQUTjqpKjbRcuFDy3FszP0LdF+y7HB/n7NeknH8L+E4vRDwgTasPBlMMqevP11fSczno49LAvj/AHNnqPWm5RTyejjo+4YSZF3aK7PVVLdVkICavQqt3wm/bHxMzaGviEDuLR1IK+54iMplI0yTCiEeoVV1a+J7/j3OfrGMc+g5eH9xcs59g9jiEFYFb2nEqV13415UwcP7PXhMcCLOj3dSmItXoYlv8EAdAijjOX2SW4uwjJOfunwQTGFPtMtW6I/4gy05bJjW3lVZRlSMgbB+Z8qB7vRO/wA3yTkgh5kyC3dvLG0l3Um2+wz53wMGlPgHO38mTmWs46npk/M2Tn6EZ77HEqixjiFmnYcdpvuufLCQF+tgluMir1277UZTcCx4lCsB++hHX+hdkmGBr5CZGqPvT5ntvDpTldTKiJW83E87cqOdU7uJXezVxXrI1q0/2GnroIgW1rwhjS7UJcwL5uEY3gy7ML3H8hgGvxQPQxfg/Et7/QcfwvM2Oj6PtfcPUYm2X954HS32xseSEVW/4CCYwE1RMWi5+aBBuBOK7S0XCR+3QlwFpFpHTBqtr7LkTkeAo62+luOet9OPVeT+XYejQ9Iv4oTn2uZz6vMkzMc53uvotZx9Hn62/rD1c9B5PWoF/BNXx7R1PSGuFMZnAq+vH0u/p6+gr6mt8bL9C7D3OZq+Ogfw6YEtC7mupLzdY7np4/mH0il8T9Loe2enn6ZxYh2btDImiKBaAbWGA5DMVd4ggEs4SBAr6Eufbv8AgQZ6Nzz6NfOgw+DofQ1LdpXiVLSntKYPfzTD9Hejc2Ca9FRVNghUehAYdVDmqxPmW8wlxj5TedWHvKL211uZ/cHbmpy5quxMlU3+zwQgLYvffgmvwH4S9m7QEDWhZ6ef5fzQ409uis9WJzDq+wqpCZdY2mmPw1bNH7xHlGDnpx2jlj+IOZfeBEb5+EK1ncaOW3758v5WDhDvmVcqwmCQiYlWF9WJQzDxEqWpGSmWkAMpV1Gd6F/6oyPVQRSUEQwTxB0sWFDA0s0uxOHdPCzINsKDi4v2pfoOhq8Q7LPvmSg+y6JajoF5iKAOyTWv5xLHyQidB1qb+1kPdXQixagxNizmGcXC7AYE28QzNsr2vj0kqZsQaQ3XiCi5VhWG5jyO+ZK3BSqHrROwETwCbYpX5QToYBysRpJ9zw7l7sCY9pRdjepFsK4A+I/H059dvoe5x6D0azwhOfdQ3WirO6Pu/D1GJntySIxECkyVGpVN96Z0GO3JEi2ahGDG8gjUtbdkPAPj0HihPz7L6ePRk4DDynGlPiMOxDjZFNgrfl9Ffqr369/v1tgt/Dqe5tAcZeTZ9CEswxUPx6bG8jWHx0BSmgu4AsVaHalc7iTw9Qa1FTeW6WaPPGcMOir89NEwd3/U+zX+JThNstypy/Zg+pPefaRiWt1K9rn2UL0OZXrKg2UzLJLrrvFTSrLro/FxVngCU1HbMfOFisdvjaDEuwTTzP2IMs4FmVA3gqhURprDPLgPKGpEr8ZzFZAw3JIPR/tHrjNCDnoDumOTiwlhSt1zO4mYbGoKnmobHeC9enn37r0PpfqHfQ6FVgXb+unP0WhZq4jwH4d+pCP8REMoGVYqJfqyr4m0/u1ZVrwAN5jvHWxzupt2DnKxBukVi91YXTiZysz34QtMdzmY14/sJcx4BRWyXnzavVIOQZRs4i5v1LV5GX9gY76d3c/T9Fu8v1HU91er9WdHfo/f/pH6NQjgMDwdnZ7Ti35eenLc1dduZwlwfyzWbBfQTBEsFFgGclU95frSpdEdwC+ibYEPKeNJJK4XsJR/dC5rHSkTsHU+nfpePY5906O+m4xfnPpNCraC5L/wHXmXiW7y7/hefq7+gNx6DzGEz8Mn6PN6Dj4uawaMH03HQ9rn369b7D7Pf3TcYPQfzI/RuCJsZiqPXX0JN9GgtAeYk8cAb6ces9fH0fP0INUN9KgZu3AmQDsegj6Qfh/t7JlmvqK9D6a6rSKBPmOaVBcKGH71mUJkUoPuPqqc+0/RlWKx7S3DW1cRF4UtskQTIUskZKfHE20NPiYcRgt0QVTwiYd2r6M0fQftdB7OoeyX+ZZUC+PYIjtBbD04s6WXkWcTtRabQO+sX5iT26d5TTraMEthLPJdPuSvLV8I722SLYUbIPacRFrTdAkMDnmmMpuW6+JuNDIg1f0W/RfTn1Hp4VfUbKghiAraMi5dcuf3NKJidnvMR78DKgrSndfJBVifuUXMBemUrAleZRRmXliJBa/fgmeVBWYrTXbU+ysYxCw33W+nEddHpuePTn3T4E0npqzx+cMKteXEN0YHiGIWQ5Hf0cX1Nx7ll5+WAJSbWDUy9pdtDxD/ANCBNEeVgZyJWX4lwLv04mhxL/nAADh0VRkhQrD4jCNXKC90yrlRL/SxDX2Bs5keBGpWfLPl4QWXbCInYI+yfoiOUAis+yrPTmABS5IbuBI2mkc2nmYKko4kz2aPiWGmWsEL1azBfMtmRVbxLqirBiSFGksSacZca5lCXaDVOm6Yhar8TAUAHj1k4jOev6Hsj0nxK0d2oPEGgE7j1JStkq/EtmM1FbnK44uY/Qu/EtEBP+UiNoDdrBGZA7ko9Stxxylfgx0FWBukrhBajAKhpQeFjfxULklmNqc98z79oSzyzxLuhO3awqgA3n1G6Hsufo0Et3iy8fRX7bQtQPLMFDs+YyH3OZQA10RQppiHg2gPmW2B+vMETFvxRWbvDxUxI0DDbQzIJW6Weg6kxZ8Y+JfRRFgMrFHceZD+Y1T+5SAzrUDOW0HL2lsmbuv7dPl/SvTx1MdN349e/XViRiZejsrX5irV9rXygXrgtvoQJtQK75jGfPnyea+AKlQXMp3UywqvlfdZayVj5QHAFhaviPl91o6qyuJUR2fCvCJTCmDmUHcD59PPo4leivon0VPt6M7ZBhhgb7XUzLt8hNHVpG3sHeo21lctK8HPgIHkA4Iqg7BK6557DywSjUZ7CZ//AGJ0d62ntNgmIX2TGcmNy0/MtyrnRBHde8KiB4MPnY/MplY2nIm5tHph40Mrys5n9+1v8jpz0fYOruxN9uTDToqOo6hYjjun7nSwAnk4ff5+krrx7Sl0FsCbCD+EJfnEXtH5EGcxrfbTcB21iTKAEW1A+uGzEuh7FwNH/wB56rs0Lh5rIfEXtivmGXqia3KzsvGWNCb3Lv5iDfhK/EyFUp3Ugsi1LzAleRf1LVpYpUpNvunN49vnr/aevj2O1/o+hrqP9vMqgNGD1vvPsvrUMoDyz/cC463QfB146GWH5QJag0VkdG2PwT4wlTi8J4jNIciNkSy+WUQNK+EQFiDFk5hIsonJHcWyi1xHYb8SgbNTgLqqc+li9qEMJShhUAyXtfsi9NSvM90ThCAmQOyczsort6+PWek53Rz9AS5di+Xuvu36QsloG2oKyxsfUFeU+UxyPYEvwv5GKLmF3MGArpXqO+iH86cRiigkPvDc6tGTK/GMjyu3AZMkVsSQ8J043h9jre7Dii5ktqt18DpxM94b9hy2u7BQUAHY6o/9MpUbK0969jfrIdNvpqJmn5D08+5x7nPRbgB0qdkUFmli079Mwqph5jRtD5ZTkjYPTxQD88wnA0ClBW4+sGB8k8TW/sRjHoC+PMoZokmmolBRl9woymRsqbFO8S2sYh0+WrqNRPqzQ7H0yY/Xba8TKndq8vq17R04yvYAS35Rif8A0GeO++d8PvmPT8qf/aoNr7z0QLqazX4EtSYeT8z7n5ln/ZLOz8yvJ+Z+J+PzKuVj6Hib9Ym1JHGA2XNRSki87x8RgRmJv4mAAGij8wzO9+ehkCwQqSv4ZdTL7JyiEgXTxDq8vafLOd/p+fffWdND2VdNw5eZb3lu7PIy2pfx+Ipt4/8AnJf/AMeKb6avE/LPF/LMPTXw/wAs/wDBelfG+FBpgRtqJl7CWUdrF1FcHk7+nnoNGLKj7n+7ABAZZFHu+CTUe2Tnp3ljfMDJhy7vELT6Q0MJwHIG3zNCO1XwICAOg46ErL+iX59Ndc/QV0foX08dD02LPP0X01ovPSlHRLRHjTHZqW6+4I6y+YV1RwOHXj0E2WXSuisnQ6fGSdeZqjMZiWgMKt67Y0VsECy+zFYjX3+Jz16HiAG6sk3N4A+Du4ZZRdOZb4Q34Sw7WAMw20hv/EBvP9EJd5aBaSj6KOlsdB4DNKLeB2Ot+Zd79wicLFdx4lHc9gqCGpXWk79U27D5db0HKpU4syS/Tx9Dz6H0EOmyHTZ6jxjrB83Z9ouZzVl9rlPpqI3R7cw9wcKuOvlyofCXYYdt9T7c/fqcdKKLRdQOAhjnEDN2AbL0y1c5GlRG8QX7d4zaNJa3Nh/PQ9LOmdlWsr8wLhQogNgecy036b6nRuPsY2xDNVA33ZWiipW08Q734OxomDtniSzx8zB/8CMTK52f6ihqWkS3W8YOCJSLG3glyAu/iPTj18/TEY7Tjo9//Fx9Pf4D1uoGvVwCx8KswmxkbRmDNL1bvDJm6vz2j+KAQ2hOlIfbux4Z+KoGlkp34iqg/NEGK1yvtF90/wBxoAI5YqIRRz1G0f5JU+9g+3oAbxGKG5gZGLp2V1Mj9yvx0uX0AMAB4lw49ZOfeLmCZlrzHQlORguisRmzoMEsPYtaENYBZTP2m8xOr9zQe+aL3l/rgckNp+OklqL3dcr/AGN45bGNVXtV9KdOGcdP3/7ek7sz5PXF1DVFwCJHNaCXWsMbvslDGGGrQnE/kS2LQ46iiQ/aRa8JB4Sg/EyBnP0pLCkiox7O8Bx+cqF0T4QyRutXM+9+59DlHk1CW1XW/avpx6vB/mYYdu3woIRLZCxpH2jX+yIK3esoN3FncsTIvIU3EjXJq1cV1aLH9ks2FlMrHyT5Ufjp5u2CAWVUfMCQS5on2PxLXn08fwJOPR+m/wB9Oeo4CiQkA58p3PwjSZ8hgUoLmkekoWa/XLNffE7A+56R8JB/3mY/G10h4P3ZX/QZ/wDWTxvw4iwD4IuqZueiIAnP0VegKBGLjgzXmPSvxmrICUCEWvEcvSwZ4IBpt0pmm8pfMajOVNMrcptAF4iZ6KthfiIdA0q3BjhUszqq7EcjHo+ftGAjYUwABoKg+jX8Py9MF3OnPqvpct9fBvk+njrftYAn9wUeLAyu/ozKjQNV9riJ2OzB4jEw5GWJCvuUwO9HwBCksVU/F9pud/oH0W2bWAgZZ5xzFEGIMKFY8ZWUJm8cDAXDzBtr5onEU7Z/bWd8I8pnYQDRByrfYPpT3jok56C/D9S+aJp9k3EaPIfCBqVn4ZwmsFkwhHiEv08P7SizLVbSTkXVVk5lJ1dOHvMFWMudFRxAK5GbzK8FAbNJ2lJ+NH92Fahzlmxwy9IcsoN7f7GIn5bwS6/7GfbyMs3vmkvMp8qU8fuoaUwNR8Es9ePY59D7PHuXL9D6X0EY7TUx+LL9F/RoS8H/ALjbNXbdfEXksh3OOukqV6BDLADRjskQb5d5eMXqNkaglwTbwmgliuxH5ZfkWDCH1ay4Rk3sFEpHNX8y3v6s8PPs8R9F++/W8dGGfofb49lAFwL1JqIafh07G5ftFiD9gRq+oN7vBMUcAcLcVHmzI8B4h3Vx1VehLLR8zBtcFqz0t+lfXX0XPq49/j0HTaM/Xy+h7FewedSuJsHB2ZdahpsfMseBAnKUlalmFfO5yjOTvAMKBVgOIWuFwOISD8oawnE9nvDMf63f0eFr8OvZr03QrxmDLMkz1v1MN+5x9PfsnpOnCVMPidOfoTcdBuXWFDVqfg6bS/dd+xjrb6yLcDFvJ6lBKAOWULdw61XSywst0d55hFYMWfh9XPr5+j5+qOunQ/U9XPr16Oepotv+lMdDX5Yi+zP069JLYdHVrQbYRIhYnQcAV05XETEjjobjztQtUeZ3UIu/giF4genpcBaXFyjBeW+Zk66vwmjxn96/kL9D7OnTQ+Cb9PPp59kSxkh+OqNgsXfafHuErpoWuCuIhmFo+8ujCBDc8g/4Xpaaw/2IYroXdpgyd4lkB83npu0E/wBRmlDcHVsf2OI+gJsEj+S49B0ddXPXj6C02m2ppHLL9PMsBsZSoNtzQHeOHqfQjQQtGmc1GsFNg6JgQpp2zmVULxhwRy1Q+DmO03jwzPw2fuVLrIc7RsWtylz8pzKoIU/sdDetTLP4ATfpPBD5nU5/lSMddNvpBBCKq8ysjRqu53gwB2Bx10EoyltMmCiORjPWGhx3WE1GV+IWrnu4Oo8yxHZUNqQAb8pS3Thip97PovEqi3uYnmCbD0uCc4TJT4iIH8/6pfWrAsrNwZT4jCYtcfhS3g20m4MhiGEaG7nEUABycBmm5RO7PmYnb/H8eojHXpr68+9Xymt+nZULBvvJO00Uq65PsrzULDN4+ZbrzW4AvLLFYwKu0dI69FuDvZfXn2SNZsDuEdbSNHxMVZR8zCeM8YZi7vwjeBvsIExI27MwKi+Fygrl8ATnr4cqc+4lWAx3TdMhtDUtof4a+jHpu6c+wdeYTn06mTR3e0cd4/4+gYXU2I0ku3I2m3psS+aPHakrPpqsuCH85TZFkXy9o2ryj5hVkZPK3GgkwHzLFYPGJrYSkjtIHVsWIVZHydFwfZ+eqqcNGjtLkiXHCU7pzDcLLZwZyyg3yu32xzhg8QQtkTgGOHpH/vdvrX2uOtTZ0Podzkc6fPrXDcowqOfdBUpFfSKR1nGr5gE0aseJQGmUc6hKGVHJmN+FIy5zLmDNaWuAlYtZERkzuOJW4PHeDrhAlWaqXjomWaVqHiGN5qy7d/Xv0olQWsZEFYkAvGiWIIiPbrcjKpcYQaZ1BHIi+HTv1f8AUPo32r9x3Nnrx1590gVNWvsDmKWobDt3r1DCgu7deZoLXRVwgc+YJQ/tHpcvpz0B9lBRQWsACWFj39FCiDlaPEsm6H7MpxsDp7Kgtu32F4jgphSfv0wBa3ncgAoG9SB65oIJaMFzM8BB9Q++eg26nXft8fWNYhKjzFoSTum5XoQi0So8CPGO9wJb8S6xy0jUxH/1XTno8KmVb7ibTtlHed6TB1Px4HEFp09fhn8XYv8AUqQFdPLbHrWGifM9QdkPLLWcFq8y9TE/dKJbqtky2sqRSqaJ2fBNgkS0IPx68/SHVMx3H6e/pfjKf308Xf78yl1ZsLqWyw9PGIPoty+euJXsPzAQaC6la0WeVWpFfHbodvyaHcd9KDQF9vc8kD/roFs4fW/CCEgHtc8b0dw0xNV7vMRrgPmp8G1FGT3Ys4YXkMNFPmX2F0MEMfILPt8+zx62O/d593n2VwAqrcvovr560qnCf3Q2S/OAfBiA5dC2oL1RT+ojaXa/ZFRLWaA4CIJMPjU1L5Bw3BAJg1UvtjruM3kePa2I1nu3a5/Uqeo0eWJe7HwJwv8A2oRfc7FlgE6rkMXHpvj4DtFU0vvGRVzF5IFOCXL6W/UnWo+o6c+p9ZuZbKfLGa7en/epUrpiwvLqWhSoI1updW5v6lNEfiCJsnzlm0+2CCLUthr6NMzL3TmaAjdKgh5Z+E8/s8cGXLbhYqLHVLhDTp7+xx6KlRBQPcMuaF08KmB1j8zMLYk2qKpLQ7fcwfTZXiAzjzfFQwBDecz7qHTGh5VnpfvnucdH1vunsAG3wFzdQYzei8ijvBSW0Kvv10SdsvAwkdCVoUd27QCsKKbwxNVH8lSgeXXi3cytWrflBfVV87biBi3zOJUgZC2Dx94dWwNv+pcxBp3PMo3P5nFzIKVZn9FoZ1R3zBgBRWKn7cAevaFUXNY64LFiw7yohVuUPhrqjUi2K0tHZC4vR4r4l7ibh3JkE+4LHHVkD2hULQh8y0PzmiCDWIJfmF8uBtga+uq7e3rfXYgiI8kv6s+jFImu/pBuYCtGDodC1Z3Mk05PNTBoea95zoX9xlO8d30n/wAsEuZzx2YqWIk7AblKvilvQnHouXL6BqQtnKSi4nbFv8dAuJwO/BqLvir9pSIYWsctAGWF8rhnhiQe98qlRbZS3d2/3MQNXUBrBuog1YUkc2VbFz2gJ4v75y6zL9D0HT8ntk6jV8x62qT2lHaZriUh30DLCEYHv8fwBueJPxc/UOluwpZJq6A2stU4QyZmYBx8Dmf90weh93GZB3H3mGDV9E4yBLZ2ywFMQuu6XlVjUUtxvYyM/CCRoiMt8WACtVq+0Td1fZzfaV6BLUbalGlAuU+gqJu/6m72H9dB7xeFg0yrMV4jVDXa+p+jfpfjcAbj6f4FX4uXTidDCslsQ90TXydpl4UPYkBYr+1dujg7UnlF35OgQgN7o3P1oS/f1rQ8JnFWpV0siVU6AWA3s7P/AAxTtKDZl/a5n989bBBmORIUBNNnh6UJ3CayVyQOPle7ErePmCoEGY9ddb9x/hOYFsLgJbAwWs7EqatnuMeESzT0JRdXkq8zvvk6Lr6c2bIq5CpS8QF/1T+vQOZVByyqnuQJ35s+7T6Wl6C1jBWFjLUkKDtD0YRpk3oJJJzkFjA0NFvcA38UoShnvMd8vwuZqZe07jn25Z/Zblu4r+hzUy2/NmEUI7HoPoT3H6Oy0EU2DqJ3cinibioVewRA85/MobVr/azS+Tne55qFMEvtbLzaEN4vulGGUWxVC6+CPRVryd6j7V+x2cxLYSDFwVhYOtCrGJ9JKLSVejcONjStr6d37CCYazRVtq1/aEuA7hzDpJWKmIXVobF+IPkXtcpfpBpDswPQxfg/H1j9aYbi+ZwgYzBGF5hSI2uNyv7gx+Cb9zm5gErCwswyywriEQKtpCD/AAGiKdqCtfSiWEKYadRDHlSE1wZRyycA4mVxPbK7yxYgFUOStAZahCtWMalCOj1LWqolUFC2kDA2uC0O7hLf4U9/lPoKbC6uATBwdL6X1JftWBuWLCIDBtZccmENzF6oAeUKrfJDFx4G/Djra4pTQiy6eOhmKrk47yhLtlM5j1R7pCYBmCgKVCypGqYDflElXIc+Zf5Ttu1lu/1p/G8/RhbCtq78ZS123XeNgfMhLRcNASx/pMFDsIcFBj2gIKxBPezClcwzXURKTkBmQ/dXbL6cz7Ln2+uPoiP0J7nnjvNBZCe4GqlqLqBLuW5ZnbtUt0M9YulNfmWVxuvioFpqhhcy+nMR3gdanHtNgBba7/wHH0BH6xcqK1gRaPPBXmfp5F7WFbcu3S7yrY10CNjBImBantGPzLIpVMnbpfT2uHBqL97lz3I+AhnAch2UwzE0IuP+uICMBvCokZw+1GiBpM4/Fa7Jd6gBkDQGv4Q+pvqzH1Hf+v8AJrfEoANBRDwNb5XHvGbHHiJ6yh+SPFFUThmrvB3RQ9DqaZVa8vJiAUOwdbOpiO0Zo7RMAjWmexCWttu+YUDErDESKPj/AAMjMTn6asylGmPPcn3bdDxFumuzoeYhWcsboFL+2K1BU8ENPxf1F5qprKeJhAILQa5j6Q0NYDx6L/iT6K/dI/UDUd6urSBWuV7oBQAOx02nyG/UGOnnk7QOKo+X0xg3f0HH0j9KfVXy6hvZP7eOpKMiov5+kevP+KhQbXUxKqo4/wAWJx9Vf+LHs3/i79CTj/MePfYf4zz7Drrx/Jn8Iejj6Pj/AAPj+ONe6/wHH0p/H8S/4U/wqoEr/I+PdNenj6vP+CHunpv/ACwf8xH+X89Do/4Gezf8Gf4Lx9Of/gXP+b17T9Hz/g57J/mlf/iHGP5Tn6++i5cvpcv/ACkly4RcuXLly5fS/wDI2+DrcuX0XLly5cuXL6X/AJJfRcvqXLly5cuXL9qulf4qehcvqX6BcuDLgy+h/iXHv36BfRcvoIGDBgw6HvJ679dfxD7Gvor6X6bly5cGDBgwYMHof4zv6G4MGDBhCEPfT+ePrSEIQhCH8vx9LUqVKlpboqYvcx3JzuY7zBtJfYlnZKukvLP/ADUc+fbIMIdBCH0NfXfeY7ks7zyE8aeFPBniTx+n8j+JUdBs3SA8PxS7PttP/vS//tPhR8X5ZdcpijZQg2f3iW5dz7ZEeMpc0pO/4l4kmLDfMDmeJ/eO19xy7/tjxhDw1l7J8QrzPt0zbtvvORM/91EHb8wzdC/cIQh0EIfRVK9VyyWSyX4l+JfiXMzMt7zPT7ypXzK8s+6fdASvaU7SvYlI16KrcfsCSDcz4Y95inQvgjxT7b/Mvx+SdoIvqkX8Ep5nxC8TF+dD/wArRbf5mWb/ACzu9HHhU8f1n/mpbs/E8Do1PMDKams6F4U8CeSVan2QaA88Ub/FAohTHtfKGhGhgDg98hCEIQh0qV0x3JZ3J5OhTzKdmfJ0LR4CfBLd5b39dSulSmV0Wlu08UvzKGw+8dw/sjIDtQRyPso07fiUNN0YDBjdrT/eCOoHxLVfiEeXl9mKKUlulNWlhfumN4UqD5SMGnk7i+q8ahf4SHtx5Uq5YF3ngngZ8k+afNPKzzJ5sZ36Os165fKnker+GEDBgh7ddFpVdcd5ZLJZLgwYMLlpnvC+8z3SvLK8sqUdpR29upaXl5aWjxD5ZodG4T4zNF8aA4+zS20B/slR4V9rimg+JV7fgTa/ZY7Ch2G+6U8r+ZTtAduhliujwszMwhcMMS26lZexFSGWYBlY0N5iQKq33iXd3xOGj3JlwHZbms/PScuPvTm52lkfgmIcdFeu/YddXPuP/8QAJxABAAICAgICAgMBAQEBAAAAAQARITFBURBhcYGRoSCxwdHh8PH/2gAIAQEAAT8QQiYdTHm7/lZtDUWE0y7nEIs6ly+CJCDHcWgLrpi9/bVMiq4DcLlQAwaICHjoX/USNUxSUxcSudwgkmCuGDj9rCRiaVcYFQus5J19CJu4DfxFd1eF1TEVi32iKGSswl5Fq9/+RNb0C4G1rUxHTag4mHZ3Lq5FZmJyUhFhBLMsGYyqrUrALcPMvFkvky1AVyBo9zjd4oiRtXpgXCqkqx5l/NkO+V3MzQGL5uJ2bHqAdS7lQNKazEt2jbowwHgi6ErFMpk1dvuW+OTuA5hqaq0uzTuD0ajO1gItpeIYFdHObI6A45m1PgK3AL0H0xMIgXLx28ARFyH2VziWa5OSFNFLrUPXDqe5nELHH9SmkiutkKmu5Ati62MGv3TyMJBVafUUMVwO5WH+lxSXMSzEIlmtD2jZjJn1GZRiPRCD2ZEsa4hO05nDeZm2uC5pOVhzIcjN64DcAotjaqr/AJgtUdU6jwY2zbjvBKjVxhKxG6zqGHi8KdSqBsZg0QBjcQF7zFo9DiWX1ZR2G5VzhyR4GjiEgm2OlMhvEWtRG7pIJOovMCZuG41W7gw1CcyoePZKqDiDmCn+QZn9QoZz6SVAH3B6onDo+o9AubI/kny+3+bNajmyQ0hGQobjxM8kO4UwKMsOjcoYqBEWnfUTz0WJBQ1WE79xz1T2QDHyMy6GG3EHjOUtwFIFkKvLCJgDHqUEZDBcbjJrcJeiNiWWbys5jMAhpuErhh3FEvalyjiWAtgdMNC9B7uIWPlMg0BetwrLOiKcogvUGyx3NwFS8RaK67aZQDs3EzRBY3n4hHDsRSA8HMqaFeb4h91vL/qOKQUXuAFsRKtKZxKDFGrwjGRkESZj9AR3HiZSoI6zNkaCsRiXnNsssygVB8YuBo/aYjhOIsjYqCcQDlK0rm5ztgqqQltBvhiHCuA5lwCopGMyyN/cVjguqvbD8fBZkGMyS6KxRHEixeYqlkcxye4Zr9yxtCtOeepQIuncSm+ZhecEwZBWIkCDhxEYByiQNkDIchkgk2R8xggqxaIjgVKXXM4+2Ist0FzU6p3G1OMhIN2YMN8y5oji3ioWjP6EQtnOJUDExdSvC0QmfCYgYqOIanMwVN+LolpY2gG2UqN6Es1F2hGXj4giUoJxSgOD0Cu4YUvfCW0vpajRJJjOobIvY8QCCnOLhnUMRpjapbFVLNBFXqLDKlXUD3JRWwhQ4zcRsCLiADYMMbDI8TC7Kz1CqAIPpF7HkJdFPWKzpg3ABZMCwrRxVESuDZK63w81K1a2QySlceTkliErjmG6W209woRa0xRzS6Op2xXLxCVWZhlqcThHiFJY3BIrAxSNHddxxl1M2wqazpOGOMHQTCFIx8y1UqzCc1ZwxsJeiKFDXUG/IKdylbhgQDTeZcpOEgRKtqABaatZrVHNS7y5k6ZnbKW9ZlM6lSx7yhCgwhLaa1HOtLg+Y8IrkRcpmKim74jJUFwoF2vcqLuMCtdRAxVQqVomaTQ5JVCysMfOxeGBdcaQcObbmzgf7lsLTcuStFwLbEQQYY3gzZxEHvZGPeUSkdFjFQOR1KyTbPYQKynol/pHxsge5Wb/AIH1IsdJd5GF0IuFa6AY+INLUOHqETxpiQKIzRBxmXdeLIIZkEGFbgXY+IYUIpBcZUK5qmXXcn6kyVtfuNCPUc/5jkYdFn6lbrASUcy5qZGuotW3BzCR2Ns2S7SZXuAwucY5InNdsjPcClqda1khjWazGqVIIwC6XeqxMBcBoIKooK+JprduIrbJOEQ6yLKyQysuUTdEKlXmVRFRFqRlLFu+4rkAYSK8A6Q4hA8ZupuUoT07JWaTb5iHZvU0rArQUdVuH/NjDaRaqgg6gRGJYDggtLgpHnTmWLJbKIBUw4j2QAu0wBV6vhgc0aJUtRkTiOw6sQYgq0SwAnxEU1y9I31aQc5MMDWoLb7lokYAdJTFZCHHc5cwmH2ZSfFEXBcq0sz1HYLlK0UpeZfVycRQKGF5bqA5M9waJeDAtuGGBQEyqBJD1ZFkbuJAG+4Yvm7g0LlFexO4AsaY4uIbgO25jQCyLATe2IgYqV3mMAalLAAt4lSh0B9YiYvwGYc+Tw2GExSGiYLqWGwFNb8E5Uh99XiVKxCnxxMwLaNy+1Kzi9InqcZg+5US+YXL6hq+fAwajiFPxAiGIcwMPVmMPgRZilurEDodtCJ+LDFgZHGjSHGz7SW0S9PuaEy1XU0qdwPDSZaR0WxTdDbKN1IRcNsxEOBbIHUh6i2qtXuEqnX4hc6mo5FFWeJV3Wl/UCvLNPMo4sFWS8DdEhx0pylDBVhOIw7nlcDn6BGO8Bv3FcDSFfDLEWzxUWALYcQZqsu6l+AoNVqLZAGHUQWRl9QcCdDOVgOOIWq0mC9wXUGXki3lWbI+DZqC1uhnqPCXyHWIYgQirpvEXlwfxmMQWdyrejLU6u9xRbZDv1PgEAYeaIHW5gu0xVN45lvgBhdlfUwDxAKglRVUu7YiNhDGMumfOXFZTmxhxSXMJONfcAtY9RcFgmYJGdF9pRgR/ErEUXZH1ZTOAPmKVb9xA0YR1KC3tqDN4zGBEzK3HiGpzUIadEVuUJYATm8S9VGlw4YdshHnb/LHJKfWxQr8xI2nmNGcyvAW0bdSnStL5/lhAtC3J5RGVFEQByxGhrczbLAwsrE+oN7lW8dwZlZjggFGJq/WZeMzLiWnMFW57f3FK2PcTSHNwUiHLCSwPcS6irsWApG1H9zaSwKuUZrdOY4GNhY/UUKh3Aqke2ItAXcEBA7XGxp05lVbAg1L0DcJUEmmYo7dHAyoVqKxgJIGmpSIWpOIpfOTcVrlKuyRILqN7Ylr0EzuoFzLyuCpsC8xKogCnDDqA7EXwJUeGBtUrpqBdoubBqF4Hb05gkWXA9QiKL6gkVNWNzBJBhPioXq7x3K3KlYv/wCT2FlmAC8oVoHSIubXUxPMM4+4+76gZ1F5gFstQ0aZdkckReCBaUs5jJwgC7qHkT1MfYFzLirlK3Y2QLljTEw2eWMKduyGLJOS6gDV4OGXVLIAoSVADBaV4xEomY/GOyJF0Pc2VJTpTUWWoziVCVKqG5xDEI21oeBFR7C+yoiKUHueIsktLUibv8RiQIAwGiI6jZUsW18wVn06AmA9++C4V/qC9hLynycRjYFjokcgpzMpFHYwXYx9xNoijTTdRwuqhhOYO4IZlb7WNwDruXLyStsqVPqZwxohdt6qYcTuEVNQWYS3cqcMo5T1Psisth6g4BLmbJnpl+5d0wSCHCNAa7VSmCPahq394Ge1VllQ6dmmaWg4cFQhNHwQyivDKyMnHi3/AHBirltmWbKztEqGnKQi0jmx5YIFbyl/rfB/wg7BtLRCKtmLLGeLQJfFiKNxaSXuHMKOe5wrqqRtXxFzmRCR1cHBVmGwYG/5y9Q2eSVMyIAVMTDQjdyuWalxVSw2xEGysNQVkMQsLw7i4QgHcIRGIrqAazHQswSQG+MQoaG0f8moVAWZu4O6P7hfB6ZMqJDzelhZK9/+0+tAiFVARI0tStXUyW6KI3cm2YY5izrowhYa5gEzZC1uFy/og/JOWagwLauVN6h4GDTx9kt5lwnS02Zh3CFkh1cr8hk/qbPUzEYBKNk0W0FP3KcHVhC5r7h31m2vTqCFuNqbPxcI+hNQ5Sxp+e6uPiHl8F38iWBEn0Bv8wrEkAAIF/EOxCAMo3H1YCa3YLKNzg+9soFnT8LBMzYh41MDYbfVzAjq4McNnAxTdTJB5DdYIaulHdEqViNqsDMdPmNlGgglWRG6GGBxUb48YcS+I+AuuJh3LbuX2mXcutS2hMQ5jUru0lm0T3KuX8CHY/ksqitPWAZBX0gJgH4JiYH4l3iWKoPeI+hing/ELNDPgCBf+ILaF/EqFfwo7R+QwNt/ImSV9Zv39YsRU+EUP8GO8f0zIoX0pFrK/nCvX85lv92HuvuL/sDxd7uDzI9zhCfVmNE6IAq+KEMVB1QJspT1xF3aLW1jhdyz8Qdw6rv9TkRVjGvI7oUbxELkz3BagbgUbDuYsMym2JCfcxXzHcSB41C1lTfjqdRgoy2Z7gUTcIbWejkmVEKpErH4gCgBRQGolDdqVEhVlvDwWB4OqSkqkiNdK1KNSBuApuGeR1dSZk0a6yGHyEHYp3D+p/bRFnqX1ARHZaZlqZ1Ahluk+F1j9xe3fQRPqNY4Ny3b/kOQLrA4B7Y8/FZctdsHaM7uN/c40YN3qHuUAAc9WmM3HBAGajSmVnRbxCbpaMEusljlhkEci4E3ZcwytJhpp09QyET1nxtuJmFz5PsJS7ZK9jMJxMvjE/qbalqa92qe3uNGEzVymsTMIwgVKmRiUkMwwxbhsKi2JobviNZEALXipv0rLqOsTi5VZi5m5d7j3LvEzxCsC5p3jvuO8TPMZmLcu6jvE5uOY+577lZPU6Af7EHqBCThMEbD3M8tx2SAgjZ0VG/KFzEwpanZmDI9+AlXCVOIGJWZWfUrRZbo7gSousRnKS3oighidgy8RgXKmi4auWaCVWIilS8Y3C/1OK6IJKPee3UQ1R0Li9zWR5mks+pbgKYZAzZuGGOk+ZRpUH4JaVwRXd68BsWU5NSlg2C59oogK/cvkcCB9+5k+XDPM+olUq58zUZy24xf8ljeSI7P3VyrB/o7D4IjAOFvCVUE0rn3dWvojlYS2wck9ZqX6ID877isY7a4RjmMnUF16T0zjUqN4htZSDBzBIGP2AIQglzhlr9X5kuURxPsmpU5xicXHM1Q7hP46NWdubiWWmbdtVCx9ar4fMG8Fi18A7jcdLKpo2V3KWSvbDWIma47hldwdZrZgJTx0FIm67gAAIOBCUJVMr81YQLCu6uXKAFVdnERrK3QjDKB2O2glXspTvAo/Jce28cHK7X6goiNCYxKLqYMxXiuXEzr9zLnZBoW8Lv2vTHQtrObVfjZV/MGhDCq4tagKStRJUSPMddwbhpjT/TKB8GK2nJmCslp+4KUhSaOJnlT9R3UN9xcHPDqG0+4lESahLnENTTG4umymue4XrJzRdgXFa88RUGE9QBfVjQQApQeR/8AsU6PGDVF/Ew5Yl9Y/cuYAl4DqXC3BystvFJhOYjMlXqWcS8R1BtA04BaxVJVNOrPHrmJU9kcwAy0O3EAoScjZKjqDW9eLxWj1HCHRLDC/wD1Gi6UmcY6nJBC0HwKlo3cGmC35TqqS5r46iNTC11bsOty+C2ZY2gyjkxGcuPiGjbTAi4fREEolMIG5X6mMRzxpeAbV9zA1RlZVN7QlHDoZd2OkOxg1cSinnEIkS7Cqa/SYhu6hLWQUNneGVaJz0K6L5hNwA6bFDQfqDBfxG3tx1hCfFxCXgUEsfEB0R3DDp+6hwXDEWgHaiWD5uiqFChSwoKY6fUGT9plhdXqDoGBcCOUvdVKkFkrlhCKawTdyV+oq0ykQt6rEV1MqxVF9rhtA1cbc05zALRlRI1MECv2TUk0YVpFTjRquj1H1LO41cuwKjocw6b9rgJkgALSX9kmTSC0d/3K+yKLLXX9R6yDbhmrY5N0h0CC7+GA/efrKdp8svUuAdweZuGs+NvqD+/A5g9oX6gAbP7JVBMsTOKczYYPcVYFLi42DvqNlihVCwK7qrl7j3EjuVDxrmE2MQtdElETTKVOg5Ab/NwgIchV5MelfjtbX5RSlFjtLr4wR4HTYS2U9TEUDJ8lKlrlGpzRSxEmnapoWxspnYcYIq6XaxCJcojFzRlq0EBwql+gYEGK3GaChqJutm8zbef6gzUDx1zA2FscEDqKWKq2dMHk8wVSKm2fHG5RKKHxfJQ63aqZdJHauw5lhIWZTfcudm5XUN+4YK4h2g+pzD+o7FpKTepric6Yn3SW4C0IL3qVD8tbfuX+pkqhhusyr4mGI1LoqXijBBE4isEVXbHLaLqr9TB4Gh/+uFIC5QVKAAtTyo/qXMtjN6iFjDeg6xC8j0HFKlbROgGIH2UFBY7imWG3R6jICrDku0+6i8q6rcK/qIFWNqsVveU2vr4jfen3zlPuINm4MJj+wUl9FZdsH4XEAs6uXmvklErg8cn4imR3cav7mV6G/m3bFutt4/8Akl6q6jCgD7maXmVM0Tj3O466qW1K48LXsqUpATY+YjhtuFVGEzLZTO6gLRh+pTEzcb9KjEWmt/KZLuJEl3WJg4l4JWCELIqRIqUryJXKRc1QRHK4SADwKIhNZg1LR5UNivMGPEIaKGExBhLAK4MIeuqwEG9NLYacj5iTvoS/8nqODlyrgsxMQCGlGu33KRFWPoe5tBxoGlSospDp2qZZl9pskDsBVUWk+o9FVe6oJdBUKuL9wywAPAEQMAQn1ZC428bLs36UhUbJZbKfEwpLQt5EoJoZzDuMKB1tbz9xT682N2ZljIVa5igtVu3jiPKKQi2obcnDPp5IOCk9nAkNyuIVUPpeQs2IwThgAVCCKWBfTKzLUaSPSJUe4/lAYmlQL4lVNOdTJlXK7mzWpuViFxELlIRIGcwl1EYTH/drL3cPmOqqbqMcW8yrJwTMPcrEYOZzPiL+bl9RhsUBlXg5mNvDraaX9x0lvqcuOLhl8uQZUwiwSPb3FFmhT8zBV3mpRVROCYigvFs0XIlhdKag0zuAOUtrmKk1EjqBKvPi1oYNMvMGpxPlAdbnFwcy2oKk5gIE1YhcIrRfmLh9uanoIgCZucRQvcrS5UfG/wDZezg2wjFnTDjOcKxX9k06hSN6q4uqq/mbVCocK7VWvhLgGt1hQzQe5QQ52UlAf6lUDsfBF12UwXVR8koFWBgJVDqKYhrw4oHqAL3KxuBmNzPa6I2AUkRcB6xGXlB5ZxCXGQeR+a9QLMC5Nkniv8gL6aRvMFa96VAtD3MsaydPdRgEJpaK7Dj9sumubuX5/dmgw+5XjpnZaW3Ld2g7Z9qlFN0hDoqGVEFkFsN/cTawKuWlwWC6Kss3EaQKytBDtUpMjb1OLldXZXdQQYgB9JczxEIUrDbbRGAqBXR7ja9Q6rCfmUOiwSi4jBkAPvM59RjvEI2gHTSHCCoalP1KrmLHAXOInqW7lT7nzGIYSETw8RlKYOh3+pWuGelD/wAmxSf52H4qfMrMMzudeNI7gx5PZLgMV/fFTe0yBBy5GXb7WWshcUW7gAg+hXzmaomBdxJU+5USWM2gN7g3iDu5c4ljOcam4HDcy6Y4tiw8AT3c1yK9hVTUeDORl83LTPP9RVMre4oz2UYYusdVKsVyIti6C5yXmAS0Cvkl3+ZzKb+4AN1VH8krJqlYf0lgTBsEY+IaPB0Jyp9bL8zcHATtWZlxk9GXzOS5VW/p17f1Gy8/UK4PHAsn8SsZmDnQRaJB2lTH5lg4kN0Qr79Sgt/SIVsj8IEZGqnQuAKwMGMI3V8MvjgyunVCBgJPyHywCRoRQDURWiwAp3Guz4AZP9SllS0oho6sqVbF+6iLMduk+UERLYT+J9TiaZdcze7nePG/qVcOI5nE3DMrF+KonqaIdzd34Kx3FbUpQeUwlRxCdsr8SmYEI6CpiGG5W3xmzqNxLJzh8TRDxt/cQDjFwU3u4fqMrHKNtYJQwgFbjDqwUItqLmL4qGWBKjOfc18ymLmqm9QYtBpDnVypWpm4HNsbjvJx500VA1M20rMRmQoc/wCzKf08OIOcxMSlXDKXE/CYCVUG5myio3qGpxCZjr2TiGGNrKl5xB+YVnWv9lAbHKSs0mqY/UbAgKRMMBVhtlnUektvL2sXGjd6/c0y3mNHclYsviXi1OqmtP5gaIHuBqWqjUzab+ZVo2HAba+5mKINlmuos6ZRBTlgym7zbfN+4VAIGN1lXGKqhX8QW4ZI7lXuJkjvUqmHMdeo1xNNs0MFuOszGzXUZxAxcq2VOJVeNTJgbtUUwZ3g78PtBqETbKOxdMrxmpm5f6lrCbYUmZgZgZu/5hWIagEyXeoOULOZQVagRbYYsXUQS6ssWcYeX1BWJkuBlmr+NwsgLBzM3Wa+JTcFGph7kOb6mCve5VkMbJ7myoBVeobi4L3D3LMqW73ruXZxUtxREawQyx94nG4iw0jLANrL3FWTTE4lsSiCypXGNzOSVRc+5fM3KhHcCtTnEd3KsIbjLtlzDMK+Za7lNDHxeKdS+od8xo85dCmwCWaB3Vwy1crEEGL1DeZmiL44uVdSqn9eKr4ickpuZz4pvERbVUO2Vro+PfgtacjinTLIGAVQtFKpmX2fVwE2OtSgzKYYJzDUNw1I4I8JcE/5EYRyO4JW7BgGppZCpZSwjXEqYKrVLjfcXMG+Iw1DE2j4yT2Mj9MA5THSjdw9k9cFLK5HaXAN9BHJ572Hrojx+TObVcYOlIKY8OBZtFTgW9tlyivcFDSX7g6i+5z8wIEo6Uk5IsHqekzqLvcyZSRvcG8VOYZhHzVl2cxxxa0e6OmJbfczBEYqW5W6lNyrg9XURyyJlNXCt2tbiOGkz5rEPGpxKzuVKzKvimHhgUSpmZ7DXulMQBNmaJA27CrpqBQd+NyrqnMzegvuBxMd5jh1KvePCXOMS0nAGdw7AULoJVj84plAIiPTD4OwrWDE2lCjCsOZxAheNRgTZB8FsxRfYMtwBQIo0l8+4MBenA6Qml1JdgXARhE6aioqZa1ziBTfEgF/4QiowGgUH9R1wYOMlD7joguiBpn1LzFqFlw3aBGp+YoT/jslBnTLtVdwQ663CrFddy2xxuFy5qcNb+I7v3FthqEJi/B78FaLD0LOYHX1GpAUqu6AjbaeJfy8Rz2YVQsKj3r92VhDhqmnJ/iWgpA2WmURyj6uKFIlRB8clYm4hFy/EsChXRXzGTDUDa65g81mgZdErh8OTpldYNw0X+4LDrE4lFS14gVccM2k9AjIgprldQFlaBavU3foE+fiNraumtGB71+8PcHMQgO2Pbf0wQlwRstRQdir2UEqwJTYOSKYonXDKuoAUq4VUb4QjHAu5dEBfLUEC8n7VM1ENgWnQdw19m0pyS4fgGg2ShtYrr1C2NBiBjUNWw0OVYhBg236SzIKUaHSJUPAA6Yxh2l9qJOISvgDDaqAoBb5o5glwPEqTbj0xc5l3Byg0g6xdQA0YEcPQ/dquOHJcINhAiVi4VbiFqZZVCMsogvReBaJbpmLzhVQ5vwjkMNEKp4GAxgrpQFFm2vUuc7mV+2mtOoo3ovRa79y4VptOMjHMNY673HqWzcLwLcx6z16v/FykioqBHd9Q9BlEtLuqYj6Fvvm4AVZXeS6Iv3Lu8uoyuGj6FxHFSiae/AVEcLNHzHXOJnpwkQuBZyigoabGOYOuSMbH/wRu5SMJTUIFymFDmViauJNYKiaor4CK1UAoGpcrLRIKqyBxGtYUef3KrYAVv2+4jSMDyW04CB28BG7l2V1PnnxWJYg4vFT+oDWRWesf+ZTph/1cwzmTBHNsZkNx4Ms/hDCgLV05P8ARGAaWWVR4riGUJbgjL54ykpt8w2OYMVwWy9BLQQZ9i6g0BfdaSj6jIFF3TmLcI+uR9+IWbU2dts+Sl8mT8TNe3YcvuNjGlkyhaVmbdJn5mkvmAJVQ1SQfDgbKolpjwNtISkqsPS5npBZbKQWFTV0wkEpUAKhX3Ci2FSv6lRQtbZdb0hexmSgFtcXLA6YZ1m49FnRAdi80i1iugXipcuC8+0CWs2fmWwbbMcZXYNG8xOLRFkMgfUTSFqqqjF9swWdn6a9DMuTBrBc19wDYI8kBLiWwZSQY74zKcKg0IveZaI4qytsSNfOmOlbv1ExgbXsDtio8jQZz6ns9CrPdSoq2lWjdS4woY5TVkLIDuv9o0pPZt/MSryxaIS8LCjYpqVjUJdir/KQAxBpwpLEZKuZqKU9vXMDgKVn0l26dQNtVbaxa5l4qUajzjx8bnGNwvMvCSqZGnFwmBhBgWxLChR1E4BFRa1HBwmWX2hFW1/pEzNyokIEWvmAI3zMa6hmXRFRDJMRakWA7CJf1LuGvq0VfZGWGZtPax0BpjerYlTUMZl5mqaPTWSEBbg9MMIUIB8EsFW/mChtoOx7HiKUVkm72PcIAS21UziW6g4c01iCBy8D6OY6XKsLI6IFDQZSpm6ML7lrYLZW9EaaCzKGWOparmcWkEdZFhMsMBQnyjbEynIqpVquyP7mekBe5XHuNh7FhQoxM+6u7EEGUJfJ1LEbOuQ7MwO48lQFvUWbEtqwbKmCArLLP6j0O4Ltu5ZcQeitdEK+5WSDanjBKYbDA+oSqYNHIqpkRXwvaI4GQoBwEo3Kfkw/2BR1+rE1MegxQO6qs8X1Cwt0N2bb7zHLw7oumDu7Zbd9oL+YCgAcAVLtagBuXTnNx2soEF9S1uPrUrELdwLYkHPivcLNQbrefKv+Eyiux2mH+oo3CqzxLgFxxN+D+2YrwTi5msTUNsxKgQdo/pOYV7hotrqGYoNQwbYzkRfxAwWMz/Yq/TKzEz4rMq9QjhyQXRBUqtSoGuZdxJ4V4XbBGlWtM2w9NKWzFkDIvqXLaPfK/wBxpMbluqImcRcwM5j3Uu2Yg3MXmfGfDz6ls3KQ9xcZ3AxLhuZouaSu8kq5NwrvxSQk3uWamKJVZwPULSSrb7e06ENw3NrZqe4oHLaDzLtjuOZRcaREESkdMSSOyMv3K5hkxmLV6lG5glZ+o1yf3DKzcfsGf0T4mWU15rEpv1AoWAYLNFtZ6lVYiIw58YmOpfE1DO5nc2+OoC0dsG5qknApcIpqD0pI8zR40QMe4OIs0xHBDLNVDUZTEn0I9Ph+jEsHLCuXAlwNe4UsPNjgK7iKqYjDOFs/EC2O5SAWQqGpm4Gb8Vm+JdcoFhAuH8cRPpgoMoXYDbPc0npuJYsqy7FNWN+Tyy6zzG4OIe5zAG5m3qB3KhglfSYtnEvO4oRdG7OQfTB0AH1ccEoq5xqbTdVKJmqhn2gY9xCyaj4K8JiZ/EowKM4YIixbmQefFDCBmWG8DzEDtU5HGf7iEyFcdMqnAHwVK8DUUVaBVeKhtSIOqJTvKnw3FozkdQm4/IhzN9MhQRsEYU2fUrNAeWu40gXdYuVKmanNxJ9RaahqppnshgjoW03GT9+ko0+pvQBoDjwOfGcys7lalFypVwq4y6lzKTUGYjwwfo/5MgcIKtMb7gCWluoCDrZKCLaYgmXKIhKv+mbN9ylWVW4agblpXrMsYZioS+CxHpKGCFxaKxINcAMyxVFrwO4ZBgbLIRlIr4LojmH7HrPmLbzAW3riYVbmUirj30Q+5gOa5rmcVTfPUERB6MxoTrtYR0FaPEFkPV0SzGh7gcyr1NjubWH+RCVooPgllZgY3EouHqVicQ38zEq36VcpeEd0iFGrlXrnical6nM1nqXriOhVn5gOKzfUDgpZSYIINAxOghn4gZMotu3iAQIWe1ojBqdr3qa2VK+PT1BTQ4Epu/xKwFYoOp6hGWsBs9MCAanZba4kYOHeGrjxLKAQULbrp+g4IMqdZGGWKCAXSHbLrgtwcg+SYDycNmrMo5VWZryzkIssA1DD7qLjUsVoHLBwCIckpqFV6iTPlx7lNxamMzmO4mMbhYBE5l9Sr3EuczW/C5mIAMa47iHhxNjNyExURA/KgLOVe4t0LyPibDPuc86Y1xAazNQGV1aZD8TNfmI3jmVitzTUoOI31DJiCu5UKvUBEUUH2wcCDo0kwRJZl7gGj6hNSpDpP/yMsUI5aslQUdgtAkpvNX9S1OAhdku4QKPzgWH5hb7oGIGYfwDXw7A+48V+BnQjrloD5i4SoUA7otV6g+1QwNRmKj2OUiv0r6yqLwaolYWfylFYvZKDXystF5QYAXYitCzcFSz6ln1Zr3MsJ7egyo4gnd5ixVXhuVBQHtRBBL8ZFc3EWiaocdRTC2ARAnEmx1stgEtP24SnoZklzmNquK1nMx1MUOi2hOWVymTBQ/ojxiwodo9wg5tPuS9USaMK/aUYslSVlUdMidNSwSr9XxkLyypMwqhxoe/+RLBrs7ldYlaeu7ylA/MugKWw8/2wwzGOTI/uW6AE0Kf3AZRxmMKz7rmEgKoG+7+Lpo9twwrNhqBCsnbc3wQKuSGkDnFXUrw82gu9zJduOHKrI4VRVVXFTPv4ov8AEe2jTw1ySlgAepe4nWpWPcrN1rxjiVjNQmWXMQivjBmblU+CVbEr3C3EpZ3A5jxHb4yiPJLcRqJbM/DECKSboLlUYS8Q7sIAtWW5IB6ywFsMJiHpDhOdQzKrmXcA7lZuNozCXZsBSemJEz1uxcb9oZQvSRyQFGz7uUIcaxD1crOqwXZ5qGI0wqroCViqgJQTV2aboUlNj+oXBhGG9OWWCGirRqzmICsFHZB7zQzq+5nIMntlhSAQ2a7LhQA/gVzEnlO4q2orVMRtMRoK9ZAf2sfb0ymCIQomh3cLBEjfoCCvszIXrtjWq6dC0PW5+TC7Y63CKpwQNS31HHhuXC4pD62gGmZVj6MVLZl5uHr2Tv1wVJzc25+oiGpC/SGLrcgdLaikjNqBfJzKAzQFTfxCEAFA0EchSLpdkDs+DiHSFaqsV1UQE6gKuNJnBQL+YGjDV9fhFUrzLplbw3xd2j5ZTKVeukyrHWKfwlVDw3RFyM3vEURz+vlR9fyz/srxdiGoane41Lm56iQOZVSpxibzK4lZoiZ8GoaJUnbUATdzaK7jjgN0NRTLqFW7MRksGqqLuHJRxHDv4h3g8HJv4JpKyOY1X+Qc2BU2PcNtS+1/13LlQ3yRF1zHsgIGyjFBHDVXFTEp24ajhlNjBzAtjY0TTqDbL3BKpjuY1LwM+HG8y8EM7nMxVQenFy7sqEWQAtX1FnBzRyGoq3zcvucjxF1ml9G2QKCqMFdS8BOJSE2Smy52SmVXnay35AuhRsdsYjQX4eDN+MIxFbv6/hzDmagDL0FjBa76O7Vj+GPMMTFwJVOPNkSVHacL4C4jK2o8WwlhF9rODEM3X4kzNypVGWVOZbWDsDBuAgcBKgWx1ibgWYlMqiVyRIPMAm8gqP6JHocS/QFdNpFcF4iqiRdXxLgxj4BpqUsRC6V1Alzi2od/8lxYhaLRtlA8JahG9S0yGOEpV/5AyLl0u5QWsBABWueITnjNC8qsffDpAFAOqlbqfHICx9RngsW/iBUJriBHEJsWZ3FpllhvQeWhpskwFCW41w2pfKSZGn6jYAbF3LB8WIcqGpXUtuGHEwoxw3MPMMMT3DMR2/fqWeoSv7hunmUkde5QaJ7gO2pV7It4F5G25pxHMzeo9APh9KfiK0sS9jmc0yrZbMxM5Z7YPepXO1ic2lMwhAd4KggKPwpL48tXFcfwxNw3CMVkBy1Amw2yypxOZXhaWoFV6IBoClsVBEQhYmmC+HFQKMsysMybYN6hkZBm4UApGCPX2EatMmiz7gZBAI3XxADjisAdzOtevGsk+YEaLKBdZhko0til0kZwL/kS5airdMuTR3w/MzR2NH5i7caAZIczZq0BKjN3sqVpUPfqMsuCYovcUsUbCOl+YAK3BWfqAGdXBgz4KOx9GIqMPI75TKME05TTcB9qlevXrUTLLkBv9+FtWFdtXAGEzP0cxHBumudMyiU2eghdzUmwETsO3YhM/aoE4WQbRSS8+u30FQIfEGYYwRW6Kl/OJkYr8DDdRIBxLMp7TFVnIftDTYZIHgmTkm9wqJKag40aZojL44B1vUog4ZmiN4KviD4OPUr/ANRLJTRKlYgHHcGvSNWiUKQf0MDNziOcEiPGIKXmhXT0wUJkcTiJsZV8zcaE/BCgVBG7cRgVPwS9I7ZHuNDHWIauVzFQItoXuWzc5ldyhTLEcKfRRdwmaHQDcNYOhyMCgAAYDAfU6m4NSztDfpiIBBdjN3HTrHxCBeIiPdCysWoBm+wgXgpcVZdDBp41UaGQVELfUoyN5Gj0EfXBNcIRN3YB2r/2HHWDw7QLWoHFuDTg5bwA/Mrp4HF4GJ9Q3FcCKPJkYOUoFuqsRMZM6AVfq48kaBgvlPnZLySq3fW+zcPJuxxZzjkI1ikhVhV9xq9p2KrW5gC58B0L/uOWu6UvUhNqql/JlV5C6CaJedwyRVVctWfqFGiXKxD8pdNm+4KmdxFoRRSPIwqCVhodEzNMdysXNM+5tBRdwWGgH0Irj2D+fLvvzm6//RBygVmVeZVYgWajlKiaxKzctxzBfSM9gys1XuAFwQ7R0YDGrQNnqVka0xw35BbD6hNUq7NhcoXukbZ8kUxdxGvyBAlfXZA2JbXwBRXIX0Yw+gFmFA0Kssdr8wYwFFZqIseG1iVLb1vIUSy8GIpCDQVW9RyzeLqLSSB26ioyhZTsNyn4TrIYYNYGoez+ZQfUW241mb6ItWAIjatlzRLdXNbgcrNDRn4mhmmbZrhqH5QB0uNn3RBXJJhCFiBrLXUJQ7Byi6iP1mG1ZYbRN9Jc1qBAPHLRUgUOMb4cruXREW4WX8TKA8RRebagOHBlQszAZ+EBbEI+6LOiVmLbwxQKgHLHdda42g9XzBOyooIq1cVHbf6jI2/fEYxoUwSqfUdwXFqudfczIy5FO+ty9kNvUdixttAV+pWAJAcnomkMDpMRbNAIkIYgq3uGwtWhi3bNWKtKvmLO4ZS48eo6gT1Hcqf3OZ8wsh7jv15cZnVziOqnFeNRuMrMNRg6sfki65oqGpWIbbnMtir4k/DMq3OZZxBzUtGN7J/UwMz4gLK9S1sZquIdADP5NX6jREIlmvAdRo6htpqKllbKJkSvGkLrUIVbBmIjiAqvEGYk7TLxfLUPuPZarqUmKgFi6g/dJwHCPbQi8i3K242dG6h6g5rGC6lLix+xjuIFKm8lLEieHi+1fmXAHZC2d8fEy8HWgrhe42SIhWt+YRJdbjDHxiAzsPSvRhwS7KrOe+Ij8IOggmkS01niYvO5kTqC2HMNAYdrDqP9QiwL4BaD3Mii561dRysSzNXbNYB4XIV8Yhr16BVhPfMoigAFgCCINb7gl5/U2HicgFB3L8UaRorH6YYsfem3w6l88Dat02oluSDQZkXguV+lGbAjiIkKAWu6KuBKo3Dfw3+FFhSMIAFBHUO9y0KuW1VsJxDVcTQTcbqZRdSs1KplUSsSuZ1O5TAiZOJWNyoZmm6ldxhnExKzEb9T1M3451OzkZWJWPc9M2+DcF39TqcS2prjyfyn7TbqfUNeH3HWmC1U4IFFzSoq3WyAh3RMj1EDrRBzcFZe2GWrQguIrS66zFb3sMQdBK0QdhyD0R5cKA38InGlAMqbiBrZ1BLlELqGyPjyqnDEUUQpsbtcQ23zDz6gm6sMzsvUeA+o5eAy/X4gyH0cjHUsywIaPiHTEweYcAAbxP0gHN7FfSERCpoOZprkB9JQow4oH8QaI+Cc1MsLCove1RzLr7lcnigKE5WTXOpY7nGtQQWgPdQuC3LEbAPy/wAloidnGt+SfCpmWoLjPmcrDXms+5USoSsepWJ/yZG/GIO4Qzic+KZpLZx6nXg1O/Uq9amZmW1qG5xAs6iz1MnUTbDuFpNSi/ifHPi+SBbc3sr3umcwVLrAyqhYR1GVDXvP7Ji5QNwKI7xM3qBjMqtQLdxaAg2zWOZxgnrXb9E4eYe3l+2BpglUpKlEG3e7chFAdf2MaP0b/k4Cntk639ScofQ/3HqJjIEDqD7R/qWI+D3+QWrN9tTZj6QXM+kAKW/SDdZ+JRpT3JatMxZuCLcv1FncHeRml3EFkHJXmcsY2QLjVk5xOLfLDPEO4G00EEkOw0k1K0tEtCmlhBmlgRg9L5gzc4gLCvyRaY4l+pTHBDx7nMYalQR48VuVTKrU5hDOI78WnU4gSsTiVBnxOZUSowxNx9x34oLS8amfqNo1viA1S2zUc71CFGoA3K/5MoU3+WGZ0+Mg+LqAusQp4wzhx4zXxNy7j2nMqblAsqsxsH9lLSxOZdQwyS2J+5SYfqc2zGcQfcumBK2z7iywfkGIm1uTsd6TFNubqkTxH0J/lSga/VCYJkxwN5z5HikUbOOKkctT2SnIfWVIKA4lkz60i9QP/hmPfJdtBV17zHahVFK6grqLL6JXJx4c5YZ1G5gbQDuGiSC2MRJFeg7ouWaDegvE9RGoSr5C5iNLQPVtfqczSSAWMNfKgfoCPRQLq1W4j7g2bB6qMHYLUUWQ9Zh6/ErIHOpfFQYbiZlYnMpnxM1KnxDxWYRh4pnG5xEUgqOCpo8k5n3LtqOWViMTPhPcprUrqZnvw61uOsQXCZLwiP4mgH244/Xjk8Vkiy/MGL1hi3OIC8yszoiU6jmW1uW4zBbYucMsFdfa9JZUWo5IuLgxdsJUpB4tR8S2BEssdYazmCIx0h18xsmesx/KI0EqJrImviUPS9XxB6Vc+pU0qEIFYDWssrIVR1GIoZXGHOYIAsgRsSLjES+Zmr4iYRXFTlgNLTAiVv3EYUhLYG36jo9BVViYfiBpG4u1hEqdj6ifuWQ/KOAPuUoCpdqRKGiEuqF1DOEpgbAx9QBbQE6ogsHcyCXgLB8k2IAWzQFEEQQRyJz4UxQpEYPuUc8dBQxt8Q/uVEJ/kIzRhGgAYGDByMphI8FiRu7Wv1HcCHuO5xDcWsRMzNRslRYZ814ItnUMktxiWkHdzcdErE4hqVKyRw2ELnqeoznxip6g2VOKmyXiVzBxiIOoAKYJXue/HxLrZAEKFON7mWeIbl0S64nNz4mpTXc2kFUp3BdTvEvGpfBC0VtfgWvQRLFGO939wisdYBbEVdEEWbKqYZF9ao4EPUQ01i0+4gXaEGk+Ahb8XHWXj1FrBOV3mIOZa2KchGdfZS9tRZbUvdUfLLjHfH0PqP8AheZNYVXqLfhftoW/RAGXjWUC6mIQq93DUNw6F1ku93HuERbIBf8ActwJOXRlqGtRDe+ENFP9jUBKWhOL+o7mGLOQ3Bt6OKnBDpHrBkuv7jLVVICXecQxyAtjFq1pk1Qx2nuDRw+YCCSdVe19waoyTVhogaGnY13LbZl07TJPwlBCXkW/crzkU1ZhoAB0VFO1qbY8zHLOZx6gYlSpz4vNy5xOZ8QPAQNTuGCcY3Es8VU68VglYxBWE5YeHcrc51KpWMOiNYnMuXUXNQNNQYrtgCzFp9jKlRU0NQCsiwWd5N92Mpde5qGTxpZTH6heKnZ4itzzqLrwFlw6Snol4QdgWgzfTqMYLsyA+4WlHMv/AIEEGIXsLa4nYiQUvfJG7XBeL9xfxaCrhYwoMeUqbBl5uFLNdMPXwwcsVW8q5Vi4TEAYuBU3zNV/mXVBCIgd0cRdJJ6xOAm1h2l/8mJaYuiQBGztJqWKSjlfEAJ4lrzOb4iTIFZJ8rNpxtCnv5mGIpbKzeIpyqYGOuoXAooNqWae4t5iALDTS+HuOvmHxGeq2dWVFvE0c1j/ACcK7iaJ+IYWOjEMTjUIsv3OWjwcS9y9RmzUrxxNMJzDcvPqXbRNyvmXT4qUnUM2XAI4lV68NXKwY/cqM78OfFYnzL8twzicD3A2hoHxicR19TTOVJcvkyAQ7b8A8NP1OZXMJvE5IvqB3Bom4uoDE1PcWgf8YR1iK13Kz9QcFS9GYsOpVG+IOYVDEL6l1VQqiHKwu3qVmEpl9y8svxyyi7g8cThj3Hcq4czEKl5nGfCYuceNS5WfDqbPFSpVtwu4znwzKTeYwLhKzZAaYz+pfKOc8S+Ihc3CXvwmNQzmVNkDMI3DJDc1xLInuX9y1fUBbL28wD8hfcaCbzKZWI7lFI4WnxAVib5mnE+SWPEpZZOcamsym1bmKJYsB1WJm6gF3cs6lF9SxVwC39SwyoOCrURN5ldx1CgjuU/cNVfEzdzHhySqmpfc0eDcq7Sy65nOpUrOpzO4Fm/C8Q3GVmoRnGpRcqdt+Dq5TUoG4fEw+HEqLXPEzeZnR4plURlOJwy8sR4xA4nzDVXHOKmb8gxOZWGbmYTjw1h8cQbMxwGJu/UPBVeE3mHaLCAWfMNpAb4uBUtlD0m4mpyy80zi5fqCQ0H7i5huO5eMMv3GGMxMInucQwS/czNZltTiEsWxHRoqGAXmXnbSuXiql1458Dkv7htJTWIlpKfxNTFzcYxOAOYFKf1vq+4lZvPUubh6nM3Oc+D3HEC2b3Kl4uXmcMucvh2eGEZfjU5mahdQzGbVLlZnEqsRbY+iI9TFeG2fZKuqlMua8LKvNy5Qffl1GJW7hq5VBMysSpcHGY5xDn1LwSuZdvqXYtaziAbQ7mojuXxKIqoMFUby9xYOI8QBsjuoXGtsqy6hyZV43BKhZctAdTZTh+GX+Jd+CoFJV0ERr+wFAH7Lh6WGq7n8RlTcqu0CKdS8jmctwcTiaZoYgK18RmQJq0m5wBZUqsSsbgW19TBAR6ZpjCgWqzliZrmt0Q+DmXtolNrMzlgVPcvGpe5tlxDwdSoE5iYYTk8OpmbnHkJp8NUQHLNzM3mErL7gYqMum4IlTXuOpWR6hDGJWoyp3KzKiYnM5hqBcSfcdS6hu45Vi0Zg4s1DMqne4lMq5q04g2LWX2xVV9zMyT4RaZhnuqR97nMwHgpjuZqZ6nBctycTa5XsqYFXmJnGFx6X3CwTAlhexxBZXDB4jvUHT8tR7Y/Yp3BowR2UxHxpCrgf7lVw0Fu2bXZ87gtLNLZmMCkoIoW1CzV17gnABQtT31D5YgliVhmE5EXfxGtBkVdHcoEiqWvDeohYKDdAtW9R0OoDlKHapvj5uZpMYF4lJyI5Jsi/jKAFBZ+EZqqKGNOffqLmUIyKBfxmEywXtUDl8ZWJNEBq5zCe/FTicw1FqZzUphOCXxK1GViU+C+YzczXucSrIyipgqXTplYjupVMP3G/BzNypu7hceO4btj4DFsYe4Yma81TL/M0IwMWz9JzHc9s4IUGp25o9F3DL8znwuNxs7jGgcocR2vmVMRE5mmPZkmzqB7lavOIG8zDEuI6pzDg9RYxtA4oMBDEz7d/8CNu2LVEWgAr2MR5VFzCyY6lVTY4gbbWbWswEcUC3pb3khxFqLla3+6hHggsKZKdSlSruLb8xFYBKsKfLEIvslJ2YRwn1UC6WxiT+mZmolpYq2nTkhIAYJhHNSlcW7FCXcNgmwLdm426lQUZp4bidl1jyq4pxVzeGOYK/BK4KKmNq0KMLeoTviEbaPqIdE2cLf8AUaIxiU1xH1DvxV7l3Eg0xhbAlZ8Xmol5jxOYNxePBqc9QlbJWJiXlKhZHu5siZ2xMEqo5l41OdSoaJUdReCB7mmpcTx/cLDO45zA5iriVWJ1FhM1qVi47hd/7Ksxr34NzCsNzcN/U3Vx7HUXioX8xJzG3ggEoRlJucXmYvDKzEzKxCBj3D3PhmmO8GZdlAjw6hACn1P7himijgNB0RXUwlNukf8ACZN2ifqXSX3HcVOrqlERyWrqOZeaalgNH2hPHDRq5ruUcHy9ThIMhaGWqtnwlgfk5gE0KtUEME4ZkPhOYsauZFh9Hc9kbEYKudUpO41YWnZcsZ9W5L+e5UG9BQeG6haRtM8xwB1HBc5IZ8bjgudSm5RJiO44MROYalVOfPJMzBuFL4K3O5zL3D48E4nu4GJUMl9RlxlzPhcysxtnMQbhaSsVKomeojd+LzNVM5gtR1AjgHEoncouXbAKRiYgVaPp0Q9hZE9QwMXpmWUcxqzFjEGTceoR3CI1ibKmXXE5uK47iEYs5jKL+ZnSJgxFSZsWoNQugyXPXoGqfBCutdY5whUvQP8AU9oIGmX9EHGgNEpXZ6BMtQdVLk/OTqae/CwzG71a/wBy5y9OA6KjpRc0i+V+aTU7OmKjX9DB1VfWZnd1SV1/RgnR9IKlJnkn+ziPwf8AsCaGv0RQi0gUlWmV1c4i4JDmMBZTKt9eOYgmLuBVxKZqVDUryaPK+pfTMG2/5YuYl9QnHMczVRx521Gcyqnx4vwYly/vO4aVjMFeHM5mScZ8U3A5uG2s3KoZ1iO2bIaj7cj9Wiz9y6gXp5ljiO5XrUqUFRiGNwxcxuC1c48YcXElBmUVqGNRbpr/APfF3CgxFf8A7HAT9TFvPzFXL+YDVRQijuXXOIrb3DKpa9sDEeourqn4i2C2y27uWqlgvctSrme5p9yxeX8xeF/MNAuY+z8yzlqWrvEOW5XU+5iiVuvFYg45lwvAdrLotDkUaIgBqmH2CR8Xial4lTTibfDdahuXXh4hzHxuJj+/FVbxeKhmPl1BuOp8+OJknDGB5cHq5cqWVCKPExAPHFS6TeWaYHcrmEWDf2Sqm+ZphnErGGDX/wCxgSyXkGYUuNeKnEdXdsruc1COYKfEwczUq6qVjMMIjFsyqYcBChNjyeo/Mzio5xA4ojmYxCxcTOKOJgspHm4s3DcMgJTfqVekZVwMDndsi5jazSiGgu5VIcrgZyKj1AivRDd6Esh2DSfufS1QtjFF+qOFx8sHGXNM9hzDQlwVdy/qJ+Eiuilj9ysHxKmpnxdyoEsuoTmVNn8bqGdysxyVE4nEKtzH5lXKlZgMdzcxEm8RutxmCVmpVMaqoRPFTR4rnwW5iXtnpDWeIN/EPAVLBF9upRfj3GnUAGonIgY+keEMxgRrEcwpZz4vuOzxxKAq/BuNhKGV6JS8htu89kHoo/SaMohzRVwstGYW12rmvqCkuHojQcmMNS66HFfbMvxFqpHVU3nuo0SsQSyCtKglT7m2rVB1F9QzReDmW35sbFoEJV6hTlpbL0dAWPqXLcrAWHDKyQCix9RBCUFW8/5HqtwIJV1Fyp3CZ2uUpp8wRn/6hmaLa6AvKuoUOYyJa+tVBv5lcW1CtM1WpY+5cAlANwcoBwV0kDibEALf5TBn4XmXn4iHESUhcNXM8kdMKVOZ8ywY5Z1DU7jqGTUfHGfBkm1jhJedzHjZcuoauOZxKpjd3GFauMJffi/UqouI6J8TmbnMIwt1LrczStMLuU6g6oAMY+ojjUogwOGZnlXNk6Ru5X1Fl4hKSD2Tcxgmd3EUoslQ3DiG/wBhPzDsSKdVQ9zGXB8rq8A6WgsEoH/aOL/ct/VaYTajzzGWppV2LHEyxWwsK4IjLKOKFovtgKaWXRTTWJSWiPoJxXh21QUXWeTmVSLhQYV6gewHqUUVE7Q/i7/yAQKoxHYhIFIAy6J7uFXm4GwAFvBZabU1gSnMzRZTydPhSz2VFKx1LQzl3QaOiaS/r/kVftSb+5RYCfCjmO+1/tl7LelEH1NB+iXlTpL/AHmbZVXDNT3xMViWMG4ZJUOcRy2SuVqoM4jqM5nHh9TfjNdzUc+DT4f1HqpmqJmN00y2pcPnw6jgmKnX8MwJTHww9x1Op65mzMMxUxHofxG4t5qXfzKbnNQIlyWLfM4a8M3c/wDviamKg1UuC2VU0xcQ17jKNzAhDpC0hrucBHIs+4/+QMwH1guSA8Ykar1cCtUjUgPA8ReEhbodR8jWh+4tKFK1H3ACaAX0FebCYcWXbJm4MpYAz6xAAHcCcRRV1fuVOEfEL0mGCmoYuJiX6jV+TUuDtiMNpcZmrhctL8CzHgfK5QGJzLhVEdzFQlyzcDMqVE4Q1EIaajYTPgmYZxGGWVTDmbcxPFmphjj4lYhNePiN3DMxdc+ExuBbUpyTiNVOYbmz1PcqCXnxcGorZF+Zs+WBcwHh1mZplwhiXCpX34rO4lNXiF/UqrTuAjCHmnDFbd5dsr3OZiXmFJLq6j6ZWu5vMcGJxNJeZYPhZxKxDENxy1OYEvNeGZUyjqfcqvmdeGiWOIYjAqO5WJWTMoTcePGa1419ysTR4Dcd7m/Us1MJvMSi5XqVU/2a2hd5hncXxVufqXiaJTdwB3N8yquMdyioYupm8w3Ayx9TmO4xnEO4RF1ALprEZnWw+hltmp9SsuZaXxsf7xYq5fFDXEXEu+JdtagUT8kHTEriGoclyrhWo3pqGcRJ3KpjiGZz7ldNT+537lG+YsssuMsqaU7jncqi+JQ5mOokrCy8+pxMlFtAnohHj3XU3LUzLuG5nM48VNscwP4OSHnaV41iaJUqj3NkqGWokzcYfMO059eFolxl49zG+YZ80+EhfOpmp1Kp88zNTS3OJUCPrw7hfMTMCuIlbgpuZ1dOIhytZCcw9zu5ZA6Qv/Mv7rgn3C0MTB4xcIqtwLLi+5xAzKeY5cS8QW9Su5UK4lw4cSwLPxGYZWYNvvUqVUAu2P8AtSrYJcc4I3BxCXc2TmAF20Ba9EfqnHMZH8WR7C7wth8Ec5b67jZhgXGpkr7AYfzAUGThjnwbnKdTEd1HXoh45m4GZrU/U5IwjuD6mYppOJeYy45naczbw78Jmc+HUtCDFxBZx4+Y+HGoNkTMZslpiZurxPUdzjLL5mnDLzniUt8CYaLP2w18x9sxGriJrP8AsR5HLKKXOKGJncyNxq5pPcMSi4IBcLoMxPlExR78NcfMTf8A9UzNTi4XzggcpgIGMdKgcWm2X2XL8tuJVd8zHEWcSj75nuO5cHbUI6No4AOIpxCggBavBE41UpAdQhWwBq+REGrJdWNwQIYFyDq47wCHT1BASu2htlFo9MzpTEq3clhqpS3zBBlS+JXAhsKav6jW16zNVhFpxUSxJYXxBgfmGyD2VFvNZLjm6A+PFZJiJWfPr+JiHubJxGX4PjwmbhqMuFCyJR5YNkdypg48e/GmMTEGVmJXi+GUVHUHEalS6m2JggRzM9SsQzffils2lbmS7LTBxnxUTMPF3lv5zLBe4syljGBMcQh1K3AJjuNVqnl+xL1xkhcQqBGzYV0fEoGLlWJ9CcQmas3149QzxEnZXFLCjmvkp3Kg7QZkHeZRS3J56XoHbLyXOT1Es8ObyGo8FMXe8XLZ1zDgBdvUURGe+4OsTB+i5fA94lXjU+8JfqLkWo244i/AQImad+5Y/wBq4BluWfgcfaWuGUdFG8i9kTEqLPTv3CzXa2FJ+UK0MNcg4Vi6ix2sjWEZBqjjKKIlBeeYPzBCSsMXdVBObqbJeYBiWccVfECdsMEX49VGrcVLpZ14auVGfPipqFMwOosvwwR9S5jxrx/UMM3cMQM1HWPHEuLd9TiDfMrxefFc1LsO/Ce4lB4acdeELhicwxMwx55iZlYnxLzAONinJSLbL7jikn1KE1VVPFwK3uGlBxlhdXDKzTrEuKzO+pxCoxDyL3PqOqAgQPZLkdZwHYdRq+w6+UfMbbXuVnUrUPsY2NtS3pWir6u4ywRJ1W52j1PSgpWfczYiuF5Q9TU+jStn3KTYWBXattjOjHQP0xa8CowNURS1TGQpA5hbPvHdlgTJzDQ45ImIQaN4mDcZH7RytGskHWJoWkKCF7nAftBH3LjK/mOVM6eYtRdt3AqAFrQc+Ag3LzEts8vEzfqayTfizEZ8Rs3DOJUd11ElU+LoMTGqmbnplYlYmGN4IQOfHL45nyx1CiOoa8B45lS5pMx79wxfMp3xN/ENMwcT53DxcFWOQqMNyvzKXUF7vEc3AglISj3BBsqD4pB+RmDAzZMwYzzNuIVErMTFm4WSoqEqx2JuYzzLb5+NRqDSsV5VfVQcwAnU0oMt7iljv8yQxkULZ8XMCBEyIU/UWtp5Il1y59xTFKYupn6hnkiHeYHJHKSrqUJke+8knPhFxOK6nEqz4mJerlJiPdSv3DVEs6lvUu+XtUwJIG1cES4HYSxfo+ZvRACI1canxDQ4lbz4ubjhnEDHzF4il+LhUagZjiCrrxzE1PubleOZeYziPxCNtw6f4JmczJUYFzPM4g1GK7m5VxKlczZ4DDuuI1Zu9xZb8yjuCybqz8JsBzBLxDGfB3PjwHhjuEYemOYzUImhOZTXHwStxzRP2hc2gYlzbiVUTF9z6j81mB4CiUhnExTq4uBJujRhig1AsuX1BL1Au7xzngmYWr9lmyCSwU5uJTTufiGXr5gTcI5MemPYoH6Tc3bahKUbEipi1DVd+6/2XzBFV2B+YzNtoDElHuMw+6Phpc4qKPCyqsqGvB/cqXX3GVc1HxU7hUrJA3NZalQi3OJc5myPryZYnglkNxLIWS7fU5l/iLRcvEcziVLY4yVKGJ1NOfGiGvLNYhcDmYOZVz6l0oC5mepVahuzlEi4vcPtNH3Op+vBHMdxblZzDcPuW3iPASpWfAjhwOLiXBKbltHZLVgcR6JMIy0IdrpPD3Bi2UksxFvs2hu4Cw2MizcPMqhLBTB9Sxu4z02YLENJrkfZKzHdEAYO405RnqDWriLMiBXJeQ4PcprEj4FReW2blCFEbaUtQvzUIyj1H1C/IaGk9QNeTtun9RVcpEB5+BE1sD2ttfuHcsrNwMFrhn8vKLJReomuU2sqjnuXBioGiyvxEiwfJf5CRI5NDNqSwaeImPcviZKx44hOJiAEN5lU0Ss0xaeyJmbIOJWqjMkrEDmN3iE3Mwa3DuNVDEqow3GVCcnUcczmVZLqPgq5zT4rPhbxDUXMtXzGBTc4/NwzbVQvvcS1bBlYmKH9kX5YQlkAoZWMzncNy8+DeCOZUMsH8y7ZTzDwjEEDZPSA1zvpdB7thzqMr12JtqG4Mti0VAg9mOuyACDe0nb0RWBIjaJf6hRxroOQPdQnKnL4eEoq+ouoAehlEDjqGrRD0WVkdMR53DSmFEEargroP3NEOsRWos5GYLXzWOkFh+jlFd7XQX6GZ0shYtlXcx4KSloPUtKu/wDkqYK7NoxFZsEIU9AZOMP7lcA2wD1KRWfITcc4JLVu9s/qFx8p/qT+yd5i6zoQpoPgSo2nuMDl3MxtZuES4mIMFZsnMZzU0puEcy2MJuETpl8RLxMhNkrcXjwYm/C514S5m4mNwMR1cykfmOYXLotl4l0QuprDuGEiVG5MJiaYiT6hW7RX9y7HbuYszCcS81L3BwtwSsR1AryOGFcypqYuvCVWc9Q2+Ibh/wCiWuVzzDEguxVFnxDxltFjpivICykZG9Zl80apZgzfLiPRBdcqV2lzIx3kKVXBcrG4qgGOWOmtHFQJohsIaDolS7ureoRja0wHA7wbZma9RIij3gUrXM1HxHlxbla38y3Ny3c+31DLDEWyWzOK4jgViYqKY8YuGLi4hKxmbmiDYzjxcXEMEYMcvh3F4hzAnELWcxg4lEGLWfFtypme2O7huamWVElQlxzGEr1DcumXeJXkd33DLmOWfsVNTmBd5Zb0xRG2xHYfBDJhmV2yskvNSsTioQP7lXdSu1xvluEbly8zmA6XhfYRbun9lf1UqpbUuvmOBbCCMqpTM8y7xT4qanMvHj9RLMQ5vxX4nEMMwtWcw1HWo2F/qVccYfHcXxlL6my4alR+fHUzNY5iJzLwEMNQ1HwS6YgLxmO/DK9zMI4IFqypcvMwlTcoOZhGVuV3KxNa8Vc5InqYN+HE5lLiNoX4GmX7JYRi5ERNcjYzk9zNEqvuUlB9v6n6CGxgiYnzFvASsyxhuckWrxErcu+ZXE2hl+IpCcxIMv4mW6pilWGCDvw3GSG59zcPHG5XbO8fcLI21UrNx9R9wlVqVKhjfUKmIrFTOrnMXUCEWGMRnM07nK8Q1U014ZWIRYXcq44r5jHBAuc+EzKHfEe6l4nEvxzHY3LxODw1HcqPE4mfBKiQvbAM5hupdwmamVJrmXnEYZrEqvBM20C/gY5UGJWL5ubJrcp4EbwPwIy3sf1DZLDcpqpzUqVipVG4DhhfMurhiLTjfjPjUN6nENdShlf3K8YlTA5YMXEs3Br3NxxKydTGiVs5iFrCZqZjMSjQBXogFu5mipbcBy0v9RipbRtvq5Rd8Q5jO7nbmG4uMR3M6lZiQjmURwyuZdYmZVxWPzDcwOJV6l3NwwUysSpWfBN1Kpvwtal9zm4c2RfVSjybjFxCJuf1DB4XELJ8ypVXK6n1HU6hU9zincDRcoMTENQaX9S31v6hsgxHcTJ3LlVuVLlRDw9kUuLnxkZ+kal1BqceCMqVUOpTqVmB6lWzmoOd4hhc+FqZgWyibWe2Z6q6iFnUYha0UHzAIAFiOEhRsALtaIcFDIsYB+00UVeWYoSHM1mOdfwX8y8S8/wRJjgjohmO5co/MDGYzFS+vFy9z9IsNzROD3LJWZU4bhxO5U9DLjL8VmOobi+GZiSmpqf3L7gVOJldRQiw1nXUDFGypfMW0lQLVYP6JQf/AMVOZpU0ziUymp8yp9xGMPhlVdZlZCy3AXtleLbhuCWqhyL8Rfb8S3SxDhmLb8Siro+UI3AHIk4pYvKCbQLPiZ6g5MwG8W/BcwvjjMoNDr21AGrgYy0VdsuTXZXdNMQ2DcLtSr7S3tcWj+92mEF2QEOZBjlmrgh/LRRx9ZgMirC8GD7ZRKXhUpWA8y5CF9lvwRqJooDBYwTBQLVX/wDEXJS/ElyvNZjUFPErMYyrJWIuam63LxNmWBi+pd3KgRY1qM6lSmBuVDUZfc3UrE58ceHEvJOYPcdxNSsM48UeKuGZqLZiaIVGpiKWRxNkdZgI9H8R81rFeagW3AW1UbGYjdYpgBRwVHT5io9x3Dfga3iV3mE48X40lNja9HbM2fDpBwvpGICKQRG7OkTTGoXQ58UqBsm91KALgIJyg9EjoWekQlZRRv8AUGz2tqCv5BP9hZefeV/s2tRQ2eAGP7WEmxr6ll9mFF6dRsQSmHEe66XTQuj5gwPAN0DP1AZrGRsovvEeeBg0rWD3F9BWlYLtiykeFM1dx1YgcuU47I9YS0Fqvub8SKC/vmJDxq7Wf7iJ8VdO7XLL3BJVuxmnvKpVUYOKlsTTDb3KfKFYBbqNlXhJAAAAMAGAjeiZl5l5juDLznUu2X4I7uC0/iKeO5X9TNQbl3fU5eo1OJeSHMupqZqI78YIb34dSswMyrnuLTOfAxY7AiYu5c4nqVz4y77icQJ3HVkJmOTM4GABMIP3BRqkEu8czBUyioeX9hBlSJkgM4GDuZfA3MTjHioccw4ndZyCnLDKoq2h7dyklC+vwM+4x8TzXkg4Cc5/UN48fcFsrMC0OUMxe3tuwaPuMojbBstfEQyIVa6/UaPAHgadXxKkAuolFvLKxygyU1Y8VKrPKyoXS8pqal4RY5HpISGvT618wyE5pBX/ACIlxY5MY5mZy7lAgi5oEooIQ7Llp78XO5eYaxLwmoPErqVTiLevCY1KpjuZIkCV45rxpxKz45hQku5VMxM5lFSupWemP4mtRWGprfi5XMdx1H14xTfirzNE1xiJnGpW3EeJlNS7mTJDJGVbKy3+4MsucSpmLqJiGcLNPcDFv5lW/Xijaw1fmYLH2hzHZiGbIqTcq/Bg8VP6lyrNSekW47XAOh9H4iq5be4kw0ziB3GIfdxigotaviEuNX16QD53z8iNpjPYN2QqUCmmysy9mar6BmCflZAtbc7q2ZeQU59ry+Czx6wX0qXi58QnDBanMNo+EUSmoXzCArQX8SkaifUq4YaxG5VBUcbwalLlzbj8y18xGpcGYupi5u3Kj0Qo8XncvB3KYVKqpYwwxuFuOZdM4bcy6PA1NsbUTiXRBuMCOj45iXcM4iN0HjEVx47xc41B4iUwIq8ePU/zUbyzA1451CZMzcqB3DWIbYb+U4qpmo9ELimiUFyrTwzOfuPFQuGZiV1N4nMq4epgVqrlPdLrXa/UM0EdwGmcyoXUZda8E4YYhdLAFyXCrqJxLKHlqKpLeek4COD7zNRxR3BBGOgbt0wmJ3ACuiJOH3s4CIagCb0IkvENDzFWFVZipLRq4OILhs9C/iNGsDhwzLyQWHsnXHJ9YEIntfCLSpzhUCvCxP8AQiylJkF6ZTD5iWahuXWA3uFGCNcSphGqzL5PFe4wx4yOImPcufUJcrmcRnEdQaMy8ypicx1LDDOJaYuLln6i4mYMubNTfzDE3OZtCOoZYacQ9xKWIUZzC6mXmfoi6GIH7lQ3HcxcHGpdE48XWmZiprEJfUVgZ1KIe4cPcWiKFmYwhqGJRSqgFqdQ+EhTOGoDaQTWy1FyQfos1OblgEsvULMdUxXzDEV0jKuIgoCAASpopWIl6WAQCFg0ncMHp6yKPL4Xx6j00KzX4lxI0fVVDubqshaxgMXbqPT8Mpw1xNXwKLPi5mruRA/BCYY0pX8sCmkDBDQ1wRWblK6lgDHxHfjKBhW2ojGtt2o1dRdfmwdfw0RbIDBQPqABcvOt8wKl0Qc1EhiK5mT4lZjicS5gcRQl4IRx4q7lVRKKtwRlhGphM+olFxyVNJNMQly8XLxidQIzDAL5iVzKsiTEHOfHxMTf1OcRyVDDAXxe/uBZ9xWsK7hIlkIViHcvX1BLjnmXWTMWbJxGcz3fjmcznwNM4hjctfErp0xQ9BYePQ7xEQyI9MG2AttCtvU0bscIM07LAdxV9ov7B2Wx65ijcuWPL2K2lg/EIM0MEN04g4lFmF2xiDEFL6oC8sVQ1WCuq4sIqFCCB6EECUT4XKESrLxg6cSy5i1fQlltiJ+dAM2nqEXHVZ0lwQkM3tYAQNmF5l51LuJ7itsDthurOVBfWYiPYFH9TWnuT/bP0KRMNK/MeXMsevDgJzcvEouYfEQ14O4yoFtagZzGiVeYxY4I18wxA4xAuBmUMk3HJUC2Vma5jjLMOZisypxA9x3A3U5l4nEubcxh43KwR77lb6l5qYlxJj9YIQK+4gOZTmtWBnErN9QJhzPqVTTMS4nUrU9zfjmCDLahDMNwbMrshaDZE06f8UPb/kIydLmZe4Yjpi9HPn/iEM0FYDyPZKrgmQeRjOZSMJrwo4PqVsvUUgBlGBrRVu7+Wpkn3ANrK5lZySolSDk6RtdPKGegggJSqgor/tDCgAFAFAQa4s67hEaV4LfGaJoZ5zHGpQzc5jvEDFrLitnEcu5eY54lYIlPhohKrEa6mLizPG5mCnx8y5ZrzWMwqpdcE4ublDNFQG4m5XnF1COfaBiVZFZnUMEJ8SuU1qb3Cqx4fD6mvCXBWG2Z6iZbhOUWi4qqNxZzMVm/pYCVSvEu6lU3cupsJc5ieK9QK1PnwVXj1Kcy4bhIC0ExjMQ2tydg/wBB/fi6lsFKFHOCpWYX5ihl/MMDnxxPqDYKS7v5lXzErmYuZLKnxLlkNvMYfpnBOJxKaY2ldEqOs+b9S8TXt8GZWcznwmLgFXLqUsOXOJq4kDVxwy+5l1EyX5I7Y61mD3NxvXM4u5xOZpuVTawxeI0s1qJmaZtUwTfEpI5g8R1cDOZiG4BKHx+p8Qw4Y4xZod3LJXCbXNOJhcf+aLL7mLhrM+IDUxKmahnMN1Km2MPBuMrFymWFfQ8sohj0X0Gpvc3iHivFbYag8yobJeIRIBma5nONQ3mXTTDWJgY04TRqK3xzOcQ7jmbIkupU0mXKsxKozHeJhqKW/EdBKsJbcdyjN3Bobm4bjBiJmFSqx4NxZanNS8VU4l1UubdQ3kmWJcd3Uobn1KuOIsupcZckov8A2LeILWpiXLncNzEuzx/4S0sL6i1PXqB6iFrm+vsiPuDbmBdgy61OCVA4/Hgy1eJ8eWE3CrgXWZeYamDIegwoAoCgOIy5zUohEV3COcz1AtvuPi6Kl6l9S+5UdSi5VGJUBrO/Uce5g3Ub0ICKJmVWirQH7jHs6an8Rusy2LAruOsMYEB7jquYIkxUTGCVnMoDxy8bndw48GI3mLfxrzi5zMXOOmU1KwZlQ3uAwlwOZVw6llxZfqL45hHcPi5cCBTboFY4ZYB9NRw/MMvmYpbBDv3L1gDkBNWTaG3c7OHMC1jvDL7ZgZ/9IrKs5xNVHUHFeLz4SBWOZgVOJ7IlkBDExfzD4nGJmzM3N4lbnGZuobly+pcO4ub5g5lWrNmZVTKUR9MpgRqBgiVKuG5Y2J9QtIbjP3EpLg9kqWm1C5QGigoYGUNwzmlVw8q9ri50WJiBmc5j/UyV8QeJWWDR8ebqbQm5VExXuVOSwL9Iw3HUqJkmpzHqBWmdpdk5huG6nMSHRKmmJXjK11Ao9yqq+ZzB2RgZr1a9SrLmCrGIsxRV26ZSCGuAw9Qw/bGBxxmw4fMZbMCtJwfiIwn0ABwThkZLw6jk8Rm4LrwlSXzFtsIlnSfuOLmB8wWsTmMqy5x7iMMwMVDBuK8S9kGJx4WvBqXmAG/1ifxM5ZpXdPuGOpqXmdx1NTmC2BFed6iVWNvSRGrwzJDEKHIOrImmHIIeoipTpLtQgwS5abjXtAnO2VZWO0B9cTbqUDaB2tEaYXZkrzVpw+gGI1Nlw4DN0rESvR643G7MeqBZVyipYaqcmV/by8EbW8ZmT6o/Uu7MYaadMvMaXPEG5mV4DMxGofES2cTb4dEuLBsiMJo+Mw+GOU9R5xMi4wcy9x3LAABy4COxHDzMxM7nDCU4CW2WoBoEmHFkdwy53UDS2lDarAvoAxEoAJwW7YOFgubYCckc/XbgWV9wAC+lSOx5uN3NljLNPMamMzdf+RMPa5bnkIIJAHajU2gyM2JAREFU+JYlZS5V8wcxqRbldu5aprEz/wDh2xwsux6hhalSrnFTFYnO5jiBcW5p/XgragBavE2mXWGGWbl7OYX9TFvS4vPWJQVPP7S6L0QeICShVYwgugBbuB6holNCQBvMebAbuVvhnz4LUwJSI5Ba36nbIcK6ZqUKNI0p3iHmburw1mvmDwwNoM28Q7coCXaf9StJmlbbBcdrndYu3b6mFEAfRUF1AqysFTP1M8CsXeJ9tKAD3GiLTJylgGafllEJjYJU6UgtuHIn7Zu284R+AjcoJGJBD9WPzLixnxmqwHxLnuULjcb1Org0y8stvUGYaYbg51Nal9wc+NSteNRrXMzmK3Ka2Tc4nZotrLUN9rI/7FFvEmLJZ3K8OyV6zKzzwg1YC4D8S5y0wLDUu6QQv3MOZhQmVyMQrX8hiqCW0tKyw1gwVlPQ0Q96ElB5M83B+1poThxmKBxwUjMHbmEH6AyciWCJSup9z21JMD0khUXUu8PUdXTOp65l5qCLpFx4Ar8R3Hk5C/uNJMDuaMTN4YWXEnqVuDHUPnwKyqhHDYRE7IR5dXsHl1DT/wACpSKMwBz4XsGEqKGBiWApsu6x3Hx1QLZZfm5hK9u7wus6PUG2jUxbwvqUZgGjm+2P6wkCxtvFai20uWdygjBaAF5oq42GdymhtLEO69RMxeiFZvmFLhhv/wAcIaeoEMjsiEbhPa1xKhz89TUpzGAorsSE89d/IcwqWBBdJpm19w3qZgdMc3AgfpRT8wT8Yv8AIUGQep7FmWXMGLz4qNVF6nEqgnuUZzxDtlZuGX+5fjkiRwrxzUIRl8Q23Kv1mN6gY/5FV6d0ER3IMRBs9x7AKLOX5hAAAoNZm/iLroKtXbO/jQXxmG7S6ujv6RA8W29Wo6l3qgObYEzAKkXUzj2wjFs6NFZv5ZW8HO1BPiyPgla16blDZiFAgA5aVfivNF/BGBBqOAgELfTnEbxCsKWQrUOBQL1cLGDeO0QdaO5yNr3Ktp+IjHHq0Nr8xsLi3Bv5g5iRV7gcynyiZhExlr4Q4mpxMVF5ggsgMqqxDE4hc3HfZ2NP5gYc1CBz7QSRaw0cuv18RKkFZCvbA9y1kDSMTnv/ABHZjbACJBrCPu2Kgfh7Q/qAYC1gxdPYvEOQX0dlxWDLvQ7Tl+YlcZ04t2ZlrtNV/ETFY0Qf+RxNkl8wMRAtJxY64gdUMJ7OYwODtzBzHcBW1yw3UvjqVbczRH0wwKumcZme4bE2+pVBcTniOsT5VOIEyMfcqcE4Pcylmpbd9wL5m5zMwWs5hiOzMsPACyJmUt1qWDUpTZqZxLuZc1iKApVw2Qt5GtKjZ8zCS1KqysK6qYdYn9w10v8AZBmMoneK6h66wpsDB0ESdbGGN74qJG662VVX3CBVk0RK/tLYeyaQzDRzVf8AY8JQEVxpGXjig7G1/UYJrLayr/EEDar2vVHMEAVb/wAsIEDuL5lTgSCsikEQ+yA0Xg2wsi+A9Ug69MtNkiRDUosHuGL7MQX2zMDdFua8UXNTqcYjecy0UilagYmTlVB14Veblqhguc+pWI3ULqBLLmjuFQajeIjVxf4Y+5SOAfRC7XU/uMBSk+InSfZTH6l7zP8AWsKJbtMstuF56lVmNVBzLa4b8Xc1zU0M2rBLjSKwyPicR9Tq2OCpxO5m9zbL7m+JzN6ltwOYNMvN1OfU6xKFiMktS5e4qD3LVJwJDmUxOWfJKQ6mbjuFVUX1/wBjmYbS1x+SKRXJh4v0gyAOjS9ynC8ss6JGgU3XcvlcdzuokKUASm65lE1FhdkIBloR/BmVkz+b8MhiDyrLK3AzAqVh36LhgAl5tnBfqohiOG2v/iFaAv0zLMsAyvqKkwiXVxg4xzNZ7ju/i5mlOw7DAaiKpATavH3LqS2owyfMPRkS+M0CUVcFtWKh0OOKVeVmaAt3WfzC7tjnUr8y4e5g1LzB4hO5ZefmBiaA2/1RilhLJmqlJiOoZwn1Aq4FhbUrJLRmXuaigS8Adu7UnEuFo9xYcJ7yv9IHCRCNUYn+ePUMbjiDLcOJ7gczLc29eLhzLhk1hgZO4dML3WJYxWw6n6l+5XUpz6hbcuOXEwg3cqZ6mWGzE5xL3s6ggCmDr/CD57akL4WL8QMwxlKBgpodiRYLBmsMxYtUcp6ojSM77twQRZzMICjSrGHe4taSmyEtHZ1Ren1DTZr+KM/bOfp7qI3puYAU3TVm/UaIO49xxfIxY/Jg/wBl3cWKwd4Jl4AU9cxg1OZXUN1P2uwVEjzfsheGIWHTGE4eiItsO5jxA5hDD8QnAhsss+po1NKflMYbGKGJfFfiZ7l4lN3LnqBUbnMYFkSyDqBSVmYfKOWDF7lP6jqVhDFzNe5zF4qcSzUu5qo4hnmEuaWKPEN+BPDkTrap9TNTiVOFhTCuZVal4ZeyoNEuYXLPTXhwQ96hkrjxZlCU3vHhaIF3w+vGOJoy7KcXLti2507nOI0ApcKNvxExCONjHczA6c1DibGGPvwoIcLLTppCg/MugaBMP04IuYRZTakuAfaCVnOPggBBVWkG7lWZS7HH1qUtIPmuH0SlY8gVDXuB96vWVeYiGOGi05O59qqOwfMutdT/AHhPSLircw9QkdeEfUBKzoVB1wRL1FpVuKhFTC3OoKzIS7llkXdcQ9y6pJyVahcAjPQUEYZQO5kBXjsoUyxCJN2UMqMp78bxNypQviK3XEzuZrDFxB1UMHhaJmYDuGeZczV6/wBRS6i5GGR8bZs3KDmWX3OWDHHxCYCXc/uJTOYYq5mOsrdqqVxGaIZKjUc+vHqVlZz4DM1LHMXAkW6TFTP2xM38TRXHM+J1NvxOTWYm4gfMqiPzcuknCc43GVnQlBmzyMWqoKTnD1qFR0aqDuql3CbsDEWGKw1IUjnMYLlu9sx0lOhKWNRR3FNvSV8K+6le6E5dUVBUTMPKgsofaRVZGfRlQTZw6gSd18xQVIGQy6iweMQuHTNQvjmBKxEoMDnMuXUGIWS60S8SxHHE3lZqGPGoyisOfGal5l5nzAphw4MbpUvyqHmRbeJtYv5j6hGLU4cy7nCy5dxscR3OZvmaweC5mygO5Sze/wDuImJuioLLm6iWCDRAfbBIOAyaPxKcvrSu0XbEyPoH/JhyT4H+T+3QQbFH0myP1hct/Df7Alj/AE/7B0P8COC3B6TDj8Gf/g5ROD4Svf5ED3+CXFCP3Blmq+Y2NfnENS7vzySihvPUqxZUx9wtM6jWz8S4OKlZmapilpVH+47i4jb5F36zLdby74GBRPK+yXMZFZRpV1hGYIBTBERzGuuQtVHyZTnBScr7hl0R+UNFaui2oPutmj84Yg0b9zHXhFeVtj0itplVmpRRwWZHq9TICDltLavyy7sjmVdy6I7ie5cuM4wy/UsiZjU5jsjfPcfGLzMBFl4EX1PqOZcA3HiLCGVlPMxCcS6lOJyRzMaJiswLjQxOIqs3ub8BZCXe39EWOYPRbDU2QmkQtUrTNiKh4ZTr8kwP90MZfzOiL6QP8gJkz/8Ad6jsN8/8J/iGR/4wzip6oIuV+b/tAKH32yzFHxf/AGfEev8AtAsB/wDr3MBdDxbPU+A/2Ed/hm2eYBRVDRKgmqIaQNR0IWMdkyMzST4A0Yl4NvmDr7QsGPhjcVcSggw1edSoJwjTQupfloHKctS22I4vay0KqTsElrBiMIb9Myrn4NxfaRSoyX2uOcPfsAOF7jDsltW4/wBQCUNDRDR09w/g0agdEblN8ypod7a5gnGnUw2TiVU4fBxC0S6gdoRuaMzNXUEvM3w+G4tEG3wMqXT1HXdzAgW+BuYG4p4NahzM+HiBKzEyZmBblgzmpVwPDicxMx3Kwy0U5u/F3BsbuGvBVG3/AIwKBiU13OepkczipV56k+iOWnnwDK5OF7YFO23L4uLcb48YloMF9/iJZo7WHt5huZrBcPTMXvcKdzBqI6QYc1DfARHZcFqKaYqlr4liiLbuZqAQHV0SUXPcuiaoQdnxLsljUp5M6g3TXU4UcQAhtOKBcFcNcY7VA5ueUDZ6qCh179q/xAxAUvTyfmXFSrtVg9wHJijvTvuXRGfRVOHOJYLEu6wvBZTprLZGtLCgCOIAO1jkxG4IGxQvuBlBRPpEVqri4vmWHCnNZi5s4hmzuUkEpGGmDUMG7lmI7ruXsjuYZUALVlr5ibPQcyrZz8g/GZvgg7RoRMxvGJWeAbZUZiqGWVm1xCxii18h3U+h8wRCCGEbGWSXWWXyx6j6m0czWo9y46n58HU5l4nJGpdFwn9xnMdINeL4mBUv1xKiWwU/M5xalTsuLAxb5hp1bf7q8c5ldTNwvMamimxp0Rq7dzmMB/kCIu+VY0Xg9LL8QscON+pnTufE4sg5OLluc+5RHppanQHLDELh+Fe5ZeaoFhRvvRUNITsvzR1HChrUvMyV4IX7Slc6lBzOZx8Qe27gaYScxrEM9qiOlGsb2maQsnUOcSrMp6E27gznjhe0fMqtoU4RM19yg8oPnCuaZhRI/wBMweWjLUUWN1MMiM7Aml2ygvJqbNlxXZT0S6//ACDZFVOJjmOWp2xKPnMpa6ZwPMC0xdz3Gc5MQzOanbAvLuWR96tw6qzOXIv3MuQnkVofcoQpoZCfk7hGtVdLVkZUajB6f+x6LcPYoK4WNPkFoYXg40s2drazP/KlMKj7CtIoeMS4twdEBgN1aXLv6jmOfNwMQmoqO2XgqMsn3DmAOItfF7nMq5X7jiXmExcTE+Jmrl+EEHqZhXEvp4ss5YhdTbKqG4H7xKWvwVds6Zk3HwuxxX6jAwvje/BLb23It0HxCoKCVHt16iPmJtYWg/bLMapu+lK5KuA2oow3Z3GfvFyzFPxAQz5Fpoe56yC56MGd9ECjS5xVolHwlVlQLaE9RhOie82H25gAhFbf3Wpse53sG/hbOQjuqlXzErCb1KFtwj9oIzpEyju6Scy/xydwIvobEl/tULw88Vipllb9dQVZzWJebzBdoNCpYsQqWuiVmyDxGB45LiIVMMVF09RcTcy6nED8kwlwKd6j7h0z7ucQNSsNfmZq0fUam9mRNU0RP3A4K5iDxDW2p6vuNww0K+c3lYPC0qJXaBITB/i111h2nhQou+0ryRZdtLC7bhHPZ41VmAg7S6Oj1HDbSg8jexgoFXKXb61HZjLUAOgm3UNTicT3KnPqDuomZhHgOZzUXMzGKwxAxL6nudR14rMctx1D5lMqt+T3L/BLuLJmhpT9o3xByTmnmViMBxAW36mUGTe80QHlqbxvET6lhp5dSkGRfnMxMZQ+8ezCmCsFjbTB9QboQbEjJ10gEejbLRgWvJen9Rgqw4iziWasQYJlWZCsPyCLal4vRAL2h0kIi1U4+XcJAv8A+ST07Wi/9gu8wjRRwQNsSxPPCVm+ZfcNOdxWAZbVkubRqJa9z3KKcQEKqYuJ6jxDEWcQyx4hSYpxCo9wxLh7g7nsB6j/AFMJab2K/wCTAqH3v8lY2bSy+5SJnVg/2U169VP6gJoHG6PGWC24Bf3K93E+sTmPRTBTO2LDBRiIqMNhrr67gW/95pV/iNafU0X0JyXPVbfNYgo0JLFyyfcaMVrQuWLaj3S41LTLwXDufsYkqvlMzZK8Yl7hqXMwMxS/c7zMFepefD6fFYl5lUQNzM6nE7JUvqFczmNZl3uXmKibi6gYqKGKmaDtP2iXzBqHuHcrtwR6sqAwNA1bN6id5fhY+3oQQwbgbPzctbj4/wDY8C3xQ/2CkdjkENS31YIRLpP5hStDuVYpPcnaxwr7rLP9NGwx/bDhj2h+Yv8AY/XsAL8zaMEgP0QKRKfBP0jDmZ+5djUalFTiEHMczPcYrifJKvTK/XgdLWITiBi/9qATAzZ7al7qACy0EyrSVYnMt1U2r+k1A+qACXEwB0FR3tgsBa2xdjJxTWP3Lufw0Cm+7uGnkL38LvG5Zgqswyh83HZy0wSUHpUFrmtRFW3KPI7+EPUAYgVIGkZYKd2XAQusywAY+mEzQidAUQEWxjj7nqeofhLxqXOSfcCjwRjxOahjLOWF3mcrF5hu/GXRDyEfU6jkl5JyQbZUQXErfqFVcrNwKuVUKtnEum44C8Sl6jUqpa/LNZLuW7EcEcMHEcagste4q8v5gu38xu3LXllv/sHuXiZIOYrcju4B8dy6wMvE+YYd8TPSal2MKTiE/GJ8T6iTZicEpvFRgBWjlXQcsA7oKB/ni+phhUxxTxLxAxKpr7Ze6cQyJSGlUr/UzthkZVWJ7qI6mseCVv5bhqXUIJsJvNDcTZzix/eOUYCgEvShAJjPOZnYRQiy9ofuONYqu5X1qB7ECC1PcRoGEHobmPHwRa6wfUXvzfB9vcTQrjGlT4VAr6JRflx3NXfur8sRvryER+zVkvtiZyxRnE6uc+KsgzupXEpjWoriO4O5yeBzLuO5dPjgmKeI4gTqM+4Mkra8zFRULhXJm5zNMNxeiXh9wumOOJuGSYTgmT/yIW+Y3eoZEySNTZfRDKXDVXEq6g1rcreZrw4JjwY5jLEx54juoAJOCPnMsKEjoWriNCVDcMS5lIQuepS4mj0yxJf+qWuYTaRvQWP5lIqSxrB+5UcATS1CEFyfs9A7g2t8yWKaZl1JPCGVXbC6ACrV0NwqCwAo0T8QZjkgdl6pipkWiTmHYoSzN8qFW0IKBkXmPeI6GnaxVNSqNjazJXKcQVuPAnsSbYzNY/uW77AlvxGk9+//AGAjN8j+2UNX3Rf3NNvrIopU9y2nLTH4lsBfM5qcRuVVRRzDLNRZLUAgwMJicyomZpmvDi3ii4lHqZuuJqc+KuZsjBogqlLqpdXHshtg1L14xMdVNPCag44mAzSXQ9yzBagohQf1Q6R6GVFdw4S+45phq+ZdwKzBsuXmqjqBX3DomZyZ8juZlUMHuDzQj6DleiZvLUSz0NRbMl72V+J86lbIJsjUtQg1LbprupaXDBltnE1NQK/BmLSHTazho7IFpewFWfcpm70agBRUxKNiNMNRTTfjsVA/UGrtl5DBTgFF2BIIpWpxASCtvKtl2FV7YMvJicMslzQoMLvqVWZdy7gsXwXTUVqEZG6hgqFfc5vc2Y/qL1GoYJiY1NM59QxcauMS7hgqDkIImoNMvE4jmX8VN/MTMfUGXNsr3Kl1C2YZqVZKsLmCovqVcvqLxtYZKmoaIQz+qUvUwExu/ErqaczYVOMxM4nMxuFy8Qy6lXhUDXc4yQ0Zhm2OmXmVZcTJK3Gx7ppJ93ZicTfMWIpVm1tG4wvJRWr2iSaXGzjB7iQif7Sj3aufbND0HQlmKsZ1UDoZbpnMyFrDgHEKGGVhuK9B+0tQe5xXodxW4XGda5m23cuDHFsHM53ibp4mLlwYePib3K6gMZT1OJkmVQRXErLOdQsmQl5vljhUK5l4yEKqLnU0z3xPqUtyvDqvOeYuKl6zNkT6TKQ+ZbLm4GUtqESBiVbLx1Grwyysy6x4KTMQmKPUsjldwr2M3zDdRYhkuHBiLhoOv6ZQijKAZzEp3LtnMaDw6nTzNsMqpdvlpla6ncQKugWvqAm3IY1vRcS35fmYcRHlkhVMpZjmJZDGhpbUTEm4KECkpUsY8PqY/VzHMx+ZgVOxFamPuZGDiyppr1CzAnMs2xQ2LQeRd/l4qgcTmUobcX4ftFVW8rdy0hhi+5e2Opj8QI4S8VepUzPmIFNBQboLiAW1TSI5l5l5hQfF99QWXUf6mx6IIbthqIVP8gFRspN+MHEN50SomJdeksJcuc7mIp1/AhxKzNYiwLiSqZq4pU68KLc0xBbqc+EvMM1G19eEKlI8VKzZmVC4sMcw9ofCGhev645UqcCBnEu7g008wj8QmeJz5MPxHVz78fErmKv0hOm80ozicsQ2+Ef3FXK3KUvV2zkQKe8CbbhuoJz8x/8AmFjZNnEZfUyOouO4QbldQBanywjMuGHTOGZErKUH3Ca/gey5ynUzgirXNRJALSOV6i0KoAtt1MQtJ+khiMrXosmmvAYzPqc7nLqPctVjcLmeYDU3DicQ+Z1UZe6nFy5WKjvwmZWZVzolTn6hOUe56jMVG5dZzDOZXuV4s1KjiblZlRcvjjMXuGvHc5hnDMiGpm2ZCZ4agP8A5tTWTcMtwFp8KV/5OgyszuEcuIam4cnlnvcco/qWriWYVLz6nxtiWgyHo4+zFtQUcHqXfEcqsR9pRDPoD8nMNXNL4Zdpc2zAxXmI50Rsy4m0uquUEACpwdy0cwNkJT0PYriW9EZxP0zJfxM8RfkgnRLDqbpNO1ysX2rQtuz6lcRMuoGXR9Oo1bc2kVlHkgrrLOVFMtWdmhea8DfU+rl51DeNTXnXk3Excu4UEPHHcGzwPjgnMcO5dEO47vxxOMRxzPnxuCruYrcHf6iUXOME/Md2TmWXBJdOpsRqpdalllzamGvDq9y88S6gwU+I85gwb5iDzUcHov1GrQKMzNTef4KzMVqVWIGU0UMfDxCVmFVMTI1R+j/9S8xviW0j8dG2NGNCgjdMXE43AjlhiVcqolENQ5qG0KQ7oxHivSbLmIpQfMq/2MAsI+v/AGUApgy/WZdvLp5q6/pL4/UWFcjunCIjbtXFdQXecYUn05hQ6EysLyl8TMAhPKFD8wf+av8ADtjEHbMOkSmcNkLQ9lwKJ7JeX9F2f5FtIdG56ZzLt83z3DM0wcYm+JrHhwy8xqUWMrnywj4unxds19+DXyxMTrwQ8URIO46IeOJxc9wahzF7S27h8+FqO5ebKn+IVwlK4Y6mtotkvMNTTqaI9S5dw+sRBqVmYjoqMww7VVBay2OnQpCXWJvE0wwQLGccu5m9FRVpzLFPDqWhwjbVQNF3LzDTbCGCt4ocvRMRBdg5qaipMHesSjP25Bh/UKv6TuA+YF6hVtAt9ypRgGg6OIFEc/0MQHm2dIsS4XT+IgDeVQ+4dZWyLdrmXeTX1EPYLXLtfqN3fPqIbUvRrJCb2L/qfL8y9lzHlWgyvUxQH57hmUpLEAF64fqJhDEuXGGvGqJxOTqUT6l+FzNkNS/HISrbYY3Hs8NJnc0ysymHnnU2Sv1F8VHUGyGYYJ7nMdT58XxUNTeIGZUoqBiC6gBZRc+GOqQg3qccy7PFZuH/AMzNZnFxc+Cm5VZly8QMRJvEEFuINmGLYvUKqAbxVodxCeUy35SvceoubTo2vAe4gLjKwL/MNikZ7lXhQWgFojgQXS0UzcHOPo/De5i4cRarNwWG4HywbKIgRnDpZeS4yh0pNwM5JXNq69M/cFpYEOjYnuG4L9uv+QcsKNnGYerCjsbs6lD2Kvh7BiWv1BmazUP7ZagTCIKwpXslVUaurV6DbDYAVafSnlhp3xsqSrPcFF2vYsdR8BCMi6XX1EG7c82xHXr6mWMOQEFv+owdKJ7EZ3tLLjo7jOIRYsvFy9w1GYlYiZnE0RbJyQ3UYGY79eMsHufM48Z7lVuXiYecTuJKfDxLzL6gXErMuLqXOMxZrKGINuJWbthp7gXFmDE29wfiW5TJVDM3Mo4hB+kqBZK41MTmoVd1GqhVaiGiGDxXqGpXqILIBTAuBMhj0ntmSseV82+4EG1riXzorvgsPzLLWd4kpvoLuZykBiFuw7zAWWwCHFdxVghaSFDigjZQVRgDAfEsIJNBEsLutWS17rjHEW//AGXRAMuYjdEzeSoQybrM3g4mXELudw3fQgGB9W/qHmXRospAxzMSx1luZTFBoL4ipBsthH/4jmz4GF0YyzPTNmqeIEPXAFPiCKqGzRrEZkIGNIwL2xynlfGWbDuZ5isI8wMMLMnj3UaASQaV1GBYquL28RXLWPahFjNS4zExdypWceAxKjqN1ZKrcGPMNzPi/cqxhiaYa8Pisxj4ep9ShCmXiXDjLEKZhuafMoi0dy4XGa1KaXqDZW4EqV+JcyfRLvMJnSciNwI+LghCav5BtD2yj9W7rr4EvGfGyIIykI7EjSZtBftjX/kS1buCcaJDSPhlijhgWwEv3LlO+I5Foyr1F7R4670xFuQ2oOj8sbSrL0mj+4swYo2gRO0A9rrMRYq3sC0vusyrMLulLRLlZhCntviOS1g4amaJkmhNueUwvcNl5ox6lc6lQAtgIYHciXj9y93yOGe3jaO46D03KPsZhyYO4qSK3nL2sz3KhqocRbr1FPJqdYlhekOlAlRmwLx9QWiJWIwF5X9njzfhZ7igS+YZvwNkd+GXUNRh+/OvGOZz5uibzFjdxeLnMqsy7miuZUq5WSa0jkzOajkwn2TiK4bviXRUxTX5l4h8Q1Gcbjo7lIbuamq+Y5+fGb3HRKcAGYxyqHD7fqXjvMa68cTbLpjYKJaicQy+wu+P7lakz7gczcqGHVwps58Byp1RiEJOgXdKMSvNhKWk+t3BafzXAHOdXKggZQsi+d6hwKj7qj0CUMGSIIHD0xODV+AcU9hBuCqjg5ldnoQmG9wWSsZNtaL2N/44CCmTfJqpbccHuC1Uz3BT61LazFFqpW2e5pnGCXpqdoCX3xBYjNqt3LXdGoBsFjo/EvEIJkID4a/yIloDs2yviIeeXCGmYtzb+yY//PhBf8EvEqpeZcMP8GGsRcTWZZcvuXnHg9RKhmbcQ1Hc2RMbjWMzaJfM+Y24jVHLK63OdTiG4N4lXpnzBSq5bdz4HOJwiZ8XpLuoMZe/GNw3HRNEMw+YxUj1mMd5nytxjqF8kLgVLuXELDniJdtpTIt816hZLgozNrKI51RdCvaoXrkSN0bgMS2BvMoUndWcay5ibt1FvLMFDSRTa5hnPuXcVzEWgxM41zDWLolzdsvxV80RsHrdy28yOAhOADaDploQlt45iTcEX0O2NcQ09BK9GjFwW9RFgqPpr+kekUAbNCU5bsuYsEHLGyXFwrdArlp2HqEdFgfv5ns7IFpxGZ2h8h4bupUIc58mvcytSsXN5mc0eNeHHM4imoevDvwaloOI3uXZM1MQBnNE6uJ+ITAXW5dsDEa4nCOpbGCzKXPcWj/2e4rrsjoWFBzGtLhDDNZ5nN9yqYPZOLhrM0QPK5dTZCGFzLQwRtyMumuZxK0w3ma4ls583mO9y0l3BzmbGHqc1LviXd3WcQs/iTTql8zJsqxBb5qNqiWPxEXiVjOpYXLWaFaLajKW2hBas39yxoiC7e0aKh0TdFgBvX6g0ysDFrQPMLEQ5uNSfiocnMuYQsC+1xlrJS2ezmUlM0MfhdQFmnJyI2zU+49q0ArPlhVd+Af0S3jLG3fLFb/sJzmFN2c8m5Udw18ysWzcJvzQkWwcWm+NncagFY0g4lHeemEP/wAjOZE4Vsfww+wLbtdHdRQBhBqWByIcM4ZxmcwzDphsmoNSv1Pcq0iVOOHxpm/HDHUvGWONSvcN5i3iOibIUPP5lqCAww4nOZXTCjmbxOXrwbzKvxrUL5ZfZiV1K1UTVeNxuqua1qOXwHiLbnfi8VLWXmXLfHFeNzeCa8c0cw3Ud34xTBeZH3S5S29cS3HSfYj4I1RYtlClT6g5spSsYLepcYIlqq/6lbqlN1xL6lW4EFq8InNPwGCG4BRANJSymZDAtDXymCVPSG5C2fiiCn8wUdojiA0vCtAufBnxeMkrxdeErcuW8Et5hhlCHtMxTrfEQA5wQ+i705VMGQ8wDXMqyaKWry31LAC1qrLPsjOB0eKRSOMRmyZhYRRgIooIws1g8Fj9JfwXiKNZiF8zn8S0NvhECf3KJjgzMy5tm+cQLh09QLjiEMQMRoiQ7EdwJrcDMeGc+ptHlAL5gVdsC+ZVsqnxqbxOZWJVmIlJnwMy/cvM+5dmJbSs3iZHBOGyVEzDDceUGLb4PmbZUYNytXuVPQTUvOIt6OJwK8CVcrWGyCX+FW5MQiXuLeTj6kGNMAWtdRyauRoZocvctBppxSJn6GUbbQhaF+CCZJY2oyc9QT/xEIPxn1EM2oAVBHs6Kiq2tzPEqI9h00vrMXlisvUxuOsTjPj5ZVymbXMvXma1iCYtVoFq8BuANic/D6huLDdByy/eH+N57MR88yJF1XqNQMPKVpczGTG6E5ZsKSjbNU4lM5UeA6u4FYtymW93MF/McP8AsHrDPZR1KUxLueyce4wxLb1DMOuJ/U9mo7xK34C+YWtS7hqPgWo9wMTZLLHTK68FbFanuYxU4ixZplly70mpuVUHsjuZVUxZOZU4xGl3DEwGGrzUbNZJb6R8RQCoFq1rMSltmcWyuZzGhM06Fy/EtrmCuqzAb1GlEXIXLW6Ihs3oJcCYhXXzMEF2vUIFPGld16YWkXZyirPjMpDNU5K7gDFSXRePtlizoyQ1Z4YlI44mAtnD/omMQVjMdYiH7efNUftncN75S3+5Q+YZq8xDiQXeXccjdIlPsl28QVLwdLtp5YahuDcYzTV5lv8A7P35myJAazFD9X8QWquKQS7sBW5So2LgDf5xHa2wVcB9Ep2GQixWJapgABS3wXHtZUUw057j0BAma8HOZTq/YZKHUFBl+sqifESo9qr9ot7y9wVVbXVx3L8bfFEfc4xOpxOfFxsMy1oldS8QcQ1GXiMq7zNMDqMq+ZThiXkZaF9QKxDE2MRIIGWK2cy6Zc2yqtl8z2zm5xD1LvDUujEVuajpiVqGpc4ZqbgfFFNFGBrhYT1tNSBd2PDX7lRSNFVJxU5YtDyuwNzKVC9XEWpfuriOocrCkpj3GupMy1wX6tiCGCVo3+IppehzQv8AcIWA96wLSgGkWVhicVmXWIUu+w/cdJYBiz9qmIcQqTsw1trA21nRlcZEgGu9hh3I6brcj1FIj2uwN1f1LziW34Uwei0gCn4GVg8yMwHuNSseKH0Rb/GahErTOBmeOIZWXb5GyxNxOIl5qUjDuUDcEtHOI+kFDitD9xy3LxGrp7+jLMVkU7R07updJ7azUj4xADn1nLZeqgWid0xmW/cMRmg4lMoSZTfIh3H4KK6B3UqYT4EtdKhls2B2kx0MDk4Q9wrzdTfhYh4Ny8w3AXNagG6WZBlOfPzDLmOTUY6mRxL9S3moOG43cvE2XDq5de5ctqCzcMNLLsi3qKHUY0JX3Fd/qHvxdwjqpxAuJpqLeCZMFzUIZhs9ymO46mjZNIwquyRvKX3MAKEA4CLdkpzup1FLfQb03ZAdbZOBsBh5mNyxyrMctsNs7NwudBu0rwDxC2C7jZ0Oty5aqq4t3cCEKZ8qGic1CUX7Dcy6y05Pa8z3MuU/GYpQOoYly+ZhmKy23LLt8P8AI9joLl0NZxwy6tDdbVUe9XLAduW4ipSI6nYfMfJSM8qr/Jgy7h2cXDJhkgnQSxlQsFLsT6ii4Ud2/ozcEiyUciv+afUrpEB6DlYd9BsdPJ+ZcCDvCUxB2HMuFfhEvdyvFNiC2FFWobmT3OSXxO4u5jGIZC5V91LxOfFX4dT/AJ45lWkbUC2+RO2tgIMVHSXsBBCT9NHKVtj4AI+3n93NXLucTiGbxNxxLyDL8bZUdTFeGAuDtnP1HEubcsG3M4Zye4peWU8xcTmByczJLsqEvN1FuXicS8zFTPM0WR3CLg8CuOpzCtDmUeLy/pt9stonM3Lb9TRBnEfRcW2GQOvNy8PhhKzLb/hoVQAtXg7nJr4ElOxUC+gHcpYhxC0XZ8QQFosqrl/Ca3iB0hKoIq3/ADxZTdk9yl/2ICxUuEL/ALmZhy9ypNbm8tOFCqHecxCnLhALa45i7y7OpaivlY2pkIVabYWrrS09zhSYUKttepg81DdTmcX5tmXzAynJFv8AUGmdNNibEjPcJVeNbMNYBA7BLgg0XU2ZnOoYcEUcTQ9sWK+l+VNn5ZbmDCJxTxMlcWxh3EUxWBbfROY3bKhiD7naPEc3mF1l+osNS80xE+J9zMCXZqUO9xM+o+oa5hi2PjBm2FXL7i24mvmcPcJTfi4sPcHOePCwnCS8wZeYqDYKNX3FSuuXtcr+ZzTBy4nMq40cziY7hdwt3/BnD+YFs4fUNXLJctxidzj3E2Fal7ZSp0aGrG1P9hPgzsMKWvU7kRItcnyiUlhdTUiGAUaXsHxOzjiaxt/KMGhwGtJSQcrdwNIaAlGfqxRa5Ys5lpFlzN+pct5nMeKhqOgiQwbl/wCmeyikfzK1E56WuiUhplH4LqvUvNQIUvFRV2/qFGKbUBg25mtxPF1q9EtoHNKXvxfuBdGqMBUBAncaNJLu29xSjcFarE4igkL2Ftq9yhjTtVAGEVdMtZjZmXlGEXEDtjhOcalSnK3Ny2UOpVZ5g2dTiYuWE6mNHgMzKiNjHfg3camYXVLH5iVOIkDjxxM+OIQlz3Nz53OcQGpeyUcwajniF2Q7g3SQy1EYoCYFILdBlYIkqgZK6YPdR7wD3BJBdRSfM1Nr4j1SAZ6o4w26OlmRqZVUBaQbEYgnMGXp8QUmJ1ofBLMAUMAGo5dwb+oNYiATY3PzACQT3/k+4ilLqN3FuViFZlSotRJVTepVfHcsBpgeG0x+oDnDvUtHQjghmgAcjKCns4VcVPrE9hc+ssQSxbUH3xBdQZQFUvUGpkEUcnJHYLFBAmZeVbRMQl0n+IqMPAUv8wqknkf0gHAF5ay5RPIX+syHFaE/ogVk9xEbu2jRcwzmp3FmKUTNy/UWXmUXDcNuIbjqDXEf4q4yvc7iv1CZqX6hMzNwuLOZqcVK1UWmpzLhojLzia3FDc3i/HM9zGiLzE0QXRRBflFcqbTg5lCWDGRnwlIWgQqGA1Qdf0BCXmHFxFkR08V7VS2ZJhQTQUWsGRKDyMUviUdQaXJNvErT/WfuZX3KmLnd3aFv3MiGf4bIb3Hc53LlA8BGbqVuUzmphRTlV5D3DKDYszL5LEtVZbGainAvqWcl1UKrTxH0ztSlVZZSlWaM1zwTuMJVuzviOSYeK1pnx2819oXFDFtNCpYxMGgVlcVAP/ZFnSD65W3ZGMS8e/UXEuIUHKNkDAA1QmvR0JvMw4l57lo4l7jrXisEuiOyOCFtRusM5zHcthuWh8zi4uIMWX5HMMB4FVOL8DnyM5nPi73AaiwajfEZx5Kvwt7ly2Dc1PiBVxgdMwswBjRF99ELrS4UOB3M6b7gUxRwEbkw3LkmQROhLZCut6CKEvSmzamgeI1Y1gEmlDcIXbGp1m9QObMdIHFx5W90qXZCq9cepm5dS8XL8XLeoPcMrNtSo1UZVkfqe/UF+oczLGUdost0xKAFzqrctTlCOEuCejgKVV3qF8dBLIVa5mNCFy8EPiF9thQb1Kbg9ml2sJMS09rl/bF48PFTG1dXzAD1ZUDh6uXIzRreg69TIR7NB9dRuq8cwb4j6mOYoVDcbhmblt/EvPjcNT41HMJzFg3LxqXc+YZblZnc4+Irc6JxDcqJMy8e/HsiuolOPLuZuXiBbNYNwc8zcvjwR4zBuhk5nMN5hTHZDOpvcMOY4NxomPUMYnNzR4aX+4IaDSGT7muvx0EutMtZBDkmDLrjcy74m0Uvji5jyR1OJfq5eROS5Q2zeQh0EBF3wYTB/hmBDAMtOyQjyqAcjlKvqfogn/ITTeBB+2NeKixK6YZr3HUC7AbX4gd0AjIrSvxFfUzO+U86I+MKHUq+/qKWjl1s18DD+quXbz8S24rGa+z3FUe6L5CwRyvzMaNHn+51CxanzOPDuIZLgaZsZ6hjxed+Fmlrc5m2cVOpqbxC4BcGZ/kuofUuccxx4ppnUfmYqcTcNQIGY7m59xHEvNQZe4GYmWoYczmjU1xLm+YMHPgiNXDWZxLnMq7hkzN6Kl8pAuWx84lS41N7lZxOZeZcyl+LxUN4nEHEuwzmbZqVB3/UYyUhfyZVUGZWrNkDbrKn075huqZRA+agPAf/AA4jHtCIBw1LaUIVhfDW5xk0/wBCpV8I4S/U7mtQc8067RLIu1StXasU7blsCwds77kvRqPgceGVf1Cpe5xPcUxiXmJzOfBdbqVc0eHwnMOfK4jz1UU7qd5mj4JeYwKxUdTNy2G5fUzDcvE43DO4JVM5i46zNpUbGLEGuIanEMsvwedEHqWeFmX4x3BI4l7lVz4+WXTLtjYei7agti60ic85hi+Zb1Bz4+5WFhVFRlnWfFgWoW0X3CgDntYJi2+lYlIj5OVJPzUWQ1vARQiymLjkXGbg3FHs6jxPDEujzuKcMwOGCgXRM1k6Hwlrsv8A9qX7mLl0y8Q48cRINIxIIS5LbBhqU3Ljuf144822zmOvB6j7l7qZmo1WoZjOZiPj1D8yvc0f3GEXlj6lx1Bu448G/F4nyy5qcXG5sXLTHcd78XxDU+Z8Qa3Btl4jx4ysPUxzBqEuDDdzlzFsZywNeMQhuFvWJoqENdL2uCWfFD9y/dpKju3UrNf/ABKbGQOXTKiONqxJ6okAO/mP8j1c+2hE3ZBsu3UXOIAJCTMIwVtF75KJaC5mFkSrKU0CdUZigApTSot7KRo7YxRch1bK8nIuZ3g3cPRxpiajhbIMTtCHE2qA+E+4w+YqsuOpY+LKg+CPjW4S8TqcxmZWJc34zONNy46zBjk3NTmX4wvMznmczUvEaqX0wz5xKbjucz3MU4l5juG41UArEv1G3wwRggMDMyl8oufGbnzL1OYBUP1DLUdEHGY6gbnPjk8Ww88w4jkgOh4S9EwywzBBcAJgOZkPS+gqWYdmtOEFpUa0kot3FoCUOQiiMYGg0xjjITCbWG9tWdK02dwWoVexn6lQO0NEJzMtLSkmzHuNJxAlTyjrMuSP0VFIHEEmCZasY3DI3uQ+IoWN2LT4vUsppnNuWO5eJjwYjhl268G5f8CViE5mb8XmZvymcYhrxrwsv1EzZOM+eY8zMMw8UzRljoYnXi4suXOJ1Ljp8m5Rz45qX4uEdxZmDHtHhOZZiXrqMvE1uPqG/BuXc4ljCLkjVeLwFymYgZuCQG2FqVYeG2H3Kgq9C0kCYkC2Ce51YNavj4iVIrjqFbSrq3UcAcfaHZyx+Xc8Eo/N/lzXUftheUUWcSoKMNMTWPQOkI3pl9eBGlJvasv5xLwS81HE+Jnw1NamK9+KeouZeZfMHv8AgVHUNSsRceGEvE1LPBHUuyV4fAy3M4l4uXjEvmXHcdTiOo5i9S2oUzjUCbm8deDKY+L4iXCKQuoGJiM2m31KGa5zDMrMHiceHO/BKhMTjmfE+peZfjmG5tnUuW3OdsFy5u5Vn9rM4/wQ4d6CgnzBiLtizWgfACUbycj1NdMjRfYeo8VSd4QYYetTZmEdXDw6hohvfi25eYR1vx+J7Yw3LplZ9QKDZ3UDGZudkIwGVc4YON+L4j8+OIeV1uPES7juBi5ioUbfHOZVO7hVQTU0XN5Cczc/M7ZhbxE58OAqGql0x36hnDG5mo/E+ZeX5wznUz4d8RaUgteLijrMs78XhhozMeCr4nxHUM4moalX6h8zmZzOYajCk8BiXxBzABwC2OERh9q/SXFxHSPMYHHBWHCdURi1BmbnOPFy5rF78Hjmcz5nErE3BROZiMXfh4mor1LnMceONysS68D5DHg+IfvxefGtS8S6zNkZeI7HiHj5nO4vMI6hmxlczUfA+4y8E5t1N2Qc1eoYg5ja2ajl+Jz4ZcrErcN4i3UNSo1UOPFzRqb3MVUGLcr3CWVuLiHzKhGmE1U52+Fz6mh3flTCpKiUaQzDu5zD0y1xdyvcZy8zW3xpi+MFzqd+4EuYZ7n3NS58S4PzPljOZWfDQ9+Az4u/Fs5l+vFZ+oYfPLOJzE5hncHB34JYmPHHE6xHJDUz4sl/iXHeIYj7jvcd1zEtHrwzebjrc3zUN+Lbx4ujxxLi3OJc2xEj6ZWfU5zCoZgVNkEvyiVcK8BHef4VPjxuXDLDFJuNnMvHG4sHMrMdk0sz3OMzDOpqZDUZeIuQl1CcziDRmql4x5ruoRZVQvu56mo7zOa8ExmV4Ec/w5hmHXi0xMXLhFls4uYg815rFwsMwzGZzKQ3Ayy/DnMSyJz4bNT5IRnUxNMHMdziPPh140Q3KRcEti4hqXDUuXUMNeBh9zD44JyM4xLsleA7Y7uXZr+CXVTH/svEGpdy4s1HwOZcz44lQe5ziadeM34WoOFjDVzUGLOJxOZslZ8e5cfBUYOJzPiG478c+a9TUth3OJcxfjCQ1qX4wcyh5ldyiHUaiczbs8hcePXinOZxuc+Xcx14cw6mmbS/wlw6i8QMw8Z6mpimBZ1FZcScVHEMlz48XLlysQZcN5gqNldZjnGYx4hLjvc3i4//ADBlZmfFn3Lt8szF6l5g+DUXLOPD8w1Nvh3mF+GVMQyZY3OZxLl5gYu5hajV4fHP8WM9Tj3Oa8IWPhNRMQLMzUuXLzPcfWo+FrmErnwdwLmLmpWZrE58kdwlRicxbcTmY48tLDEucSpk3OJkSlVEHUvNGZ6vPi+Jx5Hu5izEqkvnxyeGgYmY7g4lzJUXE1+Jg+YR4hv3Nsvc61HUCJjc7qO5yS5fczMmZxHLB7j8x1M5jROMsCoS7micxWXnX4jC0nz5WcXB8jSTsdy4VdRaIKly41ctMQ4nM5nxxHUojqOfCtS7MdTemV/JsJT3OXfggrwTcqtIYN+N+MQeJzFqXc3ZA8E5huVOfHE3CXOL8XmVc5ZzNO4JcrmcQhrxuXiX4w/M535x9+DnPg5myVPSZYXmyPi43Lxjwsu4RusQlY8DvHm3mVUw+PiFjMjOPDllYnxFveoOHcvMzWsSj+B8DW+Jq4e9TEXGfGfqM58ZG5u/HEyy/wAw4uCdQpmppxLwyyyGpv8AhzL7hF58JmcSrlTMPcuWTiXTZM9Hh8ErO4FePepvwFVNE48N9TFahnbK214uXLuO5rMqcZZc2zVzicbl3xG7PFe5zGbfHzMpMMajZNzmBEZ9zFT3K6nO45nEGrx43Ncx683fjc4jzDU6mK8M2zkmpuM0buGTxsz4HeJk48VccNx2pZHHjTiXfM5qXUuEG0iYg4lKMTTHfnmceF9ziahubZpl3NSmrjd+Lz/DiPvw7/gsxxLimv4Ovmb8sZWJkanzOal1Onxm4zcwfUZxUu/HMMS/G5eJbPqXHNJ4Pc+IsziXMjZ4uXHiaZeo+EslSvzHdeP+TRUrEHiq8XCal4vxTFxBR+FeMwweQrwOY+LlkuXiX4qvDLlz35rMNwZV+dQMRJeJuCZuXmXnxacWSsVM8y8S6GXO4e/OvF4ZxOJmyG2GSczjzqLDn1AuV4Pj+PExFjuXKzPmVcvL45r+DqcZm2XiMs1OPHuc3OIoztjmAgXmUwPU9ROPFeG0sGIIuI5JXUNeXf8ADEuErxz434PFty56nMvyTmvHuczq4blkFuXDEIYjmLLjmFjOYY8cTmOZksZxHJU4l343KpnxMw3L4Zipxc24leDqJc5jqXnLGx3PuJ5EWqjTeZevGZeahjc5l5jm2bJ1MLM5IfEpvXl8Eomz3OfF4jjc+/AIeCZWLLxR5CCO5nx8RcSorU+yXCa1FnOsTFS61PmdzXg9/wAK8GTYVNS+p9S8DMw3MCeCV5wy6i41M3PuNZzOIXc9sscanPi85h4uXxM/cDwvE4ly8zepfqVjxcYbjxOJs9yqfDqVnfhiwZsmZfMsqaa4nEq3xcyxc41LqIuZ01GBmJucTi68jPUJkNwZmNdQMeD7mJSq8cMuOpzKuEdT6nPj58Zrzz458m4uScwe/BvwXL8eoeOYwjXG5uPBcWo5JkzLjDw1WPA8Sy44ZXivHHgyxG5UTuO5zYeOvFWTmWWrFlcziDncvMJzLzOZZ4vHj4mpc0T/ACe4bn9zFuZcyu8ePqaCLTcefHHh7lX4YXcqfqWNV5qal4xOIeNTcr8zXg8XOPB/XjqXmM3qZ8VmEPFo5l3mFeH1B9y5xLlwxKlRteI35rEqPFYmj58ZnP8ABbzBJZLnJ4GXLlwY5qa8XmXzDuLKrw+PXc1Bj8zNWS7g1OYY+/CQl5jHh5jdzu4dSvLxjEcmpxDGY3WC46nEJdxMeBEpjvXlyVaTPM48e/Ny+53Dxz4TrwbmJiXuGpx43KnUMTmViJTiFS4XcM1cvEqXUu5UrPqXnxeJfipc3Oal35fXijxU6vxV+dTgl+5cvxpmjMXcsqXCMPFY8c+csvE2zUGGzxePHM1qXnxslyxZfgz9S/LC/wAzNOuZzB1FribQhROfC+OISp3K8VAfHPi+eZb5qaPuXO5f8MTidTTLCc+a6SceMSjPh8XmXNwDzXrzsmmaZsmiXLtlb8XmKVHUEoI+Op3M1cCEyhm5xLn3D4jBI9wx4vzTmFVknGpsjghmVnxzLWcxKzOpWZda8VzF1FY3XcIqjvUcwYNsJmYqHg83OJcupZTB1GY8niiUdymBLpn3N+b46l9TianPipm4TuC2eGX4+J9ePmXibgeL8l1L8FGycTflcTMXzNkPHE4ZXh7IVPiGZULlSo6fDjiVBzLlpdGYP4m8x1CiLnHjFe5zGli3RDUudXzCXiJfqMt48G/JRK8VKe/FedZhuEWXeMTU+5nx34xc1OLl+pcNznxrxVzjeYCalVLhMpMp6nX8G6jL9RgnMXqCfc3mXLuW1jwHcNy8TfmhjiE1F4lLuZgzLB4jzPU78cXFn9zRNF+DDmbZXndQ9eHW4DyysQju5xnxVeLnzH1K68kxXirhIDxE8u/OSXcdS8ZhuVmVUcQ34v1LnqVmahm6fJ5JzGGpcvMfVT7JjMvxxNO+J7mowxCV7l3OKlV8x3jxxic+KZWIBzDxz5Iz9eCczmYnHku58yuZjfjOqlV4q5qcSsznU5jRLhjwfw5xOcczqBmXbKlTZccBLom4mf4XzUcQwy/FLEGpUStQcQl+/wCF5gjDUvjx9wYs3WoPm/HUuXTFxOYR3DIw8OZyQW5tgVzGE5nOofMvcNb/AIdeL8vPcGzJ5HM144g414b8BmV4487d+GXiXMcyoRahUtsj4+oVcugJq57hM48Z/Hi2cQmo4/E2iYlajOIXOZdM3+Zg3Hc5i50+T35x548Xcz5M+eJx9QcW+Lvwb8EcsTE+NTWpuEvzeJdwfATU145nEJfhlS6lQZfU2eGWVD15uvNyiE3KeobjuEN+KmOIVMy4bq4uZUU4mElFznMfiJaPUTPqDhhTme57lQZzL8Y8Jrxecy5czx4w58FR1MXPlLJz4DxXkleeZniHcPNZ8W3Ln1OJx/C4PglZmt+LnMuDFxPdxbmnMHmLO5fPMy6hqLKizTDHihZWZiFQ34Vly2XPctlXLhzHe4fMBlVGcwJmViVR7gbqcyqYGI78cX4Vvcuck59RbIzUWzxUb1OY2wm4OJic+Dfgj6lTUsuJz4MR1cuU3vxcJcuMumXc1Klk34Jz4N+pcuXevHK3qbzGy2049y7ajn1LT3mE7mJsgQJeKjmO6isuGSe/Ny5fqXjwwzKL1KmmXiV78EZfjMpupykrM5gsdRcEfjw6n3NhDUouP4R7uo//AD4dVLJU1CXuG4yvmLPiCznxlZVMWGpzRuVNxsqErkhuV8yrhIGUdQoTKW+S5cuOZxOZXhviWJqBHcIcwnrxo9zqfUTGZp9Rd/qbIS+IE0S+oZ4nqDRL6leNvm5xcuo7nMCVNzMuZuP8L/jg/hz4NRMeFxNkrxqcS8zUL+ptjsqXm59S9Tl/h8x+bly/BazhzKKu/J14c7h4JaXBxUGioisykEeDXHj84RVga3PnL8BmNzPczMswHjbnE5j6juEYeL3MViGob8XOGUQMTXEutcbJbPlmB3DxfcPmYr34FHqNXub5huXUd3DcqLCuyaZiViX5pjqceDM4lOCLVdxcQ5/g5qYnEbqXi5jbEsGFeXzqJnUT4jiMP40GKlwfUc+AiTjxy/E4IyiSXkevAlZiaqYs9IIJnEVvzFCbwtBQWFql3r+HG3xxUfXg1N+HMuYnNk4nNnU/ucTN5hHWNzLcdzjxxUPUqFcw8WwgzHjiF8S24wjDUurxDXh17nucSufDAqLncrmO/De7zNTnE+P3Pc5nv34DM4rMrEuyYhiPk3GVcqXxKsplbgZzA/E5Y6Jfm/ByxnPjLjxibb8L9wfMMoX853YCEkkEDwQZvxdTWYZlYjt8KSZRJROZqfMtq4OYvm2vFx78MJzCHjmbmfHE4hqM6miXrmD4GPomalzdS814/MplTconPjn1MR1OPPD3NTicHjbX8NyuZd+Bo8cy5cIuImv4c1HI1M8/qVncYa8G8wCsjNv45vdz5wz3CDOHRnth4BF5izLg+oNsubjz3BeZwS6m3iIcSojL7h1Xi5XMz41NEzCLmaQubqUw9+LoGDmXuX44l+OfGJz4Kh458VTcu4uZqcRqitw1OJwy/OvB4zFxEh1zOfPzPic3zObNSv35vJKxGbgPDupYE4jnmViE38ziE7jPuHvPlPl4a+Ae4V5h4HtlrLZYRS4qmyWyoBMT0wMeAnMrPhOoni4blw4lsY+ZqEqbbhmbblZ349S8VK8Pi4M5fGyG5dkG5eISvCo+NZjq49SsTROPGpuYcR8c5j0SqYzMWTOZfPi2vBUYalYW4l+LDc2x8Zq4e5z6lQ5HxppnM1BZ8zBl5jlqX1LlwcTaWlvHDMsFmfwvfgGKE48XUJVTPEvIVuXiG5dR34Yk1CBDEvxzcxXhdVLlz5huVmDTKvUuV78G5uczTxFzU4g5nM1qXiWwl+/B8zcXEu5zUvZNwB5jqcpPcWGJduYSvHMTEqy/De41c9yuYMQlYj6lZqG8xKywcS81LhFxOI6ntBzUofDK2QK+olvkhkhuO/I1BfxCnF7iihmNSpzLxUNQ1SZ8EvEus1OIOJhmC/4sN+NMMsr4m4/Pl7g0wMWzRdzOyOvKzmGoLzLzNkYMsjnUNQxeZ3L0Voh3HHMAr3KqycsqcazLai4PFcsbiU8w3DXj1K8MrBTGG4RcV4Oc+Ll4jqVZ7mZvcvM4lxulJ1DJGtS4v3Fb80ePcN35IRZijI47/gCJDrxm9RneZzLRm2XcNS+vCCShzz4OfHvf8LxCpdX4NQ58UzLCaI/Ew8x1MSub3M8RvmcTjxV59zHUvMuXnMuXL48X7m9pfhXuOp14wgVmfcpqUmJUrucxuZ1KgSsahKVceAgPAz0zohZZrwqcwKLB9xy/0gHBXzKysH3ExCnD+6I8P3HiT8kRaQMTtb/Us0r9oFqPxiRIQ3PUqcznxcXiUWIooooag4zOIVCO4E5m2fECuSe5glEqV3GE8VOb8cypxGHuoZJVETMuq/hUr1UR6gX8RG6lUymtMTK1AepTcDZzKzuNXkH3Hp+aPKPzKGm75lS3Id6plrPE9ypP8n/kEuv0ZoD8uOYt9odK9Cl4RQjjio1Z7gsAx8RpyHGSX1j+sGcP7m0/lMJyRGvLO6RTf0z/ALB7+IE0TrrMS0ooUp8Ty29Kf1xEV/ik2vgEh2G+YG0/5Yr/AGRHNPut/s9IPb/YT+gI7XwEhWfUARpL9bHB+0xykfKnMWu3Lpn2ZblRDSvzzMXo/EyeCXGPirgRx5P5Hp/CDXxNh4xDUTPi/UJxqOpxKGHglXGxqCOJXcqa2kx2Sw5lKu5ZPQx4hnz/AJi3OEv0l+iLyqD2Jc/8S1p/UFeY3dWqNnK36mfP5Sp/0gHn8oHn9oqxtvtjZ+7CN/8AWmHAuAcD+IHCkeFI8U+UJlabpS2rrBWPU/Qn/I3RX0kFVh+AjZnfMvCPbLyh7Fhv6cOt8ATMnqDLHBfQlixX4qNjP2E2xfMled7v9jiMfl/2Dbz2M5l/sm2L5LlbwfcOWsOCvujp/CykwnzcMoo+ZUlPpmCofMGc/slGog/8I16T7/LaD2lniAsH6oNwvok2iHxCebu4KDvKoZsey4A0G0ESyOyO4w3OZz5udSpUP4M4mctUzlqgJRUt1NJR2Q7fklb/AKTJrHIX+CY6f0iBhPqVTEBVhfmdI+bnCfbKDh8Ey6fjw7e2V7Yz6gdQzDaszbEpqCrBPVLVqWUg2iW6X4l+nKujKf54zho4f+0uaX1Yvu+lZVEfIg7HTtn6K6/7D7GPglgM7pP8j0vO1T/ktpzl2alp+XP7l6ZeDTO16J/USrubUwS/lf8AZQ277bgaYGkmJEcLZ+4MRc1j+SPDN2AfhgI9QsXS/wBVv6j9B8OI9b6ud4+ZsBfce/8Amf8A60T4H3Ob+0e785j5e7ls1WgPklLi58QRyQlPb6nvRvrL6nY4cymtZcq8Oe2UIg9StP8Ac1ASIuseEiQCpmW3n+JzGaiKwm2YNqWUCY7llcJ7tTFPUwPTLnU0YjPEfCoq4QhjFiX+sBML933G+FPuBrX7l0epAKcEoq6JzLxuXjbM6WGsRLlSkIN1M2oI4mJwwYumVbr7lVWz0S5xG8IF+CsOV8pQeweyH9zNUPIn9RDg+0Rj+ff+oZXpxxMjb4D/ACaAfR/Ub/KOfuo/7RRy/ls7g/M6L8SvR+ILsH5ggYlTiATMGALdxsqbdLFlMumO20hfeKqFupTI3BBYCRWhRKCccQ4CFxEQRzFLqLYlEVuNjZFqrdin9SqEug/cUog3kfqUPl0P0YWFhyCvsh1G9awDOEV1LBKXcVuC3mXdy8y1IUmZaTLL16i3OPFjXmNw1NA4zMqxgxMPiu5iBhjY+ojBqf/+AAMA/9k=)"
      ],
      "metadata": {
        "id": "hh0f0Emmwk6P"
      }
    },
    {
      "cell_type": "markdown",
      "source": [
        "**Practical Questions:**"
      ],
      "metadata": {
        "id": "Y-Lhii6Tv_20"
      }
    },
    {
      "cell_type": "markdown",
      "source": [
        "**Q1 Write a Python function that takes a list of numbers as input and returns the sum of all even numbers in the list.**"
      ],
      "metadata": {
        "id": "tUvVTHf6wFzL"
      }
    },
    {
      "cell_type": "markdown",
      "source": [
        "**Ans1.** Here's a Python function that takes a list of numbers as input and returns the sum of all even numbers in the list:"
      ],
      "metadata": {
        "id": "tbcd7zBJyMYp"
      }
    },
    {
      "cell_type": "code",
      "source": [
        "def sum_of_even_numbers(numbers):\n",
        "    # Use list comprehension to filter even numbers and sum them up\n",
        "    return sum(num for num in numbers if num % 2 == 0)\n",
        "\n",
        "# Example usage:\n",
        "numbers_list = [1, 2, 3, 4, 5, 6]\n",
        "result = sum_of_even_numbers(numbers_list)\n",
        "print(result)  # Output: 12\n"
      ],
      "metadata": {
        "id": "6Mp6xGrLyL-H"
      },
      "execution_count": null,
      "outputs": []
    },
    {
      "cell_type": "markdown",
      "source": [
        "\n",
        "\n",
        "### Explanation:\n",
        "- The function `sum_of_even_numbers()` takes a list called `numbers` as its parameter.\n",
        "- It uses a **list comprehension** to **filter out the even numbers** from the input list (`num for num in numbers if num % 2 == 0`).\n",
        "- The `sum()` function then adds up all the even numbers.\n",
        "- For example, given the input `[1, 2, 3, 4, 5, 6]`, the function will add `2 + 4 + 6` and return `12`."
      ],
      "metadata": {
        "id": "YBT6AUp0yBby"
      }
    },
    {
      "cell_type": "markdown",
      "source": [
        "**Q2. Create a Python function that accepts a string and returns the reverse of that string.**"
      ],
      "metadata": {
        "id": "sE-hussCyQvw"
      }
    },
    {
      "cell_type": "markdown",
      "source": [
        "**Ans2.** Here's a Python function that accepts a string and returns the reverse of that string:\n",
        "\n"
      ],
      "metadata": {
        "id": "cbvNj8lVyXyP"
      }
    },
    {
      "cell_type": "code",
      "source": [
        "def reverse_string(input_string):\n",
        "    # Use slicing to reverse the string\n",
        "    return input_string[::-1]\n",
        "\n",
        "# Example usage:\n",
        "original_string = \"Hello, World!\"\n",
        "reversed_string = reverse_string(original_string)\n",
        "print(reversed_string)  # Output: !dlroW ,olleH\n"
      ],
      "metadata": {
        "id": "okTfSKTmyc1t"
      },
      "execution_count": null,
      "outputs": []
    },
    {
      "cell_type": "markdown",
      "source": [
        "### Explanation:\n",
        "- The function `reverse_string()` takes a single parameter `input_string`.\n",
        "- It uses **slicing** (`input_string[::-1]`) to reverse the string. The slicing technique allows us to specify the start, stop, and step of the slice, where `-1` indicates that we want to step backwards.\n",
        "- For example, given the input `\"Hello, World!\"`, the function will return `\"!dlroW ,olleH\"`."
      ],
      "metadata": {
        "id": "2kWk45zsycCi"
      }
    },
    {
      "cell_type": "markdown",
      "source": [
        "**Q3. Implement a Python function that takes a list of integers and returns a new list containing the squares of each number.**"
      ],
      "metadata": {
        "id": "8UGQI6iNyqUn"
      }
    },
    {
      "cell_type": "markdown",
      "source": [
        "**Ans3.** Here’s a Python function that takes a list of integers as input and returns a new list containing the squares of each number:"
      ],
      "metadata": {
        "id": "F_AbN4iNy8Vb"
      }
    },
    {
      "cell_type": "code",
      "source": [
        "def square_numbers(numbers):\n",
        "    # Use list comprehension to square each number\n",
        "    return [num ** 2 for num in numbers]\n",
        "\n",
        "# Example usage:\n",
        "input_list = [1, 2, 3, 4, 5]\n",
        "squared_list = square_numbers(input_list)\n",
        "print(squared_list)  # Output: [1, 4, 9, 16, 25]\n"
      ],
      "metadata": {
        "id": "gnX-T3knzNJt"
      },
      "execution_count": null,
      "outputs": []
    },
    {
      "cell_type": "markdown",
      "source": [
        "### Explanation:\n",
        "- The function `square_numbers()` takes a single parameter `numbers`, which is a list of integers.\n",
        "- It uses **list comprehension** (`[num ** 2 for num in numbers]`) to create a new list where each number from the input list is squared.\n",
        "- For example, given the input list `[1, 2, 3, 4, 5]`, the function will return `[1, 4, 9, 16, 25]`."
      ],
      "metadata": {
        "id": "4b6LhgW8zRAT"
      }
    },
    {
      "cell_type": "markdown",
      "source": [
        "**Q4. Write a Python function that checks if a given number is prime or not from 1 to 200.**"
      ],
      "metadata": {
        "id": "G856bVhTzT1R"
      }
    },
    {
      "cell_type": "markdown",
      "source": [
        "**Ans4.** Here's a Python function that checks if a given number is prime or not, specifically for numbers from 1 to 200:\n"
      ],
      "metadata": {
        "id": "_7eX82I3zhKo"
      }
    },
    {
      "cell_type": "code",
      "source": [
        "def is_prime(num):\n",
        "    if num < 2:  # Numbers less than 2 are not prime\n",
        "        return False\n",
        "    for i in range(2, int(num**0.5) + 1):  # Check for factors from 2 to the square root of num\n",
        "        if num % i == 0:\n",
        "            return False\n",
        "    return True\n",
        "\n",
        "# Example usage:\n",
        "for number in range(1, 201):\n",
        "    if is_prime(number):\n",
        "        print(f\"{number} is a prime number.\")\n"
      ],
      "metadata": {
        "id": "rWRegwA4zlbF"
      },
      "execution_count": null,
      "outputs": []
    },
    {
      "cell_type": "markdown",
      "source": [
        "\n",
        "### Explanation:\n",
        "- The function `is_prime(num)` checks if a given number `num` is prime.\n",
        "- It first checks if `num` is less than 2, as prime numbers are defined to be greater than 1.\n",
        "- Then, it uses a loop to check for factors of `num` from `2` up to the square root of `num` (inclusive). If any number divides `num` evenly (i.e., `num % i == 0`), then `num` is not prime, and the function returns `False`.\n",
        "- If no divisors are found, the function returns `True`, indicating that `num` is prime.\n",
        "\n",
        "### Example Output:\n",
        "The loop at the bottom checks all numbers from 1 to 200 and prints out which ones are prime. The output will list all the prime numbers in that range."
      ],
      "metadata": {
        "id": "7l_v0O4vzeyO"
      }
    },
    {
      "cell_type": "markdown",
      "source": [
        "**Q5. Create an iterator class in Python that generates the Fibonacci sequence up to a specified number of terms.**"
      ],
      "metadata": {
        "id": "f-JLIRugzoC4"
      }
    },
    {
      "cell_type": "markdown",
      "source": [
        "**Ans5.** Here's a Python iterator class that generates the Fibonacci sequence up to a specified number of terms:"
      ],
      "metadata": {
        "id": "s0dK0rWOz7SV"
      }
    },
    {
      "cell_type": "code",
      "source": [
        "class FibonacciIterator:\n",
        "    def __init__(self, num_terms):\n",
        "        self.num_terms = num_terms  # Total number of terms in the Fibonacci sequence\n",
        "        self.current = 0             # Index for the current term\n",
        "        self.a, self.b = 0, 1        # Starting values for the Fibonacci sequence\n",
        "\n",
        "    def __iter__(self):\n",
        "        return self\n",
        "\n",
        "    def __next__(self):\n",
        "        if self.current < self.num_terms:\n",
        "            result = self.a\n",
        "            # Update the Fibonacci values\n",
        "            self.a, self.b = self.b, self.a + self.b\n",
        "            self.current += 1\n",
        "            return result\n",
        "        else:\n",
        "            raise StopIteration  # Stop the iteration when the limit is reached\n",
        "\n",
        "# Example usage:\n",
        "fibonacci_sequence = FibonacciIterator(10)  # Generate the first 10 terms\n",
        "for number in fibonacci_sequence:\n",
        "    print(number)\n"
      ],
      "metadata": {
        "id": "Gsds9qUVz_4K"
      },
      "execution_count": null,
      "outputs": []
    },
    {
      "cell_type": "markdown",
      "source": [
        "\n",
        "### Explanation:\n",
        "1. **Class Definition**: The `FibonacciIterator` class is defined to generate the Fibonacci sequence.\n",
        "   \n",
        "2. **`__init__` Method**:\n",
        "   - Takes `num_terms` as an argument, which specifies how many terms of the Fibonacci sequence to generate.\n",
        "   - Initializes `current` to keep track of the number of terms generated.\n",
        "   - Initializes the first two Fibonacci numbers: `a` (0) and `b` (1).\n",
        "\n",
        "3. **`__iter__` Method**:\n",
        "   - Returns the iterator object itself (which is common in iterator classes).\n",
        "\n",
        "4. **`__next__` Method**:\n",
        "   - Checks if the current index is less than the specified number of terms (`num_terms`).\n",
        "   - If true, it returns the current Fibonacci number (`result`), updates `a` and `b` to the next two Fibonacci numbers, and increments `current`.\n",
        "   - If the limit is reached, it raises `StopIteration` to signal the end of the iteration.\n",
        "\n",
        "### Example Output:\n",
        "When you run the example usage, it will output the first 10 terms of the Fibonacci sequence:"
      ],
      "metadata": {
        "id": "jCMdPogi0Nr5"
      }
    },
    {
      "cell_type": "code",
      "source": [
        "0\n",
        "1\n",
        "1\n",
        "2\n",
        "3\n",
        "5\n",
        "8\n",
        "13\n",
        "21\n",
        "34\n"
      ],
      "metadata": {
        "id": "8ApH5Kko0bAs"
      },
      "execution_count": null,
      "outputs": []
    },
    {
      "cell_type": "markdown",
      "source": [
        "\n",
        "\n",
        "This iterator can be used in any context that requires iteration, making it flexible and reusable!"
      ],
      "metadata": {
        "id": "u9zAjlQezvg5"
      }
    },
    {
      "cell_type": "markdown",
      "source": [
        "**Q6. Write a generator function in Python that yields the powers of 2 up to a given exponent.**"
      ],
      "metadata": {
        "id": "83KkpaKS0QvC"
      }
    },
    {
      "cell_type": "markdown",
      "source": [
        "**Ans6.** Here's a Python generator function that yields the powers of 2 up to a given exponent:"
      ],
      "metadata": {
        "id": "7NySJCYd0oRe"
      }
    },
    {
      "cell_type": "code",
      "source": [
        "def powers_of_two(exponent):\n",
        "    for i in range(exponent + 1):\n",
        "        yield 2 ** i  # Yield 2 raised to the power of i\n",
        "\n",
        "# Example usage:\n",
        "for power in powers_of_two(10):  # Generate powers of 2 up to 2^10\n",
        "    print(power)\n"
      ],
      "metadata": {
        "id": "8EZErmzW01-K"
      },
      "execution_count": null,
      "outputs": []
    },
    {
      "cell_type": "markdown",
      "source": [
        "### Explanation:\n",
        "- **Function Definition**: The function `powers_of_two(exponent)` is defined to generate powers of 2.\n",
        "- **Loop**: It uses a `for` loop that iterates from `0` to the specified `exponent` (inclusive).\n",
        "- **Yield Statement**: The `yield` statement is used to return the value of `2 ** i` for each iteration, making this function a generator. This allows it to produce a sequence of values one at a time and pause execution between each `yield`.\n",
        "  \n",
        "### Example Output:\n",
        "When you run the example usage with an exponent of `10`, it will output the powers of 2 from \\(2^0\\) to \\(2^{10}\\):"
      ],
      "metadata": {
        "id": "wSgX9Dxf06Iu"
      }
    },
    {
      "cell_type": "code",
      "source": [
        "1\n",
        "2\n",
        "4\n",
        "8\n",
        "16\n",
        "32\n",
        "64\n",
        "128\n",
        "256\n",
        "512\n",
        "1024\n"
      ],
      "metadata": {
        "id": "yR0GjBHp1FSg"
      },
      "execution_count": null,
      "outputs": []
    },
    {
      "cell_type": "markdown",
      "source": [
        "\n",
        "This generator can be used in a loop or any context where you want to iterate over the powers of 2 efficiently!"
      ],
      "metadata": {
        "id": "hSIGdE1m0qjc"
      }
    },
    {
      "cell_type": "markdown",
      "source": [
        "**Q7. Implement a generator function that reads a file line by line and yields each line as a string.**"
      ],
      "metadata": {
        "id": "C5ztXRpq1MZi"
      }
    },
    {
      "cell_type": "markdown",
      "source": [
        "**Ans7.** Here’s a Python generator function that reads a file line by line and yields each line as a string:"
      ],
      "metadata": {
        "id": "v8HjOJAZ1Vb5"
      }
    },
    {
      "cell_type": "code",
      "source": [
        "def read_file_line_by_line(file_path):\n",
        "    with open(file_path, 'r') as file:  # Open the file in read mode\n",
        "        for line in file:  # Iterate over each line in the file\n",
        "            yield line.strip()  # Yield the line after stripping whitespace\n",
        "\n",
        "# Example usage:\n",
        "file_path = 'example.txt'  # Replace with the path to your file\n",
        "for line in read_file_line_by_line(file_path):\n",
        "    print(line)\n"
      ],
      "metadata": {
        "id": "Avf5o53g1hX4"
      },
      "execution_count": null,
      "outputs": []
    },
    {
      "cell_type": "markdown",
      "source": [
        "### Explanation:\n",
        "- **Function Definition**: The function `read_file_line_by_line(file_path)` is defined to read a file and yield its lines.\n",
        "- **Opening the File**: The `with open(file_path, 'r') as file:` statement opens the file in read mode. Using `with` ensures that the file is properly closed after its block is executed.\n",
        "- **Iteration**: A `for` loop iterates over each line in the file.\n",
        "- **Yield Statement**: The `yield` statement returns each line after using `.strip()` to remove any leading or trailing whitespace, including newlines.\n",
        "\n",
        "### Example Usage:\n",
        "You can replace `'example.txt'` with the path to your actual text file. When you run this function, it will print each line of the file:"
      ],
      "metadata": {
        "id": "LLJmJR9E1kEq"
      }
    },
    {
      "cell_type": "code",
      "source": [
        "# Contents of example.txt\n",
        "# Hello, World!\n",
        "# This is a test file.\n",
        "# It contains multiple lines.\n",
        "\n",
        "# Output:\n",
        "Hello, World!\n",
        "This is a test file.\n",
        "It contains multiple lines.\n"
      ],
      "metadata": {
        "id": "zHhGTBMo1mTt"
      },
      "execution_count": null,
      "outputs": []
    },
    {
      "cell_type": "markdown",
      "source": [
        "\n",
        "This generator allows you to read large files efficiently, processing one line at a time without loading the entire file into memory!"
      ],
      "metadata": {
        "id": "ZNex4bwR1V-o"
      }
    },
    {
      "cell_type": "markdown",
      "source": [
        "**Q8. Use a lambda function in Python to sort a list of tuples based on the second element of each tuple.**"
      ],
      "metadata": {
        "id": "x7gvrSSB1pkp"
      }
    },
    {
      "cell_type": "markdown",
      "source": [
        "**Ans8.** You can use a lambda function in Python to sort a list of tuples based on the second element of each tuple using the `sorted()` function. Here’s how you can do that:"
      ],
      "metadata": {
        "id": "dg_9XyCO1wWX"
      }
    },
    {
      "cell_type": "code",
      "source": [
        "# Sample list of tuples\n",
        "tuples_list = [(1, 'banana'), (2, 'apple'), (3, 'orange'), (4, 'grape')]\n",
        "\n",
        "# Sorting the list of tuples based on the second element using a lambda function\n",
        "sorted_tuples = sorted(tuples_list, key=lambda x: x[1])\n",
        "\n",
        "# Print the sorted list\n",
        "print(sorted_tuples)\n"
      ],
      "metadata": {
        "id": "sB8tKz5d18-Q"
      },
      "execution_count": null,
      "outputs": []
    },
    {
      "cell_type": "markdown",
      "source": [
        "### Explanation:\n",
        "- **List of Tuples**: We have a list called `tuples_list`, which contains tuples where the first element is a number and the second element is a string.\n",
        "- **Sorting**: The `sorted()` function is used to sort the list. The `key` parameter is provided with a lambda function (`lambda x: x[1]`) that specifies that the sorting should be based on the second element of each tuple (`x[1]`).\n",
        "- **Output**: The `sorted()` function returns a new sorted list without modifying the original list.\n",
        "\n",
        "### Example Output:\n",
        "When you run the code, the output will be:"
      ],
      "metadata": {
        "id": "_77T36UW2AI7"
      }
    },
    {
      "cell_type": "code",
      "source": [
        "[(2, 'apple'), (1, 'banana'), (4, 'grape'), (3, 'orange')]\n"
      ],
      "metadata": {
        "id": "L0uZ9PBs2Drg"
      },
      "execution_count": null,
      "outputs": []
    },
    {
      "cell_type": "markdown",
      "source": [
        "\n",
        "\n",
        "This shows that the tuples are sorted based on the second element (the fruit names) in alphabetical order."
      ],
      "metadata": {
        "id": "TbgezoTV1wy9"
      }
    },
    {
      "cell_type": "markdown",
      "source": [
        "**Q9. Write a Python program that uses `map()` to convert a list of temperatures from Celsius to Fahrenheit.**"
      ],
      "metadata": {
        "id": "yeis1X_K2CVA"
      }
    },
    {
      "cell_type": "markdown",
      "source": [
        "Ans9. Here’s a Python program that uses the `map()` function to convert a list of temperatures from Celsius to Fahrenheit:"
      ],
      "metadata": {
        "id": "gL8FpxC12VwE"
      }
    },
    {
      "cell_type": "code",
      "source": [
        "def celsius_to_fahrenheit(celsius):\n",
        "    # Convert Celsius to Fahrenheit using the formula: F = (C * 9/5) + 32\n",
        "    return (celsius * 9/5) + 32\n",
        "\n",
        "# List of temperatures in Celsius\n",
        "celsius_temps = [0, 20, 37, 100]\n",
        "\n",
        "# Using map() to convert the list of Celsius temperatures to Fahrenheit\n",
        "fahrenheit_temps = list(map(celsius_to_fahrenheit, celsius_temps))\n",
        "\n",
        "# Print the result\n",
        "print(fahrenheit_temps)\n"
      ],
      "metadata": {
        "id": "Ft4ejs_h2hiV"
      },
      "execution_count": null,
      "outputs": []
    },
    {
      "cell_type": "markdown",
      "source": [
        "### Explanation:\n",
        "1. **Function Definition**: The function `celsius_to_fahrenheit(celsius)` takes a Celsius temperature as input and converts it to Fahrenheit using the formula:\n",
        "   \\[\n",
        "   F = (C \\times \\frac{9}{5}) + 32\n",
        "   \\]\n",
        "   \n",
        "2. **List of Celsius Temperatures**: We have a list called `celsius_temps` that contains temperatures in Celsius.\n",
        "\n",
        "3. **Using `map()`**: The `map()` function applies the `celsius_to_fahrenheit` function to each element in the `celsius_temps` list. The result is an iterator, which is converted to a list using `list()`.\n",
        "\n",
        "4. **Output**: Finally, the program prints the list of temperatures converted to Fahrenheit.\n",
        "\n",
        "### Example Output:\n",
        "When you run the program, the output will be:"
      ],
      "metadata": {
        "id": "ihb1yeGA2lyB"
      }
    },
    {
      "cell_type": "code",
      "source": [
        "[32.0, 68.0, 98.6, 212.0]\n"
      ],
      "metadata": {
        "id": "Lx0wdnGP2mxT"
      },
      "execution_count": null,
      "outputs": []
    },
    {
      "cell_type": "markdown",
      "source": [
        "This output shows the corresponding temperatures in Fahrenheit for the given Celsius values."
      ],
      "metadata": {
        "id": "YGuiZK_h2WTA"
      }
    },
    {
      "cell_type": "markdown",
      "source": [
        "**Q10. Create a Python program that uses `filter()` to remove all the vowels from a given string.**"
      ],
      "metadata": {
        "id": "ZCMHYoHP2ufX"
      }
    },
    {
      "cell_type": "markdown",
      "source": [
        "**Ans10.** Here’s a Python program that uses the `filter()` function to remove all the vowels from a given string:"
      ],
      "metadata": {
        "id": "vMH9Q12f20jM"
      }
    },
    {
      "cell_type": "code",
      "source": [
        "def remove_vowels(input_string):\n",
        "    # Define a set of vowels\n",
        "    vowels = 'aeiouAEIOU'\n",
        "\n",
        "    # Use filter() to keep only non-vowel characters\n",
        "    filtered_chars = filter(lambda char: char not in vowels, input_string)\n",
        "\n",
        "    # Join the filtered characters back into a string\n",
        "    return ''.join(filtered_chars)\n",
        "\n",
        "# Example usage:\n",
        "input_string = \"Hello, World!\"\n",
        "result_string = remove_vowels(input_string)\n",
        "print(result_string)  # Output: Hll, Wrld!\n"
      ],
      "metadata": {
        "id": "FL_EifuT292S"
      },
      "execution_count": null,
      "outputs": []
    },
    {
      "cell_type": "markdown",
      "source": [
        "### Explanation:\n",
        "1. **Function Definition**: The function `remove_vowels(input_string)` takes a string as input.\n",
        "   \n",
        "2. **Vowel Definition**: A string `vowels` is defined that contains both lowercase and uppercase vowels.\n",
        "\n",
        "3. **Using `filter()`**: The `filter()` function is used with a lambda function that checks whether each character (`char`) in the input string is not in the `vowels` string. This keeps only the characters that are not vowels.\n",
        "\n",
        "4. **Joining Characters**: The `filter()` function returns an iterator, so we use `''.join(filtered_chars)` to combine the filtered characters back into a single string.\n",
        "\n",
        "5. **Output**: Finally, the program prints the result string with all vowels removed.\n",
        "\n",
        "### Example Output:\n",
        "When you run the program with the input string `\"Hello, World!\"`, the output will be:"
      ],
      "metadata": {
        "id": "AAqb_g173CBz"
      }
    },
    {
      "cell_type": "code",
      "source": [
        "Hll, Wrld!\n"
      ],
      "metadata": {
        "id": "-MZvb7ep3D8z"
      },
      "execution_count": null,
      "outputs": []
    },
    {
      "cell_type": "markdown",
      "source": [
        "\n",
        "\n",
        "This output shows the original string with all vowels removed."
      ],
      "metadata": {
        "id": "ZiJR4kFC21E2"
      }
    },
    {
      "cell_type": "markdown",
      "source": [
        "**Q11. Imagine an accounting routine used in a book shop. It works on a list with sublists, which look like this:**"
      ],
      "metadata": {
        "id": "5o4Px8cF3IAS"
      }
    },
    {
      "cell_type": "markdown",
      "source": [
        "![s.JPG](data:image/jpeg;base64,/9j/4AAQSkZJRgABAQEAYABgAAD/4RCWRXhpZgAATU0AKgAAAAgABAE7AAIAAAAMAAAISodpAAQAAAABAAAIVpydAAEAAAAYAAAQduocAAcAAAgMAAAAPgAAAAAc6gAAAAgAAAAAAAAAAAAAAAAAAAAAAAAAAAAAAAAAAAAAAAAAAAAAAAAAAAAAAAAAAAAAAAAAAAAAAAAAAAAAAAAAAAAAAAAAAAAAAAAAAAAAAAAAAAAAAAAAAAAAAAAAAAAAAAAAAAAAAAAAAAAAAAAAAAAAAAAAAAAAAAAAAAAAAAAAAAAAAAAAAAAAAAAAAAAAAAAAAAAAAAAAAAAAAAAAAAAAAAAAAAAAAAAAAAAAAAAAAAAAAAAAAAAAAAAAAAAAAAAAAAAAAAAAAAAAAAAAAAAAAAAAAAAAAAAAAAAAAAAAAAAAAAAAAAAAAAAAAAAAAAAAAAAAAAAAAAAAAAAAAAAAAAAAAAAAAAAAAAAAAAAAAAAAAAAAAAAAAAAAAAAAAAAAAAAAAAAAAAAAAAAAAAAAAAAAAAAAAAAAAAAAAAAAAAAAAAAAAAAAAAAAAAAAAAAAAAAAAAAAAAAAAAAAAAAAAAAAAAAAAAAAAAAAAAAAAAAAAAAAAAAAAAAAAAAAAAAAAAAAAAAAAAAAAAAAAAAAAAAAAAAAAAAAAAAAAAAAAAAAAAAAAAAAAAAAAAAAAAAAAAAAAAAAAAAAAAAAAAAAAAAAAAAAAAAAAAAAAAAAAAAAAAAAAAAAAAAAAAAAAAAAAAAAAAAAAAAAAAAAAAAAAAAAAAAAAAAAAAAAAAAAAAAAAAAAAAAAAAAAAAAAAAAAAAAAAAAAAAAAAAAAAAAAAAAAAAAAAAAAAAAAAAAAAAAAAAAAAAAAAAAAAAAAAAAAAAAAAAAAAAAAAAAAAAAAAAAAAAAAAAAAAAAAAAAAAAAAAAAAAAAAAAAAAAAAAAAAAAAAAAAAAAAAAAAAAAAAAAAAAAAAAAAAAAAAAAAAAAAAAAAAAAAAAAAAAAAAAAAAAAAAAAAAAAAAAAAAAAAAAAAAAAAAAAAAAAAAAAAAAAAAAAAAAAAAAAAAAAAAAAAAAAAAAAAAAAAAAAAAAAAAAAAAAAAAAAAAAAAAAAAAAAAAAAAAAAAAAAAAAAAAAAAAAAAAAAAAAAAAAAAAAAAAAAAAAAAAAAAAAAAAAAAAAAAAAAAAAAAAAAAAAAAAAAAAAAAAAAAAAAAAAAAAAAAAAAAAAAAAAAAAAAAAAAAAAAAAAAAAAAAAAAAAAAAAAAAAAAAAAAAAAAAAAAAAAAAAAAAAAAAAAAAAAAAAAAAAAAAAAAAAAAAAAAAAAAAAAAAAAAAAAAAAAAAAAAAAAAAAAAAAAAAAAAAAAAAAAAAAAAAAAAAAAAAAAAAAAAAAAAAAAAAAAAAAAAAAAAAAAAAAAAAAAAAAAAAAAAAAAAAAAAAAAAAAAAAAAAAAAAAAAAAAAAAAAAAAAAAAAAAAAAAAAAAAAAAAAAAAAAAAAAAAAAAAAAAAAAAAAAAAAAAAAAAAAAAAAAAAAAAAAAAAAAAAAAAAAAAAAAAAAAAAAAAAAAAAAAAAAAAAAAAAAAAAAAAAAAAAAAAAAAAAAAAAAAAAAAAAAAAAAAAAAAAAAAAAAAAAAAAAAAAAAAAAAAAAAAAAAAAAAAAAAAAAAAAAAAAAAAAAAAAAAAAAAAAAAAAAAAAAAAAAAAAAAAAAAAAAAAAAAAAAAAAAAAAAAAAAAAAAAAAAAAAAAAAAAAAAAAAAAAAAAAAAAAAAAAAAAAAAAAAAAAAAAAAAAAAAAAAAAAAAAAAAAAAAAAAAAAAAAAAAAAAAAAAAAAAAAAAAAAAAAAAAAAAAAAAAAAAAAAAAAAAAAAAAAAAAAAAAAAAAAAAAAAAAAAAAAAAAAAAAAAAAAAAAAAAAAAAAAAAAAAAAAAAAAAAAAAAAAAAAAAAAAAAAAAAAAAAAAAAAAAAAAAAAAAAAAAAAAAAAAAAAAAAAAAAAAAAAAAAAAAAAAAAAAAAAAAAAAAAAAAAAAAAAAAAAAAAAAAAAAAAAAAAAAAAAAAAAAAAAAAAAAAAAAAAAAAAAAAAAAAAAAAAAAAAAAAAAAAAAAAAAAAAAAAAAAAAAAAAAAAAAAAAAAAAAAAAAAAAAAAAAAAAAAAAAAAAAAAAAAAAAAAAAAAAAAAAAAAAAAAAAAAAAAAAAAAAAAAAAAAAAAAAAAAAAAAAAAAAAAAAAAAAAAAAAAAAAAAAAAAAAAAAAAAAAAAAAAAAAAAAAAAAAAAAAAAAAAAAAAAAAAAAAAAAAAAAAAAAAAAAAAAAAAAAAAAAAAAAAAAAAAAAAAAAAAAAAAAAAAAAAAAAAAAAAAAAAAAAAAAAAAAAAAAAAAAAAAAAAAAAAAAAAAAAAAAAAAAAAAAAAAAAAAAAAAAAAAAAAAAAAAAAAAAAAAAAAAAAAAAAAAAAAAAAAAAAAAAAAAAAAAAAAAAAAAAAAAAAAAAAAAAAAAAAAAAAAAAAAAAAAAAAAAAAAAAAAAAAAAAAAAAAAAAAAAAAAAAAAAAAAAAAAAAAAAAAAAAAAAAAAAAAAAAAAAAAAAAAAAAAAAAAAAAAAAAAAAAAAAAAAAAAAAAAAAAAAAAAAAAAAAAAAAAAAAAAAAAAAAAAAAAAAAAAAAAAAAAAAAAAAAAAAAAAAAAAAAAAAAAAAAAAAAAAAAAAAAAAAAAAAAAAAAAAAAAAAAAAAAAAAAAAAAAAAAAAAAAAAAAAAAAAAAAAAAAAAAAAAAAAAAAAAAAAAAAAAAAAAAAAAAAAAAAAAAAAAAAAAAAAAAAAAAAAAAAAAAAAAAAAAAAAAAAAAAAAAAAAAAAAAAAAAAAAAAFJhaHVsIER1dHRhAAAB6hwABwAACAwAAAhoAAAAABzqAAAACAAAAAAAAAAAAAAAAAAAAAAAAAAAAAAAAAAAAAAAAAAAAAAAAAAAAAAAAAAAAAAAAAAAAAAAAAAAAAAAAAAAAAAAAAAAAAAAAAAAAAAAAAAAAAAAAAAAAAAAAAAAAAAAAAAAAAAAAAAAAAAAAAAAAAAAAAAAAAAAAAAAAAAAAAAAAAAAAAAAAAAAAAAAAAAAAAAAAAAAAAAAAAAAAAAAAAAAAAAAAAAAAAAAAAAAAAAAAAAAAAAAAAAAAAAAAAAAAAAAAAAAAAAAAAAAAAAAAAAAAAAAAAAAAAAAAAAAAAAAAAAAAAAAAAAAAAAAAAAAAAAAAAAAAAAAAAAAAAAAAAAAAAAAAAAAAAAAAAAAAAAAAAAAAAAAAAAAAAAAAAAAAAAAAAAAAAAAAAAAAAAAAAAAAAAAAAAAAAAAAAAAAAAAAAAAAAAAAAAAAAAAAAAAAAAAAAAAAAAAAAAAAAAAAAAAAAAAAAAAAAAAAAAAAAAAAAAAAAAAAAAAAAAAAAAAAAAAAAAAAAAAAAAAAAAAAAAAAAAAAAAAAAAAAAAAAAAAAAAAAAAAAAAAAAAAAAAAAAAAAAAAAAAAAAAAAAAAAAAAAAAAAAAAAAAAAAAAAAAAAAAAAAAAAAAAAAAAAAAAAAAAAAAAAAAAAAAAAAAAAAAAAAAAAAAAAAAAAAAAAAAAAAAAAAAAAAAAAAAAAAAAAAAAAAAAAAAAAAAAAAAAAAAAAAAAAAAAAAAAAAAAAAAAAAAAAAAAAAAAAAAAAAAAAAAAAAAAAAAAAAAAAAAAAAAAAAAAAAAAAAAAAAAAAAAAAAAAAAAAAAAAAAAAAAAAAAAAAAAAAAAAAAAAAAAAAAAAAAAAAAAAAAAAAAAAAAAAAAAAAAAAAAAAAAAAAAAAAAAAAAAAAAAAAAAAAAAAAAAAAAAAAAAAAAAAAAAAAAAAAAAAAAAAAAAAAAAAAAAAAAAAAAAAAAAAAAAAAAAAAAAAAAAAAAAAAAAAAAAAAAAAAAAAAAAAAAAAAAAAAAAAAAAAAAAAAAAAAAAAAAAAAAAAAAAAAAAAAAAAAAAAAAAAAAAAAAAAAAAAAAAAAAAAAAAAAAAAAAAAAAAAAAAAAAAAAAAAAAAAAAAAAAAAAAAAAAAAAAAAAAAAAAAAAAAAAAAAAAAAAAAAAAAAAAAAAAAAAAAAAAAAAAAAAAAAAAAAAAAAAAAAAAAAAAAAAAAAAAAAAAAAAAAAAAAAAAAAAAAAAAAAAAAAAAAAAAAAAAAAAAAAAAAAAAAAAAAAAAAAAAAAAAAAAAAAAAAAAAAAAAAAAAAAAAAAAAAAAAAAAAAAAAAAAAAAAAAAAAAAAAAAAAAAAAAAAAAAAAAAAAAAAAAAAAAAAAAAAAAAAAAAAAAAAAAAAAAAAAAAAAAAAAAAAAAAAAAAAAAAAAAAAAAAAAAAAAAAAAAAAAAAAAAAAAAAAAAAAAAAAAAAAAAAAAAAAAAAAAAAAAAAAAAAAAAAAAAAAAAAAAAAAAAAAAAAAAAAAAAAAAAAAAAAAAAAAAAAAAAAAAAAAAAAAAAAAAAAAAAAAAAAAAAAAAAAAAAAAAAAAAAAAAAAAAAAAAAAAAAAAAAAAAAAAAAAAAAAAAAAAAAAAAAAAAAAAAAAAAAAAAAAAAAAAAAAAAAAAAAAAAAAAAAAAAAAAAAAAAAAAAAAAAAAAAAAAAAAAAAAAAAAAAAAAAAAAAAAAAAAAAAAAAAAAAAAAAAAAAAAAAAAAAAAAAAAAAAAAAAAAAAAAAAAAAAAAAAAAAAAAAAAAAAAAAAAAAAAAAAAAAAAAAAAAAAAAAAAAAAAAAAAAAAAAAAAAAAAAAAAAAAAAAAAAAAAAAAAAAAAAAAAAAAAAAAAAAAAAAAAAAAAAAAAAAAAAAAAAAAAAAAAAAAAAAAAAAAAAAAAAAAAAAAAAAAAAAAAAAAAAAAAAAAAAAAAAAAAAAAAAAAAAAAAAAAAAAAAAAAAAAAAAAAAAAAAAAAAAAAAAAAAAAAAAAAAAAAAAAAAAAAAAAAAAAAAAAAAAAAAAAAAAAAAAAAAAAAAAAAAAAAAAAAAAAAAAAAAAAAAAAAAAAAAAAAAAAAAAAAAAAAAAAAAAAAAAAAAAAAAAAAAAAAAAAAAAAAAAAAAAAAAAAAAAAAAAAAAAAAAAAAAAAAAAAAAAAAAAAAAAAAAAAAAAAAAAAAAAAAAAAAAAAAAAAAAAAAAAAAAAAAAAAAAAAAAAAAAAAAAAAAAAAAAAAAAAAAAAAAAAAAAAAAAAAAAAAAAAAAAAAAAAAAAAAAAAAAAAAAAAAAAAAAAAAAAAAAAAAAAAAAAAAAAAAAAAAAAAAAAAAAAAAAAAAAAAAAAAAAAAAAAAAAAAAAAAAAAAAAAAAAAAAAAAAAAAAAAAAAAAAAAAAAAAAAAAAAAAAAAAAAAAAAAAAAAAAAAAAAAAAAAAAAAAAAAAAAAAAAAAAAAAAAAAAAAAAAAAAAAAAAAAAAAAAAAAAAAAAAAAAAAAAAAAAAAAAAAAAAAAAAAAAAAAAAAAAAAAAAAAAAAAAAAAAAAAAAAAAAAAAAAAAAAAAAAAAAAAAAAAAAAAAAAAAAAAAAAAAAAAAAAAAAAAAAAAAAAAAAAAAAAAAAAAAAAAAAAAAAAAAAAAAAAAAAAAAAAAAAAAAAAAAAAAAAAAAAAAAAAAAAAAAAAAAAAAAAAAAAAAAAAAAAAAAAAAAAAAAAAAAAAAAAAAAAAAAAAAAAAAABSAGEAaAB1AGwAIABEAHUAdAB0AGEAAAD/4QpkaHR0cDovL25zLmFkb2JlLmNvbS94YXAvMS4wLwA8P3hwYWNrZXQgYmVnaW49J++7vycgaWQ9J1c1TTBNcENlaGlIenJlU3pOVGN6a2M5ZCc/Pg0KPHg6eG1wbWV0YSB4bWxuczp4PSJhZG9iZTpuczptZXRhLyI+PHJkZjpSREYgeG1sbnM6cmRmPSJodHRwOi8vd3d3LnczLm9yZy8xOTk5LzAyLzIyLXJkZi1zeW50YXgtbnMjIj48cmRmOkRlc2NyaXB0aW9uIHJkZjphYm91dD0idXVpZDpmYWY1YmRkNS1iYTNkLTExZGEtYWQzMS1kMzNkNzUxODJmMWIiIHhtbG5zOmRjPSJodHRwOi8vcHVybC5vcmcvZGMvZWxlbWVudHMvMS4xLyIvPjxyZGY6RGVzY3JpcHRpb24gcmRmOmFib3V0PSJ1dWlkOmZhZjViZGQ1LWJhM2QtMTFkYS1hZDMxLWQzM2Q3NTE4MmYxYiIgeG1sbnM6ZGM9Imh0dHA6Ly9wdXJsLm9yZy9kYy9lbGVtZW50cy8xLjEvIj48ZGM6Y3JlYXRvcj48cmRmOlNlcSB4bWxuczpyZGY9Imh0dHA6Ly93d3cudzMub3JnLzE5OTkvMDIvMjItcmRmLXN5bnRheC1ucyMiPjxyZGY6bGk+UmFodWwgRHV0dGE8L3JkZjpsaT48L3JkZjpTZXE+DQoJCQk8L2RjOmNyZWF0b3I+PC9yZGY6RGVzY3JpcHRpb24+PC9yZGY6UkRGPjwveDp4bXBtZXRhPg0KICAgICAgICAgICAgICAgICAgICAgICAgICAgICAgICAgICAgICAgICAgICAgICAgICAgICAgICAgICAgICAgICAgICAgICAgICAgICAgICAgICAgICAgICAgICAgICAgICAgIAogICAgICAgICAgICAgICAgICAgICAgICAgICAgICAgICAgICAgICAgICAgICAgICAgICAgICAgICAgICAgICAgICAgICAgICAgICAgICAgICAgICAgICAgICAgICAgICAgICAgCiAgICAgICAgICAgICAgICAgICAgICAgICAgICAgICAgICAgICAgICAgICAgICAgICAgICAgICAgICAgICAgICAgICAgICAgICAgICAgICAgICAgICAgICAgICAgICAgICAgICAKICAgICAgICAgICAgICAgICAgICAgICAgICAgICAgICAgICAgICAgICAgICAgICAgICAgICAgICAgICAgICAgICAgICAgICAgICAgICAgICAgICAgICAgICAgICAgICAgICAgIAogICAgICAgICAgICAgICAgICAgICAgICAgICAgICAgICAgICAgICAgICAgICAgICAgICAgICAgICAgICAgICAgICAgICAgICAgICAgICAgICAgICAgICAgICAgICAgICAgICAgCiAgICAgICAgICAgICAgICAgICAgICAgICAgICAgICAgICAgICAgICAgICAgICAgICAgICAgICAgICAgICAgICAgICAgICAgICAgICAgICAgICAgICAgICAgICAgICAgICAgICAKICAgICAgICAgICAgICAgICAgICAgICAgICAgICAgICAgICAgICAgICAgICAgICAgICAgICAgICAgICAgICAgICAgICAgICAgICAgICAgICAgICAgICAgICAgICAgICAgICAgIAogICAgICAgICAgICAgICAgICAgICAgICAgICAgICAgICAgICAgICAgICAgICAgICAgICAgICAgICAgICAgICAgICAgICAgICAgICAgICAgICAgICAgICAgICAgICAgICAgICAgCiAgICAgICAgICAgICAgICAgICAgICAgICAgICAgICAgICAgICAgICAgICAgICAgICAgICAgICAgICAgICAgICAgICAgICAgICAgICAgICAgICAgICAgICAgICAgICAgICAgICAKICAgICAgICAgICAgICAgICAgICAgICAgICAgICAgICAgICAgICAgICAgICAgICAgICAgICAgICAgICAgICAgICAgICAgICAgICAgICAgICAgICAgICAgICAgICAgICAgICAgIAogICAgICAgICAgICAgICAgICAgICAgICAgICAgICAgICAgICAgICAgICAgICAgICAgICAgICAgICAgICAgICAgICAgICAgICAgICAgICAgICAgICAgICAgICAgICAgICAgICAgCiAgICAgICAgICAgICAgICAgICAgICAgICAgICAgICAgICAgICAgICAgICAgICAgICAgICAgICAgICAgICAgICAgICAgICAgICAgICAgICAgICAgICAgICAgICAgICAgICAgICAKICAgICAgICAgICAgICAgICAgICAgICAgICAgICAgICAgICAgICAgICAgICAgICAgICAgICAgICAgICAgICAgICAgICAgICAgICAgICAgICAgICAgICAgICAgICAgICAgICAgIAogICAgICAgICAgICAgICAgICAgICAgICAgICAgICAgICAgICAgICAgICAgICAgICAgICAgICAgICAgICAgICAgICAgICAgICAgICAgICAgICAgICAgICAgICAgICAgICAgICAgCiAgICAgICAgICAgICAgICAgICAgICAgICAgICAgICAgICAgICAgICAgICAgICAgICAgICAgICAgICAgICAgICAgICAgICAgICAgICAgICAgICAgICAgICAgICAgICAgICAgICAKICAgICAgICAgICAgICAgICAgICAgICAgICAgICAgICAgICAgICAgICAgICAgICAgICAgICAgICAgICAgICAgICAgICAgICAgICAgICAgICAgICAgICAgICAgICAgICAgICAgIAogICAgICAgICAgICAgICAgICAgICAgICAgICAgICAgICAgICAgICAgICAgICAgICAgICAgICAgICAgICAgICAgICAgICAgICAgICAgICAgICAgICAgICAgICAgICAgICAgICAgCiAgICAgICAgICAgICAgICAgICAgICAgICAgICAgICAgICAgICAgICAgICAgICAgICAgICAgICAgICAgICAgICAgICAgICAgICAgICAgICAgICAgICAgICAgICAgICAgICAgICAKICAgICAgICAgICAgICAgICAgICAgICAgICAgICAgICAgICAgICAgICAgICAgICAgICAgICAgICAgICAgICAgICAgICAgICAgICAgICAgICAgICAgICAgICAgICAgICAgICAgIAogICAgICAgICAgICAgICAgICAgICAgICAgICAgICAgICAgICAgICAgICAgICAgICAgICAgICAgICAgICAgICAgICAgICAgICAgICAgICAgICAgICAgICAgICAgICAgICAgICAgCiAgICAgICAgICAgICAgICAgICAgICAgICAgICA8P3hwYWNrZXQgZW5kPSd3Jz8+/9sAQwAHBQUGBQQHBgUGCAcHCAoRCwoJCQoVDxAMERgVGhkYFRgXGx4nIRsdJR0XGCIuIiUoKSssKxogLzMvKjInKisq/9sAQwEHCAgKCQoUCwsUKhwYHCoqKioqKioqKioqKioqKioqKioqKioqKioqKioqKioqKioqKioqKioqKioqKioqKioq/8AAEQgAZAKqAwEiAAIRAQMRAf/EAB8AAAEFAQEBAQEBAAAAAAAAAAABAgMEBQYHCAkKC//EALUQAAIBAwMCBAMFBQQEAAABfQECAwAEEQUSITFBBhNRYQcicRQygZGhCCNCscEVUtHwJDNicoIJChYXGBkaJSYnKCkqNDU2Nzg5OkNERUZHSElKU1RVVldYWVpjZGVmZ2hpanN0dXZ3eHl6g4SFhoeIiYqSk5SVlpeYmZqio6Slpqeoqaqys7S1tre4ubrCw8TFxsfIycrS09TV1tfY2drh4uPk5ebn6Onq8fLz9PX29/j5+v/EAB8BAAMBAQEBAQEBAQEAAAAAAAABAgMEBQYHCAkKC//EALURAAIBAgQEAwQHBQQEAAECdwABAgMRBAUhMQYSQVEHYXETIjKBCBRCkaGxwQkjM1LwFWJy0QoWJDThJfEXGBkaJicoKSo1Njc4OTpDREVGR0hJSlNUVVZXWFlaY2RlZmdoaWpzdHV2d3h5eoKDhIWGh4iJipKTlJWWl5iZmqKjpKWmp6ipqrKztLW2t7i5usLDxMXGx8jJytLT1NXW19jZ2uLj5OXm5+jp6vLz9PX29/j5+v/aAAwDAQACEQMRAD8A+kM1zl74smjur+PTNMa/i00f6XIJwm07d21QQdxA57V0ZFcOLfVNC1DXreDS7i9TVJjPazQ7SisyBSJMnKgEZzzxSd+gzeHjDQ/sNvdTajBBHcQLOglcK2xuhx1qa88R6VZWUd1c39vHDMu6J2kGHHqPWuZ8NeEptI8RWRu7dZUtdFS1FxgEeZvJYDv3qaXTZ9C8W+fpukvPZSaeLW2S3AC27h2Yg5PyqcjkelD62EjQ0XxjZXPhHT9a1ae3slvFyMvhScnpnrwK05/EOlW1rBc3F/bRwXAJikaUAOAMnB78V55Z+Hdd06z8OXckd9EbSzlt547FIpJYnZ92QHBBBHGRz0rSt/CpW58MGG1u57a2vbi5m+3IgeIupwSq8D5jximC8zudP1Oz1W1Fzp1zFcwkkb4myMjqKx/F/i6LwjZWd1PaSXMdxdLA/ltgxqQWL+4AU8VsWlhbWTTNawJE08hll2DG9z1Y+/FYvivSZdVuNFRIDNBHfbrgdljMTqSf++gPxo6gWo/FFl/aV5bXDJBHaiDEzuNshlztA/EY981audc02zeRLu9ghaLbvDyAbdxwufr2rzJPCniJbDWraezaX7Ld2TWjhh/pMMDlvl/2guBz3qxrOjax4i1bULs6JNFazy6f5STldzrHKS5K54x6UCV+p2Gq+M9Nh0PULvSry1vLi1tWuRCsoOVHc47VoaX4h07U18u1vIJbhI1eWJHBKZFeaHwdrP2K8jXTnVprbUkxkDcZJcoPxFbU+i6jr0aLYadNpCW2kT2Ya4RUZ5JFAAABPygjOaX9fmP+vyOzsfEek6lPLDYX9vcSwjLpHICQOn9KZa+KNEvruK2tNUtZp5RujRJQSw9q5Pw9o1y95YtqC60lxp1q8UazwwLAMqFIDIAWHAI+lafgjw1HY+C9HtdU06OO6tD521lGY5TnLcd8E8+9MR1+aKKKBhQaKQ0Acpq/jS403UtUgg0gXMOlwLPcSm6EZ2kE/KpXk4HqK1JfFWkWtja3V/ew2aXUYljE7hTgjPT8a4rxH4bF/wCLtbku9Bur03lrFFZ3MQ+WNwGGS24bcEg5wavWlnq+g6nJPqenz6u11p0Fv5tsqtsdAwZTkjCksDn60k/dG99Drb7xBpemwRz319BBFKMxu7jDjrx61n3PiZV8S6TY23ky2uoW80xnDZwE24xjjHzVzekaRqnha70+5vNOn1GNdO+zFbUK7W7+YzkAEj5SCBkf3RWRe/D/AFu/i0i1RmswqXsknlkFI/MkVkhb/ZI4OPQ0yeh6lp+p2eqW/wBo0+4juIclRJG24Ejg81U8QareaRpst5Z6el6sEbSSq1x5RCqM8fKc0nhuWaXRYFudNbTJIR5TW+BtXHHy4/h9Kl8QW8t34c1G3t0Lyy2siIo7kqQBSldbDjruULPxHNL4d/tbVbWDTYniWSIvc+YpDDjcdoxyR61FF4rjsvBKa7rM1lnyWkJtZd0UhAJARj1zirFqZtK8GWaTWdxNNFapG0MChn3bQDxkCsPwpZ303w0l0W5066srtbWWHFygUMz7sYIJz1FOWzsBvaP4lsvEmki40a4hedoFkMZbcIywyA2Kj8La1eapY3zaqtuk1ley2rGDIRgmPm+bkdaj8N3txD4chtrrSr6CawtUjdXjX96yrg7CD83T26isDR7XU77QfE2m/wBnX2nT6hc3E1vNcRhVw4AXkE80S0bsJbK52Nh4h0rVJ3h06/t7mWP7yRyAkc4rRJxXBeFtJnOqadNqKa1FcafA0arcQwpAuQAVDIoLDjiu7l3eWdgBbBwD60PQEZ8fiLSZdTOnRX9u14M/uRIN3HXimQ+KNFuL1LSDUrWS4kJCxrKCSRnI+vB4rgY7HxRqet6BcalbXokstReS6QxwpbxKUdR5ZA3MOR3+tWrTwxf23hXT7ePT/LuF103cyrgHZ5rHeT34xSQzpPFHjOx0G38uO4t5L4yxRrbM/J3OB0Hsa6RT8ua81u9L1pdFvdFi0iaa4k1T7S11lRG8ZlD5BzksBxjHavSgPloV+outjntf8YRaFq9lZPaPOtwQZpVfAt0ZwgYjHOWOPzrYbU7RZZ4muIxJboJJlLcxqehPoODXCar4W8ReILrxFMtzBYx3QFrbrPa+Y5SMZVlYONuWJPSopINejfUrqXRbme51bSY4VRCuI5lVgwc5465zzRfQrqdFq3xB0XSNV0yymuYW/tAkiQSACNdu4MfUGku/GlpZ+JLO1llt10+5spLoXTPjlWUAD2O6subSdSs9P8IXn2GWdtJXF1bw4Mg3R7eBnBwfer8mn3GofEDS9YNhKltHpsyFplAaN2ZMAjPBwDT/AOCJ/wBfeb0+v6ZbafFfXF9BHay48uYyDa+fQ96a3iLSlsYbxtQthbTnEcplG1z6A+vBrhdD0fVtBXRb670ue6jtRdxSW8O1pIi8pZXCk8jaMdeM1JF4Wv5ZtNuJ9OCwvrr37WxCkW8ZRgCR0znBPuaOoHe6dq1jq9uZ9MuorqIMVLxNuAI6irlVbawtrSWeW2gSOS4ffKyjG9sYyffAqzQAtFFFABRRRQAUUUUAFFFFABRRRQAUUUUAFY2t6/8A2XdWdjaWv2y/vC3kweZsG1RlmLYOAPoeorZrjfF8U+l+ItN8UR20t1a2EE0V3FAN0io2DvUd8FefakHQ09J8V21+81tfILC/guBbSW0kgbLldy7T/ECvIrSbV7FFuWa5iC2p2zneP3ZxnB9ODXm8VhdahfHxRa2rzCbVIbz7HEytMsCwmNWIzjcc5xnpVtYfE8Frr19Z6VLbTXuqRSomEklEGxAzqCcbxg8Hp70+n9eQHaR+J9Gm0+S+i1K2a1jcRvL5o2qxIABPY5I/OmHxZop064vYtRt5ILfiRlkB2nsD9a87vPDGt6lZeIRPZXdwl9c2LxC7WMPIqSKXJVAAMAfWuyh0i6Tx3q90sHl2k+mQwRPwFLhnyMewIoew1b+vUseGfG2leJ9Fiv7WeNGaHzpYN+5oh70/RfEaX9pqF7PdWD2dvOyxy20pcBB/f9G9qoeCWu9I8K2+kX+l3kc+nQFXcICkpBP3DnnP4VF4MkvF1fWxeaTf2aXl61xDJcRgKV2KOSCcHIPFN7uxK2Rd8P8Aj7RfECT+RdRRyRSyp5ZkySqEjf8AQ4zWyNYsDbWtwLuEw3jKtu+8YlLcgL65rnvCsV1pct/pF/p1yBLezzrchQYWR2LDnOQcHGMdqxfCmmzSeK5tMnTfp/hqVxaMDlWeXlR9URiPxpdR9D0kHIopF6UtABRRRQAVzmp+Jr228SHR9M0lb2VbT7U7PciIY3FcD5Tk8e1dHXG6l4f1G/8AiI17b3d1Y2h00QmaAJ87eYTt+YHHB6jFHUfQ0bDxvot7otrqMt1HaJcozLHcOFYbThh74PHFGteKbW28MtqWm32nt5g/0aW4m2wu3uw6d6zP+EVSy8ZeHjY2I/s7T7OdA5wfLdiuDzzk88/WpvF9iLPwTqOmaLpE0z3scoSK0jBAd8ksckYyTSbBbnQPqVvZ6Yt5qE8MEewM8hfCDI7E0xdf0x9MOorewGzU4M+8bR+NcxqFve6hpWgXy6VdMumXAe4sZlUSOBGVDAZwSCQw57Uvimz1HXtK0690+0vLU2t8LiWDZGJnQKRkK2VJBIIB9KbEjrNP1Sz1W38/TrmK5izt3xtkZ9KkvL230+2a4vJkghX70kjbVXnHJrnvCOnfZ5tQvnOqefeSKZf7RjjjJKqACFQAdMc+1QfFHb/wr2/3xmVd0WUAzuHmLxilLRAjdstf0vUVmNjfW84g/wBaUkB2fX0pLPxFpOoxzSWOoW86wrulKSA7B6n2ritY0LU/E6apcadZTaar6YLOGO4VUeVg4bpyAuBgZ9TxU9no9xeve3cqa0bxdNktY0vYYY4yGwdo8sDJyOKHtoCOtsvEuj6jdi1sdRtricrvEccoJI9R69a0i2B0rn/DGgW9l4Z0SO6sI4rqwt1CDaMxMVw2Metb5HHSm9HYSbauc5Y+J9RuvFd1o0ujRQi1jSWScXm75GLYIXYOflPGaZp/xB0TUPEF5pMd1Esls0aI3mZ85mHQDtg8VR0qe8/4WRqV1Jo2oxWt1bwwRzyRALlC5JPzcDkVYtorvSfHWqTy6fc3FtqfkeVPAoZY9oKnfyMeveiPS431sbkviHSoNSXT5r+3S7YgLC0g3EnpxUM3i3QbaaWK41a0jkhz5iNMMpjg5+lcQfDN+LvUtN1Q6y1te35uFksooXiKlwylmK71K4A69uKozeDtWOqXUyaazCS/v5d5x8yvBtjb8TxSvoO2tj1uKVJ4lkiYMjDKsDkEetPrL8M209n4X023u0KTxW0aSKTyGCjIrUqno7Ep3VwrMvfEOladfLaX19FBM2MK+R16c9K06474hCaXw/dCPULWO3SLM9rImXnAOdqtn5ScY6HrSKOj1LVrDRrF73VLuG0tUwGllbCjPTmq9/4k0jTHhS/v4oGnTfGpOSy+ox25rzf4gvfalod7NqGh3/8AZ1ppe+2VAhQTMnLvls/IDgcdcmujmtbmeHTfEFpqMOj3MGnNCYdQhDAqSrZOHGOVHTNC6knUXWv6ZY2cN1d3kcUM/wDq2b+L6DrUc3ibRra3huJtQiENwCYnGSGx9BXCXOt3uq6p4X1G2EWn6xPZTSNFdsRbmPIDD13HAI9utWvD+uRaJ8L3vLdXmumuJY0Ujie5eQj5Mfwljx7Uh9jutL1iw1m2a40q6juoVcoXjOQGHUfWruKyPDGjDQ/D9vZk75gC88h6ySNyzfmTWxTATFGKWigBMUYpaKAExS0UUAFFFFABQaKDQBWF7bG/ayEyfaVQSGIH5gpOM49M1Zrj1nih+K90ZpUjB0qPG9gM/vGrL8RX2o3vjKfTojcLbxWSS2/kaj9k3MxYFs/xYwOOnNK+wHoeKMV59qGq3S2ml6Tqz3D6q1mbidrXURbR4U7S3mDG4+3SsvStT1PxBD4Ojm1W7gS8iujcm3mw04RgBlgOvuMH0pgeq9Khu7qOys5rmfd5cKF32qWOAMnAHJ/CuG1XT9RsdU8P6QNe1Bobm6n8yQS4kaPYWCFupx/e60mmTS3PhbxBbX2o3YGn3txFbz/amWUBRlQXzk/jSewbHb6dfQ6np8F7a7/JnjEiF0KNgjIyp5B9jVnFec6lql7N8OvDclpqk0VzdXNlFNcxSAuQ5AbJOeT71U1vVdR0G18R2NlfXkq289mkJkmLzAS4DqrseCe2TxT6iR6jio7iaK1t3nuHWOKNSzuxwFA6k1x3gq0vRrGp3s1xqP2GQRrbW19eGZ4yAd5xuYDJxjnNbvi3/kTtWx/z5y/+gmlLRXHHV2H6b4l0fWJfL0zUIbmTbv2o3JX1HqK1Sa880jRNU1600K9uYRpaWOmmOKSKfdLIXjCgggfKB1+tJ4d1PUNfvrHSbm7nSbR43XVWjkKmWQZRASOeRl/yp9bCvpc7uC+t7qSdLeZJGgcxyhTnY2M4Pvgio9K1S01my+1WEhki3tHuKlfmU4IwfcVxPgvSLO08R6/uvr7z4tTYpFJfSEODGmCylvm+pz09qxtE+1aZoGm6jb390JJtceAw+YRF5bSuCuzofXJ5oGeuYpa8xutSuJdF1DWBq13Fq9vfNFFZJcEIMSbVj8rody85Izz1qrqF7qi2Pi7Vjq18k2mXyi1hWciOIbIyQVH3gcng5HpQgPV8UhHBrMutf03TrrT7TUbtIbnUW2W0bA/vGAyQPwrTNAdCkdXsRqMtgbqIXUUXnPDu+ZU/vEelP07UbPVrKO7064jubaUZSWNsq30NcFqGiXesePNYm09o0ljW2tpWYkHyHVvMx79CPes3TNRgttItNBgF2JUku3VLe9+yIqJKRy464yMCjoHWx61iqV3qdrY3Vpb3DlZLyQxQgKTuYAnHtwK840nVNT8QaV4QSXVLuAXc1zHcPBN80yx7gAWH+6ORzVnxfa6v4fh0caVLNrF4t9NJapdSZYDymIQseWx2z16Um7CPSx0qG9vbfT7V7m9mSGCMZeRzgLWF4KnguvD6XMOp3GoyTMWne4c7kk/iTb/Bg8bai+JRA+HuqE8Dyx/6EKb0HudQCGUEdDSMwUZPQVyvjPUpIPAt5caVdlZ4hEd8D/Mo3rnp0GM1Q/tAa1491DSY9Rme2TSYnaO3uGXY5ducqeCRik+oI7Oyv7bUbVLmymSeB87ZEOQe1WK89+GGnWlr4Mt3+23fnBJElikvHIiw5z8pPyketWvB8QutautUt9Vu5tPZfJtLae9eXeAfmlIYnr0HsPen1sB3FFHeigAooooAKKKKACiiigAprIGBDDIIwQadRQBTsNKsNMV102zt7RZDlxBEqBj6nA5q3ilooAMUh4FLWP4nutRtPD9y+i2sl1ekBIkTGQScbuSBwOaTdgLFprOn399dWdleQzXFowW4iRwWiJ6BvSr4rzLwCqWHjnWLGHS7+3X7NbmSW5VMs+GJZsMeWJzXpop+Yr6sZPAlxC8UmdkilW2sVOPqORVfTdKs9ItBbafCIosliMkliepJPJPuauUUDCiiigAooooAKMUUUAGKiubiK0tpLi4kWOKNSzuxwFA6kmpa4zxuL67ntLAaXeXmlNuluza7CXK42xkMw4J5P0pMZvDxHpH9kR6oNQgNjL/q5w2Vf6etW7C/tdTtVuLCdJ4W6OhyPpXkOhahdJpfg9obB4Illu4ozdbViSQ52McE8AbgPfiuu8GSR6Uvie8uLvzLCO9MpuWHDMI181hjtuB6ehp9yVsmdjeXtvp9u9xeTJDCnV3OAKy7zUNA1rQLiW7uIJ9NjIMzFiFXaQee45AqjrMcHi7w7p+paLfweUk8d7byyg+VLtPAbvg/pWDY2N34jvfFQu7m2hguYoYPtNsC0QkUHcQTjdjgHpSGdxpetadq+/8As26S4EeNxUHj061oYrk/Des6jJ4mvNEvp7a/S1t0mW8tYygBYkeWw3HnjPXpXW0wCiiigBMUYpaKAExRilooAKKKKACqMuj6bNfrezWFrJdLjbO0Klxj/axmrh4Fec+Jr29tdQ1ya/fV4HgjEmlGzMnksAmTu2fLnd139ulHUOh6FLBFcQtFMiyRuMMjgEMPQiq1zo2m3skb3lhbXDQjEbSxKxT6ZHFeda34hnea1k1VtQFvPoyXMS6ZcPG0cx5YyBCCFORhm+UYOa1dRyvgC21fUr67n1H7IiJ9iv5IknmbhQBGwByT1pbDOyvNKsNRjWPULO3ukU5VZolcA+wIqQafZiGKIW8QjhIMSBBhCOmB2rgrmbUdN/sTw1PNql7J9ha4untZj587BgMeazDAyx7g9MGthbnSNT8IreNqWoWdhZ7/ADy13JHIjLkMJHzuJBB7/nTJ62OtUBRgUtcz4Aub+78IW8+ovK5d3MDz/wCsaHcfLLe+3FdNQCCiiigYUUUUAFFFFABRRRQAUGikbpQBQvdD0rUpRLqOnWl1IowHngVyB6ZIoutF0y9hiivNOtZ44R+7SWFWVPoCOK4HX9Qg/wCEw8QW97rV9aTw2cTWEFveSJmQq33Y1OGJOOCDmtSy8Q+JGuNP0b7DbNqLaWt3czTuVVHzggqPWktVcGrHVzaLplysC3Gn2sotxiEPCreX/u5HHTtUyafaRGMx20KGLPllUA2Z649M1zY8Qa1dXNvpttp9tban9lFzdLcyFkiyxUKNvXJBP0qh/wAJ7PdJptva29rbXt4Z1kN5KfKjaFtrAEdST09qYHbPbQySRySRqzxklGZQSp9j2qvPo2m3ULxXVjbTRSP5jpJErKzf3iCOT71x1p421q40LRrk6Zavd6rdyW6osrKiBd2HyRkj5c+4rYk1rVbHRrqbWY9PsJ4pvLjnlnIgkXs3972xSA2LfRNLtIfJtdPtYIt4kCRwqqhh0bAHX3rM8U+F4/EOlvbRSJbStNFMzmIOspjOQsg43Lx0zXOJ8RruewQWVrZ3d0dSNgzwzHyT+7MgcHrjA5H1qnF8UtRk+youkQGW8EDQKJiABI7ISxx2K5+lPcex0nhvwg2i61capPLaLLNCsIgsLb7PCFBJyV3HLc9c11LpHcRNHIqyIwwykZBHoRXE+GfGuoeIL42stlb27S28kkBDsRujkMbbvYkcd6Xw5f8A9m+FvEF4LOKKezvbl5UildllkUAlhu5GfTtSbtuSt9DsJonjsmisPKidUxFuTKLxx8oI49sis7w/oP8AZCXU1xMLm+vZfOuZwmwO2MABcnAAGBWNpni7UpJrE6tYQRRajYvdwJBIXdNqglWzwcg9qp6J431XWNW0ZEh042WqQyT/ALqVmkgVcYDdsnP55p9Q0sdk+k6fLfreyWVu92gws7RKXX6NjPc09bCzESxi2h2I/mKuwYDZzu+vvU38P4V5HpOpzXFray6VrN9da7/arxy2rXckiCHzWDboySqqFHXjtR1sM9SOkac2oC+axtjdjpcGJfM/76xmpW0+zaOZGtoWSc7pVMYw59T69BXKt4znSzu4WtY/7Vg1FbGO23nDliCjZ9Cpz+BqtHdeKW+I93axz2Bt1sY5FidpNoBdhkD+9S62DY6DUPDVpq2uWOoX0jSjTm8y2gwAscmCN+epOCeOlbeOK80n1vU9F8ReMb60ghnt7ERTzCaQ8qIQSqAdD3yeK3pPE2pahcXUfh62tnWyiSSc3TsCxZdwRcdDjuaOgM6lbaFJJJERVeTG9gMFsdMnvVWbRNLuAgn061lEbl03wq21jySMjgn1rlYvGuoarfW1toVjblZ9OF80tzIcJ82NmB1rpdA1Ya3oNnqIjMRuIwxTOdp6EfnRoBbTT7OIR+Xawp5RJj2xgbCepHpmnyW8MsiPLGrtGdyFgCVPqPSpQc1wfjjU77TvEmkTWc86w2sct1cwRE4mjUqGBA64DEj3FJuwHawWVratK1tBFC0rb5DGgXe3qcdTTrm2gvLdoLuJJoXGGjkUMrD0IPWvP/Dur6hYQeIZ9R1BWf7THNGdQmKx26yIrBB6AZ6DvUi/ESX/AIR7WLyKG0v7nTJ44sWkx8qbeRjBPQ81UtNwOyt9E0mxjlSz060t0lG2RY4VUOPQ4HNPtNLsLD/jxs7e242/uYlTjrjgepri/F2oa5H4Q1kazaQW8CWySx3NtKSAd4yhzzkDnPStrwt4hn8SI19aQxLo+NlvMWPmTMDgtjsuR35pdbCNlNI06K6luY7G2WeYESyiJQzg9QTjJpll4f0fTphNp+l2drKBgPDAqNj0yBVi+Zk064ZCVZYmIIOMcVieD7+eX4f6deXUj3E5tBI7yMSXOO5ovYfU6MmjNcbbeMrm70rwxcJaRLJrjFSC5xEfLZhj15Wqvg+78TXPiDXUv57OW3g1DYy7pCYx5anCZ4A5/nT8gO9orlLjWdeh8X22lQw2E8ExMkpUuHghHRm7ZJ4Arqx0oAKKKKACiiigAooooAKKKKACkKilrL8TRXk3hjUY9LMgvHt3WAxvtbfjjB4wc96TAvrbQpO8yRossgAdwo3MB0ye9S1yHhO7tYr+TTZk1a21MQLI8GpXTzbk6F0Jdlxnjg5rrxTAKKKKACiiigAooooAKKKKACmlQetKa5Txnb3882ltZw6hPbJMxuo9PufJkZdhxzvXIzjjNAHQS6XYTWX2OWzgkts58lowU65+70681JHYWsNoLWKCNLcLtEQQBcemOmK4S68QxXGnaRY6FJqbxXdxNDcASM10piUlo97nht2AST06Gum8LahZ3WnzQ2f21XtZmhnhvpWkljfg4LMTnggggkc0bgaL6XYSWIspLOB7UAAQNGCgHb5cYpTp1kbH7GbWH7Lt2+R5Y2Y9NvSsLx5e3lj4XkuLCQxlZo/N2SbHaLcNyo3ZiOlcYfElxZafrT2N/dw6ebm1tYvtszNcW5kYCRzvJZRg8Z9MiluB6jZWFpp8IhsLaG2iznZCgRc/QVarg/DF7dQeNGsI5byTS7qz8+3F7O0smVbBfLchWBGB7Z4zXeUwtbQKKKKACiiigAooooAKKKKAA1iat4f/ALYmZLzULn7C4AkskCKkn1bG7B7jNbR6VyvivVte0KxudQtG017ePAihkikMkjEgBchsZJOOlICW/wDCEdzqkt/YaleabLPbLazC22FXRc7eGU4IyeRipE8IadHDo1vGZltdHbfbwbsqzAEBm7kjJ/Gq2uarr2k6G+qM+mQxQWwkmjljkdt+OVGDzzwKknv/ABH/AMI7b30dvp8Fwtt51zHOzbQ2M7Bjp9Tn6UbAXtW0JdRvLe8gvJ7G8t1ZEngCk7WxlSGBBHA7Vj6n8PbLUdJtdP8At95BDBcG6kCbG+0yE7t0gZSG+bnHSrkGsaprPhux1PRIbWE3MAmcXZYhePu4XH51Qg8cPeaFpU0EEMV9qW8BZ5cRRbOHYt3X09cinawJnT6baT2VqIrm9lvWB4klRFIHphQBV2qemSzy2Eb3ctvNI3V7bPln6ZJq5QAUUUUAFFFFABRRRQAUUUUAFI3SlpGoAzLbR4bXXr7U0dzLeJGjqSNoCAgY/Oj+x4B4kOsh388232bb/Dt3bs/XNZKeLohrGv2V29tb/wBl7PK3yhTLuj3d/fjim2fjnT/7F0+71HzFnu7YXDQ20Ek2xfU7QcD3NJMHe5f1Tw6L7U01K0vrrT7xYvJaWDad6ZzgqwI4PIPWuO8ReFDZ6xpC21jdzaZa206vLb26XUpldwxLI4I55O7Gc13F34k060sYLsvNPDOu+M2sDzFlxnOEBOPeopvFekR2VrdLctNHdqXgWCJ5HkA6kIoLcd+OKNgMjw/pOo6np9hceIhJFNYXby2i7FRjHgqvmKBgHB6DFbGu+H4tcW0Zrma1nspxPBNCFJVsEdGBB4J7VT8C69ceI/DrX91wxup41HllCFSVlXKnkHAFT+KNWvNKtrMackDT3d3HbKZ8lV3dyBzTluJdSlF4Fs0m8+W8vJ5Te/bWeRgSz+WY8dOBg9BVaH4aaVBNYyrcXRNkkSRgsvPluzDPHqxrba8vtO0We41h4XlTO02NvI4Hp8gyxqlpfia2tvA1trmtanFPBsBlvEt2iVsttzsOSvJ70D3E0vwVa6RKs1jd3KTJDLCjnadokkMhOCMZyaSw8G/YrLU7SbV7y6g1JpGmSVIhh3GGYFVH5dKuWXjDRr77V5Vy0f2WITS+fC8WIznDjcBleDyKfa+J9Pv7Ga6tlu2jiUOc2cqsynoVUrlh9M0n1Apaj4ZUadA1j5ktzp9hLa2sbOAJNyBRuP4DmuT8HadrWk3Gk21hY3cCqipqf2uwihj2hf4HQBmO7pkniun8FeNYvFNiHe1uIJy8gObWVY8KxUfOy4zx0zXUyttiZh1UE09ncVr6Bn5ce1ZmjaPDoWm/Y7VpHTzHly+CcsxY9Pc1ymn+ONW+xaPqWp2tm1hqtz9nVbcsJISc7Sc5DD5ecYrpx4o0ltJh1Jbgm2nmEMbCNtzOW27duM5z7UDMOx0VtU+IkniCWyntLa3g8lI512maYcebt9lJUHvk1s33h/7TrS6pZ39xY3PleTIYQjCRAcgEMp7k8jHWsmz8fW9z4w1DRms7xUtli8uQWM2WZs53fL8o44J4pmn+ObeLWNatdZm8tLS/FvEyQOVjQohBdgCBlmxk4oWysDNS68JWl3HraySzj+2oxHcEEfKNmz5ePSo5fB8XnvJZajeWPnQJDcLCUImVRgE7lODjjIxVrUvF+kaTcPDeTybogGlMUDyLCD0LsoIQfUiob7xvoNheSWs907zxxLM6QwPKVjbo52qfl469BS6BqSWnhaxsdQS6tPMTy7IWSxgjaEBzn61jeIvCV5P4LtvDegyzwhJEK3nnbDCFcNk45bPIwK7K2njuYEmgYPHIoZWU5DA9DUh6U2AyFSkSqzbiAASe/vWfLo8E3iG31dnfzoIHgVc/KVYgk/8AjorO8QazqVp4g0rStJS18y+SVmkuQxChADjCkdc1Hovi9LvR7m51O2eGezuntJo7aN5tzqcZQKCSD16cUt9Q1Q7VfBdnqV3cXJurmGea4huVePafLeMYUgEEH6HNRnwNaS2upRXN9eTvqUkUk8sjLu3R4xjAwAcdMVfh8WaPcWMN3Hcnyp7j7Km6J1YS5xsKkZU59QKsPfpqL39hpt55F7abVkYxbvLLDI4PB4o2Qb7jtZ0mHW9Hn065Z0inUBih5GCD/Sqmm+GrfSNYur2wmmhjuwDLaAjyjJ/z0AxkMe+Dg1B4F1a91vwpBe6k6PcmSRHZE2g7XKg47cCr/iTVH0Xw3qGpRIsj2sDSqjnAJAzzRtqC10L88Ymt3iY8OpU49xWHofhiTRLSKzXWLu6soYjEttNHEBj6hQf1qhoHiq8vdZFhfmxuA1mLrz7FiViHTa4JPPcfStay8U6Xf6gbKJ50uPLMgWe3ki3qOpUsoDD6Zo2AzLLwHa2V3pco1C+li0l2azt2ZQkYII28DJ4PUkmtC38OfY9dudRsb+5gS7kEtxagIY5HChc8ruHAHQ9qhsPHXh/Ubi3isrt5PtTmOGT7PII3cZyu8rt3cHjOaIPHnh+6uooIbt382Y26yCCTyxKCRsL7cBsg8E0LcBbbwvNaa3dajBrV4DdzCSWIxxFSAMBAdm4KB710Y6VjDxRpLaSNSFyTbed5AYRtu8zds27cZzu46VsjoKfQAooooAKKKKACiiigAooooAKiuY3mtZI4ZmgdlwsiAEqfUZBH51LUN15wtZPsxjWXadhkBKg++O1AGVpnh2Ox1STU7q7uL+/kiEPnz7QVjBztVVAAGeenNbYrmPD3iC8v9avtMvfsk/2WOOQXVkT5Z3Z+Q5Jwwxnr0IrphQAtFFFABRRRQAUUUUAFFFFABWfqdjc3saLaajPYFTktCiMWHp8yn9K0KytbuL21tBLYXNjblT873oO3H4Ec0mBnf8IZZQ2FtDYz3FrcW9w9yl2jBpDI+d7HcCDuyc5FWbfw1Bb6TfWgubh5dQLNcXW4CVmZdu4YAAwAMYHGKraXrWra74Ytr7T7a2guZXZXM7M0YCkjeoHJDYyORwaseFNel17TJ5bqFIri1uZLWYRtlGZDglT6GhrdAV5vBtrN4VstFkvb1vsLRyQXbSZmDocqxJGCfqKi/wCEFsZ49ROp3FxqFzqAjEtxNtDARnKbQoAGDz0rQ8Sa4+iWlsYIlkuLu5S1h8xtqKz9Cx9B+tY1z4uvtP0/XI7uK1fUdJiSXMZIikV+hweRjBzzR5h5GzpPh9NP1CS/uLue+vJIxF58+0FYwchQFAA5OenNbdY2g3V/dxNLf3Wn3CnGw2QbAOOQSSa2aYBRRRQAUUUUAFFFFABRRRQAVzusaNeav4o0uSXaNLsN1wy7uZZ+iAj0UEn64rojWHqni3TNJu5Le6aZmiUPMYYHkWFT0LlQQo69aXUCDxDpF9rOp6XbgIulwzefd5bmQryiY9N2CfpWb4407X9ZktdNsbMTaNJzf7LhY5JR/wA8hnop7n8K2b/xZpunmMO01wXiE2LSB5tsZ6MdoOAfU02/8Y6Lp9pbXNxeKYroIYWjUvuDEANgDgZI5osBi+JrHxFe6Fp+l6Hpq2lpJ8l+kdyqyxwjjy4z0yRxntTbrw1Ky6Hd22gwFNMSSA6ZLKh+RgACG+7ngHmui1zxJpnh20+06rP5UeN2FQu2O5wBnAqXUdbttNtoppVnlE3+rS3gaVm4znaoJ6U7iKHg/Q59E0+6S4VIftN3JcJbRtlbdW/gH8+OOa6KqWlaraazp0d7p8olgkzg4III4IIPII9Ku0DCiiigAooooAKKKKACiiigApDS0jcUAcfH4QEuu+JL2/srScahs+ytIiuwxFtOcjjmsO08E6tpbWsvl3NwG0+K1mhs9QNuY2TdznIDA7q7DUPFdhp+qvpzxXs9ykayMltaSS7VPQkqDjoas3+rGyt7WVLK6uftEqR7Io/mjDfxMDjAHf0pJAzmbzQNYtv7LtdHiuI9KgtSjWsOoeVJHLkEFn6soGehqnoXhbXvDy6NdLBFeT2lpPazQ/aPu75d4cMw56YPevQywHU4rP1rWbfQtMe9ug7opCqkYy0jMcKoHqSQKBWM3wNo1/ofh5rXVfK+0NdTzHyjlcPIzDH4Gn+LtAbxDa2FsYklhjvopp0dsAop5qwNcuVtIJbjRb2J5p1h8kbHZAf422sQFH1qIeKYkFj9qsrq2e9vGtI0lQBgwDHcefukLkfWnfW4XRYOnR6Ho8kGg6aHySRAkgTJPU5auRtfDWuT/DNfD91YR291C8eCZ1dJAJQ56dOPWvQ9+RnIxTd4PcfnRcZTvtPiudOnia0hneSAxMj8B1x90n0rnvCWh6rpWozeZ9otdJFukUNjcXX2gxuD1Vuy4wMZrrt/0oDA9xSDocx4P03UtAtn0m6tFa3SaWRLxJhhgzlgNvUHmummUtC4XqVIFAK54YE/WnnijoHW5xvhDwVHo2k2B1bzJ7203MiyXDSRwsc8opOAcHHFZmkaW1x8Rr22ikWbSLCb+0I9hyEuZFwY/Tjl/wDgQrtI9R+06vdac1lcKkMSt9odB5Uu7I2g55Ixz9alsbCy06AW+n28NtFkkRwoFXJ6nApg3cwRpupad44vdUtbQXltqEMMbYlCNCUyCSD1GD2rLv8Awhqdxofi21iSLzdWu/Ot8vwV2oOT2+6a73pXOT+O9Gtr65tpnuF+ySiG4n+zSeTE5AOGkxtHUd6S0QX1uZk2i67Yya7b2Fpb3UWrnfHPJNt8hjGEIcdSBjIxSWPg67sH1eOMpJHPpUNlBIzfMzIjKc+g5FdoHDLlSCOuQapz6xZ2+rW+mSy4urmN5IkweVXG456D7woa6AnY5bVNS1bwn4T0Kw0qO1uNVMkED2rksXjyBIVwR0HOTwK7hSSozwcVl/2xbN4jOkFG+0rbfad5A27S23GfWtPcAOoFO99RbHM+IvDVxrXijRrtZZYbazSYSvBO0UgLBcYI5I4NQ6z4fv7SwsLTwykkdnHOz3cMFx5MswIPPmHvuOTzzXW7wOpFUtS1SPTLYTyw3EylsYtoGlb8lBOKWxV7nC2vg3W7bRZN6LJdR6yNRjhe5Ll0BHymRv4setbGiWOu2Go6/qt9YRPJfyRNb20M4yFVdpDMeM/pXRaTq9prVgt3YSF4mYqcqVZWBwVIPIIPY1ep9LC31OU8Aafquj+Hxp2r2ItnjkkcOs6yB9zlu3TGa1PFWnT6v4U1PT7MK09zbPHGGOASRxk1Z1jV7TQtKm1HUGZLeHG4qhY8kAYA5PJqtpPiWw1i5mtrYzR3ECq8kFxA0ThW6NtYA4ODzSeobanM6f4Z1RLxb6ysLbRJoNPe2Co6t58hA2s23jAI7881X0jwv4gHiHStR1ITYtbeWK4NxqBmLuygblXoBnNehhwe4o3jOARRuBgeEtDl0nwnYafqEURuLcMTjDBWLE5B/Gm+E9Cl0nw8LPUoomkW5mmwPmHzSsyn64IroQ4PAIzWbq2t2+lyWMNyjOb64FsgUA4Ygnn24NHUS2scdZaU1z8TLu0glWXSLaRdTcKchLlgV8v9N/1NejDpVSx0+00+ExWFtDbRlixSFAoJPU4Hes+TxXpcUDyNOSEuvse1Y2LNL/dVcZPXtT6WH1ubdFYd34mFl4ksdIuLC4X7fuEFzlPLYqu4jGdw49q2fMA6kA/WgB9FZ+p6o2nfZttncXRnnWEiBQ3lg5+dueFGOT71e346kCgB1FJniloAKKKKACobtpEtZGhg+0OF+WLcF3+2TxU1RXE4traSZ1dljUsVjUsx+gHJPtQBzWh6JdQ+JLjVXsINKgkthCLOFwd7Bs722/L04GOeTXVCsjSfEdjrFxPb23nRXFuFMkFzA0TgHodrAHBwefatYUdA6i0UUUAFFFFABRRRQAUUUUAFZWtiZ7ZYo9HTVEY/NHI6Kq+h+brWrWfqusW+kxI9wlxIXJCpbwNKx9ThQTikwOPudE8VaX4KOm6AsJu7q6dpCku37JC7Z2x7upA4HbPNbeh6ddaP4Qey0vS1sriCNhbxTziQSPjO52X1brWha6/p15of9sQXSmxCF2lbjaB1BB5BGCCOtGgeILDxLpEep6RK01rKWCOyFCSDg8EZHIo7oXmU2tr/AFHwdFH4i0m1v7941NxaROBGXz/CW9KztC8MPpCapfPpkBlvVRU06JwVVFBwpZuCTkk9q6XUtVtdHszc30myPcFAAJZmPRVA5JPoKoxeK9Ll0+4vGmeBLYgTJPE0ciE9AUIzz29aYzO8OeH7q08TXusSWcOlwXECQpYQMCMqSTI20bcnIHHYV1lZWk+ILPWJZIrfzo5ogC8NxC0UgB6HawBwfX2rVoAKKKKACiiigAooooAKKKKAEPSvIfGFyIfEviRYr7+yvMtYllt5ASdSGP8All/dOPkyMnnpXr9NKj0oA8i1i5W21ZDb3n/CMOdDjVluBlZ15xEvo6eoyRu6GrPiXUNOs/hPpEM8aaZPJ9lKWkzjzFVZFz15OOTXqhUHrRsB7UIDg/iTrOlP8Nb91vrZmu7YrbsHB83novrU+v8Aj3TtD8KWd1YzQXdxeYgtAJAI2fGCWboFXqa7XYPSjYOlIF0Ob8B2trZ+FoorXUIdRkaR5Li4gYFGlZtz49Bk9K6akCgdKWmJBRRRQMKKKKACiiigAooooAKRulLRQB51qk9pbfE2/a/8QSaMrWMO3ZJGgl+ZuPnU5x7VJ4+vNFt00W5uLu2F4l5btHM8gD+VvG5uOxHXtXoBVT1FJsFK2gdTgtTtLTxD8R9PWdjd6a+kySiNZCYpT5igEgcN1OKwrzT31L4a6FNd3N95yahDDhLmRPlFzgEgHqABz1Fes7RmjaOlAmcXryxeH9W8OTy3VwthDcSiae6uGkxuQ4DMxJ69K5SILr09rva4a2m8VSkH5kJj8tvxCn+Rr18qCMGgIBQtHcd9Lf11PJ9Vtng0XWtMs2ntrWHXrSOBYHZTEjGMsFI5AyT+dbXivw5b6F4dubvRvtEKPdWss8SOdiKkql5MdjtyWPfFd/tFLgbaa0SDrc8i1zV11a+8aSaVdTSW66RarFNCWClt0mSh7n3FaMtt/wAI/rFxHpTTQLLoDzysGLNJMDw5J6tz1r0rYPSqeraZb6xpF1p90G8m5jMT7Tg4I7UntYaep5r8P7XTr3xDp+oo2nQ3MOn7ZY4bwTSXEjbcyEdiMHk8/NXq7Ebeelc1YeEfI1Kxu9R1O41BtPUi1WSNEEZI2k/KBk445rpiAetU9SUec6DqWhwfFbWINOvLVI7izh2xxyDDzb33YHdumayNNsPsui6Zq6tO2oPrrRNM7szLEZWBQZ6Jjt0r1vYvpShBUrQf9fgIM15raaNqeu3njDS1a2g0671LZNIwYy7fKTO0dO2M5r0zFG0c+9MXQ8z15LnQ9butD06WVB4kiSO1fJPkyqAshB7fu/m+oNN8R+G/Dum+NtBudVsbZLD7JNDLcTr8pcBNgZj3wpxn0rtk8Po/iH+1r66lupYlZbWNwAtuG64AHJPTJycVrFQevNHYZ59e6Tp2q/EAo8QmsU0TMSKT5bfPx0647VmafdWs8OiL4zlzpjaZ+5+0sRG8wcg7uxYKBjPvXqgUUuwd6SVg8zyjT7C41PUfDVpqpuXsme+MccjsPNgDDyxJ6jb2PtWv4av7ey8IXVvqertpUUepXNvbzNIqsiLK21VLgjGOOnSvQdoo2Cn0sBxvgudtN8K389wry20FzPLFOIyHuY8lvMI7k888A9sV0Hh7XLPxLodtq2mlzbXSb03rtYexHrVi/skv7N7Z5JYkcYLQvtbHpml07T7XS7CGysIVgt4ECRxqOFAoEc38UBn4d6l85T/VkuvVR5i8/hXKg3y3niG78N38utGTSUCXzYZo5FJ/dqyAA8EnAGQa9XIB60m0UkVc8s8Pwp/pE+lX+lpENNkFxa2c0jyStt+V3DYwwOck881reFPC9pF4S0rV1kuhqAscyytMS0+5Oj56gdh2xXfBRSYA47U99AR5H4fsn03S/A99Z+cb693x3Usjszyr5LsFYnsCFwO1Q2/9n3c3hW5lj8/xB/aY/tCUqWkiba4Kuf4RngD24r2LaKNo9KNRAK8m0jztG8ZXus6snn6U2pzW8bFf+PKRtv7wjuG6bu3HY160BTdo9KL2dw3VjgfFuuaVB4/8MJNqFvG1vLMZQ0gHl7o/lz6ZzWP4k8y88U6tHqtzptqCkf8AZlxfTvH5alR88RAxnd179K9WKj0o2g9RR0BnnXjS40ywt/DkuqXtodWhu7Xdcb9rNHu+dh32nrVnVrO08QfEPThMzXWnPpUsgRZD5Up3rgkDg+1d9sHpSbRQBzPw+mmm8GWn2lnZkaSMF+oVXYKPyArqKaFA6U6gS0CiiigYVBeTw21pLNczLBEi5aRiAFHrk1PQRkYNIDhfDGx/G1/NYX0msWktpHvv5MEo4Y4iDKApGCTgDg9TzXcigKBS0+gBRRRQAUUUUAFFFFABRRRQAVy3jnxhB4U0uLhXvrx/JtUdtq7j/EzHgKOprqTTSoPWk9QPNLTQ7mbwxpllpMlvrlh9okudTaG5VBPKW37Qefl3nJHoAKufDzUJtP8AAt7danZNbQ21zdS4Rt5YCRycADt+tegBQBxTdoo7h0OT1W403xR4PsNaW/bS4VkjvLa5uF2+WwPG9Tjj2yK5+z0ttbOvalquq7LSQW3k6isXkxl4SW3qpJ+UHA5JzzzXpoQYpdooDocL4TF7f+NbzVZb5b+1WyS2W6ih8qKR95Y7Bkk4HU5I54ru6QKB0paYBRRRQAUUUUAFFFFABRRRQAUUUUAFFFFABRRRQAUUUUAFFFFABRRRQAUUUUAFFFFABRRRQAUUUUAFFFFABRRRQAUUUUAFFFFABRRRQAUUUUAFFFFABRRRQAUUUUAFFFFABRRRQAUUUUAFFFFABRRRQAUUUUAFFFFABRRRQAUUUUAFFFFABRRRQAUUUUAFFFFABRRRQAUUUUAFFFFABRRRQAUUUUAFFFFABRRRQAUUUUAFFFFABRRRQAUUUUAf/9k=)"
      ],
      "metadata": {
        "id": "4y1KYwRQ7g1-"
      }
    },
    {
      "cell_type": "markdown",
      "source": [
        "**Write a Python program, which returns a list with 2-tuples. Each tuple consists of the order number and the product of the price per item and the quantity. The product should be increased by 10,- € if the value of the order is smaller than 100,00 €.**\n",
        "\n",
        "**Write a Python program using lambda and map.**"
      ],
      "metadata": {
        "id": "PHcsR74N7laV"
      }
    },
    {
      "cell_type": "markdown",
      "source": [
        "**Ans11.** Here’s a Python program that processes the given accounting routine for a bookshop, returning a list of 2-tuples where each tuple contains the order number and the adjusted total price. The program uses lambda and map() to achieve this:"
      ],
      "metadata": {
        "id": "vEuFvU-I_jbV"
      }
    },
    {
      "cell_type": "code",
      "source": [
        "# Sample data\n",
        "orders = [\n",
        "    [34587, [\"Learning Python, Mark Lutz\", 4, 40.95]],\n",
        "    [98762, [\"Programming Python, Mark Lutz\", 5, 56.80]],\n",
        "    [77226, [\"Head First Python, Paul Barry\", 3, 32.95]],\n",
        "    [88112, [\"Einführung in Python3, Bernd Klein\", 3, 24.99]],\n",
        "]\n",
        "\n",
        "# Function to calculate order values\n",
        "def calculate_order_value(order):\n",
        "    order_number = order[0]\n",
        "    quantity = order[1][1]\n",
        "    price_per_item = order[1][2]\n",
        "\n",
        "    # Calculate total price\n",
        "    total_price = quantity * price_per_item\n",
        "\n",
        "    # Increase total price by 10 if it's less than 100\n",
        "    if total_price < 100:\n",
        "        total_price += 10\n",
        "\n",
        "    return (order_number, total_price)\n",
        "\n",
        "# Using map and lambda to process the orders\n",
        "result = list(map(lambda order: calculate_order_value(order), orders))\n",
        "\n",
        "# Print the result\n",
        "print(result)\n"
      ],
      "metadata": {
        "id": "LAlZKIu8A8y2"
      },
      "execution_count": null,
      "outputs": []
    },
    {
      "cell_type": "markdown",
      "source": [
        "\n",
        "### Explanation:\n",
        "1. **Sample Data**: The `orders` list contains sublists, where each sublist has an order number and a list containing the product details (product name, quantity, and price per item).\n",
        "\n",
        "2. **Function Definition**: The `calculate_order_value(order)` function:\n",
        "   - Takes a single order as input.\n",
        "   - Extracts the order number, quantity, and price per item.\n",
        "   - Calculates the total price by multiplying the quantity by the price per item.\n",
        "   - If the total price is less than 100, it adds 10 to the total price.\n",
        "   - Returns a tuple containing the order number and the total price.\n",
        "\n",
        "3. **Using `map()` and `lambda`**: The `map()` function is used along with a `lambda` function to apply the `calculate_order_value` function to each order in the `orders` list. The result is converted to a list.\n",
        "\n",
        "4. **Output**: The program prints the list of 2-tuples, each consisting of the order number and the adjusted total price.\n",
        "\n",
        "### Example Output:\n",
        "When you run the program, the output will look something like this:"
      ],
      "metadata": {
        "id": "Wl5Gq9QpBKsQ"
      }
    },
    {
      "cell_type": "code",
      "source": [
        "[(34587, 163.8), (98762, 284.0), (77226, 106.85), (88112, 84.97)]\n"
      ],
      "metadata": {
        "id": "2updDMFFBNhS"
      },
      "execution_count": null,
      "outputs": []
    },
    {
      "cell_type": "markdown",
      "source": [
        "\n",
        "This output shows the order number and the respective total price for each order after considering the conditions specified."
      ],
      "metadata": {
        "id": "PYN0h8AlBDge"
      }
    }
  ]
}